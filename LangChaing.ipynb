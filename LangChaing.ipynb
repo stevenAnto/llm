{
  "cells": [
    {
      "cell_type": "markdown",
      "metadata": {
        "id": "view-in-github",
        "colab_type": "text"
      },
      "source": [
        "<a href=\"https://colab.research.google.com/github/stevenAnto/llm/blob/main/LangChaing.ipynb\" target=\"_parent\"><img src=\"https://colab.research.google.com/assets/colab-badge.svg\" alt=\"Open In Colab\"/></a>"
      ]
    },
    {
      "cell_type": "code",
      "execution_count": 1,
      "metadata": {
        "colab": {
          "base_uri": "https://localhost:8080/",
          "height": 321
        },
        "id": "SYoZ4SZ0u6sn",
        "outputId": "522386aa-8644-42a9-9862-fb1dcdf34c9b"
      },
      "outputs": [
        {
          "output_type": "error",
          "ename": "KeyboardInterrupt",
          "evalue": "Interrupted by user",
          "traceback": [
            "\u001b[0;31m---------------------------------------------------------------------------\u001b[0m",
            "\u001b[0;31mKeyboardInterrupt\u001b[0m                         Traceback (most recent call last)",
            "\u001b[0;32m/tmp/ipython-input-1-3628833766.py\u001b[0m in \u001b[0;36m<cell line: 0>\u001b[0;34m()\u001b[0m\n\u001b[1;32m      1\u001b[0m \u001b[0;32mimport\u001b[0m \u001b[0mos\u001b[0m\u001b[0;34m\u001b[0m\u001b[0;34m\u001b[0m\u001b[0m\n\u001b[1;32m      2\u001b[0m \u001b[0;32mfrom\u001b[0m \u001b[0mgetpass\u001b[0m \u001b[0;32mimport\u001b[0m \u001b[0mgetpass\u001b[0m\u001b[0;34m\u001b[0m\u001b[0;34m\u001b[0m\u001b[0m\n\u001b[0;32m----> 3\u001b[0;31m \u001b[0mos\u001b[0m\u001b[0;34m.\u001b[0m\u001b[0menviron\u001b[0m\u001b[0;34m[\u001b[0m\u001b[0;34m\"OPENAI_API_KEY\"\u001b[0m\u001b[0;34m]\u001b[0m \u001b[0;34m=\u001b[0m \u001b[0mgetpass\u001b[0m\u001b[0;34m(\u001b[0m\u001b[0;34m\"Ingresa tu clave de OpenAI: \"\u001b[0m\u001b[0;34m)\u001b[0m\u001b[0;34m\u001b[0m\u001b[0;34m\u001b[0m\u001b[0m\n\u001b[0m",
            "\u001b[0;32m/usr/local/lib/python3.11/dist-packages/ipykernel/kernelbase.py\u001b[0m in \u001b[0;36mgetpass\u001b[0;34m(self, prompt, stream)\u001b[0m\n\u001b[1;32m   1157\u001b[0m                 \u001b[0mstacklevel\u001b[0m\u001b[0;34m=\u001b[0m\u001b[0;36m2\u001b[0m\u001b[0;34m,\u001b[0m\u001b[0;34m\u001b[0m\u001b[0;34m\u001b[0m\u001b[0m\n\u001b[1;32m   1158\u001b[0m             )\n\u001b[0;32m-> 1159\u001b[0;31m         return self._input_request(\n\u001b[0m\u001b[1;32m   1160\u001b[0m             \u001b[0mprompt\u001b[0m\u001b[0;34m,\u001b[0m\u001b[0;34m\u001b[0m\u001b[0;34m\u001b[0m\u001b[0m\n\u001b[1;32m   1161\u001b[0m             \u001b[0mself\u001b[0m\u001b[0;34m.\u001b[0m\u001b[0m_parent_ident\u001b[0m\u001b[0;34m[\u001b[0m\u001b[0;34m\"shell\"\u001b[0m\u001b[0;34m]\u001b[0m\u001b[0;34m,\u001b[0m\u001b[0;34m\u001b[0m\u001b[0;34m\u001b[0m\u001b[0m\n",
            "\u001b[0;32m/usr/local/lib/python3.11/dist-packages/ipykernel/kernelbase.py\u001b[0m in \u001b[0;36m_input_request\u001b[0;34m(self, prompt, ident, parent, password)\u001b[0m\n\u001b[1;32m   1217\u001b[0m             \u001b[0;32mexcept\u001b[0m \u001b[0mKeyboardInterrupt\u001b[0m\u001b[0;34m:\u001b[0m\u001b[0;34m\u001b[0m\u001b[0;34m\u001b[0m\u001b[0m\n\u001b[1;32m   1218\u001b[0m                 \u001b[0;31m# re-raise KeyboardInterrupt, to truncate traceback\u001b[0m\u001b[0;34m\u001b[0m\u001b[0;34m\u001b[0m\u001b[0m\n\u001b[0;32m-> 1219\u001b[0;31m                 \u001b[0;32mraise\u001b[0m \u001b[0mKeyboardInterrupt\u001b[0m\u001b[0;34m(\u001b[0m\u001b[0;34m\"Interrupted by user\"\u001b[0m\u001b[0;34m)\u001b[0m \u001b[0;32mfrom\u001b[0m \u001b[0;32mNone\u001b[0m\u001b[0;34m\u001b[0m\u001b[0;34m\u001b[0m\u001b[0m\n\u001b[0m\u001b[1;32m   1220\u001b[0m             \u001b[0;32mexcept\u001b[0m \u001b[0mException\u001b[0m\u001b[0;34m:\u001b[0m\u001b[0;34m\u001b[0m\u001b[0;34m\u001b[0m\u001b[0m\n\u001b[1;32m   1221\u001b[0m                 \u001b[0mself\u001b[0m\u001b[0;34m.\u001b[0m\u001b[0mlog\u001b[0m\u001b[0;34m.\u001b[0m\u001b[0mwarning\u001b[0m\u001b[0;34m(\u001b[0m\u001b[0;34m\"Invalid Message:\"\u001b[0m\u001b[0;34m,\u001b[0m \u001b[0mexc_info\u001b[0m\u001b[0;34m=\u001b[0m\u001b[0;32mTrue\u001b[0m\u001b[0;34m)\u001b[0m\u001b[0;34m\u001b[0m\u001b[0;34m\u001b[0m\u001b[0m\n",
            "\u001b[0;31mKeyboardInterrupt\u001b[0m: Interrupted by user"
          ]
        }
      ],
      "source": [
        "import os\n",
        "from getpass import getpass\n",
        "os.environ[\"OPENAI_API_KEY\"] = getpass(\"Ingresa tu clave de OpenAI: \")\n"
      ]
    },
    {
      "cell_type": "code",
      "execution_count": null,
      "metadata": {
        "id": "aQ_6xLqVvy6v"
      },
      "outputs": [],
      "source": [
        "!pip install langchain langchain-openai"
      ]
    },
    {
      "cell_type": "code",
      "execution_count": null,
      "metadata": {
        "id": "l0Y65gPNvHOt"
      },
      "outputs": [],
      "source": [
        "from langchain_openai import ChatOpenAI"
      ]
    },
    {
      "cell_type": "code",
      "execution_count": null,
      "metadata": {
        "id": "q1fpG-cDvnp3"
      },
      "outputs": [],
      "source": [
        "llm = ChatOpenAI(openai_api_key=os.environ[\"OPENAI_API_KEY\"])"
      ]
    },
    {
      "cell_type": "code",
      "execution_count": null,
      "metadata": {
        "id": "_wTRJkS4wA-s"
      },
      "outputs": [],
      "source": [
        "llm.invoke(\"la profesion de IA tiene un futuro prometedor?\")"
      ]
    },
    {
      "cell_type": "code",
      "execution_count": null,
      "metadata": {
        "id": "dxAoBz0Ww-Nz"
      },
      "outputs": [],
      "source": [
        "from  langchain_core.prompts import ChatPromptTemplate"
      ]
    },
    {
      "cell_type": "code",
      "execution_count": null,
      "metadata": {
        "id": "mKv4ZF-3y4W4"
      },
      "outputs": [],
      "source": [
        "prompt = ChatPromptTemplate.from_messages([\n",
        "    (\"system\",\"Eres un asistente de IA, puedes responder a preguntas sobre IA\"),\n",
        "    (\"user\",\"{input}\")\n",
        "])"
      ]
    },
    {
      "cell_type": "code",
      "execution_count": null,
      "metadata": {
        "id": "S3nkkLPaz48w"
      },
      "outputs": [],
      "source": [
        "chain  = prompt | llm\n",
        "chain.invoke({\"input\":\"la profesion de IA tiene un futuro prometedor?\"})"
      ]
    },
    {
      "cell_type": "markdown",
      "metadata": {
        "id": "lJJxwVON2LRg"
      },
      "source": [
        "#Memory"
      ]
    },
    {
      "cell_type": "code",
      "execution_count": null,
      "metadata": {
        "id": "HLGY_xCHz77H"
      },
      "outputs": [],
      "source": [
        "from langchain_core.prompts import ChatPromptTemplate, MessagesPlaceholder\n",
        "from langchain_openai.chat_models import ChatOpenAI\n"
      ]
    },
    {
      "cell_type": "code",
      "execution_count": null,
      "metadata": {
        "id": "tV8dWwZ62XJO"
      },
      "outputs": [],
      "source": [
        "model = ChatOpenAI()\n",
        "prompt = ChatPromptTemplate.from_messages([\n",
        "    (\"system\",\n",
        "     \"Eres un asistente de {ability}, puedes responder a preguntas sobre {ability}\",\n",
        "     ),\n",
        "    MessagesPlaceholder(variable_name=\"history\"),#ingresa el historico de la conversacion\n",
        "    (\"human\",\"{input}\")\n",
        "])"
      ]
    },
    {
      "cell_type": "code",
      "execution_count": null,
      "metadata": {
        "id": "yy0ThXGk2ZR7"
      },
      "outputs": [],
      "source": [
        "runnable = prompt | model"
      ]
    },
    {
      "cell_type": "code",
      "execution_count": null,
      "metadata": {
        "collapsed": true,
        "id": "4kjEV3q_3GZQ"
      },
      "outputs": [],
      "source": [
        "!pip install langchain-community\n"
      ]
    },
    {
      "cell_type": "code",
      "execution_count": null,
      "metadata": {
        "id": "L0PZ4wIY2rBM"
      },
      "outputs": [],
      "source": [
        "from langchain_community.chat_message_histories import ChatMessageHistory\n",
        "from langchain_core.chat_history import BaseChatMessageHistory\n",
        "from langchain_core.runnables.history import RunnableWithMessageHistory\n"
      ]
    },
    {
      "cell_type": "code",
      "execution_count": null,
      "metadata": {
        "id": "QF21b3s_28Gk"
      },
      "outputs": [],
      "source": [
        "store = {}"
      ]
    },
    {
      "cell_type": "code",
      "execution_count": null,
      "metadata": {
        "id": "YMM7T4xZ3p4l"
      },
      "outputs": [],
      "source": [
        "#Para saber si hay contexto anterior\n",
        "def get_session_history(session_id: str)->BaseChatMessageHistory:\n",
        "  if session_id not in store:\n",
        "    store[session_id] = ChatMessageHistory()\n",
        "  return store[session_id]"
      ]
    },
    {
      "cell_type": "code",
      "execution_count": null,
      "metadata": {
        "id": "bh4insZ2pOwJ"
      },
      "outputs": [],
      "source": [
        "with_message_history = RunnableWithMessageHistory(\n",
        "    runnable,\n",
        "    get_session_history,\n",
        "    input_message_key=\"input\",\n",
        "    history_messages_key=\"history\",\n",
        ")"
      ]
    },
    {
      "cell_type": "code",
      "execution_count": null,
      "metadata": {
        "id": "8ndnsuuZpjpS"
      },
      "outputs": [],
      "source": [
        "with_message_history.invoke(\n",
        "    {\"ability\":\"ciencia de datos\",\"input\":\"que es una funcion de perdida\"},\n",
        "    config={\"configurable\":{\"session_id\":\"abc123\"}},\n",
        "    )"
      ]
    },
    {
      "cell_type": "code",
      "execution_count": null,
      "metadata": {
        "id": "cgpOKJFaqJ5U"
      },
      "outputs": [],
      "source": [
        "with_message_history.invoke(\n",
        "    {\"ability\":\"ciencia de datos\",\"input\":\"como?, no te entendi\"},\n",
        "    config={\"configurable\":{\"session_id\":\"abc123\"}},\n",
        "    )"
      ]
    },
    {
      "cell_type": "markdown",
      "metadata": {
        "id": "kLjFgjv3uUlu"
      },
      "source": [
        "#Tools\n"
      ]
    },
    {
      "cell_type": "code",
      "execution_count": null,
      "metadata": {
        "collapsed": true,
        "id": "coT1_X2XvPru"
      },
      "outputs": [],
      "source": [
        "!pip install wikipedia\n"
      ]
    },
    {
      "cell_type": "code",
      "execution_count": null,
      "metadata": {
        "id": "N6s4lAGetZ34"
      },
      "outputs": [],
      "source": [
        "from langchain_community.tools import WikipediaQueryRun\n",
        "from langchain_community.utilities import WikipediaAPIWrapper"
      ]
    },
    {
      "cell_type": "code",
      "execution_count": null,
      "metadata": {
        "id": "UPx13c74uqxA"
      },
      "outputs": [],
      "source": [
        "api_wrapper = WikipediaAPIWrapper(top_k_results=1,doc_content_chars_max=500)\n",
        "tool = WikipediaQueryRun(api_wrapper=api_wrapper)"
      ]
    },
    {
      "cell_type": "code",
      "execution_count": null,
      "metadata": {
        "id": "C5C8sP8JvcNH"
      },
      "outputs": [],
      "source": [
        "tool.name"
      ]
    },
    {
      "cell_type": "code",
      "execution_count": null,
      "metadata": {
        "id": "EdcYxCWIvdh3"
      },
      "outputs": [],
      "source": [
        "tool.description"
      ]
    },
    {
      "cell_type": "code",
      "execution_count": null,
      "metadata": {
        "id": "u-hWsnQKvdEb"
      },
      "outputs": [],
      "source": [
        "tool.args"
      ]
    },
    {
      "cell_type": "code",
      "execution_count": null,
      "metadata": {
        "id": "Vu75FrqsxI7f"
      },
      "outputs": [],
      "source": [
        "tool.run({\"query\":\"Alan Turing\"})"
      ]
    },
    {
      "cell_type": "code",
      "execution_count": null,
      "metadata": {
        "id": "8ilTcwEmvg3L"
      },
      "outputs": [],
      "source": [
        "tool.run({\"query\":\"quien es Alan Turing\"})"
      ]
    },
    {
      "cell_type": "markdown",
      "metadata": {
        "id": "3PROml40xU3H"
      },
      "source": [
        "#Agents\n"
      ]
    },
    {
      "cell_type": "code",
      "execution_count": null,
      "metadata": {
        "collapsed": true,
        "id": "L8BiRN-SyuMG"
      },
      "outputs": [],
      "source": [
        "!pip install -U langchain-tavily\n"
      ]
    },
    {
      "cell_type": "code",
      "execution_count": null,
      "metadata": {
        "id": "vrtBx_6cxXqV"
      },
      "outputs": [],
      "source": [
        "from langchain_community.tools.tavily_search import TavilySearchResults"
      ]
    },
    {
      "cell_type": "code",
      "execution_count": null,
      "metadata": {
        "id": "YcruBQ20x1JE"
      },
      "outputs": [],
      "source": [
        "api_key = getpass(\" Ingresa tu Tavily API Key: \")\n",
        "search = TavilySearchResults(tavily_api_key=api_key)"
      ]
    },
    {
      "cell_type": "code",
      "execution_count": null,
      "metadata": {
        "collapsed": true,
        "id": "42g-062xx9xi"
      },
      "outputs": [],
      "source": [
        "search.invoke(\"Que temperatura hay en Londres\")"
      ]
    },
    {
      "cell_type": "code",
      "execution_count": null,
      "metadata": {
        "id": "c1HHFkWSzXBH"
      },
      "outputs": [],
      "source": [
        "tools = [search, tool]"
      ]
    },
    {
      "cell_type": "code",
      "execution_count": null,
      "metadata": {
        "id": "MIcmTzkp14Ia"
      },
      "outputs": [],
      "source": [
        "llm = ChatOpenAI(model=\"gpt-3.5-turbo-0125\",temperature=0)"
      ]
    },
    {
      "cell_type": "code",
      "execution_count": null,
      "metadata": {
        "id": "oy9Tj1Qt1_5m"
      },
      "outputs": [],
      "source": [
        "from langchain import hub"
      ]
    },
    {
      "cell_type": "code",
      "execution_count": null,
      "metadata": {
        "id": "Lrs7ttUW1-q2"
      },
      "outputs": [],
      "source": [
        "#prompt de la comunidad\n",
        "prompt = hub.pull(\"hwchase17/openai-functions-agent\")\n",
        "prompt.messages"
      ]
    },
    {
      "cell_type": "code",
      "execution_count": null,
      "metadata": {
        "id": "wSM1Bdep2Ptc"
      },
      "outputs": [],
      "source": [
        "from langchain.agents import create_tool_calling_agent"
      ]
    },
    {
      "cell_type": "code",
      "execution_count": null,
      "metadata": {
        "id": "3MlOf4jL2VK8"
      },
      "outputs": [],
      "source": [
        "#Creacion de agentes\n",
        "agent = create_tool_calling_agent(llm,tools,prompt=prompt)"
      ]
    },
    {
      "cell_type": "code",
      "execution_count": null,
      "metadata": {
        "id": "9oB8IaJs2otf"
      },
      "outputs": [],
      "source": [
        "from langchain.agents import AgentExecutor"
      ]
    },
    {
      "cell_type": "code",
      "execution_count": null,
      "metadata": {
        "id": "aHwZzZl72tMB"
      },
      "outputs": [],
      "source": [
        "agent_executor = AgentExecutor(agent=agent,tools=tools,verbose=True)"
      ]
    },
    {
      "cell_type": "code",
      "execution_count": null,
      "metadata": {
        "id": "gpsIhcey20eE"
      },
      "outputs": [],
      "source": [
        "agent_executor.invoke({\"input\":\"hola\"})"
      ]
    },
    {
      "cell_type": "code",
      "execution_count": null,
      "metadata": {
        "id": "hYX0tPAj2398"
      },
      "outputs": [],
      "source": [
        "agent_executor.invoke({\"input\":\"cual es el mejor  superheroe de Marvel y por que?\"})"
      ]
    },
    {
      "cell_type": "code",
      "execution_count": null,
      "metadata": {
        "id": "K9Al27-N3e3N"
      },
      "outputs": [],
      "source": [
        "agent_executor.invoke({\"input\":\"Que temperatura hace en Nueva York?\"})"
      ]
    },
    {
      "cell_type": "markdown",
      "metadata": {
        "id": "5RXMR-dF6fpq"
      },
      "source": [
        "#Ejemplos de Interacciones"
      ]
    },
    {
      "cell_type": "markdown",
      "metadata": {
        "id": "_6AFrFQb6eu4"
      },
      "source": []
    },
    {
      "cell_type": "code",
      "execution_count": null,
      "metadata": {
        "id": "pjBE28493uSp"
      },
      "outputs": [],
      "source": [
        "agent_executor.invoke({\"input\":\"Busca quien fue Alan Turing\"})"
      ]
    },
    {
      "cell_type": "code",
      "execution_count": null,
      "metadata": {
        "id": "exXtOnOb6IFQ"
      },
      "outputs": [],
      "source": [
        "agent_executor.invoke({\"input\":\"Dime un chiste.\"})"
      ]
    },
    {
      "cell_type": "code",
      "execution_count": null,
      "metadata": {
        "id": "QS12aZb36kZ5"
      },
      "outputs": [],
      "source": [
        "agent_executor.invoke({\"input\":\"¿Qué está pasando en el mundo de la inteligencia artificial?\"})"
      ]
    },
    {
      "cell_type": "code",
      "execution_count": null,
      "metadata": {
        "id": "qAlLg54b6xes"
      },
      "outputs": [],
      "source": [
        "agent_executor.invoke({\"input\":\"Que esta pasando entre EEUU e Iran?\"})"
      ]
    },
    {
      "cell_type": "code",
      "execution_count": null,
      "metadata": {
        "id": "aaK6bnP266tS"
      },
      "outputs": [],
      "source": [
        "agent_executor.invoke({\"input\":\"Quien fue Alan Turing y que fue lo mas grande que hizo, busca en diversas fuentes como paginas webs,etc\"})"
      ]
    },
    {
      "cell_type": "code",
      "execution_count": null,
      "metadata": {
        "id": "WIns16m6vmfj"
      },
      "outputs": [],
      "source": [
        "agent_executor.invoke({\"input\":\"Cuentame otro chiste\"})"
      ]
    },
    {
      "cell_type": "code",
      "execution_count": null,
      "metadata": {
        "id": "z-SDdAVKvqMc"
      },
      "outputs": [],
      "source": [
        "agent_executor.invoke({\"input\":\"Pero no tienes otros chiste\"})"
      ]
    },
    {
      "cell_type": "code",
      "execution_count": null,
      "metadata": {
        "id": "KmKdMYS8vuKI"
      },
      "outputs": [],
      "source": [
        "agent_executor.invoke({\"input\":\"si\"})"
      ]
    },
    {
      "cell_type": "code",
      "execution_count": null,
      "metadata": {
        "id": "GT-8itJUvwl6"
      },
      "outputs": [],
      "source": [
        "agent_executor.invoke({\"input\":\"respondeme tres preguntas, busca en internet 1. ¿Qué otros modelos de colores existen para las imagenes?;¿Qué otros cambios se pueden realizar a las imágenes con OpenCV?; 3. ¿Cuál seria el uso del binary threshold en el procesmiento de imagenes?\"})"
      ]
    },
    {
      "cell_type": "code",
      "execution_count": null,
      "metadata": {
        "id": "L6gLV93aRQoS"
      },
      "outputs": [],
      "source": [
        "agent_executor.invoke({\"input\":'Del siguiente array: [\"Hola, ¿cómo estás?\", \"¡Buenos días!\", \"¡Qué tal!\", \"Saludos, humano.\"], devuelveme un saludo aleatorio '})"
      ]
    },
    {
      "cell_type": "code",
      "execution_count": null,
      "metadata": {
        "id": "AER2JqVJ73ZS"
      },
      "outputs": [],
      "source": [
        "agent_executor.invoke({\"input\":'Del siguiente array: [\"Hola, ¿cómo estás?\", \"¡Buenos días!\", \"¡Qué tal!\", \"Saludos, humano.\"], devuelveme un saludo aleatorio '})"
      ]
    },
    {
      "cell_type": "code",
      "execution_count": null,
      "metadata": {
        "id": "VWHqIuNb8KlZ"
      },
      "outputs": [],
      "source": [
        "agent_executor.invoke({\"input\":'Del siguiente array: [\"Hola, ¿cómo estás?\", \"¡Buenos días!\", \"¡Qué tal!\", \"Saludos, humano.\"], devuelveme un saludo aleatorio '})"
      ]
    },
    {
      "cell_type": "code",
      "execution_count": null,
      "metadata": {
        "id": "im9deBLy8a__"
      },
      "outputs": [],
      "source": [
        "agent_executor.invoke({\"input\":'Cual fue la ultima preegunta que te hice '})"
      ]
    },
    {
      "cell_type": "code",
      "execution_count": null,
      "metadata": {
        "id": "UBLrECd08oUe"
      },
      "outputs": [],
      "source": [
        "agent_executor.invoke({\"input\":'puedes recordar  nuestro chat?'})"
      ]
    },
    {
      "cell_type": "code",
      "execution_count": null,
      "metadata": {
        "id": "7p26vp1K8tZX"
      },
      "outputs": [],
      "source": [
        "agent_executor.invoke({\"input\":'que  preguntas te he hecho anteriormente'})"
      ]
    },
    {
      "cell_type": "code",
      "execution_count": null,
      "metadata": {
        "id": "w6zSYJy08x9f"
      },
      "outputs": [],
      "source": [
        "agent_executor.invoke({\"input\":'te daré 3 numeros: 5,6,7. Por favor suma esos tres numeros'})"
      ]
    },
    {
      "cell_type": "code",
      "execution_count": null,
      "metadata": {
        "id": "fLRQVBt99DLY"
      },
      "outputs": [],
      "source": [
        "agent_executor.invoke({\"input\":'te daré 3 numeros: 5,6,7. Por favor suma esos tres numeros'})"
      ]
    },
    {
      "cell_type": "code",
      "execution_count": null,
      "metadata": {
        "id": "w1imyBCl9HxH"
      },
      "outputs": [],
      "source": [
        "agent_executor.invoke({\"input\":'Tienes acceso al directorio de la computadora donde se esta ejecutando este programa?'})"
      ]
    },
    {
      "cell_type": "code",
      "execution_count": 62,
      "metadata": {
        "colab": {
          "base_uri": "https://localhost:8080/"
        },
        "collapsed": true,
        "id": "1i3mO-dcoNmz",
        "outputId": "0b096a3f-e97f-477b-d4d6-64ec1ab60ffb"
      },
      "outputs": [
        {
          "output_type": "stream",
          "name": "stdout",
          "text": [
            "Found existing installation: langchain-googledrive 0.3.35\n",
            "Uninstalling langchain-googledrive-0.3.35:\n",
            "  Successfully uninstalled langchain-googledrive-0.3.35\n"
          ]
        }
      ],
      "source": [
        "!pip uninstall -y langchain-googledrive\n",
        "\n",
        "\n"
      ]
    },
    {
      "cell_type": "code",
      "source": [
        "%pip install --upgrade --quiet  unstructured langchain-googledrive"
      ],
      "metadata": {
        "colab": {
          "base_uri": "https://localhost:8080/"
        },
        "id": "8LI7adBj_vC3",
        "outputId": "aad64959-7bcd-45c3-d966-f229010dcfa6"
      },
      "execution_count": 63,
      "outputs": [
        {
          "output_type": "stream",
          "name": "stdout",
          "text": [
            "\u001b[?25l     \u001b[90m━━━━━━━━━━━━━━━━━━━━━━━━━━━━━━━━━━━━━━━━\u001b[0m \u001b[32m0.0/981.5 kB\u001b[0m \u001b[31m?\u001b[0m eta \u001b[36m-:--:--\u001b[0m\r\u001b[2K     \u001b[90m━━━━━━━━━━━━━━━━━━━━━━━━━━━━━━━━━━━━━━\u001b[0m \u001b[32m981.5/981.5 kB\u001b[0m \u001b[31m27.9 MB/s\u001b[0m eta \u001b[36m0:00:00\u001b[0m\n",
            "\u001b[?25h  Preparing metadata (setup.py) ... \u001b[?25l\u001b[?25hdone\n",
            "\u001b[2K   \u001b[90m━━━━━━━━━━━━━━━━━━━━━━━━━━━━━━━━━━━━━━━━\u001b[0m \u001b[32m1.8/1.8 MB\u001b[0m \u001b[31m61.1 MB/s\u001b[0m eta \u001b[36m0:00:00\u001b[0m\n",
            "\u001b[2K   \u001b[90m━━━━━━━━━━━━━━━━━━━━━━━━━━━━━━━━━━━━━━━━\u001b[0m \u001b[32m590.6/590.6 kB\u001b[0m \u001b[31m36.1 MB/s\u001b[0m eta \u001b[36m0:00:00\u001b[0m\n",
            "\u001b[2K   \u001b[90m━━━━━━━━━━━━━━━━━━━━━━━━━━━━━━━━━━━━━━━━\u001b[0m \u001b[32m167.6/167.6 kB\u001b[0m \u001b[31m13.7 MB/s\u001b[0m eta \u001b[36m0:00:00\u001b[0m\n",
            "\u001b[2K   \u001b[90m━━━━━━━━━━━━━━━━━━━━━━━━━━━━━━━━━━━━━━━━\u001b[0m \u001b[32m3.1/3.1 MB\u001b[0m \u001b[31m65.1 MB/s\u001b[0m eta \u001b[36m0:00:00\u001b[0m\n",
            "\u001b[2K   \u001b[90m━━━━━━━━━━━━━━━━━━━━━━━━━━━━━━━━━━━━━━━━\u001b[0m \u001b[32m210.7/210.7 kB\u001b[0m \u001b[31m15.6 MB/s\u001b[0m eta \u001b[36m0:00:00\u001b[0m\n",
            "\u001b[2K   \u001b[90m━━━━━━━━━━━━━━━━━━━━━━━━━━━━━━━━━━━━━━━━\u001b[0m \u001b[32m304.6/304.6 kB\u001b[0m \u001b[31m13.5 MB/s\u001b[0m eta \u001b[36m0:00:00\u001b[0m\n",
            "\u001b[2K   \u001b[90m━━━━━━━━━━━━━━━━━━━━━━━━━━━━━━━━━━━━━━━━\u001b[0m \u001b[32m114.6/114.6 kB\u001b[0m \u001b[31m8.9 MB/s\u001b[0m eta \u001b[36m0:00:00\u001b[0m\n",
            "\u001b[?25h  Building wheel for langdetect (setup.py) ... \u001b[?25l\u001b[?25hdone\n"
          ]
        }
      ]
    },
    {
      "cell_type": "code",
      "source": [
        "%pip install --upgrade --quiet  google-api-python-client google-auth-httplib2 google-auth-oauthlib langchain-community\n",
        "\n",
        "\n"
      ],
      "metadata": {
        "id": "NasUvBiPBkim"
      },
      "execution_count": 86,
      "outputs": []
    },
    {
      "cell_type": "code",
      "source": [
        "!pip install --upgrade google-api-python-client google-auth-httplib2 google-auth-oauthlib"
      ],
      "metadata": {
        "colab": {
          "base_uri": "https://localhost:8080/"
        },
        "id": "Xi5ab7h5kYbH",
        "outputId": "d77db975-7144-42d7-b516-d62c77df04ec"
      },
      "execution_count": 64,
      "outputs": [
        {
          "output_type": "stream",
          "name": "stdout",
          "text": [
            "Requirement already satisfied: google-api-python-client in /usr/local/lib/python3.11/dist-packages (2.174.0)\n",
            "Requirement already satisfied: google-auth-httplib2 in /usr/local/lib/python3.11/dist-packages (0.2.0)\n",
            "Requirement already satisfied: google-auth-oauthlib in /usr/local/lib/python3.11/dist-packages (1.2.2)\n",
            "Requirement already satisfied: httplib2<1.0.0,>=0.19.0 in /usr/local/lib/python3.11/dist-packages (from google-api-python-client) (0.22.0)\n",
            "Requirement already satisfied: google-auth!=2.24.0,!=2.25.0,<3.0.0,>=1.32.0 in /usr/local/lib/python3.11/dist-packages (from google-api-python-client) (2.38.0)\n",
            "Requirement already satisfied: google-api-core!=2.0.*,!=2.1.*,!=2.2.*,!=2.3.0,<3.0.0,>=1.31.5 in /usr/local/lib/python3.11/dist-packages (from google-api-python-client) (2.25.1)\n",
            "Requirement already satisfied: uritemplate<5,>=3.0.1 in /usr/local/lib/python3.11/dist-packages (from google-api-python-client) (4.2.0)\n",
            "Requirement already satisfied: requests-oauthlib>=0.7.0 in /usr/local/lib/python3.11/dist-packages (from google-auth-oauthlib) (2.0.0)\n",
            "Requirement already satisfied: googleapis-common-protos<2.0.0,>=1.56.2 in /usr/local/lib/python3.11/dist-packages (from google-api-core!=2.0.*,!=2.1.*,!=2.2.*,!=2.3.0,<3.0.0,>=1.31.5->google-api-python-client) (1.70.0)\n",
            "Requirement already satisfied: protobuf!=3.20.0,!=3.20.1,!=4.21.0,!=4.21.1,!=4.21.2,!=4.21.3,!=4.21.4,!=4.21.5,<7.0.0,>=3.19.5 in /usr/local/lib/python3.11/dist-packages (from google-api-core!=2.0.*,!=2.1.*,!=2.2.*,!=2.3.0,<3.0.0,>=1.31.5->google-api-python-client) (5.29.5)\n",
            "Requirement already satisfied: proto-plus<2.0.0,>=1.22.3 in /usr/local/lib/python3.11/dist-packages (from google-api-core!=2.0.*,!=2.1.*,!=2.2.*,!=2.3.0,<3.0.0,>=1.31.5->google-api-python-client) (1.26.1)\n",
            "Requirement already satisfied: requests<3.0.0,>=2.18.0 in /usr/local/lib/python3.11/dist-packages (from google-api-core!=2.0.*,!=2.1.*,!=2.2.*,!=2.3.0,<3.0.0,>=1.31.5->google-api-python-client) (2.32.3)\n",
            "Requirement already satisfied: cachetools<6.0,>=2.0.0 in /usr/local/lib/python3.11/dist-packages (from google-auth!=2.24.0,!=2.25.0,<3.0.0,>=1.32.0->google-api-python-client) (5.5.2)\n",
            "Requirement already satisfied: pyasn1-modules>=0.2.1 in /usr/local/lib/python3.11/dist-packages (from google-auth!=2.24.0,!=2.25.0,<3.0.0,>=1.32.0->google-api-python-client) (0.4.2)\n",
            "Requirement already satisfied: rsa<5,>=3.1.4 in /usr/local/lib/python3.11/dist-packages (from google-auth!=2.24.0,!=2.25.0,<3.0.0,>=1.32.0->google-api-python-client) (4.9.1)\n",
            "Requirement already satisfied: pyparsing!=3.0.0,!=3.0.1,!=3.0.2,!=3.0.3,<4,>=2.4.2 in /usr/local/lib/python3.11/dist-packages (from httplib2<1.0.0,>=0.19.0->google-api-python-client) (3.2.3)\n",
            "Requirement already satisfied: oauthlib>=3.0.0 in /usr/local/lib/python3.11/dist-packages (from requests-oauthlib>=0.7.0->google-auth-oauthlib) (3.3.1)\n",
            "Requirement already satisfied: pyasn1<0.7.0,>=0.6.1 in /usr/local/lib/python3.11/dist-packages (from pyasn1-modules>=0.2.1->google-auth!=2.24.0,!=2.25.0,<3.0.0,>=1.32.0->google-api-python-client) (0.6.1)\n",
            "Requirement already satisfied: charset-normalizer<4,>=2 in /usr/local/lib/python3.11/dist-packages (from requests<3.0.0,>=2.18.0->google-api-core!=2.0.*,!=2.1.*,!=2.2.*,!=2.3.0,<3.0.0,>=1.31.5->google-api-python-client) (3.4.2)\n",
            "Requirement already satisfied: idna<4,>=2.5 in /usr/local/lib/python3.11/dist-packages (from requests<3.0.0,>=2.18.0->google-api-core!=2.0.*,!=2.1.*,!=2.2.*,!=2.3.0,<3.0.0,>=1.31.5->google-api-python-client) (3.10)\n",
            "Requirement already satisfied: urllib3<3,>=1.21.1 in /usr/local/lib/python3.11/dist-packages (from requests<3.0.0,>=2.18.0->google-api-core!=2.0.*,!=2.1.*,!=2.2.*,!=2.3.0,<3.0.0,>=1.31.5->google-api-python-client) (2.4.0)\n",
            "Requirement already satisfied: certifi>=2017.4.17 in /usr/local/lib/python3.11/dist-packages (from requests<3.0.0,>=2.18.0->google-api-core!=2.0.*,!=2.1.*,!=2.2.*,!=2.3.0,<3.0.0,>=1.31.5->google-api-python-client) (2025.6.15)\n"
          ]
        }
      ]
    },
    {
      "cell_type": "code",
      "execution_count": 87,
      "metadata": {
        "id": "LxkimC2C2MAh"
      },
      "outputs": [],
      "source": [
        "from google.oauth2 import service_account\n",
        "from googleapiclient.discovery import build"
      ]
    },
    {
      "cell_type": "code",
      "execution_count": 88,
      "metadata": {
        "id": "IX6rBz7Usogp"
      },
      "outputs": [],
      "source": [
        "import os\n",
        "from langchain_googledrive.tools.google_drive.tool import GoogleDriveSearchTool\n",
        "from langchain_googledrive.utilities.google_drive import GoogleDriveAPIWrapper"
      ]
    },
    {
      "cell_type": "code",
      "execution_count": 100,
      "metadata": {
        "id": "vqMhH8GLsklP"
      },
      "outputs": [],
      "source": [
        "os.environ[\"GOOGLE_ACCOUNT_FILE\"] = \"/content/miproyectodrive-464014-c08c3b8e7b82.json\"\n",
        "os.environ[\"GOOGLE_APPLICATION_CREDENTIALS\"] = SERVICE_ACCOUNT_FILE\n",
        "SERVICE_ACCOUNT_FILE = \"/content/miproyectodrive-464014-c08c3b8e7b82.json\"\n"
      ]
    },
    {
      "cell_type": "code",
      "execution_count": 101,
      "metadata": {
        "id": "z3yH1J99nMQl"
      },
      "outputs": [],
      "source": [
        "folder_id =\"1lYk54ck5sSJn5hAGY3XvRwIrXT3msUZr\"\n",
        "#folder_id=\"root\""
      ]
    },
    {
      "cell_type": "code",
      "source": [
        "import logging\n",
        "\n",
        "logging.basicConfig(level=logging.INFO)"
      ],
      "metadata": {
        "id": "qI4CJd33nrmD"
      },
      "execution_count": 102,
      "outputs": []
    },
    {
      "cell_type": "code",
      "source": [
        "\n",
        "# By default, search only in the filename.\n",
        "tool = GoogleDriveSearchTool(\n",
        "    api_wrapper=GoogleDriveAPIWrapper(\n",
        "        api_file_path=os.environ[\"GOOGLE_ACCOUNT_FILE\"],\n",
        "        folder_id=folder_id,\n",
        "        num_results=2,\n",
        "        template=\"gdrive-query-in-folder\",  # Search in the body of documents\n",
        "    )\n",
        ")"
      ],
      "metadata": {
        "id": "OJccWjGxCObD"
      },
      "execution_count": 103,
      "outputs": []
    },
    {
      "cell_type": "code",
      "source": [
        "tool.run(\"pruebaDocumento\")"
      ],
      "metadata": {
        "colab": {
          "base_uri": "https://localhost:8080/",
          "height": 35
        },
        "id": "vAkktR7kCOL8",
        "outputId": "d43463d5-e12b-47f4-857f-861880147ad9"
      },
      "execution_count": 106,
      "outputs": [
        {
          "output_type": "execute_result",
          "data": {
            "text/plain": [
              "'No document found'"
            ],
            "application/vnd.google.colaboratory.intrinsic+json": {
              "type": "string"
            }
          },
          "metadata": {},
          "execution_count": 106
        }
      ]
    },
    {
      "cell_type": "code",
      "execution_count": 93,
      "metadata": {
        "colab": {
          "base_uri": "https://localhost:8080/"
        },
        "id": "lk9eGwqUnTXu",
        "outputId": "edfa860e-078d-4410-ae66-de18c5db8e3d"
      },
      "outputs": [
        {
          "output_type": "stream",
          "name": "stdout",
          "text": [
            "=== PRUEBA 1: Configuración básica sin template ===\n",
            "Resultado 1: No document found\n"
          ]
        }
      ],
      "source": [
        "print(\"=== PRUEBA 1: Configuración básica sin template ===\")\n",
        "try:\n",
        "    tool1 = GoogleDriveAPIWrapper(\n",
        "        folder_id=folder_id,\n",
        "        num_results=10,\n",
        "        # Sin template específico\n",
        "    )\n",
        "    search_tool1 = GoogleDriveSearchTool(api_wrapper=tool1)\n",
        "    resultados1 = search_tool1.run(\"pruebaDocumento\")\n",
        "    print(\"Resultado 1:\", resultados1)\n",
        "except Exception as e:\n",
        "    print(f\"Error 1: {e}\")"
      ]
    },
    {
      "cell_type": "code",
      "source": [
        "print(\"\\n=== PRUEBA 2: Sin folder_id específico ===\")\n",
        "try:\n",
        "    tool2 = GoogleDriveAPIWrapper(\n",
        "        num_results=10,\n",
        "        # Sin folder_id para buscar en todo el drive\n",
        "    )\n",
        "    search_tool2 = GoogleDriveSearchTool(api_wrapper=tool2)\n",
        "    resultados2 = search_tool2.run(\"pruebaDocumento\")\n",
        "    print(\"Resultado 2:\", resultados2)\n",
        "except Exception as e:\n",
        "    print(f\"Error 2: {e}\")"
      ],
      "metadata": {
        "colab": {
          "base_uri": "https://localhost:8080/"
        },
        "id": "hDdXUR1Ku1rr",
        "outputId": "3039b923-5c37-4bf1-d57d-508244eecfbd"
      },
      "execution_count": 73,
      "outputs": [
        {
          "output_type": "stream",
          "name": "stdout",
          "text": [
            "\n",
            "=== PRUEBA 2: Sin folder_id específico ===\n",
            "Resultado 2: No document found\n"
          ]
        }
      ]
    },
    {
      "cell_type": "code",
      "source": [
        "print(\"\\n=== PRUEBA 3: Búsqueda más amplia ===\")\n",
        "try:\n",
        "    tool3 = GoogleDriveAPIWrapper(\n",
        "        folder_id=folder_id,\n",
        "        num_results=20,\n",
        "    )\n",
        "    search_tool3 = GoogleDriveSearchTool(api_wrapper=tool3)\n",
        "    # Probar búsquedas diferentes\n",
        "    resultados3a = search_tool3.run(\"\")  # Búsqueda vacía\n",
        "    resultados3b = search_tool3.run(\"documento\")  # Palabra más general\n",
        "    resultados3c = search_tool3.run(\"prueba\")  # Parte del nombre\n",
        "\n",
        "    print(\"Búsqueda vacía:\", resultados3a)\n",
        "    print(\"Búsqueda 'documento':\", resultados3b)\n",
        "    print(\"Búsqueda 'prueba':\", resultados3c)\n",
        "except Exception as e:\n",
        "    print(f\"Error 3: {e}\")"
      ],
      "metadata": {
        "colab": {
          "base_uri": "https://localhost:8080/"
        },
        "id": "-H7tQxnju7VC",
        "outputId": "74b68652-4c86-4652-9c37-d372774600c6"
      },
      "execution_count": 74,
      "outputs": [
        {
          "output_type": "stream",
          "name": "stdout",
          "text": [
            "\n",
            "=== PRUEBA 3: Búsqueda más amplia ===\n",
            "Búsqueda vacía: No document found\n",
            "Búsqueda 'documento': No document found\n",
            "Búsqueda 'prueba': No document found\n"
          ]
        }
      ]
    },
    {
      "cell_type": "code",
      "source": [
        "print(\"\\n=== DIAGNÓSTICO: Verificar configuración interna ===\")\n",
        "try:\n",
        "    # Crear wrapper y verificar su configuración interna\n",
        "    diagnostic_tool = GoogleDriveAPIWrapper(\n",
        "        folder_id=folder_id,\n",
        "        num_results=10,\n",
        "    )\n",
        "\n",
        "    # Verificar si tiene acceso al servicio\n",
        "    print(\"Configuración del wrapper:\")\n",
        "    print(f\"- Folder ID: {getattr(diagnostic_tool, 'folder_id', 'No definido')}\")\n",
        "    print(f\"- Num results: {getattr(diagnostic_tool, 'num_results', 'No definido')}\")\n",
        "\n",
        "    # Intentar acceso directo al servicio interno\n",
        "    if hasattr(diagnostic_tool, '_build_service'):\n",
        "        service = diagnostic_tool._build_service()\n",
        "        print(\"✅ Servicio construido correctamente\")\n",
        "    else:\n",
        "        print(\"❌ No se puede construir el servicio\")\n",
        "\n",
        "except Exception as e:\n",
        "    print(f\"Error en diagnóstico: {e}\")"
      ],
      "metadata": {
        "colab": {
          "base_uri": "https://localhost:8080/"
        },
        "id": "CNTst9ygvEhT",
        "outputId": "01550855-ef33-4f53-fb5d-017330b7c3f5"
      },
      "execution_count": 75,
      "outputs": [
        {
          "output_type": "stream",
          "name": "stdout",
          "text": [
            "\n",
            "=== DIAGNÓSTICO: Verificar configuración interna ===\n",
            "Configuración del wrapper:\n",
            "- Folder ID: 1lYk54ck5sSJn5hAGY3XvRwIrXT3msUZr\n",
            "- Num results: 10\n",
            "❌ No se puede construir el servicio\n"
          ]
        }
      ]
    },
    {
      "cell_type": "code",
      "source": [
        "print(\"\\n=== VERIFICAR PERMISOS DIRECTOS ===\")\n",
        "# Tu código que funciona\n",
        "creds = service_account.Credentials.from_service_account_file(\n",
        "    SERVICE_ACCOUNT_FILE,\n",
        "    scopes=[\"https://www.googleapis.com/auth/drive.metadata.readonly\"]\n",
        ")\n",
        "drive_service = build(\"drive\", \"v3\", credentials=creds)\n",
        "\n",
        "# Verificar que los archivos existen\n",
        "query = f\"'{folder_id}' in parents and trashed = false\"\n",
        "results = drive_service.files().list(\n",
        "    q=query,\n",
        "    fields=\"files(id, name, mimeType, modifiedTime)\",\n",
        "    pageSize=20\n",
        ").execute()\n",
        "\n",
        "files = results.get(\"files\", [])\n",
        "print(f\"✅ API directa encuentra {len(files)} archivos\")\n",
        "for file in files:\n",
        "    print(f\"  - {file['name']} (ID: {file['id']})\")"
      ],
      "metadata": {
        "colab": {
          "base_uri": "https://localhost:8080/"
        },
        "id": "Eme0Dyl_vSrM",
        "outputId": "3e0bbf5d-c335-4a5d-eb54-855c527208ad"
      },
      "execution_count": 76,
      "outputs": [
        {
          "output_type": "stream",
          "name": "stdout",
          "text": [
            "\n",
            "=== VERIFICAR PERMISOS DIRECTOS ===\n",
            "✅ API directa encuentra 2 archivos\n",
            "  - segundoDocumentodePrueba (ID: 1fcISyBqzHU6ntuFf9hm2ezD9kpVkL0NN_HZiYB1BzpM)\n",
            "  - pruebaDocumento (ID: 1d6gxozQEM5zfH-UcW1IjZGzo2KZpMOJKbzbTOTofPws)\n"
          ]
        }
      ]
    },
    {
      "cell_type": "code",
      "source": [
        "print(\"\\n=== SOLUCIÓN ALTERNATIVA: Configuración manual ===\")\n",
        "try:\n",
        "    # Configurar scopes más amplios\n",
        "    creds_full = service_account.Credentials.from_service_account_file(\n",
        "        SERVICE_ACCOUNT_FILE,\n",
        "        scopes=[\n",
        "            \"https://www.googleapis.com/auth/drive.readonly\",\n",
        "            \"https://www.googleapis.com/auth/drive.metadata.readonly\",\n",
        "            \"https://www.googleapis.com/auth/documents.readonly\"\n",
        "        ]\n",
        "    )\n",
        "\n",
        "    # Crear wrapper con credenciales específicas\n",
        "    tool_manual = GoogleDriveAPIWrapper(\n",
        "        folder_id=folder_id,\n",
        "        num_results=10,\n",
        "        credentials=creds_full  # Si la clase lo soporta\n",
        "    )\n",
        "\n",
        "    search_tool_manual = GoogleDriveSearchTool(api_wrapper=tool_manual)\n",
        "    resultado_manual = search_tool_manual.run(\"prueba\")\n",
        "    print(\"Resultado manual:\", resultado_manual)\n",
        "\n",
        "except Exception as e:\n",
        "    print(f\"Error manual: {e}\")"
      ],
      "metadata": {
        "colab": {
          "base_uri": "https://localhost:8080/"
        },
        "id": "2P6Ouji_vkXh",
        "outputId": "68bf9012-a1d9-4b50-f318-aaa4de2990f2"
      },
      "execution_count": 77,
      "outputs": [
        {
          "output_type": "stream",
          "name": "stdout",
          "text": [
            "\n",
            "=== SOLUCIÓN ALTERNATIVA: Configuración manual ===\n",
            "Resultado manual: No document found\n"
          ]
        }
      ]
    },
    {
      "cell_type": "code",
      "source": [
        "class DebugGoogleDriveWrapper(GoogleDriveAPIWrapper):\n",
        "    \"\"\"Wrapper con debugging para ver qué está pasando internamente\"\"\"\n",
        "\n",
        "    def search(self, query: str):\n",
        "        print(f\"🔍 Búsqueda iniciada con query: '{query}'\")\n",
        "        print(f\"📁 Folder ID configurado: {getattr(self, 'folder_id', 'No definido')}\")\n",
        "\n",
        "        try:\n",
        "            result = super().search(query)\n",
        "            print(f\"✅ Resultado obtenido: {result}\")\n",
        "            return result\n",
        "        except Exception as e:\n",
        "            print(f\"❌ Error en búsqueda: {e}\")\n",
        "            import traceback\n",
        "            traceback.print_exc()\n",
        "            raise\n",
        "\n",
        "# Probar con wrapper de debugging\n",
        "try:\n",
        "    debug_tool = DebugGoogleDriveWrapper(\n",
        "        folder_id=folder_id,\n",
        "        num_results=10,\n",
        "    )\n",
        "    debug_search = GoogleDriveSearchTool(api_wrapper=debug_tool)\n",
        "    resultado_debug = debug_search.run(\"prueba\")\n",
        "    print(\"Resultado debug:\", resultado_debug)\n",
        "except Exception as e:\n",
        "    print(f\"Error en debug: {e}\")\n",
        "\n",
        "# ===== POSIBLES SOLUCIONES SEGÚN EL PROBLEMA ===\n",
        "print(\"\\n=== RESUMEN DE POSIBLES SOLUCIONES ===\")\n",
        "print(\"\"\"\n",
        "1. ✅ Variable de entorno correcta: GOOGLE_APPLICATION_CREDENTIALS\n",
        "2. 🔧 Probar sin template específico\n",
        "3. 🔧 Probar sin folder_id (buscar en todo el drive)\n",
        "4. 🔧 Ampliar scopes de permisos\n",
        "5. 🔧 Verificar versión de langchain-googledrive\n",
        "6. 🔧 Usar búsquedas más generales (\"documento\" en lugar de \"pruebaDocumento\")\n",
        "\"\"\")"
      ],
      "metadata": {
        "colab": {
          "base_uri": "https://localhost:8080/"
        },
        "id": "4GK03Jg8vuWO",
        "outputId": "0424cdcb-b85d-46b4-ba59-de65c0edbaf8"
      },
      "execution_count": 78,
      "outputs": [
        {
          "output_type": "stream",
          "name": "stdout",
          "text": [
            "Resultado debug: No document found\n",
            "\n",
            "=== RESUMEN DE POSIBLES SOLUCIONES ===\n",
            "\n",
            "1. ✅ Variable de entorno correcta: GOOGLE_APPLICATION_CREDENTIALS\n",
            "2. 🔧 Probar sin template específico\n",
            "3. 🔧 Probar sin folder_id (buscar en todo el drive)\n",
            "4. 🔧 Ampliar scopes de permisos\n",
            "5. 🔧 Verificar versión de langchain-googledrive\n",
            "6. 🔧 Usar búsquedas más generales (\"documento\" en lugar de \"pruebaDocumento\")\n",
            "\n"
          ]
        }
      ]
    },
    {
      "cell_type": "code",
      "source": [
        "print(\"\\n=== CÓDIGO FINAL RECOMENDADO ===\")\n",
        "\n",
        "def configuracion_recomendada():\n",
        "    \"\"\"Configuración que debería funcionar\"\"\"\n",
        "\n",
        "    # 1. Variable de entorno correcta\n",
        "    os.environ[\"GOOGLE_APPLICATION_CREDENTIALS\"] = SERVICE_ACCOUNT_FILE\n",
        "\n",
        "    # 2. Configuración simple sin templates complejos\n",
        "    wrapper = GoogleDriveAPIWrapper(\n",
        "        num_results=20,  # Más resultados\n",
        "        # Sin folder_id primero, para probar en todo el drive\n",
        "    )\n",
        "\n",
        "    tool = GoogleDriveSearchTool(api_wrapper=wrapper)\n",
        "\n",
        "    # 3. Probar diferentes tipos de búsqueda\n",
        "    searches = [\n",
        "        \"\",  # Vacía para listar todo\n",
        "        \"prueba\",  # Palabra clave\n",
        "        \"documento\",  # Tipo de archivo\n",
        "        \"type:document\",  # Filtro específico\n",
        "    ]\n",
        "\n",
        "    for search_term in searches:\n",
        "        try:\n",
        "            result = tool.run(search_term)\n",
        "            print(f\"Búsqueda '{search_term}': {result}\")\n",
        "            if result != \"No document found\":\n",
        "                return tool  # Si encuentra algo, devolver esta configuración\n",
        "        except Exception as e:\n",
        "            print(f\"Error con '{search_term}': {e}\")\n",
        "\n",
        "    return None\n",
        "configuracion_recomendada()"
      ],
      "metadata": {
        "colab": {
          "base_uri": "https://localhost:8080/"
        },
        "id": "M7YdTNNCv8Zy",
        "outputId": "f9a906f6-7be1-4b25-a0a4-b6fda650843c"
      },
      "execution_count": 79,
      "outputs": [
        {
          "output_type": "stream",
          "name": "stdout",
          "text": [
            "\n",
            "=== CÓDIGO FINAL RECOMENDADO ===\n",
            "Búsqueda '': No document found\n",
            "Búsqueda 'prueba': No document found\n",
            "Búsqueda 'documento': No document found\n",
            "Búsqueda 'type:document': No document found\n"
          ]
        }
      ]
    },
    {
      "cell_type": "code",
      "execution_count": 80,
      "metadata": {
        "colab": {
          "base_uri": "https://localhost:8080/"
        },
        "id": "_StrI681pkcR",
        "outputId": "acb8021f-da55-4705-f9f2-6b3e520994bb"
      },
      "outputs": [
        {
          "output_type": "stream",
          "name": "stdout",
          "text": [
            "📁 Archivos encontrados por LangChain:\n",
            "No document found\n"
          ]
        }
      ],
      "source": [
        "search_tool = GoogleDriveSearchTool(api_wrapper=tool)\n",
        "\n",
        "# Búsqueda vacía para listar todo\n",
        "logging.basicConfig(level=logging.INFO)\n",
        "resultados = search_tool.run(\"pruebaDocumento\")\n",
        "print(\"📁 Archivos encontrados por LangChain:\")\n",
        "print(resultados)"
      ]
    },
    {
      "cell_type": "code",
      "source": [
        "search_tool.description"
      ],
      "metadata": {
        "colab": {
          "base_uri": "https://localhost:8080/",
          "height": 53
        },
        "id": "n8Ia4ZXqm4RP",
        "outputId": "b9ca18c5-64dc-477b-9d66-187b24a20890"
      },
      "execution_count": 81,
      "outputs": [
        {
          "output_type": "execute_result",
          "data": {
            "text/plain": [
              "\"A wrapper around Google Drive Search. Useful for when you need to find a document in google drive. The input should be formatted as a list of entities separated with a space. As an example, a list of keywords is 'hello word'.\""
            ],
            "application/vnd.google.colaboratory.intrinsic+json": {
              "type": "string"
            }
          },
          "metadata": {},
          "execution_count": 81
        }
      ]
    },
    {
      "cell_type": "code",
      "source": [
        "# 1. Autenticación\n",
        "creds = service_account.Credentials.from_service_account_file(\n",
        "    SERVICE_ACCOUNT_FILE,\n",
        "    scopes=[\"https://www.googleapis.com/auth/drive.metadata.readonly\"]\n",
        ")\n",
        "\n",
        "# 2. Construir servicio\n",
        "drive_service = build(\"drive\", \"v3\", credentials=creds)\n",
        "\n",
        "# 3. Realizar búsqueda\n",
        "# Busca archivos dentro del folder que NO estén en la papelera\n",
        "query = f\"'{folder_id}' in parents and trashed = false\"\n",
        "\n",
        "results = drive_service.files().list(\n",
        "    q=query,\n",
        "    fields=\"files(id, name, mimeType, modifiedTime)\",\n",
        "    pageSize=20\n",
        ").execute()\n",
        "\n",
        "files = results.get(\"files\", [])\n",
        "if not files:\n",
        "    print(\"❌ No se encontraron archivos.\")\n",
        "else:\n",
        "    print(\"✅ Archivos encontrados:\")\n",
        "    for file in files:\n",
        "        print(f\"- {file['name']} ({file['mimeType']}) — modificado: {file['modifiedTime']}\")"
      ],
      "metadata": {
        "colab": {
          "base_uri": "https://localhost:8080/"
        },
        "id": "lu8l6DZhqhnP",
        "outputId": "1648a33c-ad50-478b-97e6-b30036118709"
      },
      "execution_count": 94,
      "outputs": [
        {
          "output_type": "stream",
          "name": "stdout",
          "text": [
            "✅ Archivos encontrados:\n",
            "- segundoDocumentodePrueba (application/vnd.google-apps.document) — modificado: 2025-06-26T00:47:12.182Z\n",
            "- pruebaDocumento (application/vnd.google-apps.document) — modificado: 2025-06-25T20:44:38.224Z\n"
          ]
        }
      ]
    },
    {
      "cell_type": "code",
      "source": [],
      "metadata": {
        "id": "EGaxIBBdoEW-"
      },
      "execution_count": null,
      "outputs": []
    }
  ],
  "metadata": {
    "colab": {
      "provenance": [],
      "mount_file_id": "1EzdEE2ib_3o8QFgZZa5jbsiUlByjzuCu",
      "authorship_tag": "ABX9TyPFrqdtC8gEjwd9DVoz2iSx",
      "include_colab_link": true
    },
    "kernelspec": {
      "display_name": "Python 3",
      "name": "python3"
    },
    "language_info": {
      "name": "python"
    }
  },
  "nbformat": 4,
  "nbformat_minor": 0
}