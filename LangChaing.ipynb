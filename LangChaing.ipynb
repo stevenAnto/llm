{
  "cells": [
    {
      "cell_type": "markdown",
      "metadata": {
        "id": "view-in-github",
        "colab_type": "text"
      },
      "source": [
        "<a href=\"https://colab.research.google.com/github/stevenAnto/llm/blob/main/LangChaing.ipynb\" target=\"_parent\"><img src=\"https://colab.research.google.com/assets/colab-badge.svg\" alt=\"Open In Colab\"/></a>"
      ]
    },
    {
      "cell_type": "code",
      "execution_count": 1,
      "metadata": {
        "colab": {
          "base_uri": "https://localhost:8080/",
          "height": 321
        },
        "id": "SYoZ4SZ0u6sn",
        "outputId": "522386aa-8644-42a9-9862-fb1dcdf34c9b"
      },
      "outputs": [
        {
          "output_type": "error",
          "ename": "KeyboardInterrupt",
          "evalue": "Interrupted by user",
          "traceback": [
            "\u001b[0;31m---------------------------------------------------------------------------\u001b[0m",
            "\u001b[0;31mKeyboardInterrupt\u001b[0m                         Traceback (most recent call last)",
            "\u001b[0;32m/tmp/ipython-input-1-3628833766.py\u001b[0m in \u001b[0;36m<cell line: 0>\u001b[0;34m()\u001b[0m\n\u001b[1;32m      1\u001b[0m \u001b[0;32mimport\u001b[0m \u001b[0mos\u001b[0m\u001b[0;34m\u001b[0m\u001b[0;34m\u001b[0m\u001b[0m\n\u001b[1;32m      2\u001b[0m \u001b[0;32mfrom\u001b[0m \u001b[0mgetpass\u001b[0m \u001b[0;32mimport\u001b[0m \u001b[0mgetpass\u001b[0m\u001b[0;34m\u001b[0m\u001b[0;34m\u001b[0m\u001b[0m\n\u001b[0;32m----> 3\u001b[0;31m \u001b[0mos\u001b[0m\u001b[0;34m.\u001b[0m\u001b[0menviron\u001b[0m\u001b[0;34m[\u001b[0m\u001b[0;34m\"OPENAI_API_KEY\"\u001b[0m\u001b[0;34m]\u001b[0m \u001b[0;34m=\u001b[0m \u001b[0mgetpass\u001b[0m\u001b[0;34m(\u001b[0m\u001b[0;34m\"Ingresa tu clave de OpenAI: \"\u001b[0m\u001b[0;34m)\u001b[0m\u001b[0;34m\u001b[0m\u001b[0;34m\u001b[0m\u001b[0m\n\u001b[0m",
            "\u001b[0;32m/usr/local/lib/python3.11/dist-packages/ipykernel/kernelbase.py\u001b[0m in \u001b[0;36mgetpass\u001b[0;34m(self, prompt, stream)\u001b[0m\n\u001b[1;32m   1157\u001b[0m                 \u001b[0mstacklevel\u001b[0m\u001b[0;34m=\u001b[0m\u001b[0;36m2\u001b[0m\u001b[0;34m,\u001b[0m\u001b[0;34m\u001b[0m\u001b[0;34m\u001b[0m\u001b[0m\n\u001b[1;32m   1158\u001b[0m             )\n\u001b[0;32m-> 1159\u001b[0;31m         return self._input_request(\n\u001b[0m\u001b[1;32m   1160\u001b[0m             \u001b[0mprompt\u001b[0m\u001b[0;34m,\u001b[0m\u001b[0;34m\u001b[0m\u001b[0;34m\u001b[0m\u001b[0m\n\u001b[1;32m   1161\u001b[0m             \u001b[0mself\u001b[0m\u001b[0;34m.\u001b[0m\u001b[0m_parent_ident\u001b[0m\u001b[0;34m[\u001b[0m\u001b[0;34m\"shell\"\u001b[0m\u001b[0;34m]\u001b[0m\u001b[0;34m,\u001b[0m\u001b[0;34m\u001b[0m\u001b[0;34m\u001b[0m\u001b[0m\n",
            "\u001b[0;32m/usr/local/lib/python3.11/dist-packages/ipykernel/kernelbase.py\u001b[0m in \u001b[0;36m_input_request\u001b[0;34m(self, prompt, ident, parent, password)\u001b[0m\n\u001b[1;32m   1217\u001b[0m             \u001b[0;32mexcept\u001b[0m \u001b[0mKeyboardInterrupt\u001b[0m\u001b[0;34m:\u001b[0m\u001b[0;34m\u001b[0m\u001b[0;34m\u001b[0m\u001b[0m\n\u001b[1;32m   1218\u001b[0m                 \u001b[0;31m# re-raise KeyboardInterrupt, to truncate traceback\u001b[0m\u001b[0;34m\u001b[0m\u001b[0;34m\u001b[0m\u001b[0m\n\u001b[0;32m-> 1219\u001b[0;31m                 \u001b[0;32mraise\u001b[0m \u001b[0mKeyboardInterrupt\u001b[0m\u001b[0;34m(\u001b[0m\u001b[0;34m\"Interrupted by user\"\u001b[0m\u001b[0;34m)\u001b[0m \u001b[0;32mfrom\u001b[0m \u001b[0;32mNone\u001b[0m\u001b[0;34m\u001b[0m\u001b[0;34m\u001b[0m\u001b[0m\n\u001b[0m\u001b[1;32m   1220\u001b[0m             \u001b[0;32mexcept\u001b[0m \u001b[0mException\u001b[0m\u001b[0;34m:\u001b[0m\u001b[0;34m\u001b[0m\u001b[0;34m\u001b[0m\u001b[0m\n\u001b[1;32m   1221\u001b[0m                 \u001b[0mself\u001b[0m\u001b[0;34m.\u001b[0m\u001b[0mlog\u001b[0m\u001b[0;34m.\u001b[0m\u001b[0mwarning\u001b[0m\u001b[0;34m(\u001b[0m\u001b[0;34m\"Invalid Message:\"\u001b[0m\u001b[0;34m,\u001b[0m \u001b[0mexc_info\u001b[0m\u001b[0;34m=\u001b[0m\u001b[0;32mTrue\u001b[0m\u001b[0;34m)\u001b[0m\u001b[0;34m\u001b[0m\u001b[0;34m\u001b[0m\u001b[0m\n",
            "\u001b[0;31mKeyboardInterrupt\u001b[0m: Interrupted by user"
          ]
        }
      ],
      "source": [
        "import os\n",
        "from getpass import getpass\n",
        "os.environ[\"OPENAI_API_KEY\"] = getpass(\"Ingresa tu clave de OpenAI: \")\n"
      ]
    },
    {
      "cell_type": "code",
      "execution_count": null,
      "metadata": {
        "id": "aQ_6xLqVvy6v"
      },
      "outputs": [],
      "source": [
        "!pip install langchain langchain-openai"
      ]
    },
    {
      "cell_type": "code",
      "execution_count": null,
      "metadata": {
        "id": "l0Y65gPNvHOt"
      },
      "outputs": [],
      "source": [
        "from langchain_openai import ChatOpenAI"
      ]
    },
    {
      "cell_type": "code",
      "execution_count": null,
      "metadata": {
        "id": "q1fpG-cDvnp3"
      },
      "outputs": [],
      "source": [
        "llm = ChatOpenAI(openai_api_key=os.environ[\"OPENAI_API_KEY\"])"
      ]
    },
    {
      "cell_type": "code",
      "execution_count": null,
      "metadata": {
        "id": "_wTRJkS4wA-s"
      },
      "outputs": [],
      "source": [
        "llm.invoke(\"la profesion de IA tiene un futuro prometedor?\")"
      ]
    },
    {
      "cell_type": "code",
      "execution_count": null,
      "metadata": {
        "id": "dxAoBz0Ww-Nz"
      },
      "outputs": [],
      "source": [
        "from  langchain_core.prompts import ChatPromptTemplate"
      ]
    },
    {
      "cell_type": "code",
      "execution_count": null,
      "metadata": {
        "id": "mKv4ZF-3y4W4"
      },
      "outputs": [],
      "source": [
        "prompt = ChatPromptTemplate.from_messages([\n",
        "    (\"system\",\"Eres un asistente de IA, puedes responder a preguntas sobre IA\"),\n",
        "    (\"user\",\"{input}\")\n",
        "])"
      ]
    },
    {
      "cell_type": "code",
      "execution_count": null,
      "metadata": {
        "id": "S3nkkLPaz48w"
      },
      "outputs": [],
      "source": [
        "chain  = prompt | llm\n",
        "chain.invoke({\"input\":\"la profesion de IA tiene un futuro prometedor?\"})"
      ]
    },
    {
      "cell_type": "markdown",
      "metadata": {
        "id": "lJJxwVON2LRg"
      },
      "source": [
        "#Memory"
      ]
    },
    {
      "cell_type": "code",
      "execution_count": null,
      "metadata": {
        "id": "HLGY_xCHz77H"
      },
      "outputs": [],
      "source": [
        "from langchain_core.prompts import ChatPromptTemplate, MessagesPlaceholder\n",
        "from langchain_openai.chat_models import ChatOpenAI\n"
      ]
    },
    {
      "cell_type": "code",
      "execution_count": null,
      "metadata": {
        "id": "tV8dWwZ62XJO"
      },
      "outputs": [],
      "source": [
        "model = ChatOpenAI()\n",
        "prompt = ChatPromptTemplate.from_messages([\n",
        "    (\"system\",\n",
        "     \"Eres un asistente de {ability}, puedes responder a preguntas sobre {ability}\",\n",
        "     ),\n",
        "    MessagesPlaceholder(variable_name=\"history\"),#ingresa el historico de la conversacion\n",
        "    (\"human\",\"{input}\")\n",
        "])"
      ]
    },
    {
      "cell_type": "code",
      "execution_count": null,
      "metadata": {
        "id": "yy0ThXGk2ZR7"
      },
      "outputs": [],
      "source": [
        "runnable = prompt | model"
      ]
    },
    {
      "cell_type": "code",
      "execution_count": null,
      "metadata": {
        "collapsed": true,
        "id": "4kjEV3q_3GZQ"
      },
      "outputs": [],
      "source": [
        "!pip install langchain-community\n"
      ]
    },
    {
      "cell_type": "code",
      "execution_count": null,
      "metadata": {
        "id": "L0PZ4wIY2rBM"
      },
      "outputs": [],
      "source": [
        "from langchain_community.chat_message_histories import ChatMessageHistory\n",
        "from langchain_core.chat_history import BaseChatMessageHistory\n",
        "from langchain_core.runnables.history import RunnableWithMessageHistory\n"
      ]
    },
    {
      "cell_type": "code",
      "execution_count": null,
      "metadata": {
        "id": "QF21b3s_28Gk"
      },
      "outputs": [],
      "source": [
        "store = {}"
      ]
    },
    {
      "cell_type": "code",
      "execution_count": null,
      "metadata": {
        "id": "YMM7T4xZ3p4l"
      },
      "outputs": [],
      "source": [
        "#Para saber si hay contexto anterior\n",
        "def get_session_history(session_id: str)->BaseChatMessageHistory:\n",
        "  if session_id not in store:\n",
        "    store[session_id] = ChatMessageHistory()\n",
        "  return store[session_id]"
      ]
    },
    {
      "cell_type": "code",
      "execution_count": null,
      "metadata": {
        "id": "bh4insZ2pOwJ"
      },
      "outputs": [],
      "source": [
        "with_message_history = RunnableWithMessageHistory(\n",
        "    runnable,\n",
        "    get_session_history,\n",
        "    input_message_key=\"input\",\n",
        "    history_messages_key=\"history\",\n",
        ")"
      ]
    },
    {
      "cell_type": "code",
      "execution_count": null,
      "metadata": {
        "id": "8ndnsuuZpjpS"
      },
      "outputs": [],
      "source": [
        "with_message_history.invoke(\n",
        "    {\"ability\":\"ciencia de datos\",\"input\":\"que es una funcion de perdida\"},\n",
        "    config={\"configurable\":{\"session_id\":\"abc123\"}},\n",
        "    )"
      ]
    },
    {
      "cell_type": "code",
      "execution_count": null,
      "metadata": {
        "id": "cgpOKJFaqJ5U"
      },
      "outputs": [],
      "source": [
        "with_message_history.invoke(\n",
        "    {\"ability\":\"ciencia de datos\",\"input\":\"como?, no te entendi\"},\n",
        "    config={\"configurable\":{\"session_id\":\"abc123\"}},\n",
        "    )"
      ]
    },
    {
      "cell_type": "markdown",
      "metadata": {
        "id": "kLjFgjv3uUlu"
      },
      "source": [
        "#Tools\n"
      ]
    },
    {
      "cell_type": "code",
      "execution_count": null,
      "metadata": {
        "collapsed": true,
        "id": "coT1_X2XvPru"
      },
      "outputs": [],
      "source": [
        "!pip install wikipedia\n"
      ]
    },
    {
      "cell_type": "code",
      "execution_count": null,
      "metadata": {
        "id": "N6s4lAGetZ34"
      },
      "outputs": [],
      "source": [
        "from langchain_community.tools import WikipediaQueryRun\n",
        "from langchain_community.utilities import WikipediaAPIWrapper"
      ]
    },
    {
      "cell_type": "code",
      "execution_count": null,
      "metadata": {
        "id": "UPx13c74uqxA"
      },
      "outputs": [],
      "source": [
        "api_wrapper = WikipediaAPIWrapper(top_k_results=1,doc_content_chars_max=500)\n",
        "tool = WikipediaQueryRun(api_wrapper=api_wrapper)"
      ]
    },
    {
      "cell_type": "code",
      "execution_count": null,
      "metadata": {
        "id": "C5C8sP8JvcNH"
      },
      "outputs": [],
      "source": [
        "tool.name"
      ]
    },
    {
      "cell_type": "code",
      "execution_count": null,
      "metadata": {
        "id": "EdcYxCWIvdh3"
      },
      "outputs": [],
      "source": [
        "tool.description"
      ]
    },
    {
      "cell_type": "code",
      "execution_count": null,
      "metadata": {
        "id": "u-hWsnQKvdEb"
      },
      "outputs": [],
      "source": [
        "tool.args"
      ]
    },
    {
      "cell_type": "code",
      "execution_count": null,
      "metadata": {
        "id": "Vu75FrqsxI7f"
      },
      "outputs": [],
      "source": [
        "tool.run({\"query\":\"Alan Turing\"})"
      ]
    },
    {
      "cell_type": "code",
      "execution_count": null,
      "metadata": {
        "id": "8ilTcwEmvg3L"
      },
      "outputs": [],
      "source": [
        "tool.run({\"query\":\"quien es Alan Turing\"})"
      ]
    },
    {
      "cell_type": "markdown",
      "metadata": {
        "id": "3PROml40xU3H"
      },
      "source": [
        "#Agents\n"
      ]
    },
    {
      "cell_type": "code",
      "execution_count": null,
      "metadata": {
        "collapsed": true,
        "id": "L8BiRN-SyuMG"
      },
      "outputs": [],
      "source": [
        "!pip install -U langchain-tavily\n"
      ]
    },
    {
      "cell_type": "code",
      "execution_count": null,
      "metadata": {
        "id": "vrtBx_6cxXqV"
      },
      "outputs": [],
      "source": [
        "from langchain_community.tools.tavily_search import TavilySearchResults"
      ]
    },
    {
      "cell_type": "code",
      "execution_count": null,
      "metadata": {
        "id": "YcruBQ20x1JE"
      },
      "outputs": [],
      "source": [
        "api_key = getpass(\" Ingresa tu Tavily API Key: \")\n",
        "search = TavilySearchResults(tavily_api_key=api_key)"
      ]
    },
    {
      "cell_type": "code",
      "execution_count": null,
      "metadata": {
        "collapsed": true,
        "id": "42g-062xx9xi"
      },
      "outputs": [],
      "source": [
        "search.invoke(\"Que temperatura hay en Londres\")"
      ]
    },
    {
      "cell_type": "code",
      "execution_count": null,
      "metadata": {
        "id": "c1HHFkWSzXBH"
      },
      "outputs": [],
      "source": [
        "tools = [search, tool]"
      ]
    },
    {
      "cell_type": "code",
      "execution_count": null,
      "metadata": {
        "id": "MIcmTzkp14Ia"
      },
      "outputs": [],
      "source": [
        "llm = ChatOpenAI(model=\"gpt-3.5-turbo-0125\",temperature=0)"
      ]
    },
    {
      "cell_type": "code",
      "execution_count": null,
      "metadata": {
        "id": "oy9Tj1Qt1_5m"
      },
      "outputs": [],
      "source": [
        "from langchain import hub"
      ]
    },
    {
      "cell_type": "code",
      "execution_count": null,
      "metadata": {
        "id": "Lrs7ttUW1-q2"
      },
      "outputs": [],
      "source": [
        "#prompt de la comunidad\n",
        "prompt = hub.pull(\"hwchase17/openai-functions-agent\")\n",
        "prompt.messages"
      ]
    },
    {
      "cell_type": "code",
      "execution_count": null,
      "metadata": {
        "id": "wSM1Bdep2Ptc"
      },
      "outputs": [],
      "source": [
        "from langchain.agents import create_tool_calling_agent"
      ]
    },
    {
      "cell_type": "code",
      "execution_count": null,
      "metadata": {
        "id": "3MlOf4jL2VK8"
      },
      "outputs": [],
      "source": [
        "#Creacion de agentes\n",
        "agent = create_tool_calling_agent(llm,tools,prompt=prompt)"
      ]
    },
    {
      "cell_type": "code",
      "execution_count": null,
      "metadata": {
        "id": "9oB8IaJs2otf"
      },
      "outputs": [],
      "source": [
        "from langchain.agents import AgentExecutor"
      ]
    },
    {
      "cell_type": "code",
      "execution_count": null,
      "metadata": {
        "id": "aHwZzZl72tMB"
      },
      "outputs": [],
      "source": [
        "agent_executor = AgentExecutor(agent=agent,tools=tools,verbose=True)"
      ]
    },
    {
      "cell_type": "code",
      "execution_count": null,
      "metadata": {
        "id": "gpsIhcey20eE"
      },
      "outputs": [],
      "source": [
        "agent_executor.invoke({\"input\":\"hola\"})"
      ]
    },
    {
      "cell_type": "code",
      "execution_count": null,
      "metadata": {
        "id": "hYX0tPAj2398"
      },
      "outputs": [],
      "source": [
        "agent_executor.invoke({\"input\":\"cual es el mejor  superheroe de Marvel y por que?\"})"
      ]
    },
    {
      "cell_type": "code",
      "execution_count": null,
      "metadata": {
        "id": "K9Al27-N3e3N"
      },
      "outputs": [],
      "source": [
        "agent_executor.invoke({\"input\":\"Que temperatura hace en Nueva York?\"})"
      ]
    },
    {
      "cell_type": "markdown",
      "metadata": {
        "id": "5RXMR-dF6fpq"
      },
      "source": [
        "#Ejemplos de Interacciones"
      ]
    },
    {
      "cell_type": "markdown",
      "metadata": {
        "id": "_6AFrFQb6eu4"
      },
      "source": []
    },
    {
      "cell_type": "code",
      "execution_count": null,
      "metadata": {
        "id": "pjBE28493uSp"
      },
      "outputs": [],
      "source": [
        "agent_executor.invoke({\"input\":\"Busca quien fue Alan Turing\"})"
      ]
    },
    {
      "cell_type": "code",
      "execution_count": null,
      "metadata": {
        "id": "exXtOnOb6IFQ"
      },
      "outputs": [],
      "source": [
        "agent_executor.invoke({\"input\":\"Dime un chiste.\"})"
      ]
    },
    {
      "cell_type": "code",
      "execution_count": null,
      "metadata": {
        "id": "QS12aZb36kZ5"
      },
      "outputs": [],
      "source": [
        "agent_executor.invoke({\"input\":\"¿Qué está pasando en el mundo de la inteligencia artificial?\"})"
      ]
    },
    {
      "cell_type": "code",
      "execution_count": null,
      "metadata": {
        "id": "qAlLg54b6xes"
      },
      "outputs": [],
      "source": [
        "agent_executor.invoke({\"input\":\"Que esta pasando entre EEUU e Iran?\"})"
      ]
    },
    {
      "cell_type": "code",
      "execution_count": null,
      "metadata": {
        "id": "aaK6bnP266tS"
      },
      "outputs": [],
      "source": [
        "agent_executor.invoke({\"input\":\"Quien fue Alan Turing y que fue lo mas grande que hizo, busca en diversas fuentes como paginas webs,etc\"})"
      ]
    },
    {
      "cell_type": "code",
      "execution_count": null,
      "metadata": {
        "id": "WIns16m6vmfj"
      },
      "outputs": [],
      "source": [
        "agent_executor.invoke({\"input\":\"Cuentame otro chiste\"})"
      ]
    },
    {
      "cell_type": "code",
      "execution_count": null,
      "metadata": {
        "id": "z-SDdAVKvqMc"
      },
      "outputs": [],
      "source": [
        "agent_executor.invoke({\"input\":\"Pero no tienes otros chiste\"})"
      ]
    },
    {
      "cell_type": "code",
      "execution_count": null,
      "metadata": {
        "id": "KmKdMYS8vuKI"
      },
      "outputs": [],
      "source": [
        "agent_executor.invoke({\"input\":\"si\"})"
      ]
    },
    {
      "cell_type": "code",
      "execution_count": null,
      "metadata": {
        "id": "GT-8itJUvwl6"
      },
      "outputs": [],
      "source": [
        "agent_executor.invoke({\"input\":\"respondeme tres preguntas, busca en internet 1. ¿Qué otros modelos de colores existen para las imagenes?;¿Qué otros cambios se pueden realizar a las imágenes con OpenCV?; 3. ¿Cuál seria el uso del binary threshold en el procesmiento de imagenes?\"})"
      ]
    },
    {
      "cell_type": "code",
      "execution_count": null,
      "metadata": {
        "id": "L6gLV93aRQoS"
      },
      "outputs": [],
      "source": [
        "agent_executor.invoke({\"input\":'Del siguiente array: [\"Hola, ¿cómo estás?\", \"¡Buenos días!\", \"¡Qué tal!\", \"Saludos, humano.\"], devuelveme un saludo aleatorio '})"
      ]
    },
    {
      "cell_type": "code",
      "execution_count": null,
      "metadata": {
        "id": "AER2JqVJ73ZS"
      },
      "outputs": [],
      "source": [
        "agent_executor.invoke({\"input\":'Del siguiente array: [\"Hola, ¿cómo estás?\", \"¡Buenos días!\", \"¡Qué tal!\", \"Saludos, humano.\"], devuelveme un saludo aleatorio '})"
      ]
    },
    {
      "cell_type": "code",
      "execution_count": null,
      "metadata": {
        "id": "VWHqIuNb8KlZ"
      },
      "outputs": [],
      "source": [
        "agent_executor.invoke({\"input\":'Del siguiente array: [\"Hola, ¿cómo estás?\", \"¡Buenos días!\", \"¡Qué tal!\", \"Saludos, humano.\"], devuelveme un saludo aleatorio '})"
      ]
    },
    {
      "cell_type": "code",
      "execution_count": null,
      "metadata": {
        "id": "im9deBLy8a__"
      },
      "outputs": [],
      "source": [
        "agent_executor.invoke({\"input\":'Cual fue la ultima preegunta que te hice '})"
      ]
    },
    {
      "cell_type": "code",
      "execution_count": null,
      "metadata": {
        "id": "UBLrECd08oUe"
      },
      "outputs": [],
      "source": [
        "agent_executor.invoke({\"input\":'puedes recordar  nuestro chat?'})"
      ]
    },
    {
      "cell_type": "code",
      "execution_count": null,
      "metadata": {
        "id": "7p26vp1K8tZX"
      },
      "outputs": [],
      "source": [
        "agent_executor.invoke({\"input\":'que  preguntas te he hecho anteriormente'})"
      ]
    },
    {
      "cell_type": "code",
      "execution_count": null,
      "metadata": {
        "id": "w6zSYJy08x9f"
      },
      "outputs": [],
      "source": [
        "agent_executor.invoke({\"input\":'te daré 3 numeros: 5,6,7. Por favor suma esos tres numeros'})"
      ]
    },
    {
      "cell_type": "code",
      "execution_count": null,
      "metadata": {
        "id": "fLRQVBt99DLY"
      },
      "outputs": [],
      "source": [
        "agent_executor.invoke({\"input\":'te daré 3 numeros: 5,6,7. Por favor suma esos tres numeros'})"
      ]
    },
    {
      "cell_type": "code",
      "execution_count": null,
      "metadata": {
        "id": "w1imyBCl9HxH"
      },
      "outputs": [],
      "source": [
        "agent_executor.invoke({\"input\":'Tienes acceso al directorio de la computadora donde se esta ejecutando este programa?'})"
      ]
    },
    {
      "cell_type": "code",
      "execution_count": 1,
      "metadata": {
        "colab": {
          "base_uri": "https://localhost:8080/"
        },
        "collapsed": true,
        "id": "1i3mO-dcoNmz",
        "outputId": "c7ab8bc0-5910-4126-cbc8-ffaa7d78b19b"
      },
      "outputs": [
        {
          "output_type": "stream",
          "name": "stdout",
          "text": [
            "Requirement already satisfied: langchain-googledrive in /usr/local/lib/python3.11/dist-packages (0.3.35)\n",
            "Requirement already satisfied: google-api-python-client<3.0,>=2.97 in /usr/local/lib/python3.11/dist-packages (from langchain-googledrive) (2.174.0)\n",
            "Requirement already satisfied: google-auth-httplib2>=0.1 in /usr/local/lib/python3.11/dist-packages (from langchain-googledrive) (0.2.0)\n",
            "Requirement already satisfied: google-auth-oauthlib>=1.0 in /usr/local/lib/python3.11/dist-packages (from langchain-googledrive) (1.2.2)\n",
            "Requirement already satisfied: langchain_community>=0.3.0 in /usr/local/lib/python3.11/dist-packages (from langchain-googledrive) (0.3.26)\n",
            "Requirement already satisfied: langchain_core>=0.3.0 in /usr/local/lib/python3.11/dist-packages (from langchain-googledrive) (0.3.66)\n",
            "Requirement already satisfied: httplib2<1.0.0,>=0.19.0 in /usr/local/lib/python3.11/dist-packages (from google-api-python-client<3.0,>=2.97->langchain-googledrive) (0.22.0)\n",
            "Requirement already satisfied: google-auth!=2.24.0,!=2.25.0,<3.0.0,>=1.32.0 in /usr/local/lib/python3.11/dist-packages (from google-api-python-client<3.0,>=2.97->langchain-googledrive) (2.38.0)\n",
            "Requirement already satisfied: google-api-core!=2.0.*,!=2.1.*,!=2.2.*,!=2.3.0,<3.0.0,>=1.31.5 in /usr/local/lib/python3.11/dist-packages (from google-api-python-client<3.0,>=2.97->langchain-googledrive) (2.25.1)\n",
            "Requirement already satisfied: uritemplate<5,>=3.0.1 in /usr/local/lib/python3.11/dist-packages (from google-api-python-client<3.0,>=2.97->langchain-googledrive) (4.2.0)\n",
            "Requirement already satisfied: requests-oauthlib>=0.7.0 in /usr/local/lib/python3.11/dist-packages (from google-auth-oauthlib>=1.0->langchain-googledrive) (2.0.0)\n",
            "Requirement already satisfied: langchain<1.0.0,>=0.3.26 in /usr/local/lib/python3.11/dist-packages (from langchain_community>=0.3.0->langchain-googledrive) (0.3.26)\n",
            "Requirement already satisfied: SQLAlchemy<3,>=1.4 in /usr/local/lib/python3.11/dist-packages (from langchain_community>=0.3.0->langchain-googledrive) (2.0.41)\n",
            "Requirement already satisfied: requests<3,>=2 in /usr/local/lib/python3.11/dist-packages (from langchain_community>=0.3.0->langchain-googledrive) (2.32.3)\n",
            "Requirement already satisfied: PyYAML>=5.3 in /usr/local/lib/python3.11/dist-packages (from langchain_community>=0.3.0->langchain-googledrive) (6.0.2)\n",
            "Requirement already satisfied: aiohttp<4.0.0,>=3.8.3 in /usr/local/lib/python3.11/dist-packages (from langchain_community>=0.3.0->langchain-googledrive) (3.11.15)\n",
            "Requirement already satisfied: tenacity!=8.4.0,<10,>=8.1.0 in /usr/local/lib/python3.11/dist-packages (from langchain_community>=0.3.0->langchain-googledrive) (8.5.0)\n",
            "Requirement already satisfied: dataclasses-json<0.7,>=0.5.7 in /usr/local/lib/python3.11/dist-packages (from langchain_community>=0.3.0->langchain-googledrive) (0.6.7)\n",
            "Requirement already satisfied: pydantic-settings<3.0.0,>=2.4.0 in /usr/local/lib/python3.11/dist-packages (from langchain_community>=0.3.0->langchain-googledrive) (2.10.1)\n",
            "Requirement already satisfied: langsmith>=0.1.125 in /usr/local/lib/python3.11/dist-packages (from langchain_community>=0.3.0->langchain-googledrive) (0.4.1)\n",
            "Requirement already satisfied: httpx-sse<1.0.0,>=0.4.0 in /usr/local/lib/python3.11/dist-packages (from langchain_community>=0.3.0->langchain-googledrive) (0.4.1)\n",
            "Requirement already satisfied: numpy>=1.26.2 in /usr/local/lib/python3.11/dist-packages (from langchain_community>=0.3.0->langchain-googledrive) (2.0.2)\n",
            "Requirement already satisfied: jsonpatch<2.0,>=1.33 in /usr/local/lib/python3.11/dist-packages (from langchain_core>=0.3.0->langchain-googledrive) (1.33)\n",
            "Requirement already satisfied: packaging<25,>=23.2 in /usr/local/lib/python3.11/dist-packages (from langchain_core>=0.3.0->langchain-googledrive) (24.2)\n",
            "Requirement already satisfied: typing-extensions>=4.7 in /usr/local/lib/python3.11/dist-packages (from langchain_core>=0.3.0->langchain-googledrive) (4.14.0)\n",
            "Requirement already satisfied: pydantic>=2.7.4 in /usr/local/lib/python3.11/dist-packages (from langchain_core>=0.3.0->langchain-googledrive) (2.11.7)\n",
            "Requirement already satisfied: aiohappyeyeballs>=2.3.0 in /usr/local/lib/python3.11/dist-packages (from aiohttp<4.0.0,>=3.8.3->langchain_community>=0.3.0->langchain-googledrive) (2.6.1)\n",
            "Requirement already satisfied: aiosignal>=1.1.2 in /usr/local/lib/python3.11/dist-packages (from aiohttp<4.0.0,>=3.8.3->langchain_community>=0.3.0->langchain-googledrive) (1.3.2)\n",
            "Requirement already satisfied: attrs>=17.3.0 in /usr/local/lib/python3.11/dist-packages (from aiohttp<4.0.0,>=3.8.3->langchain_community>=0.3.0->langchain-googledrive) (25.3.0)\n",
            "Requirement already satisfied: frozenlist>=1.1.1 in /usr/local/lib/python3.11/dist-packages (from aiohttp<4.0.0,>=3.8.3->langchain_community>=0.3.0->langchain-googledrive) (1.7.0)\n",
            "Requirement already satisfied: multidict<7.0,>=4.5 in /usr/local/lib/python3.11/dist-packages (from aiohttp<4.0.0,>=3.8.3->langchain_community>=0.3.0->langchain-googledrive) (6.5.0)\n",
            "Requirement already satisfied: propcache>=0.2.0 in /usr/local/lib/python3.11/dist-packages (from aiohttp<4.0.0,>=3.8.3->langchain_community>=0.3.0->langchain-googledrive) (0.3.2)\n",
            "Requirement already satisfied: yarl<2.0,>=1.17.0 in /usr/local/lib/python3.11/dist-packages (from aiohttp<4.0.0,>=3.8.3->langchain_community>=0.3.0->langchain-googledrive) (1.20.1)\n",
            "Requirement already satisfied: marshmallow<4.0.0,>=3.18.0 in /usr/local/lib/python3.11/dist-packages (from dataclasses-json<0.7,>=0.5.7->langchain_community>=0.3.0->langchain-googledrive) (3.26.1)\n",
            "Requirement already satisfied: typing-inspect<1,>=0.4.0 in /usr/local/lib/python3.11/dist-packages (from dataclasses-json<0.7,>=0.5.7->langchain_community>=0.3.0->langchain-googledrive) (0.9.0)\n",
            "Requirement already satisfied: googleapis-common-protos<2.0.0,>=1.56.2 in /usr/local/lib/python3.11/dist-packages (from google-api-core!=2.0.*,!=2.1.*,!=2.2.*,!=2.3.0,<3.0.0,>=1.31.5->google-api-python-client<3.0,>=2.97->langchain-googledrive) (1.70.0)\n",
            "Requirement already satisfied: protobuf!=3.20.0,!=3.20.1,!=4.21.0,!=4.21.1,!=4.21.2,!=4.21.3,!=4.21.4,!=4.21.5,<7.0.0,>=3.19.5 in /usr/local/lib/python3.11/dist-packages (from google-api-core!=2.0.*,!=2.1.*,!=2.2.*,!=2.3.0,<3.0.0,>=1.31.5->google-api-python-client<3.0,>=2.97->langchain-googledrive) (5.29.5)\n",
            "Requirement already satisfied: proto-plus<2.0.0,>=1.22.3 in /usr/local/lib/python3.11/dist-packages (from google-api-core!=2.0.*,!=2.1.*,!=2.2.*,!=2.3.0,<3.0.0,>=1.31.5->google-api-python-client<3.0,>=2.97->langchain-googledrive) (1.26.1)\n",
            "Requirement already satisfied: cachetools<6.0,>=2.0.0 in /usr/local/lib/python3.11/dist-packages (from google-auth!=2.24.0,!=2.25.0,<3.0.0,>=1.32.0->google-api-python-client<3.0,>=2.97->langchain-googledrive) (5.5.2)\n",
            "Requirement already satisfied: pyasn1-modules>=0.2.1 in /usr/local/lib/python3.11/dist-packages (from google-auth!=2.24.0,!=2.25.0,<3.0.0,>=1.32.0->google-api-python-client<3.0,>=2.97->langchain-googledrive) (0.4.2)\n",
            "Requirement already satisfied: rsa<5,>=3.1.4 in /usr/local/lib/python3.11/dist-packages (from google-auth!=2.24.0,!=2.25.0,<3.0.0,>=1.32.0->google-api-python-client<3.0,>=2.97->langchain-googledrive) (4.9.1)\n",
            "Requirement already satisfied: pyparsing!=3.0.0,!=3.0.1,!=3.0.2,!=3.0.3,<4,>=2.4.2 in /usr/local/lib/python3.11/dist-packages (from httplib2<1.0.0,>=0.19.0->google-api-python-client<3.0,>=2.97->langchain-googledrive) (3.2.3)\n",
            "Requirement already satisfied: jsonpointer>=1.9 in /usr/local/lib/python3.11/dist-packages (from jsonpatch<2.0,>=1.33->langchain_core>=0.3.0->langchain-googledrive) (3.0.0)\n",
            "Requirement already satisfied: langchain-text-splitters<1.0.0,>=0.3.8 in /usr/local/lib/python3.11/dist-packages (from langchain<1.0.0,>=0.3.26->langchain_community>=0.3.0->langchain-googledrive) (0.3.8)\n",
            "Requirement already satisfied: httpx<1,>=0.23.0 in /usr/local/lib/python3.11/dist-packages (from langsmith>=0.1.125->langchain_community>=0.3.0->langchain-googledrive) (0.28.1)\n",
            "Requirement already satisfied: orjson<4.0.0,>=3.9.14 in /usr/local/lib/python3.11/dist-packages (from langsmith>=0.1.125->langchain_community>=0.3.0->langchain-googledrive) (3.10.18)\n",
            "Requirement already satisfied: requests-toolbelt<2.0.0,>=1.0.0 in /usr/local/lib/python3.11/dist-packages (from langsmith>=0.1.125->langchain_community>=0.3.0->langchain-googledrive) (1.0.0)\n",
            "Requirement already satisfied: zstandard<0.24.0,>=0.23.0 in /usr/local/lib/python3.11/dist-packages (from langsmith>=0.1.125->langchain_community>=0.3.0->langchain-googledrive) (0.23.0)\n",
            "Requirement already satisfied: annotated-types>=0.6.0 in /usr/local/lib/python3.11/dist-packages (from pydantic>=2.7.4->langchain_core>=0.3.0->langchain-googledrive) (0.7.0)\n",
            "Requirement already satisfied: pydantic-core==2.33.2 in /usr/local/lib/python3.11/dist-packages (from pydantic>=2.7.4->langchain_core>=0.3.0->langchain-googledrive) (2.33.2)\n",
            "Requirement already satisfied: typing-inspection>=0.4.0 in /usr/local/lib/python3.11/dist-packages (from pydantic>=2.7.4->langchain_core>=0.3.0->langchain-googledrive) (0.4.1)\n",
            "Requirement already satisfied: python-dotenv>=0.21.0 in /usr/local/lib/python3.11/dist-packages (from pydantic-settings<3.0.0,>=2.4.0->langchain_community>=0.3.0->langchain-googledrive) (1.1.1)\n",
            "Requirement already satisfied: charset-normalizer<4,>=2 in /usr/local/lib/python3.11/dist-packages (from requests<3,>=2->langchain_community>=0.3.0->langchain-googledrive) (3.4.2)\n",
            "Requirement already satisfied: idna<4,>=2.5 in /usr/local/lib/python3.11/dist-packages (from requests<3,>=2->langchain_community>=0.3.0->langchain-googledrive) (3.10)\n",
            "Requirement already satisfied: urllib3<3,>=1.21.1 in /usr/local/lib/python3.11/dist-packages (from requests<3,>=2->langchain_community>=0.3.0->langchain-googledrive) (2.4.0)\n",
            "Requirement already satisfied: certifi>=2017.4.17 in /usr/local/lib/python3.11/dist-packages (from requests<3,>=2->langchain_community>=0.3.0->langchain-googledrive) (2025.6.15)\n",
            "Requirement already satisfied: oauthlib>=3.0.0 in /usr/local/lib/python3.11/dist-packages (from requests-oauthlib>=0.7.0->google-auth-oauthlib>=1.0->langchain-googledrive) (3.3.1)\n",
            "Requirement already satisfied: greenlet>=1 in /usr/local/lib/python3.11/dist-packages (from SQLAlchemy<3,>=1.4->langchain_community>=0.3.0->langchain-googledrive) (3.2.3)\n",
            "Requirement already satisfied: anyio in /usr/local/lib/python3.11/dist-packages (from httpx<1,>=0.23.0->langsmith>=0.1.125->langchain_community>=0.3.0->langchain-googledrive) (4.9.0)\n",
            "Requirement already satisfied: httpcore==1.* in /usr/local/lib/python3.11/dist-packages (from httpx<1,>=0.23.0->langsmith>=0.1.125->langchain_community>=0.3.0->langchain-googledrive) (1.0.9)\n",
            "Requirement already satisfied: h11>=0.16 in /usr/local/lib/python3.11/dist-packages (from httpcore==1.*->httpx<1,>=0.23.0->langsmith>=0.1.125->langchain_community>=0.3.0->langchain-googledrive) (0.16.0)\n",
            "Requirement already satisfied: pyasn1<0.7.0,>=0.6.1 in /usr/local/lib/python3.11/dist-packages (from pyasn1-modules>=0.2.1->google-auth!=2.24.0,!=2.25.0,<3.0.0,>=1.32.0->google-api-python-client<3.0,>=2.97->langchain-googledrive) (0.6.1)\n",
            "Requirement already satisfied: mypy-extensions>=0.3.0 in /usr/local/lib/python3.11/dist-packages (from typing-inspect<1,>=0.4.0->dataclasses-json<0.7,>=0.5.7->langchain_community>=0.3.0->langchain-googledrive) (1.1.0)\n",
            "Requirement already satisfied: sniffio>=1.1 in /usr/local/lib/python3.11/dist-packages (from anyio->httpx<1,>=0.23.0->langsmith>=0.1.125->langchain_community>=0.3.0->langchain-googledrive) (1.3.1)\n"
          ]
        }
      ],
      "source": [
        "!pip install langchain-googledrive\n"
      ]
    },
    {
      "cell_type": "code",
      "source": [
        "!pip install --upgrade google-api-python-client google-auth-httplib2 google-auth-oauthlib"
      ],
      "metadata": {
        "colab": {
          "base_uri": "https://localhost:8080/"
        },
        "id": "Xi5ab7h5kYbH",
        "outputId": "27f0b347-bda5-4686-a8c6-39c4783303a0"
      },
      "execution_count": 2,
      "outputs": [
        {
          "output_type": "stream",
          "name": "stdout",
          "text": [
            "Requirement already satisfied: google-api-python-client in /usr/local/lib/python3.11/dist-packages (2.174.0)\n",
            "Requirement already satisfied: google-auth-httplib2 in /usr/local/lib/python3.11/dist-packages (0.2.0)\n",
            "Requirement already satisfied: google-auth-oauthlib in /usr/local/lib/python3.11/dist-packages (1.2.2)\n",
            "Requirement already satisfied: httplib2<1.0.0,>=0.19.0 in /usr/local/lib/python3.11/dist-packages (from google-api-python-client) (0.22.0)\n",
            "Requirement already satisfied: google-auth!=2.24.0,!=2.25.0,<3.0.0,>=1.32.0 in /usr/local/lib/python3.11/dist-packages (from google-api-python-client) (2.38.0)\n",
            "Requirement already satisfied: google-api-core!=2.0.*,!=2.1.*,!=2.2.*,!=2.3.0,<3.0.0,>=1.31.5 in /usr/local/lib/python3.11/dist-packages (from google-api-python-client) (2.25.1)\n",
            "Requirement already satisfied: uritemplate<5,>=3.0.1 in /usr/local/lib/python3.11/dist-packages (from google-api-python-client) (4.2.0)\n",
            "Requirement already satisfied: requests-oauthlib>=0.7.0 in /usr/local/lib/python3.11/dist-packages (from google-auth-oauthlib) (2.0.0)\n",
            "Requirement already satisfied: googleapis-common-protos<2.0.0,>=1.56.2 in /usr/local/lib/python3.11/dist-packages (from google-api-core!=2.0.*,!=2.1.*,!=2.2.*,!=2.3.0,<3.0.0,>=1.31.5->google-api-python-client) (1.70.0)\n",
            "Requirement already satisfied: protobuf!=3.20.0,!=3.20.1,!=4.21.0,!=4.21.1,!=4.21.2,!=4.21.3,!=4.21.4,!=4.21.5,<7.0.0,>=3.19.5 in /usr/local/lib/python3.11/dist-packages (from google-api-core!=2.0.*,!=2.1.*,!=2.2.*,!=2.3.0,<3.0.0,>=1.31.5->google-api-python-client) (5.29.5)\n",
            "Requirement already satisfied: proto-plus<2.0.0,>=1.22.3 in /usr/local/lib/python3.11/dist-packages (from google-api-core!=2.0.*,!=2.1.*,!=2.2.*,!=2.3.0,<3.0.0,>=1.31.5->google-api-python-client) (1.26.1)\n",
            "Requirement already satisfied: requests<3.0.0,>=2.18.0 in /usr/local/lib/python3.11/dist-packages (from google-api-core!=2.0.*,!=2.1.*,!=2.2.*,!=2.3.0,<3.0.0,>=1.31.5->google-api-python-client) (2.32.3)\n",
            "Requirement already satisfied: cachetools<6.0,>=2.0.0 in /usr/local/lib/python3.11/dist-packages (from google-auth!=2.24.0,!=2.25.0,<3.0.0,>=1.32.0->google-api-python-client) (5.5.2)\n",
            "Requirement already satisfied: pyasn1-modules>=0.2.1 in /usr/local/lib/python3.11/dist-packages (from google-auth!=2.24.0,!=2.25.0,<3.0.0,>=1.32.0->google-api-python-client) (0.4.2)\n",
            "Requirement already satisfied: rsa<5,>=3.1.4 in /usr/local/lib/python3.11/dist-packages (from google-auth!=2.24.0,!=2.25.0,<3.0.0,>=1.32.0->google-api-python-client) (4.9.1)\n",
            "Requirement already satisfied: pyparsing!=3.0.0,!=3.0.1,!=3.0.2,!=3.0.3,<4,>=2.4.2 in /usr/local/lib/python3.11/dist-packages (from httplib2<1.0.0,>=0.19.0->google-api-python-client) (3.2.3)\n",
            "Requirement already satisfied: oauthlib>=3.0.0 in /usr/local/lib/python3.11/dist-packages (from requests-oauthlib>=0.7.0->google-auth-oauthlib) (3.3.1)\n",
            "Requirement already satisfied: pyasn1<0.7.0,>=0.6.1 in /usr/local/lib/python3.11/dist-packages (from pyasn1-modules>=0.2.1->google-auth!=2.24.0,!=2.25.0,<3.0.0,>=1.32.0->google-api-python-client) (0.6.1)\n",
            "Requirement already satisfied: charset-normalizer<4,>=2 in /usr/local/lib/python3.11/dist-packages (from requests<3.0.0,>=2.18.0->google-api-core!=2.0.*,!=2.1.*,!=2.2.*,!=2.3.0,<3.0.0,>=1.31.5->google-api-python-client) (3.4.2)\n",
            "Requirement already satisfied: idna<4,>=2.5 in /usr/local/lib/python3.11/dist-packages (from requests<3.0.0,>=2.18.0->google-api-core!=2.0.*,!=2.1.*,!=2.2.*,!=2.3.0,<3.0.0,>=1.31.5->google-api-python-client) (3.10)\n",
            "Requirement already satisfied: urllib3<3,>=1.21.1 in /usr/local/lib/python3.11/dist-packages (from requests<3.0.0,>=2.18.0->google-api-core!=2.0.*,!=2.1.*,!=2.2.*,!=2.3.0,<3.0.0,>=1.31.5->google-api-python-client) (2.4.0)\n",
            "Requirement already satisfied: certifi>=2017.4.17 in /usr/local/lib/python3.11/dist-packages (from requests<3.0.0,>=2.18.0->google-api-core!=2.0.*,!=2.1.*,!=2.2.*,!=2.3.0,<3.0.0,>=1.31.5->google-api-python-client) (2025.6.15)\n"
          ]
        }
      ]
    },
    {
      "cell_type": "code",
      "execution_count": 3,
      "metadata": {
        "id": "LxkimC2C2MAh"
      },
      "outputs": [],
      "source": [
        "from google.oauth2 import service_account\n",
        "from googleapiclient.discovery import build"
      ]
    },
    {
      "cell_type": "code",
      "execution_count": 4,
      "metadata": {
        "id": "IX6rBz7Usogp"
      },
      "outputs": [],
      "source": [
        "import os\n",
        "from langchain_googledrive.tools.google_drive.tool import GoogleDriveSearchTool\n",
        "from langchain_googledrive.utilities.google_drive import GoogleDriveAPIWrapper"
      ]
    },
    {
      "cell_type": "code",
      "execution_count": 13,
      "metadata": {
        "id": "vqMhH8GLsklP"
      },
      "outputs": [],
      "source": [
        "os.environ[\"GOOGLE_ACCOUNT_FILE\"] = \"/content/miproyectodrive-464014-c08c3b8e7b82.json\"\n",
        "SERVICE_ACCOUNT_FILE = \"/content/miproyectodrive-464014-c08c3b8e7b82.json\"\n"
      ]
    },
    {
      "cell_type": "code",
      "execution_count": 39,
      "metadata": {
        "id": "z3yH1J99nMQl"
      },
      "outputs": [],
      "source": [
        "folder_id =\"1lYk54ck5sSJn5hAGY3XvRwIrXT3msUZr\"\n",
        "#folder_id=\"root\""
      ]
    },
    {
      "cell_type": "code",
      "source": [
        "import logging\n",
        "\n",
        "logging.basicConfig(level=logging.INFO)"
      ],
      "metadata": {
        "id": "qI4CJd33nrmD"
      },
      "execution_count": 17,
      "outputs": []
    },
    {
      "cell_type": "code",
      "execution_count": 45,
      "metadata": {
        "id": "lk9eGwqUnTXu"
      },
      "outputs": [],
      "source": [
        "tool = GoogleDriveAPIWrapper(\n",
        "    folder_id=\"1lYk54ck5sSJn5hAGY3XvRwIrXT3msUZr\",\n",
        "    num_results=2,\n",
        "    template=\"gdrive-query-in-folder\",  # busca dentro de documentos\n",
        ")\n"
      ]
    },
    {
      "cell_type": "code",
      "source": [
        "import logging\n",
        "\n"
      ],
      "metadata": {
        "id": "LQnpRPUHn9V-"
      },
      "execution_count": 22,
      "outputs": []
    },
    {
      "cell_type": "code",
      "execution_count": 46,
      "metadata": {
        "colab": {
          "base_uri": "https://localhost:8080/"
        },
        "id": "_StrI681pkcR",
        "outputId": "fc5a39a3-0e5f-45f4-b829-62a42b0b8786"
      },
      "outputs": [
        {
          "output_type": "stream",
          "name": "stdout",
          "text": [
            "📁 Archivos encontrados por LangChain:\n",
            "No document found\n"
          ]
        }
      ],
      "source": [
        "search_tool = GoogleDriveSearchTool(api_wrapper=tool)\n",
        "\n",
        "# Búsqueda vacía para listar todo\n",
        "logging.basicConfig(level=logging.INFO)\n",
        "resultados = search_tool.run(\"pruebaDocumento\")\n",
        "print(\"📁 Archivos encontrados por LangChain:\")\n",
        "print(resultados)"
      ]
    },
    {
      "cell_type": "code",
      "source": [
        "search_tool.description"
      ],
      "metadata": {
        "colab": {
          "base_uri": "https://localhost:8080/",
          "height": 53
        },
        "id": "n8Ia4ZXqm4RP",
        "outputId": "8210dd11-2adc-4988-ab1e-0695456db85d"
      },
      "execution_count": 27,
      "outputs": [
        {
          "output_type": "execute_result",
          "data": {
            "text/plain": [
              "\"A wrapper around Google Drive Search. Useful for when you need to find a document in google drive. The input should be formatted as a list of entities separated with a space. As an example, a list of keywords is 'hello word'.\""
            ],
            "application/vnd.google.colaboratory.intrinsic+json": {
              "type": "string"
            }
          },
          "metadata": {},
          "execution_count": 27
        }
      ]
    },
    {
      "cell_type": "code",
      "source": [
        "# 1. Autenticación\n",
        "creds = service_account.Credentials.from_service_account_file(\n",
        "    SERVICE_ACCOUNT_FILE,\n",
        "    scopes=[\"https://www.googleapis.com/auth/drive.metadata.readonly\"]\n",
        ")\n",
        "\n",
        "# 2. Construir servicio\n",
        "drive_service = build(\"drive\", \"v3\", credentials=creds)\n",
        "\n",
        "# 3. Realizar búsqueda\n",
        "# Busca archivos dentro del folder que NO estén en la papelera\n",
        "query = f\"'{folder_id}' in parents and trashed = false\"\n",
        "\n",
        "results = drive_service.files().list(\n",
        "    q=query,\n",
        "    fields=\"files(id, name, mimeType, modifiedTime)\",\n",
        "    pageSize=20\n",
        ").execute()\n",
        "\n",
        "files = results.get(\"files\", [])\n",
        "if not files:\n",
        "    print(\"❌ No se encontraron archivos.\")\n",
        "else:\n",
        "    print(\"✅ Archivos encontrados:\")\n",
        "    for file in files:\n",
        "        print(f\"- {file['name']} ({file['mimeType']}) — modificado: {file['modifiedTime']}\")"
      ],
      "metadata": {
        "colab": {
          "base_uri": "https://localhost:8080/"
        },
        "id": "lu8l6DZhqhnP",
        "outputId": "87240044-6b31-4497-867f-7729bc63ebff"
      },
      "execution_count": 47,
      "outputs": [
        {
          "output_type": "stream",
          "name": "stdout",
          "text": [
            "✅ Archivos encontrados:\n",
            "- segundoDocumentodePrueba (application/vnd.google-apps.document) — modificado: 2025-06-26T00:47:11.494Z\n",
            "- pruebaDocumento (application/vnd.google-apps.document) — modificado: 2025-06-25T20:44:38.224Z\n"
          ]
        }
      ]
    },
    {
      "cell_type": "code",
      "source": [],
      "metadata": {
        "id": "EGaxIBBdoEW-"
      },
      "execution_count": null,
      "outputs": []
    }
  ],
  "metadata": {
    "colab": {
      "provenance": [],
      "mount_file_id": "1EzdEE2ib_3o8QFgZZa5jbsiUlByjzuCu",
      "authorship_tag": "ABX9TyO2P5EZdlysVbjBhb6i7j9x",
      "include_colab_link": true
    },
    "kernelspec": {
      "display_name": "Python 3",
      "name": "python3"
    },
    "language_info": {
      "name": "python"
    }
  },
  "nbformat": 4,
  "nbformat_minor": 0
}