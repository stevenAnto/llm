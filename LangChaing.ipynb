{
  "nbformat": 4,
  "nbformat_minor": 0,
  "metadata": {
    "colab": {
      "provenance": [],
      "mount_file_id": "1EzdEE2ib_3o8QFgZZa5jbsiUlByjzuCu",
      "authorship_tag": "ABX9TyOTx1TciZzc7IR26m74Y7k9",
      "include_colab_link": true
    },
    "kernelspec": {
      "name": "python3",
      "display_name": "Python 3"
    },
    "language_info": {
      "name": "python"
    }
  },
  "cells": [
    {
      "cell_type": "markdown",
      "metadata": {
        "id": "view-in-github",
        "colab_type": "text"
      },
      "source": [
        "<a href=\"https://colab.research.google.com/github/stevenAnto/llm/blob/main/LangChaing.ipynb\" target=\"_parent\"><img src=\"https://colab.research.google.com/assets/colab-badge.svg\" alt=\"Open In Colab\"/></a>"
      ]
    },
    {
      "cell_type": "code",
      "source": [
        "import os\n",
        "from getpass import getpass\n",
        "os.environ[\"OPENAI_API_KEY\"] = getpass(\"Ingresa tu clave de OpenAI: \")\n"
      ],
      "metadata": {
        "colab": {
          "base_uri": "https://localhost:8080/"
        },
        "id": "SYoZ4SZ0u6sn",
        "outputId": "7278232c-2b4b-4a68-aab1-3fcf894185dc"
      },
      "execution_count": null,
      "outputs": [
        {
          "name": "stdout",
          "output_type": "stream",
          "text": [
            "Ingresa tu clave de OpenAI: ··········\n"
          ]
        }
      ]
    },
    {
      "cell_type": "code",
      "source": [
        "!pip install langchain langchain-openai"
      ],
      "metadata": {
        "colab": {
          "base_uri": "https://localhost:8080/"
        },
        "id": "aQ_6xLqVvy6v",
        "outputId": "de6f3ebc-fec7-49ff-8aad-d8cdc3e28b96"
      },
      "execution_count": null,
      "outputs": [
        {
          "output_type": "stream",
          "name": "stdout",
          "text": [
            "Requirement already satisfied: langchain in /usr/local/lib/python3.11/dist-packages (0.3.26)\n",
            "Requirement already satisfied: langchain-openai in /usr/local/lib/python3.11/dist-packages (0.3.25)\n",
            "Requirement already satisfied: langchain-core<1.0.0,>=0.3.66 in /usr/local/lib/python3.11/dist-packages (from langchain) (0.3.66)\n",
            "Requirement already satisfied: langchain-text-splitters<1.0.0,>=0.3.8 in /usr/local/lib/python3.11/dist-packages (from langchain) (0.3.8)\n",
            "Requirement already satisfied: langsmith>=0.1.17 in /usr/local/lib/python3.11/dist-packages (from langchain) (0.3.45)\n",
            "Requirement already satisfied: pydantic<3.0.0,>=2.7.4 in /usr/local/lib/python3.11/dist-packages (from langchain) (2.11.7)\n",
            "Requirement already satisfied: SQLAlchemy<3,>=1.4 in /usr/local/lib/python3.11/dist-packages (from langchain) (2.0.41)\n",
            "Requirement already satisfied: requests<3,>=2 in /usr/local/lib/python3.11/dist-packages (from langchain) (2.32.3)\n",
            "Requirement already satisfied: PyYAML>=5.3 in /usr/local/lib/python3.11/dist-packages (from langchain) (6.0.2)\n",
            "Requirement already satisfied: openai<2.0.0,>=1.86.0 in /usr/local/lib/python3.11/dist-packages (from langchain-openai) (1.87.0)\n",
            "Requirement already satisfied: tiktoken<1,>=0.7 in /usr/local/lib/python3.11/dist-packages (from langchain-openai) (0.9.0)\n",
            "Requirement already satisfied: tenacity!=8.4.0,<10.0.0,>=8.1.0 in /usr/local/lib/python3.11/dist-packages (from langchain-core<1.0.0,>=0.3.66->langchain) (9.1.2)\n",
            "Requirement already satisfied: jsonpatch<2.0,>=1.33 in /usr/local/lib/python3.11/dist-packages (from langchain-core<1.0.0,>=0.3.66->langchain) (1.33)\n",
            "Requirement already satisfied: packaging<25,>=23.2 in /usr/local/lib/python3.11/dist-packages (from langchain-core<1.0.0,>=0.3.66->langchain) (24.2)\n",
            "Requirement already satisfied: typing-extensions>=4.7 in /usr/local/lib/python3.11/dist-packages (from langchain-core<1.0.0,>=0.3.66->langchain) (4.14.0)\n",
            "Requirement already satisfied: httpx<1,>=0.23.0 in /usr/local/lib/python3.11/dist-packages (from langsmith>=0.1.17->langchain) (0.28.1)\n",
            "Requirement already satisfied: orjson<4.0.0,>=3.9.14 in /usr/local/lib/python3.11/dist-packages (from langsmith>=0.1.17->langchain) (3.10.18)\n",
            "Requirement already satisfied: requests-toolbelt<2.0.0,>=1.0.0 in /usr/local/lib/python3.11/dist-packages (from langsmith>=0.1.17->langchain) (1.0.0)\n",
            "Requirement already satisfied: zstandard<0.24.0,>=0.23.0 in /usr/local/lib/python3.11/dist-packages (from langsmith>=0.1.17->langchain) (0.23.0)\n",
            "Requirement already satisfied: anyio<5,>=3.5.0 in /usr/local/lib/python3.11/dist-packages (from openai<2.0.0,>=1.86.0->langchain-openai) (4.9.0)\n",
            "Requirement already satisfied: distro<2,>=1.7.0 in /usr/local/lib/python3.11/dist-packages (from openai<2.0.0,>=1.86.0->langchain-openai) (1.9.0)\n",
            "Requirement already satisfied: jiter<1,>=0.4.0 in /usr/local/lib/python3.11/dist-packages (from openai<2.0.0,>=1.86.0->langchain-openai) (0.10.0)\n",
            "Requirement already satisfied: sniffio in /usr/local/lib/python3.11/dist-packages (from openai<2.0.0,>=1.86.0->langchain-openai) (1.3.1)\n",
            "Requirement already satisfied: tqdm>4 in /usr/local/lib/python3.11/dist-packages (from openai<2.0.0,>=1.86.0->langchain-openai) (4.67.1)\n",
            "Requirement already satisfied: annotated-types>=0.6.0 in /usr/local/lib/python3.11/dist-packages (from pydantic<3.0.0,>=2.7.4->langchain) (0.7.0)\n",
            "Requirement already satisfied: pydantic-core==2.33.2 in /usr/local/lib/python3.11/dist-packages (from pydantic<3.0.0,>=2.7.4->langchain) (2.33.2)\n",
            "Requirement already satisfied: typing-inspection>=0.4.0 in /usr/local/lib/python3.11/dist-packages (from pydantic<3.0.0,>=2.7.4->langchain) (0.4.1)\n",
            "Requirement already satisfied: charset-normalizer<4,>=2 in /usr/local/lib/python3.11/dist-packages (from requests<3,>=2->langchain) (3.4.2)\n",
            "Requirement already satisfied: idna<4,>=2.5 in /usr/local/lib/python3.11/dist-packages (from requests<3,>=2->langchain) (3.10)\n",
            "Requirement already satisfied: urllib3<3,>=1.21.1 in /usr/local/lib/python3.11/dist-packages (from requests<3,>=2->langchain) (2.4.0)\n",
            "Requirement already satisfied: certifi>=2017.4.17 in /usr/local/lib/python3.11/dist-packages (from requests<3,>=2->langchain) (2025.6.15)\n",
            "Requirement already satisfied: greenlet>=1 in /usr/local/lib/python3.11/dist-packages (from SQLAlchemy<3,>=1.4->langchain) (3.2.3)\n",
            "Requirement already satisfied: regex>=2022.1.18 in /usr/local/lib/python3.11/dist-packages (from tiktoken<1,>=0.7->langchain-openai) (2024.11.6)\n",
            "Requirement already satisfied: httpcore==1.* in /usr/local/lib/python3.11/dist-packages (from httpx<1,>=0.23.0->langsmith>=0.1.17->langchain) (1.0.9)\n",
            "Requirement already satisfied: h11>=0.16 in /usr/local/lib/python3.11/dist-packages (from httpcore==1.*->httpx<1,>=0.23.0->langsmith>=0.1.17->langchain) (0.16.0)\n",
            "Requirement already satisfied: jsonpointer>=1.9 in /usr/local/lib/python3.11/dist-packages (from jsonpatch<2.0,>=1.33->langchain-core<1.0.0,>=0.3.66->langchain) (3.0.0)\n"
          ]
        }
      ]
    },
    {
      "cell_type": "code",
      "source": [
        "from langchain_openai import ChatOpenAI"
      ],
      "metadata": {
        "id": "l0Y65gPNvHOt"
      },
      "execution_count": null,
      "outputs": []
    },
    {
      "cell_type": "code",
      "source": [
        "llm = ChatOpenAI(openai_api_key=os.environ[\"OPENAI_API_KEY\"])"
      ],
      "metadata": {
        "id": "q1fpG-cDvnp3"
      },
      "execution_count": null,
      "outputs": []
    },
    {
      "cell_type": "code",
      "source": [
        "llm.invoke(\"la profesion de IA tiene un futuro prometedor?\")"
      ],
      "metadata": {
        "colab": {
          "base_uri": "https://localhost:8080/"
        },
        "id": "_wTRJkS4wA-s",
        "outputId": "a4ee07fc-c5fb-4323-aa4c-9dd4b862e3b6"
      },
      "execution_count": null,
      "outputs": [
        {
          "output_type": "execute_result",
          "data": {
            "text/plain": [
              "AIMessage(content='Sí, la profesión de Inteligencia Artificial (IA) tiene un futuro muy prometedor. La IA está cada vez más presente en numerosos sectores y aplicaciones, desde la atención médica hasta la industria automotriz. Se espera que el campo de la IA continúe creciendo y evolucionando en los próximos años, lo que generará una demanda creciente de profesionales especializados en esta área. Además, la IA está en constante desarrollo y hay un gran potencial para nuevas aplicaciones y avances en este campo. Por lo tanto, la profesión de IA ofrece grandes oportunidades de crecimiento y desarrollo profesional.', additional_kwargs={'refusal': None}, response_metadata={'token_usage': {'completion_tokens': 141, 'prompt_tokens': 19, 'total_tokens': 160, 'completion_tokens_details': {'accepted_prediction_tokens': 0, 'audio_tokens': 0, 'reasoning_tokens': 0, 'rejected_prediction_tokens': 0}, 'prompt_tokens_details': {'audio_tokens': 0, 'cached_tokens': 0}}, 'model_name': 'gpt-3.5-turbo-0125', 'system_fingerprint': None, 'id': 'chatcmpl-BmIkgVVSjEvX6gT62lyqExoH8xK53', 'service_tier': 'default', 'finish_reason': 'stop', 'logprobs': None}, id='run--caa630d4-f61f-4b99-9cc7-a00b2e9cc5d4-0', usage_metadata={'input_tokens': 19, 'output_tokens': 141, 'total_tokens': 160, 'input_token_details': {'audio': 0, 'cache_read': 0}, 'output_token_details': {'audio': 0, 'reasoning': 0}})"
            ]
          },
          "metadata": {},
          "execution_count": 5
        }
      ]
    },
    {
      "cell_type": "code",
      "source": [
        "from  langchain_core.prompts import ChatPromptTemplate"
      ],
      "metadata": {
        "id": "dxAoBz0Ww-Nz"
      },
      "execution_count": null,
      "outputs": []
    },
    {
      "cell_type": "code",
      "source": [
        "prompt = ChatPromptTemplate.from_messages([\n",
        "    (\"system\",\"Eres un asistente de IA, puedes responder a preguntas sobre IA\"),\n",
        "    (\"user\",\"{input}\")\n",
        "])"
      ],
      "metadata": {
        "id": "mKv4ZF-3y4W4"
      },
      "execution_count": null,
      "outputs": []
    },
    {
      "cell_type": "code",
      "source": [
        "chain  = prompt | llm\n",
        "chain.invoke({\"input\":\"la profesion de IA tiene un futuro prometedor?\"})"
      ],
      "metadata": {
        "id": "S3nkkLPaz48w",
        "colab": {
          "base_uri": "https://localhost:8080/"
        },
        "outputId": "2a648adb-2eed-4cb3-f932-2347c3727aad"
      },
      "execution_count": null,
      "outputs": [
        {
          "output_type": "execute_result",
          "data": {
            "text/plain": [
              "AIMessage(content='Sí, la profesión de Inteligencia Artificial tiene un futuro prometedor. Con los rápidos avances en tecnología y el creciente interés en la aplicación de IA en diferentes campos, la demanda de profesionales en esta área está en alza. Se espera que la IA continúe desempeñando un papel importante en la transformación digital de diversas industrias, lo que generará oportunidades laborales y de investigación en el campo de la IA. Es un campo en constante evolución que ofrece un amplio abanico de posibilidades para aquellos interesados en desarrollar una carrera en este sector.', additional_kwargs={'refusal': None}, response_metadata={'token_usage': {'completion_tokens': 136, 'prompt_tokens': 39, 'total_tokens': 175, 'completion_tokens_details': {'accepted_prediction_tokens': 0, 'audio_tokens': 0, 'reasoning_tokens': 0, 'rejected_prediction_tokens': 0}, 'prompt_tokens_details': {'audio_tokens': 0, 'cached_tokens': 0}}, 'model_name': 'gpt-3.5-turbo-0125', 'system_fingerprint': None, 'id': 'chatcmpl-BmIkjY2uxRSAtqGE0b65lnmzN7ipL', 'service_tier': 'default', 'finish_reason': 'stop', 'logprobs': None}, id='run--12db3e77-bb6e-4f41-83bd-441666eaca93-0', usage_metadata={'input_tokens': 39, 'output_tokens': 136, 'total_tokens': 175, 'input_token_details': {'audio': 0, 'cache_read': 0}, 'output_token_details': {'audio': 0, 'reasoning': 0}})"
            ]
          },
          "metadata": {},
          "execution_count": 8
        }
      ]
    },
    {
      "cell_type": "markdown",
      "source": [
        "#Memory"
      ],
      "metadata": {
        "id": "lJJxwVON2LRg"
      }
    },
    {
      "cell_type": "code",
      "source": [
        "from langchain_core.prompts import ChatPromptTemplate, MessagesPlaceholder\n",
        "from langchain_openai.chat_models import ChatOpenAI\n"
      ],
      "metadata": {
        "id": "HLGY_xCHz77H"
      },
      "execution_count": null,
      "outputs": []
    },
    {
      "cell_type": "code",
      "source": [
        "model = ChatOpenAI()\n",
        "prompt = ChatPromptTemplate.from_messages([\n",
        "    (\"system\",\n",
        "     \"Eres un asistente de {ability}, puedes responder a preguntas sobre {ability}\",\n",
        "     ),\n",
        "    MessagesPlaceholder(variable_name=\"history\"),#ingresa el historico de la conversacion\n",
        "    (\"human\",\"{input}\")\n",
        "])"
      ],
      "metadata": {
        "id": "tV8dWwZ62XJO"
      },
      "execution_count": null,
      "outputs": []
    },
    {
      "cell_type": "code",
      "source": [
        "runnable = prompt | model"
      ],
      "metadata": {
        "id": "yy0ThXGk2ZR7"
      },
      "execution_count": null,
      "outputs": []
    },
    {
      "cell_type": "code",
      "source": [
        "!pip install langchain-community\n"
      ],
      "metadata": {
        "collapsed": true,
        "id": "4kjEV3q_3GZQ",
        "colab": {
          "base_uri": "https://localhost:8080/"
        },
        "outputId": "075ca22f-ae94-4d06-9e9e-e2bd5c6202d4"
      },
      "execution_count": null,
      "outputs": [
        {
          "output_type": "stream",
          "name": "stdout",
          "text": [
            "Requirement already satisfied: langchain-community in /usr/local/lib/python3.11/dist-packages (0.3.26)\n",
            "Requirement already satisfied: langchain-core<1.0.0,>=0.3.66 in /usr/local/lib/python3.11/dist-packages (from langchain-community) (0.3.66)\n",
            "Requirement already satisfied: langchain<1.0.0,>=0.3.26 in /usr/local/lib/python3.11/dist-packages (from langchain-community) (0.3.26)\n",
            "Requirement already satisfied: SQLAlchemy<3,>=1.4 in /usr/local/lib/python3.11/dist-packages (from langchain-community) (2.0.41)\n",
            "Requirement already satisfied: requests<3,>=2 in /usr/local/lib/python3.11/dist-packages (from langchain-community) (2.32.3)\n",
            "Requirement already satisfied: PyYAML>=5.3 in /usr/local/lib/python3.11/dist-packages (from langchain-community) (6.0.2)\n",
            "Requirement already satisfied: aiohttp<4.0.0,>=3.8.3 in /usr/local/lib/python3.11/dist-packages (from langchain-community) (3.11.15)\n",
            "Requirement already satisfied: tenacity!=8.4.0,<10,>=8.1.0 in /usr/local/lib/python3.11/dist-packages (from langchain-community) (9.1.2)\n",
            "Requirement already satisfied: dataclasses-json<0.7,>=0.5.7 in /usr/local/lib/python3.11/dist-packages (from langchain-community) (0.6.7)\n",
            "Requirement already satisfied: pydantic-settings<3.0.0,>=2.4.0 in /usr/local/lib/python3.11/dist-packages (from langchain-community) (2.10.1)\n",
            "Requirement already satisfied: langsmith>=0.1.125 in /usr/local/lib/python3.11/dist-packages (from langchain-community) (0.3.45)\n",
            "Requirement already satisfied: httpx-sse<1.0.0,>=0.4.0 in /usr/local/lib/python3.11/dist-packages (from langchain-community) (0.4.1)\n",
            "Requirement already satisfied: numpy>=1.26.2 in /usr/local/lib/python3.11/dist-packages (from langchain-community) (2.0.2)\n",
            "Requirement already satisfied: aiohappyeyeballs>=2.3.0 in /usr/local/lib/python3.11/dist-packages (from aiohttp<4.0.0,>=3.8.3->langchain-community) (2.6.1)\n",
            "Requirement already satisfied: aiosignal>=1.1.2 in /usr/local/lib/python3.11/dist-packages (from aiohttp<4.0.0,>=3.8.3->langchain-community) (1.3.2)\n",
            "Requirement already satisfied: attrs>=17.3.0 in /usr/local/lib/python3.11/dist-packages (from aiohttp<4.0.0,>=3.8.3->langchain-community) (25.3.0)\n",
            "Requirement already satisfied: frozenlist>=1.1.1 in /usr/local/lib/python3.11/dist-packages (from aiohttp<4.0.0,>=3.8.3->langchain-community) (1.7.0)\n",
            "Requirement already satisfied: multidict<7.0,>=4.5 in /usr/local/lib/python3.11/dist-packages (from aiohttp<4.0.0,>=3.8.3->langchain-community) (6.4.4)\n",
            "Requirement already satisfied: propcache>=0.2.0 in /usr/local/lib/python3.11/dist-packages (from aiohttp<4.0.0,>=3.8.3->langchain-community) (0.3.2)\n",
            "Requirement already satisfied: yarl<2.0,>=1.17.0 in /usr/local/lib/python3.11/dist-packages (from aiohttp<4.0.0,>=3.8.3->langchain-community) (1.20.1)\n",
            "Requirement already satisfied: marshmallow<4.0.0,>=3.18.0 in /usr/local/lib/python3.11/dist-packages (from dataclasses-json<0.7,>=0.5.7->langchain-community) (3.26.1)\n",
            "Requirement already satisfied: typing-inspect<1,>=0.4.0 in /usr/local/lib/python3.11/dist-packages (from dataclasses-json<0.7,>=0.5.7->langchain-community) (0.9.0)\n",
            "Requirement already satisfied: langchain-text-splitters<1.0.0,>=0.3.8 in /usr/local/lib/python3.11/dist-packages (from langchain<1.0.0,>=0.3.26->langchain-community) (0.3.8)\n",
            "Requirement already satisfied: pydantic<3.0.0,>=2.7.4 in /usr/local/lib/python3.11/dist-packages (from langchain<1.0.0,>=0.3.26->langchain-community) (2.11.7)\n",
            "Requirement already satisfied: jsonpatch<2.0,>=1.33 in /usr/local/lib/python3.11/dist-packages (from langchain-core<1.0.0,>=0.3.66->langchain-community) (1.33)\n",
            "Requirement already satisfied: packaging<25,>=23.2 in /usr/local/lib/python3.11/dist-packages (from langchain-core<1.0.0,>=0.3.66->langchain-community) (24.2)\n",
            "Requirement already satisfied: typing-extensions>=4.7 in /usr/local/lib/python3.11/dist-packages (from langchain-core<1.0.0,>=0.3.66->langchain-community) (4.14.0)\n",
            "Requirement already satisfied: httpx<1,>=0.23.0 in /usr/local/lib/python3.11/dist-packages (from langsmith>=0.1.125->langchain-community) (0.28.1)\n",
            "Requirement already satisfied: orjson<4.0.0,>=3.9.14 in /usr/local/lib/python3.11/dist-packages (from langsmith>=0.1.125->langchain-community) (3.10.18)\n",
            "Requirement already satisfied: requests-toolbelt<2.0.0,>=1.0.0 in /usr/local/lib/python3.11/dist-packages (from langsmith>=0.1.125->langchain-community) (1.0.0)\n",
            "Requirement already satisfied: zstandard<0.24.0,>=0.23.0 in /usr/local/lib/python3.11/dist-packages (from langsmith>=0.1.125->langchain-community) (0.23.0)\n",
            "Requirement already satisfied: python-dotenv>=0.21.0 in /usr/local/lib/python3.11/dist-packages (from pydantic-settings<3.0.0,>=2.4.0->langchain-community) (1.1.1)\n",
            "Requirement already satisfied: typing-inspection>=0.4.0 in /usr/local/lib/python3.11/dist-packages (from pydantic-settings<3.0.0,>=2.4.0->langchain-community) (0.4.1)\n",
            "Requirement already satisfied: charset-normalizer<4,>=2 in /usr/local/lib/python3.11/dist-packages (from requests<3,>=2->langchain-community) (3.4.2)\n",
            "Requirement already satisfied: idna<4,>=2.5 in /usr/local/lib/python3.11/dist-packages (from requests<3,>=2->langchain-community) (3.10)\n",
            "Requirement already satisfied: urllib3<3,>=1.21.1 in /usr/local/lib/python3.11/dist-packages (from requests<3,>=2->langchain-community) (2.4.0)\n",
            "Requirement already satisfied: certifi>=2017.4.17 in /usr/local/lib/python3.11/dist-packages (from requests<3,>=2->langchain-community) (2025.6.15)\n",
            "Requirement already satisfied: greenlet>=1 in /usr/local/lib/python3.11/dist-packages (from SQLAlchemy<3,>=1.4->langchain-community) (3.2.3)\n",
            "Requirement already satisfied: anyio in /usr/local/lib/python3.11/dist-packages (from httpx<1,>=0.23.0->langsmith>=0.1.125->langchain-community) (4.9.0)\n",
            "Requirement already satisfied: httpcore==1.* in /usr/local/lib/python3.11/dist-packages (from httpx<1,>=0.23.0->langsmith>=0.1.125->langchain-community) (1.0.9)\n",
            "Requirement already satisfied: h11>=0.16 in /usr/local/lib/python3.11/dist-packages (from httpcore==1.*->httpx<1,>=0.23.0->langsmith>=0.1.125->langchain-community) (0.16.0)\n",
            "Requirement already satisfied: jsonpointer>=1.9 in /usr/local/lib/python3.11/dist-packages (from jsonpatch<2.0,>=1.33->langchain-core<1.0.0,>=0.3.66->langchain-community) (3.0.0)\n",
            "Requirement already satisfied: annotated-types>=0.6.0 in /usr/local/lib/python3.11/dist-packages (from pydantic<3.0.0,>=2.7.4->langchain<1.0.0,>=0.3.26->langchain-community) (0.7.0)\n",
            "Requirement already satisfied: pydantic-core==2.33.2 in /usr/local/lib/python3.11/dist-packages (from pydantic<3.0.0,>=2.7.4->langchain<1.0.0,>=0.3.26->langchain-community) (2.33.2)\n",
            "Requirement already satisfied: mypy-extensions>=0.3.0 in /usr/local/lib/python3.11/dist-packages (from typing-inspect<1,>=0.4.0->dataclasses-json<0.7,>=0.5.7->langchain-community) (1.1.0)\n",
            "Requirement already satisfied: sniffio>=1.1 in /usr/local/lib/python3.11/dist-packages (from anyio->httpx<1,>=0.23.0->langsmith>=0.1.125->langchain-community) (1.3.1)\n"
          ]
        }
      ]
    },
    {
      "cell_type": "code",
      "source": [
        "from langchain_community.chat_message_histories import ChatMessageHistory\n",
        "from langchain_core.chat_history import BaseChatMessageHistory\n",
        "from langchain_core.runnables.history import RunnableWithMessageHistory\n"
      ],
      "metadata": {
        "id": "L0PZ4wIY2rBM"
      },
      "execution_count": null,
      "outputs": []
    },
    {
      "cell_type": "code",
      "source": [
        "store = {}"
      ],
      "metadata": {
        "id": "QF21b3s_28Gk"
      },
      "execution_count": null,
      "outputs": []
    },
    {
      "cell_type": "code",
      "source": [
        "#Para saber si hay contexto anterior\n",
        "def get_session_history(session_id: str)->BaseChatMessageHistory:\n",
        "  if session_id not in store:\n",
        "    store[session_id] = ChatMessageHistory()\n",
        "  return store[session_id]"
      ],
      "metadata": {
        "id": "YMM7T4xZ3p4l"
      },
      "execution_count": null,
      "outputs": []
    },
    {
      "cell_type": "code",
      "source": [
        "with_message_history = RunnableWithMessageHistory(\n",
        "    runnable,\n",
        "    get_session_history,\n",
        "    input_message_key=\"input\",\n",
        "    history_messages_key=\"history\",\n",
        ")"
      ],
      "metadata": {
        "id": "bh4insZ2pOwJ"
      },
      "execution_count": null,
      "outputs": []
    },
    {
      "cell_type": "code",
      "source": [
        "with_message_history.invoke(\n",
        "    {\"ability\":\"ciencia de datos\",\"input\":\"que es una funcion de perdida\"},\n",
        "    config={\"configurable\":{\"session_id\":\"abc123\"}},\n",
        "    )"
      ],
      "metadata": {
        "id": "8ndnsuuZpjpS",
        "colab": {
          "base_uri": "https://localhost:8080/"
        },
        "outputId": "4af09e29-0e5a-4469-d66e-c255d0b81097"
      },
      "execution_count": null,
      "outputs": [
        {
          "output_type": "execute_result",
          "data": {
            "text/plain": [
              "AIMessage(content='Una función de pérdida, también conocida como función de costo, es una medida que se utiliza en aprendizaje automático para evaluar qué tan bien se está desempeñando un modelo predictivo en un conjunto de datos de entrenamiento. Esta función calcula la diferencia entre las predicciones del modelo y los valores reales de los datos de entrenamiento. El objetivo es minimizar esta función de pérdida para que el modelo pueda hacer predicciones precisas. Hay diferentes funciones de pérdida que se utilizan en función del tipo de problema de aprendizaje automático que se esté abordando, como regresión, clasificación, etc. Ejemplos de funciones de pérdida comunes incluyen el error cuadrático medio (MSE) para problemas de regresión y la entropía cruzada para problemas de clasificación.', additional_kwargs={'refusal': None}, response_metadata={'token_usage': {'completion_tokens': 184, 'prompt_tokens': 40, 'total_tokens': 224, 'completion_tokens_details': {'accepted_prediction_tokens': 0, 'audio_tokens': 0, 'reasoning_tokens': 0, 'rejected_prediction_tokens': 0}, 'prompt_tokens_details': {'audio_tokens': 0, 'cached_tokens': 0}}, 'model_name': 'gpt-3.5-turbo-0125', 'system_fingerprint': None, 'id': 'chatcmpl-BmIkvjWFaHOTHstKkeksFAGaKYHbe', 'service_tier': 'default', 'finish_reason': 'stop', 'logprobs': None}, id='run--15d0aae3-3fec-4192-b56a-1d088cd2b5cd-0', usage_metadata={'input_tokens': 40, 'output_tokens': 184, 'total_tokens': 224, 'input_token_details': {'audio': 0, 'cache_read': 0}, 'output_token_details': {'audio': 0, 'reasoning': 0}})"
            ]
          },
          "metadata": {},
          "execution_count": 17
        }
      ]
    },
    {
      "cell_type": "code",
      "source": [
        "with_message_history.invoke(\n",
        "    {\"ability\":\"ciencia de datos\",\"input\":\"como?, no te entendi\"},\n",
        "    config={\"configurable\":{\"session_id\":\"abc123\"}},\n",
        "    )"
      ],
      "metadata": {
        "id": "cgpOKJFaqJ5U",
        "colab": {
          "base_uri": "https://localhost:8080/"
        },
        "outputId": "848f808b-c2fb-4e61-e1b5-56a208891311"
      },
      "execution_count": null,
      "outputs": [
        {
          "output_type": "execute_result",
          "data": {
            "text/plain": [
              "AIMessage(content='Una función de pérdida es una herramienta fundamental en el aprendizaje automático que nos ayuda a medir cuán bueno es un modelo en sus predicciones. En pocas palabras, esta función calcula la diferencia entre la predicción que hace nuestro modelo y el valor real que debería predecir en un conjunto de datos de entrenamiento. El objetivo es minimizar esta diferencia, es decir, reducir al máximo la función de pérdida, para que nuestro modelo sea capaz de hacer predicciones más precisas y acertadas. La elección de la función de pérdida depende del tipo de problema que estemos abordando, ya sea regresión, clasificación u otro. Algunas funciones de pérdida comunes son el error cuadrático medio (MSE) para problemas de regresión y la entropía cruzada para problemas de clasificación.', additional_kwargs={'refusal': None}, response_metadata={'token_usage': {'completion_tokens': 191, 'prompt_tokens': 238, 'total_tokens': 429, 'completion_tokens_details': {'accepted_prediction_tokens': 0, 'audio_tokens': 0, 'reasoning_tokens': 0, 'rejected_prediction_tokens': 0}, 'prompt_tokens_details': {'audio_tokens': 0, 'cached_tokens': 0}}, 'model_name': 'gpt-3.5-turbo-0125', 'system_fingerprint': None, 'id': 'chatcmpl-BmIkxWdhtAecV27CYxC1BIyjUtjrU', 'service_tier': 'default', 'finish_reason': 'stop', 'logprobs': None}, id='run--3f51309e-447c-4c53-8b99-559ca5764033-0', usage_metadata={'input_tokens': 238, 'output_tokens': 191, 'total_tokens': 429, 'input_token_details': {'audio': 0, 'cache_read': 0}, 'output_token_details': {'audio': 0, 'reasoning': 0}})"
            ]
          },
          "metadata": {},
          "execution_count": 18
        }
      ]
    },
    {
      "cell_type": "markdown",
      "source": [
        "#Tools\n"
      ],
      "metadata": {
        "id": "kLjFgjv3uUlu"
      }
    },
    {
      "cell_type": "code",
      "source": [
        "!pip install wikipedia\n"
      ],
      "metadata": {
        "collapsed": true,
        "id": "coT1_X2XvPru",
        "colab": {
          "base_uri": "https://localhost:8080/"
        },
        "outputId": "9d795dfc-54fa-4d69-9b3e-cd29345f8720"
      },
      "execution_count": null,
      "outputs": [
        {
          "output_type": "stream",
          "name": "stdout",
          "text": [
            "Collecting wikipedia\n",
            "  Downloading wikipedia-1.4.0.tar.gz (27 kB)\n",
            "  Preparing metadata (setup.py) ... \u001b[?25l\u001b[?25hdone\n",
            "Requirement already satisfied: beautifulsoup4 in /usr/local/lib/python3.11/dist-packages (from wikipedia) (4.13.4)\n",
            "Requirement already satisfied: requests<3.0.0,>=2.0.0 in /usr/local/lib/python3.11/dist-packages (from wikipedia) (2.32.3)\n",
            "Requirement already satisfied: charset-normalizer<4,>=2 in /usr/local/lib/python3.11/dist-packages (from requests<3.0.0,>=2.0.0->wikipedia) (3.4.2)\n",
            "Requirement already satisfied: idna<4,>=2.5 in /usr/local/lib/python3.11/dist-packages (from requests<3.0.0,>=2.0.0->wikipedia) (3.10)\n",
            "Requirement already satisfied: urllib3<3,>=1.21.1 in /usr/local/lib/python3.11/dist-packages (from requests<3.0.0,>=2.0.0->wikipedia) (2.4.0)\n",
            "Requirement already satisfied: certifi>=2017.4.17 in /usr/local/lib/python3.11/dist-packages (from requests<3.0.0,>=2.0.0->wikipedia) (2025.6.15)\n",
            "Requirement already satisfied: soupsieve>1.2 in /usr/local/lib/python3.11/dist-packages (from beautifulsoup4->wikipedia) (2.7)\n",
            "Requirement already satisfied: typing-extensions>=4.0.0 in /usr/local/lib/python3.11/dist-packages (from beautifulsoup4->wikipedia) (4.14.0)\n",
            "Building wheels for collected packages: wikipedia\n",
            "  Building wheel for wikipedia (setup.py) ... \u001b[?25l\u001b[?25hdone\n",
            "  Created wheel for wikipedia: filename=wikipedia-1.4.0-py3-none-any.whl size=11678 sha256=31382311e00fdc27bffca165a61befc1a6355cecbc008cbee55d5b637134657d\n",
            "  Stored in directory: /root/.cache/pip/wheels/8f/ab/cb/45ccc40522d3a1c41e1d2ad53b8f33a62f394011ec38cd71c6\n",
            "Successfully built wikipedia\n",
            "Installing collected packages: wikipedia\n",
            "Successfully installed wikipedia-1.4.0\n"
          ]
        }
      ]
    },
    {
      "cell_type": "code",
      "source": [
        "from langchain_community.tools import WikipediaQueryRun\n",
        "from langchain_community.utilities import WikipediaAPIWrapper"
      ],
      "metadata": {
        "id": "N6s4lAGetZ34"
      },
      "execution_count": null,
      "outputs": []
    },
    {
      "cell_type": "code",
      "source": [
        "api_wrapper = WikipediaAPIWrapper(top_k_results=1,doc_content_chars_max=500)\n",
        "tool = WikipediaQueryRun(api_wrapper=api_wrapper)"
      ],
      "metadata": {
        "id": "UPx13c74uqxA"
      },
      "execution_count": null,
      "outputs": []
    },
    {
      "cell_type": "code",
      "source": [
        "tool.name"
      ],
      "metadata": {
        "id": "C5C8sP8JvcNH",
        "colab": {
          "base_uri": "https://localhost:8080/",
          "height": 35
        },
        "outputId": "7de9accc-b7f0-4c12-aad6-b22191bd995a"
      },
      "execution_count": null,
      "outputs": [
        {
          "output_type": "execute_result",
          "data": {
            "text/plain": [
              "'wikipedia'"
            ],
            "application/vnd.google.colaboratory.intrinsic+json": {
              "type": "string"
            }
          },
          "metadata": {},
          "execution_count": 22
        }
      ]
    },
    {
      "cell_type": "code",
      "source": [
        "tool.description"
      ],
      "metadata": {
        "id": "EdcYxCWIvdh3",
        "colab": {
          "base_uri": "https://localhost:8080/",
          "height": 53
        },
        "outputId": "cf3c3907-d97e-493d-fae2-4bee5f42e875"
      },
      "execution_count": null,
      "outputs": [
        {
          "output_type": "execute_result",
          "data": {
            "text/plain": [
              "'A wrapper around Wikipedia. Useful for when you need to answer general questions about people, places, companies, facts, historical events, or other subjects. Input should be a search query.'"
            ],
            "application/vnd.google.colaboratory.intrinsic+json": {
              "type": "string"
            }
          },
          "metadata": {},
          "execution_count": 23
        }
      ]
    },
    {
      "cell_type": "code",
      "source": [
        "tool.args"
      ],
      "metadata": {
        "id": "u-hWsnQKvdEb",
        "colab": {
          "base_uri": "https://localhost:8080/"
        },
        "outputId": "2c2367b8-4228-4f05-9df6-e12b487eff3e"
      },
      "execution_count": null,
      "outputs": [
        {
          "output_type": "execute_result",
          "data": {
            "text/plain": [
              "{'query': {'description': 'query to look up on wikipedia',\n",
              "  'title': 'Query',\n",
              "  'type': 'string'}}"
            ]
          },
          "metadata": {},
          "execution_count": 24
        }
      ]
    },
    {
      "cell_type": "code",
      "source": [
        "tool.run({\"query\":\"Alan Turing\"})"
      ],
      "metadata": {
        "id": "Vu75FrqsxI7f",
        "colab": {
          "base_uri": "https://localhost:8080/",
          "height": 70
        },
        "outputId": "fb386d1e-b4a4-4dc1-e70b-52ec498b72fb"
      },
      "execution_count": null,
      "outputs": [
        {
          "output_type": "execute_result",
          "data": {
            "text/plain": [
              "'Page: Alan Turing\\nSummary: Alan Mathison Turing (; 23 June 1912 – 7 June 1954) was an English mathematician, computer scientist, logician, cryptanalyst, philosopher and theoretical biologist. He was highly influential in the development of theoretical computer science, providing a formalisation of the concepts of algorithm and computation with the Turing machine, which can be considered a model of a general-purpose computer. Turing is widely considered to be the father of theoretical computer sc'"
            ],
            "application/vnd.google.colaboratory.intrinsic+json": {
              "type": "string"
            }
          },
          "metadata": {},
          "execution_count": 25
        }
      ]
    },
    {
      "cell_type": "code",
      "source": [
        "tool.run({\"query\":\"quien es Alan Turing\"})"
      ],
      "metadata": {
        "id": "8ilTcwEmvg3L",
        "colab": {
          "base_uri": "https://localhost:8080/",
          "height": 35
        },
        "outputId": "4f0b8c17-f27c-47bb-addd-9cb32357df0b"
      },
      "execution_count": null,
      "outputs": [
        {
          "output_type": "execute_result",
          "data": {
            "text/plain": [
              "'Page: Arturo Puig\\nSummary: Arturo José Alberto Puig (born 17 November 1944) is an Argentine actor. He has worked in the 1990s success Grande, pá!!!'"
            ],
            "application/vnd.google.colaboratory.intrinsic+json": {
              "type": "string"
            }
          },
          "metadata": {},
          "execution_count": 26
        }
      ]
    },
    {
      "cell_type": "markdown",
      "source": [
        "#Agents\n"
      ],
      "metadata": {
        "id": "3PROml40xU3H"
      }
    },
    {
      "cell_type": "code",
      "source": [
        "!pip install -U langchain-tavily\n"
      ],
      "metadata": {
        "collapsed": true,
        "id": "L8BiRN-SyuMG",
        "colab": {
          "base_uri": "https://localhost:8080/"
        },
        "outputId": "adef4e83-b3ce-44f2-f1f9-5ff37b36c871"
      },
      "execution_count": null,
      "outputs": [
        {
          "output_type": "stream",
          "name": "stdout",
          "text": [
            "Collecting langchain-tavily\n",
            "  Downloading langchain_tavily-0.2.4-py3-none-any.whl.metadata (21 kB)\n",
            "Requirement already satisfied: aiohttp<4.0.0,>=3.11.14 in /usr/local/lib/python3.11/dist-packages (from langchain-tavily) (3.11.15)\n",
            "Requirement already satisfied: langchain<0.4.0,>=0.3.20 in /usr/local/lib/python3.11/dist-packages (from langchain-tavily) (0.3.26)\n",
            "Requirement already satisfied: langchain-core<0.4.0,>=0.3.15 in /usr/local/lib/python3.11/dist-packages (from langchain-tavily) (0.3.66)\n",
            "Collecting mypy<2.0.0,>=1.15.0 (from langchain-tavily)\n",
            "  Downloading mypy-1.16.1-cp311-cp311-manylinux_2_17_x86_64.manylinux2014_x86_64.manylinux_2_28_x86_64.whl.metadata (2.1 kB)\n",
            "Requirement already satisfied: requests<3.0.0,>=2.32.3 in /usr/local/lib/python3.11/dist-packages (from langchain-tavily) (2.32.3)\n",
            "Requirement already satisfied: aiohappyeyeballs>=2.3.0 in /usr/local/lib/python3.11/dist-packages (from aiohttp<4.0.0,>=3.11.14->langchain-tavily) (2.6.1)\n",
            "Requirement already satisfied: aiosignal>=1.1.2 in /usr/local/lib/python3.11/dist-packages (from aiohttp<4.0.0,>=3.11.14->langchain-tavily) (1.3.2)\n",
            "Requirement already satisfied: attrs>=17.3.0 in /usr/local/lib/python3.11/dist-packages (from aiohttp<4.0.0,>=3.11.14->langchain-tavily) (25.3.0)\n",
            "Requirement already satisfied: frozenlist>=1.1.1 in /usr/local/lib/python3.11/dist-packages (from aiohttp<4.0.0,>=3.11.14->langchain-tavily) (1.7.0)\n",
            "Requirement already satisfied: multidict<7.0,>=4.5 in /usr/local/lib/python3.11/dist-packages (from aiohttp<4.0.0,>=3.11.14->langchain-tavily) (6.4.4)\n",
            "Requirement already satisfied: propcache>=0.2.0 in /usr/local/lib/python3.11/dist-packages (from aiohttp<4.0.0,>=3.11.14->langchain-tavily) (0.3.2)\n",
            "Requirement already satisfied: yarl<2.0,>=1.17.0 in /usr/local/lib/python3.11/dist-packages (from aiohttp<4.0.0,>=3.11.14->langchain-tavily) (1.20.1)\n",
            "Requirement already satisfied: langchain-text-splitters<1.0.0,>=0.3.8 in /usr/local/lib/python3.11/dist-packages (from langchain<0.4.0,>=0.3.20->langchain-tavily) (0.3.8)\n",
            "Requirement already satisfied: langsmith>=0.1.17 in /usr/local/lib/python3.11/dist-packages (from langchain<0.4.0,>=0.3.20->langchain-tavily) (0.3.45)\n",
            "Requirement already satisfied: pydantic<3.0.0,>=2.7.4 in /usr/local/lib/python3.11/dist-packages (from langchain<0.4.0,>=0.3.20->langchain-tavily) (2.11.7)\n",
            "Requirement already satisfied: SQLAlchemy<3,>=1.4 in /usr/local/lib/python3.11/dist-packages (from langchain<0.4.0,>=0.3.20->langchain-tavily) (2.0.41)\n",
            "Requirement already satisfied: PyYAML>=5.3 in /usr/local/lib/python3.11/dist-packages (from langchain<0.4.0,>=0.3.20->langchain-tavily) (6.0.2)\n",
            "Requirement already satisfied: tenacity!=8.4.0,<10.0.0,>=8.1.0 in /usr/local/lib/python3.11/dist-packages (from langchain-core<0.4.0,>=0.3.15->langchain-tavily) (9.1.2)\n",
            "Requirement already satisfied: jsonpatch<2.0,>=1.33 in /usr/local/lib/python3.11/dist-packages (from langchain-core<0.4.0,>=0.3.15->langchain-tavily) (1.33)\n",
            "Requirement already satisfied: packaging<25,>=23.2 in /usr/local/lib/python3.11/dist-packages (from langchain-core<0.4.0,>=0.3.15->langchain-tavily) (24.2)\n",
            "Requirement already satisfied: typing-extensions>=4.7 in /usr/local/lib/python3.11/dist-packages (from langchain-core<0.4.0,>=0.3.15->langchain-tavily) (4.14.0)\n",
            "Requirement already satisfied: mypy_extensions>=1.0.0 in /usr/local/lib/python3.11/dist-packages (from mypy<2.0.0,>=1.15.0->langchain-tavily) (1.1.0)\n",
            "Collecting pathspec>=0.9.0 (from mypy<2.0.0,>=1.15.0->langchain-tavily)\n",
            "  Downloading pathspec-0.12.1-py3-none-any.whl.metadata (21 kB)\n",
            "Requirement already satisfied: charset-normalizer<4,>=2 in /usr/local/lib/python3.11/dist-packages (from requests<3.0.0,>=2.32.3->langchain-tavily) (3.4.2)\n",
            "Requirement already satisfied: idna<4,>=2.5 in /usr/local/lib/python3.11/dist-packages (from requests<3.0.0,>=2.32.3->langchain-tavily) (3.10)\n",
            "Requirement already satisfied: urllib3<3,>=1.21.1 in /usr/local/lib/python3.11/dist-packages (from requests<3.0.0,>=2.32.3->langchain-tavily) (2.4.0)\n",
            "Requirement already satisfied: certifi>=2017.4.17 in /usr/local/lib/python3.11/dist-packages (from requests<3.0.0,>=2.32.3->langchain-tavily) (2025.6.15)\n",
            "Requirement already satisfied: jsonpointer>=1.9 in /usr/local/lib/python3.11/dist-packages (from jsonpatch<2.0,>=1.33->langchain-core<0.4.0,>=0.3.15->langchain-tavily) (3.0.0)\n",
            "Requirement already satisfied: httpx<1,>=0.23.0 in /usr/local/lib/python3.11/dist-packages (from langsmith>=0.1.17->langchain<0.4.0,>=0.3.20->langchain-tavily) (0.28.1)\n",
            "Requirement already satisfied: orjson<4.0.0,>=3.9.14 in /usr/local/lib/python3.11/dist-packages (from langsmith>=0.1.17->langchain<0.4.0,>=0.3.20->langchain-tavily) (3.10.18)\n",
            "Requirement already satisfied: requests-toolbelt<2.0.0,>=1.0.0 in /usr/local/lib/python3.11/dist-packages (from langsmith>=0.1.17->langchain<0.4.0,>=0.3.20->langchain-tavily) (1.0.0)\n",
            "Requirement already satisfied: zstandard<0.24.0,>=0.23.0 in /usr/local/lib/python3.11/dist-packages (from langsmith>=0.1.17->langchain<0.4.0,>=0.3.20->langchain-tavily) (0.23.0)\n",
            "Requirement already satisfied: annotated-types>=0.6.0 in /usr/local/lib/python3.11/dist-packages (from pydantic<3.0.0,>=2.7.4->langchain<0.4.0,>=0.3.20->langchain-tavily) (0.7.0)\n",
            "Requirement already satisfied: pydantic-core==2.33.2 in /usr/local/lib/python3.11/dist-packages (from pydantic<3.0.0,>=2.7.4->langchain<0.4.0,>=0.3.20->langchain-tavily) (2.33.2)\n",
            "Requirement already satisfied: typing-inspection>=0.4.0 in /usr/local/lib/python3.11/dist-packages (from pydantic<3.0.0,>=2.7.4->langchain<0.4.0,>=0.3.20->langchain-tavily) (0.4.1)\n",
            "Requirement already satisfied: greenlet>=1 in /usr/local/lib/python3.11/dist-packages (from SQLAlchemy<3,>=1.4->langchain<0.4.0,>=0.3.20->langchain-tavily) (3.2.3)\n",
            "Requirement already satisfied: anyio in /usr/local/lib/python3.11/dist-packages (from httpx<1,>=0.23.0->langsmith>=0.1.17->langchain<0.4.0,>=0.3.20->langchain-tavily) (4.9.0)\n",
            "Requirement already satisfied: httpcore==1.* in /usr/local/lib/python3.11/dist-packages (from httpx<1,>=0.23.0->langsmith>=0.1.17->langchain<0.4.0,>=0.3.20->langchain-tavily) (1.0.9)\n",
            "Requirement already satisfied: h11>=0.16 in /usr/local/lib/python3.11/dist-packages (from httpcore==1.*->httpx<1,>=0.23.0->langsmith>=0.1.17->langchain<0.4.0,>=0.3.20->langchain-tavily) (0.16.0)\n",
            "Requirement already satisfied: sniffio>=1.1 in /usr/local/lib/python3.11/dist-packages (from anyio->httpx<1,>=0.23.0->langsmith>=0.1.17->langchain<0.4.0,>=0.3.20->langchain-tavily) (1.3.1)\n",
            "Downloading langchain_tavily-0.2.4-py3-none-any.whl (24 kB)\n",
            "Downloading mypy-1.16.1-cp311-cp311-manylinux_2_17_x86_64.manylinux2014_x86_64.manylinux_2_28_x86_64.whl (12.5 MB)\n",
            "\u001b[2K   \u001b[90m━━━━━━━━━━━━━━━━━━━━━━━━━━━━━━━━━━━━━━━━\u001b[0m \u001b[32m12.5/12.5 MB\u001b[0m \u001b[31m54.1 MB/s\u001b[0m eta \u001b[36m0:00:00\u001b[0m\n",
            "\u001b[?25hDownloading pathspec-0.12.1-py3-none-any.whl (31 kB)\n",
            "Installing collected packages: pathspec, mypy, langchain-tavily\n",
            "Successfully installed langchain-tavily-0.2.4 mypy-1.16.1 pathspec-0.12.1\n"
          ]
        }
      ]
    },
    {
      "cell_type": "code",
      "source": [
        "from langchain_community.tools.tavily_search import TavilySearchResults"
      ],
      "metadata": {
        "id": "vrtBx_6cxXqV"
      },
      "execution_count": null,
      "outputs": []
    },
    {
      "cell_type": "code",
      "source": [
        "api_key = getpass(\" Ingresa tu Tavily API Key: \")\n",
        "search = TavilySearchResults(tavily_api_key=api_key)"
      ],
      "metadata": {
        "id": "YcruBQ20x1JE",
        "colab": {
          "base_uri": "https://localhost:8080/"
        },
        "outputId": "8eb3bc32-4966-4609-bf7b-8dac26ba778a"
      },
      "execution_count": null,
      "outputs": [
        {
          "name": "stdout",
          "output_type": "stream",
          "text": [
            " Ingresa tu Tavily API Key: ··········\n"
          ]
        },
        {
          "output_type": "stream",
          "name": "stderr",
          "text": [
            "/tmp/ipython-input-29-3490143203.py:2: LangChainDeprecationWarning: The class `TavilySearchResults` was deprecated in LangChain 0.3.25 and will be removed in 1.0. An updated version of the class exists in the :class:`~langchain-tavily package and should be used instead. To use it run `pip install -U :class:`~langchain-tavily` and import as `from :class:`~langchain_tavily import TavilySearch``.\n",
            "  search = TavilySearchResults(tavily_api_key=api_key)\n"
          ]
        }
      ]
    },
    {
      "cell_type": "code",
      "source": [
        "search.invoke(\"Que temperatura hay en Londres\")"
      ],
      "metadata": {
        "collapsed": true,
        "id": "42g-062xx9xi",
        "colab": {
          "base_uri": "https://localhost:8080/"
        },
        "outputId": "8428e6e9-fcc6-47b9-ae28-3228337d6d74"
      },
      "execution_count": null,
      "outputs": [
        {
          "output_type": "execute_result",
          "data": {
            "text/plain": [
              "[{'title': 'El clima y el tiempo promedio en todo el año en Londres Reino Unido',\n",
              "  'url': 'https://es.weatherspark.com/y/45062/Clima-promedio-en-Londres-Reino-Unido-durante-todo-el-a%C3%B1o',\n",
              "  'content': 'El clima y el tiempo promedio en todo el año en Londres Reino Unido =================================================================== En Londres, los veranos son cortos, cómodos y parcialmente nublados y los inviernos son largos, muy frío, ventosos y mayormente nublados. Durante el transcurso del año, la temperatura generalmente varía de _4 °C_ a _23 °C_ y rara vez baja a menos de _-1 °C_ o sube a más de _29 °C_. En base a la [puntuación de [...] temperatura máxima promedio diaria es más de _20 °C_. El mes más cálido del año en Londres es _julio_, con una temperatura máxima promedio de _23 °C_ y mínima de _15 °C_. La _temporada fresca_ dura _4,0 meses_, del _16 de noviembre_ al _18 de marzo_, y la temperatura máxima promedio diaria es menos de _11 °C_. El mes más frío del año en Londres es _febrero_, con una temperatura mínima promedio de _4 °C_ y máxima de _9 °C_. ### Temperatura máxima y mínima promedio en Londres [...] La temperatura máxima (línea roja) y la temperatura mínima (línea azul) promedio diaria con las bandas de los percentiles 25º a 75º, y 10º a 90º. Las líneas delgadas punteadas son las temperaturas promedio percibidas correspondientes. | Promedio | ene. | feb. | mar. | abr. | may. | jun. | jul. | ago. | sept. | oct. | nov. | dic. | | --- | --- | --- | --- | --- | --- | --- | --- | --- | --- | --- | --- | --- | | Máxima | 9 °C | 9 °C | 11 °C | 14 °C | 17 °C | 20 °C | 23 °C | 22 °C | 19 °C | 15 °C',\n",
              "  'score': 0.8506799},\n",
              " {'title': 'El Clima en Londres 2025 | Londres 14 días | Tiempo3.com',\n",
              "  'url': 'https://www.tiempo3.com/europe/united-kingdom/london',\n",
              "  'content': 'No importa si eres ciudadano de Londres o turista, siempre es una buena idea estar al tanto del tiempo que va a hacer.\\n\\n[La temperatura actual en Londres](https://www.tiempo3.com/europe/united-kingdom/london?page=current-weather) es de °. La temperatura máxima en Londres para hoy será de ° y la mínima se encontrará en torno a los °.',\n",
              "  'score': 0.84767824},\n",
              " {'title': 'El tiempo en Londres - Clima y temperatura en Londres',\n",
              "  'url': 'https://www.londres.es/el-tiempo',\n",
              "  'content': 'Aunque en lo referente a Londres no se puede hablar realmente de días calurosos, los meses más cálidos del año son **julio y agosto, durante los cuales se alcanzan 17 grados de temperatura media**.\\n\\n![Image 5: Imagen de Tower Bridge en un día nublado](https://www.londres.es/f/reino-unido/londres/galeria/thumbs/diaNublado.jpg)\\n\\nEste cielo nublado no es casual\\n\\n1 Ver galería de imágenes [...] Aunque las lluvias sean frecuentes, siempre queda el consuelo de que no suele llover de forma abundante, sino que lo más normal es que se presente una llovizna suave pero constante.\\n\\nFrío en Londres\\n---------------\\n\\nLondres presenta un clima templado por lo que **no es común que se presenten temperaturas extremas**. Los meses más fríos están comprendidos entre diciembre y marzo, cuando las temperaturas medias están entre 0 y 8 grados.\\n\\nMeses más calurosos\\n-------------------',\n",
              "  'score': 0.7557276},\n",
              " {'title': 'El tiempo en Londres hoy - Meteored',\n",
              "  'url': 'https://www.tiempo.com/reino-unido/londres/hoy',\n",
              "  'content': 'Hoy en Londres, nubes y claros **esta mañana**, con temperaturas alrededor de 21°C. **Por la tarde**, tendremos parcialmente nuboso y con temperaturas en torno a los 25°C. **Durante la noche**, habrá nubes y claros con temperaturas cercanas a los 18°C. Vientos del Suroeste a lo largo del día, con una velocidad media de 18 km/h.\\n\\n### Sábado, 31 de mayo',\n",
              "  'score': 0.74318707},\n",
              " {'title': 'Londres, Reino Unido - Pronóstico del tiempo | Noticias - Yahoo',\n",
              "  'url': 'https://es-us.noticias.yahoo.com/clima/united-kingdom/england/london-44418',\n",
              "  'content': 'y una mínima de 58 °F (14.4 °C). Hay un 51% de probabilidad de precipitación. | [...] y una mínima de 64 °F (17.8 °C). | [...] (14.4 °C). Hay un 68% de probabilidad de precipitación. |',\n",
              "  'score': 0.74229145}]"
            ]
          },
          "metadata": {},
          "execution_count": 30
        }
      ]
    },
    {
      "cell_type": "code",
      "source": [
        "tools = [search, tool]"
      ],
      "metadata": {
        "id": "c1HHFkWSzXBH"
      },
      "execution_count": null,
      "outputs": []
    },
    {
      "cell_type": "code",
      "source": [
        "llm = ChatOpenAI(model=\"gpt-3.5-turbo-0125\",temperature=0)"
      ],
      "metadata": {
        "id": "MIcmTzkp14Ia"
      },
      "execution_count": null,
      "outputs": []
    },
    {
      "cell_type": "code",
      "source": [
        "from langchain import hub"
      ],
      "metadata": {
        "id": "oy9Tj1Qt1_5m"
      },
      "execution_count": null,
      "outputs": []
    },
    {
      "cell_type": "code",
      "source": [
        "#prompt de la comunidad\n",
        "prompt = hub.pull(\"hwchase17/openai-functions-agent\")\n",
        "prompt.messages"
      ],
      "metadata": {
        "id": "Lrs7ttUW1-q2",
        "colab": {
          "base_uri": "https://localhost:8080/"
        },
        "outputId": "697be4bb-75eb-4966-f2c8-bd2b0fcadaa9"
      },
      "execution_count": null,
      "outputs": [
        {
          "output_type": "stream",
          "name": "stderr",
          "text": [
            "/usr/local/lib/python3.11/dist-packages/langsmith/client.py:272: LangSmithMissingAPIKeyWarning: API key must be provided when using hosted LangSmith API\n",
            "  warnings.warn(\n"
          ]
        },
        {
          "output_type": "execute_result",
          "data": {
            "text/plain": [
              "[SystemMessagePromptTemplate(prompt=PromptTemplate(input_variables=[], input_types={}, partial_variables={}, template='You are a helpful assistant'), additional_kwargs={}),\n",
              " MessagesPlaceholder(variable_name='chat_history', optional=True),\n",
              " HumanMessagePromptTemplate(prompt=PromptTemplate(input_variables=['input'], input_types={}, partial_variables={}, template='{input}'), additional_kwargs={}),\n",
              " MessagesPlaceholder(variable_name='agent_scratchpad')]"
            ]
          },
          "metadata": {},
          "execution_count": 34
        }
      ]
    },
    {
      "cell_type": "code",
      "source": [
        "from langchain.agents import create_tool_calling_agent"
      ],
      "metadata": {
        "id": "wSM1Bdep2Ptc"
      },
      "execution_count": null,
      "outputs": []
    },
    {
      "cell_type": "code",
      "source": [
        "#Creacion de agentes\n",
        "agent = create_tool_calling_agent(llm,tools,prompt=prompt)"
      ],
      "metadata": {
        "id": "3MlOf4jL2VK8"
      },
      "execution_count": null,
      "outputs": []
    },
    {
      "cell_type": "code",
      "source": [
        "from langchain.agents import AgentExecutor"
      ],
      "metadata": {
        "id": "9oB8IaJs2otf"
      },
      "execution_count": null,
      "outputs": []
    },
    {
      "cell_type": "code",
      "source": [
        "agent_executor = AgentExecutor(agent=agent,tools=tools,verbose=True)"
      ],
      "metadata": {
        "id": "aHwZzZl72tMB"
      },
      "execution_count": null,
      "outputs": []
    },
    {
      "cell_type": "code",
      "source": [
        "agent_executor.invoke({\"input\":\"hola\"})"
      ],
      "metadata": {
        "id": "gpsIhcey20eE",
        "colab": {
          "base_uri": "https://localhost:8080/"
        },
        "outputId": "ee039761-236d-4554-ae24-85f59b6dd4e9"
      },
      "execution_count": null,
      "outputs": [
        {
          "output_type": "stream",
          "name": "stdout",
          "text": [
            "\n",
            "\n",
            "\u001b[1m> Entering new AgentExecutor chain...\u001b[0m\n",
            "\u001b[32;1m\u001b[1;3m¡Hola! ¿En qué puedo ayudarte hoy?\u001b[0m\n",
            "\n",
            "\u001b[1m> Finished chain.\u001b[0m\n"
          ]
        },
        {
          "output_type": "execute_result",
          "data": {
            "text/plain": [
              "{'input': 'hola', 'output': '¡Hola! ¿En qué puedo ayudarte hoy?'}"
            ]
          },
          "metadata": {},
          "execution_count": 39
        }
      ]
    },
    {
      "cell_type": "code",
      "source": [
        "agent_executor.invoke({\"input\":\"cual es el mejor  superheroe de Marvel y por que?\"})"
      ],
      "metadata": {
        "id": "hYX0tPAj2398",
        "colab": {
          "base_uri": "https://localhost:8080/"
        },
        "outputId": "e7994c23-a9fe-46a3-820d-c0565c1982a0"
      },
      "execution_count": null,
      "outputs": [
        {
          "output_type": "stream",
          "name": "stdout",
          "text": [
            "\n",
            "\n",
            "\u001b[1m> Entering new AgentExecutor chain...\u001b[0m\n",
            "\u001b[32;1m\u001b[1;3m\n",
            "Invoking: `wikipedia` with `{'query': 'List of Marvel superheroes'}`\n",
            "\n",
            "\n",
            "\u001b[0m\u001b[33;1m\u001b[1;3mPage: List of black superheroes\n",
            "Summary: This is a list of black superheroes that lists characters found in comic books and other media. The characters are superheroes depicted as black people.\u001b[0m\u001b[32;1m\u001b[1;3mI couldn't find the information you were looking for. Would you like me to search for the best Marvel superhero based on popularity or any specific criteria?\u001b[0m\n",
            "\n",
            "\u001b[1m> Finished chain.\u001b[0m\n"
          ]
        },
        {
          "output_type": "execute_result",
          "data": {
            "text/plain": [
              "{'input': 'cual es el mejor  superheroe de Marvel y por que?',\n",
              " 'output': \"I couldn't find the information you were looking for. Would you like me to search for the best Marvel superhero based on popularity or any specific criteria?\"}"
            ]
          },
          "metadata": {},
          "execution_count": 40
        }
      ]
    },
    {
      "cell_type": "code",
      "source": [
        "agent_executor.invoke({\"input\":\"Que temperatura hace en Nueva York?\"})"
      ],
      "metadata": {
        "id": "K9Al27-N3e3N",
        "colab": {
          "base_uri": "https://localhost:8080/"
        },
        "outputId": "ce7607a0-33af-467f-86bb-3929f2172c8e"
      },
      "execution_count": null,
      "outputs": [
        {
          "output_type": "stream",
          "name": "stdout",
          "text": [
            "\n",
            "\n",
            "\u001b[1m> Entering new AgentExecutor chain...\u001b[0m\n",
            "\u001b[32;1m\u001b[1;3m\n",
            "Invoking: `tavily_search_results_json` with `{'query': 'temperatura actual en Nueva York'}`\n",
            "\n",
            "\n",
            "\u001b[0m\u001b[36;1m\u001b[1;3m[{'title': 'El clima en Nueva York, Estados Unidos - Tiempo3', 'url': 'https://www.tiempo3.com/north-america/usa/new-york/new-york-city', 'content': 'La temperatura actual en Nueva York es de 26°C. La temperatura máxima en Nueva York para hoy será de 38°C y la mínima se encontrará en torno a los 27°C.', 'score': 0.93425745}, {'title': 'Tiempo actual en Nueva York, NY - AccuWeather', 'url': 'https://www.accuweather.com/es/us/new-york/10021/current-weather/349727', 'content': 'Tiempo actual en Nueva York, NY | AccuWeather\\n\\n===============\\n\\n[Volver](https://www.accuweather.com/pwa)\\n\\n[](https://www.accuweather.com/)[Nueva York, Nueva York ====================== 63°F](https://www.accuweather.com/es/us/new-york/10021/weather-forecast/349727)\\n\\nUsar la ubicación actual\\n\\nReciente\\n\\n[Nueva York Nueva York 63°](https://www.accuweather.com/web-api/three-day-redirect?key=349727&target=)\\n\\nNo hay resultados.\\n\\nPruebe a buscar una ciudad, un código postal o un punto de interés. [...] sábado, 24 de mayo\\n\\n[](https://www.accuweather.com/es/us/new-york/10021/weather-tomorrow/349727)\\n\\nEl tiempo ahora\\n===============\\n\\n17:01\\n\\n63°F\\n\\nLluvia débil\\n\\n RealFeel® 61° \\n\\nFresco\\n\\n RealFeel Shade™ 61° \\n\\nFresco\\n\\nRealFeel®\\n\\n61°\\n\\nRealFeel Shade™\\n\\n61°\\n\\nÍndice UV máx.\\n\\n1 Bajo\\n\\nViento\\n\\nO 10 mi/h\\n\\nRáfagas de viento\\n\\n10 mi/h\\n\\nHumedad\\n\\n46%\\n\\nPunto de rocío\\n\\n42° F\\n\\nPresión\\n\\n↓ 29.92 in\\n\\nNubosidad\\n\\n100%\\n\\nVisibilidad\\n\\n10 mi\\n\\nTecho de nubes\\n\\n5500 ft\\n\\nDía\\n---\\n\\n 24/5 \\n\\n 63°Máx.\\n\\n RealFeel® 65° \\n\\nAgradable [...] Ponerse 20:14\\n\\n![Image 2](https://www.accuweather.com/images/moon-phases/light/WaningCrescent.svg)14 h 04 min\\n\\nSalir 3:32\\n\\nPonerse 17:36\\n\\nHistorial de temperaturas\\n-------------------------\\n\\n24/5\\n\\nAlto\\n\\nBajo\\n\\nPrevisión\\n\\n63°\\n\\n52°\\n\\nMedia\\n\\n73°\\n\\n57°\\n\\nAño pasado\\n\\n84°\\n\\n68°\\n\\nRécord\\n\\n93° \\n\\n 1975 \\n\\n 39° \\n\\n 1963 \\n\\nPrevisión futura\\n----------------', 'score': 0.8482825}, {'title': 'El tiempo en Nueva York - NY hoy - Meteored', 'url': 'https://www.tiempo.com/estados-unidos/nueva-york/hoy', 'content': 'Hoy en Nueva York, cubierto **esta mañana**, con temperaturas alrededor de 17°C. **Por la tarde**, tendremos cubierto y con temperaturas en torno a los 20°C. **Durante la noche**, habrá nubes y claros con temperaturas cercanas a los 18°C. Vientos del Noreste a lo largo del día, con una velocidad media de 12 km/h.\\n\\n### Jueves, 29 de mayo [...] |  | | * Lluvia  Lluvia  **10% 0 l/m²** * Humedad  Humedad **73%** * Punto de rocío  Punto de rocío  **16 °C** * Nubosidad  Nubosidad **69%**  * Sensación Térmica  Sensación Térmica  **21 °C** * Visibilidad  Visibilidad **30 km** * Viento - Medio **8 km/h** * Presión  Presión  **1013 hPa**  * Niebla  Niebla **No** * Viento - Rachas  Viento - Rachas  **21 km/h** * Cota Nieve  Cota Nieve **4400 m** | | | | | |  | [...] |  | | * Lluvia  Lluvia  **0% 0 l/m²** * Humedad  Humedad **74%** * Punto de rocío  Punto de rocío  **16 °C** * Nubosidad  Nubosidad **64%**  * Sensación Térmica  Sensación Térmica  **21 °C** * Visibilidad  Visibilidad **25 km** * Viento - Medio **7 km/h** * Presión  Presión  **1013 hPa**  * Niebla  Niebla **No** * Viento - Rachas  Viento - Rachas  **19 km/h** * Cota Nieve  Cota Nieve **4300 m** | | | | | |  |', 'score': 0.7640656}, {'title': 'Tiempo para hoy en Nueva York (Local): Hora por hora - Tiempo3', 'url': 'https://www.tiempo3.com/north-america/usa/new-york/new-york-city?page=today', 'content': 'Hoy por la noche, en Nueva York, se espera una temperatura de 30°C y un viento que sople con una velocidad de 5 Km/h. Amanecer y atardecer en Nueva York. ¿A', 'score': 0.76300776}, {'title': 'Tiempo actual en Nueva York - Weather & Radar Estados Unidos', 'url': 'https://es.weatherandradar.com/tiempo/nueva-york/6112695', 'content': 'Condiciones actuales ; New York City (88pies). sáb, 21/06, 08:51 PM. 80.6° · viento 0 mph ; Manhattan Downtown (6pies). sáb, 21/06, 08:56 PM. 78.7° · viento NO 4', 'score': 0.7352811}]\u001b[0m\u001b[32;1m\u001b[1;3mLa temperatura actual en Nueva York es de 26°C. La temperatura máxima para hoy será de 38°C y la mínima se encontrará alrededor de los 27°C. Si deseas más detalles sobre el clima en Nueva York, puedes visitar [Tiempo3 - El clima en Nueva York](https://www.tiempo3.com/north-america/usa/new-york/new-york-city).\u001b[0m\n",
            "\n",
            "\u001b[1m> Finished chain.\u001b[0m\n"
          ]
        },
        {
          "output_type": "execute_result",
          "data": {
            "text/plain": [
              "{'input': 'Que temperatura hace en Nueva York?',\n",
              " 'output': 'La temperatura actual en Nueva York es de 26°C. La temperatura máxima para hoy será de 38°C y la mínima se encontrará alrededor de los 27°C. Si deseas más detalles sobre el clima en Nueva York, puedes visitar [Tiempo3 - El clima en Nueva York](https://www.tiempo3.com/north-america/usa/new-york/new-york-city).'}"
            ]
          },
          "metadata": {},
          "execution_count": 41
        }
      ]
    },
    {
      "cell_type": "markdown",
      "source": [
        "#Ejemplos de Interacciones"
      ],
      "metadata": {
        "id": "5RXMR-dF6fpq"
      }
    },
    {
      "cell_type": "markdown",
      "source": [],
      "metadata": {
        "id": "_6AFrFQb6eu4"
      }
    },
    {
      "cell_type": "code",
      "source": [
        "agent_executor.invoke({\"input\":\"Busca quien fue Alan Turing\"})"
      ],
      "metadata": {
        "id": "pjBE28493uSp",
        "colab": {
          "base_uri": "https://localhost:8080/"
        },
        "outputId": "7e67d0e4-9202-4a9e-d487-31ca4f3594e0"
      },
      "execution_count": null,
      "outputs": [
        {
          "output_type": "stream",
          "name": "stdout",
          "text": [
            "\n",
            "\n",
            "\u001b[1m> Entering new AgentExecutor chain...\u001b[0m\n",
            "\u001b[32;1m\u001b[1;3m\n",
            "Invoking: `wikipedia` with `{'query': 'Alan Turing'}`\n",
            "\n",
            "\n",
            "\u001b[0m\u001b[33;1m\u001b[1;3mPage: Alan Turing\n",
            "Summary: Alan Mathison Turing (; 23 June 1912 – 7 June 1954) was an English mathematician, computer scientist, logician, cryptanalyst, philosopher and theoretical biologist. He was highly influential in the development of theoretical computer science, providing a formalisation of the concepts of algorithm and computation with the Turing machine, which can be considered a model of a general-purpose computer. Turing is widely considered to be the father of theoretical computer sc\u001b[0m\u001b[32;1m\u001b[1;3mAlan Mathison Turing was an English mathematician, computer scientist, logician, cryptanalyst, philosopher, and theoretical biologist. He was highly influential in the development of theoretical computer science and is widely considered to be the father of theoretical computer science. Turing provided a formalization of the concepts of algorithm and computation with the Turing machine, which can be seen as a model of a general-purpose computer.\u001b[0m\n",
            "\n",
            "\u001b[1m> Finished chain.\u001b[0m\n"
          ]
        },
        {
          "output_type": "execute_result",
          "data": {
            "text/plain": [
              "{'input': 'Busca quien fue Alan Turing',\n",
              " 'output': 'Alan Mathison Turing was an English mathematician, computer scientist, logician, cryptanalyst, philosopher, and theoretical biologist. He was highly influential in the development of theoretical computer science and is widely considered to be the father of theoretical computer science. Turing provided a formalization of the concepts of algorithm and computation with the Turing machine, which can be seen as a model of a general-purpose computer.'}"
            ]
          },
          "metadata": {},
          "execution_count": 42
        }
      ]
    },
    {
      "cell_type": "code",
      "source": [
        "agent_executor.invoke({\"input\":\"Dime un chiste.\"})"
      ],
      "metadata": {
        "id": "exXtOnOb6IFQ",
        "colab": {
          "base_uri": "https://localhost:8080/"
        },
        "outputId": "737c35e5-31b4-4d3d-f22c-e7f5ecb2420a"
      },
      "execution_count": null,
      "outputs": [
        {
          "output_type": "stream",
          "name": "stdout",
          "text": [
            "\n",
            "\n",
            "\u001b[1m> Entering new AgentExecutor chain...\u001b[0m\n",
            "\u001b[32;1m\u001b[1;3m¡Claro! Aquí tienes uno:\n",
            "\n",
            "¿Por qué los pájaros no usan Facebook? Porque ya tienen Twitter. ¡Espero que te haya sacado una sonrisa! Si quieres escuchar más chistes, ¡solo dímelo!\u001b[0m\n",
            "\n",
            "\u001b[1m> Finished chain.\u001b[0m\n"
          ]
        },
        {
          "output_type": "execute_result",
          "data": {
            "text/plain": [
              "{'input': 'Dime un chiste.',\n",
              " 'output': '¡Claro! Aquí tienes uno:\\n\\n¿Por qué los pájaros no usan Facebook? Porque ya tienen Twitter. ¡Espero que te haya sacado una sonrisa! Si quieres escuchar más chistes, ¡solo dímelo!'}"
            ]
          },
          "metadata": {},
          "execution_count": 43
        }
      ]
    },
    {
      "cell_type": "code",
      "source": [
        "agent_executor.invoke({\"input\":\"¿Qué está pasando en el mundo de la inteligencia artificial?\"})"
      ],
      "metadata": {
        "id": "QS12aZb36kZ5",
        "colab": {
          "base_uri": "https://localhost:8080/"
        },
        "outputId": "b2bdda9d-215f-43b6-ccc6-706637d9a08e"
      },
      "execution_count": null,
      "outputs": [
        {
          "output_type": "stream",
          "name": "stdout",
          "text": [
            "\n",
            "\n",
            "\u001b[1m> Entering new AgentExecutor chain...\u001b[0m\n",
            "\u001b[32;1m\u001b[1;3m\n",
            "Invoking: `tavily_search_results_json` with `{'query': 'últimas noticias sobre inteligencia artificial'}`\n",
            "\n",
            "\n",
            "\u001b[0m\u001b[36;1m\u001b[1;3m[{'title': 'Últimas noticias de Inteligencia artificial en LA NACION', 'url': 'https://www.lanacion.com.ar/tema/inteligencia-artificial-tid58563/', 'content': '**[Por Victoria Menghini](https://www.lanacion.com.ar/economia/IA/la-justicia-de-eeuu-da-luz-verde-una-demanda-por-danos-severos-provocados-por-inteligencia-nid27052025/ \"Por Victoria Menghini\")**\\n### [Inteligencia artificial](https://www.lanacion.com.ar/tema/inteligencia-artificial-tid58563/ \"Noticias de  Inteligencia artificial\")\\n\\n27 de mayo de 2025 [...] **[Por Victoria Mendizábal](https://www.lanacion.com.ar/economia/IA/inteligencia-artificial-y-empleo-oportunidades-desafios-y-la-necesidad-de-adaptarse-nid28052025/ \"Por Victoria Mendizábal\")**\\n### [FuturIA](https://www.lanacion.com.ar/tema/futuria/ \"Noticias de  FuturIA\")\\n\\n28 de mayo de 2025 [...] ### [Inteligencia artificial](https://www.lanacion.com.ar/tema/inteligencia-artificial-tid58563/ \"Noticias de  Inteligencia artificial\")\\n\\n28 de mayo de 2025', 'score': 0.85538095}, {'title': 'Todas las noticias sobre inteligencia artificial | Euronews', 'url': 'https://es.euronews.com/tag/inteligencia-artificial', 'content': '### [La IA contamina: sus emisiones han aumentado un 150% en 3 años](/next/2025/06/14/las-emisiones-de-las-grandes-empresas-tecnologicas-aumentaron-un-150-en-3-anos-debido-al-a)\\n\\n![©](https://static.euronews.com/articles/stories/09/32/54/54/320x180_cmsv2_bc886a50-29cc-5dd5-8dc1-64211c658d7f-9325454.jpg \"©\")\\n\\n### [Científicos lituanos transforman la ingeniería enzimática con IA](/salud/2025/06/13/jovenes-cientificos-lituanos-crean-herramientas-de-ia-para-reinventar-la-ingenieria-enzima) [...] La inteligencia artificial está transformando industrias, desde el procesamiento del lenguaje natural con ChatGPT de OpenAI y Gemini de Google hasta la generación de imágenes con Midjourney y DALL·E. Los sistemas autónomos como el Autopilot de Tesla y la robótica impulsada por Boston Dynamics están avanzando la automatización, mientras que AlphaFold de DeepMind está revolucionando la investigación médica. Mantente informado sobre los avances, debates éticos y el impulso global por la regulación', 'score': 0.7892503}]\u001b[0m\u001b[32;1m\u001b[1;3mAquí tienes algunas noticias recientes sobre inteligencia artificial:\n",
            "\n",
            "1. [Últimas noticias de Inteligencia artificial en LA NACION](https://www.lanacion.com.ar/tema/inteligencia-artificial-tid58563/): Se han publicado noticias sobre la inteligencia artificial en LA NACION, incluyendo temas como demandas por daños severos provocados por inteligencia artificial y oportunidades y desafíos en el ámbito laboral.\n",
            "\n",
            "2. [Todas las noticias sobre inteligencia artificial | Euronews](https://es.euronews.com/tag/inteligencia-artificial): En Euronews, se ha informado sobre cómo la inteligencia artificial está transformando diversas industrias, desde el procesamiento del lenguaje natural hasta la robótica y la investigación médica. También se menciona el aumento de emisiones de grandes empresas tecnológicas debido a la IA.\n",
            "\n",
            "Puedes acceder a los enlaces para obtener más detalles sobre las noticias mencionadas.\u001b[0m\n",
            "\n",
            "\u001b[1m> Finished chain.\u001b[0m\n"
          ]
        },
        {
          "output_type": "execute_result",
          "data": {
            "text/plain": [
              "{'input': '¿Qué está pasando en el mundo de la inteligencia artificial?',\n",
              " 'output': 'Aquí tienes algunas noticias recientes sobre inteligencia artificial:\\n\\n1. [Últimas noticias de Inteligencia artificial en LA NACION](https://www.lanacion.com.ar/tema/inteligencia-artificial-tid58563/): Se han publicado noticias sobre la inteligencia artificial en LA NACION, incluyendo temas como demandas por daños severos provocados por inteligencia artificial y oportunidades y desafíos en el ámbito laboral.\\n\\n2. [Todas las noticias sobre inteligencia artificial | Euronews](https://es.euronews.com/tag/inteligencia-artificial): En Euronews, se ha informado sobre cómo la inteligencia artificial está transformando diversas industrias, desde el procesamiento del lenguaje natural hasta la robótica y la investigación médica. También se menciona el aumento de emisiones de grandes empresas tecnológicas debido a la IA.\\n\\nPuedes acceder a los enlaces para obtener más detalles sobre las noticias mencionadas.'}"
            ]
          },
          "metadata": {},
          "execution_count": 44
        }
      ]
    },
    {
      "cell_type": "code",
      "source": [
        "agent_executor.invoke({\"input\":\"Que esta pasando entre EEUU e Iran?\"})"
      ],
      "metadata": {
        "id": "qAlLg54b6xes",
        "colab": {
          "base_uri": "https://localhost:8080/"
        },
        "outputId": "6ac9d6b5-6748-4794-dc22-a2822dae2088"
      },
      "execution_count": null,
      "outputs": [
        {
          "output_type": "stream",
          "name": "stdout",
          "text": [
            "\n",
            "\n",
            "\u001b[1m> Entering new AgentExecutor chain...\u001b[0m\n",
            "\u001b[32;1m\u001b[1;3m\n",
            "Invoking: `tavily_search_results_json` with `{'query': 'EEUU e Iran conflict'}`\n",
            "\n",
            "\n",
            "\u001b[0m\u001b[36;1m\u001b[1;3m[{'title': 'Confrontation With Iran | Global Conflict Tracker', 'url': 'https://www.cfr.org/global-conflict-tracker/conflict/confrontation-between-united-states-and-iran', 'content': 'Background\\n\\nMore than forty years after the[1979 Iranian Revolution](https://www.brookings.edu/blog/order-from-chaos/2019/01/24/the-iranian-revolution-a-timeline-of-events/ \"https://www.brookings.edu/blog/order-from-chaos/2019/01/24/the-iranian-revolution-a-timeline-of-events/\"), relations between the United States and Iran remain tense. Iran continues to advance its nuclear program and its support for proxy forces throughout the Middle East, despite U.S. efforts to curtail both. [...] The outbreak of war between Israel, a close U.S. ally, and the Iran-backed militant group Hamas in October 2023 renewed fears of direct conflict between the United States and Iran. Iran-backed proxy forces ramped up strikes in protest of Israel’s military incursion into Gaza, including over[two hundred attacks](https://www.washingtoninstitute.org/policy-analysis/tracking-anti-us-and-anti-israel-strikes-iraq-and-syria-during-gaza-crisis)on U.S. and Israeli targets in Iraq and Syria. In response, [...] *   [Background](https://www.cfr.org/global-conflict-tracker/conflict/confrontation-between-united-states-and-iran#Background-0)\\n*   [Recent Developments](https://www.cfr.org/global-conflict-tracker/conflict/confrontation-between-united-states-and-iran#RecentDevelopments-1)', 'score': 0.7373288}, {'title': 'The US has changed the course of the conflict - how will Iran respond?', 'url': 'https://www.bbc.com/news/articles/c9dgpjqg12lo', 'content': 'The US has signalled that, for now, its military action is over, and it has no interest in bringing down the government in Tehran.\\n\\nThat may encourage Iran to limit its response, perhaps attacking US targets in ways that do not lead to high casualties, or using proxies in the region to do the same. [...] Last week Iran\\'s supreme leader had vowed to hit back at the US were it to enter the war. \"The Americans should know that any US military intervention will undoubtedly be accompanied by irreparable damage,\" Ayatollah Ali Khamenei said. [...] Iran chose to follow this course after Trump ordered the [assassination of Iranian Revolutionary Guard leader Qasem Soleimani](https://www.bbc.com/news/world-middle-east-50980704) in 2020. On Saturday night, the US president repeated his own threat to Iran, to use overwhelming force to counter any retaliation.', 'score': 0.57637566}, {'title': \"America's War With Iran: What Comes After U.S. Strikes\", 'url': 'https://www.foreignaffairs.com/middle-east/americas-war-iran', 'content': 'Another danger is that with a more desperate and radicalized Iranian regime, its conflict with Israel could go on in perpetuity. As evident in Gaza, in Ukraine, and during the first Iran-Iraq war, it’s much easier to start a war than to end one. For months or even years, Iran could regularly send small missile salvos into Israel and Israel could continue with airstrikes on Iran. The United States would largely stay out of such a conflict, apart from providing Israel with defensive support. But [...] The United States has attacked Iran. Just days after suggesting he might delay any American military action for weeks, U.S. President Donald Trump announced on June 21 that U.S. aircraft had struck three Iranian nuclear sites, including the deeply buried facility at Fordow. Iranian officials confirmed that the strikes had taken place. Although Trump insisted that the sites had been “obliterated,” it remains unclear what damage the attacks have done. [...] > Iran will seek some manner of retribution.\\n\\nAccidents and miscalculations could make things much worse. Iran could attempt to pursue a more limited missile response but end up stumbling into “catastrophic success” when one missile breaches American defenses and causes much more damage than the Iranians were expecting, in the process drawing the United States deeper into the conflict.', 'score': 0.5479727}, {'title': 'Nations react to US strikes on Iran with many calling for diplomacy', 'url': 'https://apnews.com/article/us-attack-iran-israel-reaction-united-nations-c10cc46ec236816d958ced2497a11464', 'content': '*   [Ataques de EEUU en Irán agravan interrupciones de viajes y cancelaciones de vuelos a nivel global](https://apnews.com/article/iran-israel-viajes-vuelos-cancelaciones-a4fd49b2a2157abda4a9a5916d3d99a6)\\n    *   [Trump presenta acuerdo de alto el fuego entre Israel e Irán como una validación de ataques de EEUU](https://apnews.com/article/eeuu-trump-iran-petroleo-e01fb324d068edf7bcf33ac66c153672) [...] *   [Ataques de EEUU en Irán agravan interrupciones de viajes y cancelaciones de vuelos a nivel global](https://apnews.com/article/iran-israel-viajes-vuelos-cancelaciones-a4fd49b2a2157abda4a9a5916d3d99a6)\\n        *   [Trump presenta acuerdo de alto el fuego entre Israel e Irán como una validación de ataques de EEUU](https://apnews.com/article/eeuu-trump-iran-petroleo-e01fb324d068edf7bcf33ac66c153672) [...] *   [Ataques de EEUU en Irán agravan interrupciones de viajes y cancelaciones de vuelos a nivel global](https://apnews.com/article/iran-israel-viajes-vuelos-cancelaciones-a4fd49b2a2157abda4a9a5916d3d99a6)\\n    *   [Trump presenta acuerdo de alto el fuego entre Israel e Irán como una validación de ataques de EEUU](https://apnews.com/article/eeuu-trump-iran-petroleo-e01fb324d068edf7bcf33ac66c153672)', 'score': 0.53925073}]\u001b[0m\u001b[32;1m\u001b[1;3mThe current situation between the United States and Iran remains tense. Iran continues to advance its nuclear program and support proxy forces throughout the Middle East, despite U.S. efforts to curtail both. There have been fears of direct conflict between the United States and Iran, especially after Iran-backed proxy forces increased strikes on U.S. and Israeli targets in Iraq and Syria in response to Israel's military incursion into Gaza.\n",
            "\n",
            "The U.S. has indicated that its military action is currently over and has shown no interest in bringing down the government in Tehran. Iran's supreme leader had previously vowed to retaliate against the U.S. if it entered a war, emphasizing the potential irreparable damage that could result from any U.S. military intervention.\n",
            "\n",
            "The situation is complex and delicate, with the potential for further escalation. It's important to monitor the developments closely to understand how both countries will navigate this challenging relationship.\u001b[0m\n",
            "\n",
            "\u001b[1m> Finished chain.\u001b[0m\n"
          ]
        },
        {
          "output_type": "execute_result",
          "data": {
            "text/plain": [
              "{'input': 'Que esta pasando entre EEUU e Iran?',\n",
              " 'output': \"The current situation between the United States and Iran remains tense. Iran continues to advance its nuclear program and support proxy forces throughout the Middle East, despite U.S. efforts to curtail both. There have been fears of direct conflict between the United States and Iran, especially after Iran-backed proxy forces increased strikes on U.S. and Israeli targets in Iraq and Syria in response to Israel's military incursion into Gaza.\\n\\nThe U.S. has indicated that its military action is currently over and has shown no interest in bringing down the government in Tehran. Iran's supreme leader had previously vowed to retaliate against the U.S. if it entered a war, emphasizing the potential irreparable damage that could result from any U.S. military intervention.\\n\\nThe situation is complex and delicate, with the potential for further escalation. It's important to monitor the developments closely to understand how both countries will navigate this challenging relationship.\"}"
            ]
          },
          "metadata": {},
          "execution_count": 45
        }
      ]
    },
    {
      "cell_type": "code",
      "source": [
        "agent_executor.invoke({\"input\":\"Quien fue Alan Turing y que fue lo mas grande que hizo, busca en diversas fuentes como paginas webs,etc\"})"
      ],
      "metadata": {
        "id": "aaK6bnP266tS",
        "colab": {
          "base_uri": "https://localhost:8080/"
        },
        "outputId": "91ab990a-3ef2-4646-d540-c998fc9a2a2f"
      },
      "execution_count": null,
      "outputs": [
        {
          "output_type": "stream",
          "name": "stdout",
          "text": [
            "\n",
            "\n",
            "\u001b[1m> Entering new AgentExecutor chain...\u001b[0m\n",
            "\u001b[32;1m\u001b[1;3m\n",
            "Invoking: `wikipedia` with `{'query': 'Alan Turing'}`\n",
            "\n",
            "\n",
            "\u001b[0m\u001b[33;1m\u001b[1;3mPage: Alan Turing\n",
            "Summary: Alan Mathison Turing (; 23 June 1912 – 7 June 1954) was an English mathematician, computer scientist, logician, cryptanalyst, philosopher and theoretical biologist. He was highly influential in the development of theoretical computer science, providing a formalisation of the concepts of algorithm and computation with the Turing machine, which can be considered a model of a general-purpose computer. Turing is widely considered to be the father of theoretical computer sc\u001b[0m\u001b[32;1m\u001b[1;3m\n",
            "Invoking: `tavily_search_results_json` with `{'query': 'Alan Turing'}`\n",
            "\n",
            "\n",
            "\u001b[0m\u001b[36;1m\u001b[1;3m[{'title': 'Alan Turing - Wikipedia', 'url': 'https://en.wikipedia.org/wiki/Alan_Turing', 'content': '**Alan Mathison Turing** ([/ˈtjʊərɪŋ/](https://en.wikipedia.org/wiki/Help:IPA/English \"Help:IPA/English\"); 23 June 1912\\xa0– 7 June 1954) was an English [mathematician](https://en.wikipedia.org/wiki/Mathematician \"Mathematician\"), [computer scientist](https://en.wikipedia.org/wiki/Computer_scientist \"Computer scientist\"), [logician](https://en.wikipedia.org/wiki/Logic \"Logic\"), [cryptanalyst](https://en.wikipedia.org/wiki/Cryptanalyst \"Cryptanalyst\"), [...] [philosopher](https://en.wikipedia.org/wiki/Philosopher \"Philosopher\") and [theoretical biologist](https://en.wikipedia.org/wiki/Theoretical_biologist \"Theoretical biologist\").[\\\\[5\\\\]](https://en.wikipedia.org/wiki/Alan_Turing#cite_note-6) He was highly influential in the development of [theoretical computer science](https://en.wikipedia.org/wiki/Theoretical_computer_science \"Theoretical computer science\"), providing a formalisation of the concepts of [...] | \\nAlan Turing\\n\\n[OBE](https://en.wikipedia.org/wiki/Officer_of_the_Order_of_the_British_Empire \"Officer of the Order of the British Empire\") [FRS](https://en.wikipedia.org/wiki/Fellow_of_the_Royal_Society \"Fellow of the Royal Society\")\\n\\n |\\n| --- |\\n| [![Image 6](https://upload.wikimedia.org/wikipedia/commons/thumb/f/f8/Alan_Turing_%281951%29.jpg/250px-Alan_Turing_%281951%29.jpg)](https://en.wikipedia.org/wiki/File:Alan_Turing_(1951).jpg)\\n\\nTuring in 1951\\n\\n |\\n| Born | \\n\\nAlan Mathison Turing', 'score': 0.94451064}, {'title': 'Alan Turing | Biography, Facts, Computer, Machine ... - Britannica', 'url': 'https://www.britannica.com/biography/Alan-Turing', 'content': '**Alan Turing** (born June 23, 1912, [London](https://www.britannica.com/place/London), England—died June 7, 1954, Wilmslow, Cheshire) was a British mathematician and logician who made major contributions to [mathematics](https://www.britannica.com/science/mathematics), [cryptanalysis](https://www.britannica.com/topic/cryptology), [logic](https://www.britannica.com/topic/logic), [philosophy](https://www.britannica.com/topic/philosophy), and mathematical', 'score': 0.94314384}, {'title': 'Alan Turing | The father of modern computer science | New Scientist', 'url': 'https://www.newscientist.com/people/alan-turing/', 'content': '## Key facts\\n\\n**Full name**: Alan Mathison Turing\\n\\n**Birth**: 23 June 1912, Maida Vale, London\\n\\n**Death**: 7 June 1954, Wilmslow, Cheshire\\n\\nOften considered the\\xa0father of modern computer science, Alan Turing was famous for his work developing the first modern computers, decoding the encryption of German Enigma machines during the second world war, and detailing a procedure known as the Turing Test, forming the basis for artificial intelligence.\\n\\nAdvertisement [...] Alan Turing was one of the most influential British figures of the 20th century. In 1936, Turing invented the computer as part of his attempt to solve a fiendish puzzle known as the [Entscheidungsproblem](/article/mg23130803-200-how-alan-turing-found-machine-thinking-in-the-human-mind/). [...] Advertisement\\n\\n### Explore by section\\n\\n### Explore by subject\\n\\n### Explore our products and services\\n\\n# Alan Turing\\n\\nBy [Jacob Aron](/author/jacob-aron/)\\n\\n![Alan Turing](https://images.newscientist.com/wp-content/uploads/2019/07/15113536/ff87k9-copy1.jpg)', 'score': 0.8437023}, {'title': 'Alan Turing - Education, Movie & Quotes - Biography', 'url': 'https://www.biography.com/scientists/alan-turing', 'content': 'Alan Turing was a brilliant British mathematician who took a leading role in breaking Nazi ciphers during WWII. In his seminal 1936 paper, he proved that there cannot exist any universal algorithmic method of determining truth in mathematics, and that mathematics will always contain undecidable propositions. His work is widely acknowledged as foundational research of computer science and artificial intelligence.\\n\\n## Early Life [...] English scientist Alan Turing was born Alan Mathison Turing on June 23, 1912, in Maida Vale, London, England. At a young age, he displayed signs of high intelligence, which some of his teachers recognized, but did not necessarily respect. When Turing attended the well-known independent Sherborne School at the age of 13, he became particularly interested in math and science. [...] ![Open share options](/_assets/design-tokens/fre/static/icons/social/sharing.89c15b8.svg)\\n![Alan Turing](https://hips.hearstapps.com/hmg-prod/images/alan-turing-9512017-1-402.jpg?crop=1xw:1.0xh;center,top&resize=640:* \"Alan Turing\")\\n\\n(1912-1954)\\n\\n## Who Was Alan Turing?', 'score': 0.82761955}, {'title': 'Alan Turing - Stanford Encyclopedia of Philosophy', 'url': 'https://plato.stanford.edu/entries/turing/', 'content': \"Alan Mathison Turing was born in London, 23 June 1912, to upper-middle-class British parents. His schooling was of a traditional kind, dominated by the British imperial system, but from earliest life his fascination with the scientific impulse—expressed by him as finding the ‘commonest in nature’—found him at odds with authority. His scepticism, and disrespect for worldly values, were never tamed and became ever more confidently eccentric. His moody humour swung between gloom and vivacity. His [...] Alan Turing (1912–1954) never described himself as a philosopher, but his 1950 paper “Computing Machinery and Intelligence” is one of the most frequently cited in modern philosophical literature. It gave a fresh approach to the traditional mind-body problem, by relating it to the mathematical concept of computability he himself had introduced in his 1936–7 paper “On computable numbers, with an application to the Entscheidungsproblem.” His work can be regarded as the foundation of computer [...] From 1939 to 1945 Turing was almost totally engaged in the mastery of the German enciphering machine, Enigma, and other cryptological investigations at now-famous Bletchley Park, the British government's wartime communications headquarters. Turing made a unique logical contribution to the decryption of the Enigma and became the chief scientific figure, with a particular responsibility for reading the U-boat communications. As such he became a top-level figure in Anglo-American liaison, and also\", 'score': 0.8088086}]\u001b[0m\u001b[32;1m\u001b[1;3mAlan Turing fue un matemático, científico de la computación, lógico, criptoanalista, filósofo y biólogo teórico inglés. Fue altamente influyente en el desarrollo de la ciencia de la computación teórica, proporcionando una formalización de los conceptos de algoritmo y computación con la máquina de Turing, que se puede considerar un modelo de computadora de propósito general. Turing es ampliamente considerado como el padre de la ciencia de la computación teórica.\n",
            "\n",
            "Una de las contribuciones más importantes de Alan Turing fue su trabajo durante la Segunda Guerra Mundial en el descifrado de las máquinas de cifrado alemanas Enigma. Además, es famoso por desarrollar la primera computadora moderna, detallar el procedimiento conocido como la Prueba de Turing que forma la base de la inteligencia artificial, y por sus contribuciones a las matemáticas, la criptoanálisis, la lógica y la filosofía.\n",
            "\n",
            "Puedes obtener más información sobre Alan Turing en la [página de Wikipedia sobre Alan Turing](https://en.wikipedia.org/wiki/Alan_Turing) y en [este artículo de New Scientist](https://www.newscientist.com/people/alan-turing/).\u001b[0m\n",
            "\n",
            "\u001b[1m> Finished chain.\u001b[0m\n"
          ]
        },
        {
          "output_type": "execute_result",
          "data": {
            "text/plain": [
              "{'input': 'Quien fue Alan Turing y que fue lo mas grande que hizo, busca en diversas fuentes como paginas webs,etc',\n",
              " 'output': 'Alan Turing fue un matemático, científico de la computación, lógico, criptoanalista, filósofo y biólogo teórico inglés. Fue altamente influyente en el desarrollo de la ciencia de la computación teórica, proporcionando una formalización de los conceptos de algoritmo y computación con la máquina de Turing, que se puede considerar un modelo de computadora de propósito general. Turing es ampliamente considerado como el padre de la ciencia de la computación teórica.\\n\\nUna de las contribuciones más importantes de Alan Turing fue su trabajo durante la Segunda Guerra Mundial en el descifrado de las máquinas de cifrado alemanas Enigma. Además, es famoso por desarrollar la primera computadora moderna, detallar el procedimiento conocido como la Prueba de Turing que forma la base de la inteligencia artificial, y por sus contribuciones a las matemáticas, la criptoanálisis, la lógica y la filosofía.\\n\\nPuedes obtener más información sobre Alan Turing en la [página de Wikipedia sobre Alan Turing](https://en.wikipedia.org/wiki/Alan_Turing) y en [este artículo de New Scientist](https://www.newscientist.com/people/alan-turing/).'}"
            ]
          },
          "metadata": {},
          "execution_count": 46
        }
      ]
    },
    {
      "cell_type": "code",
      "source": [
        "agent_executor.invoke({\"input\":\"Cuentame otro chiste\"})"
      ],
      "metadata": {
        "id": "WIns16m6vmfj",
        "colab": {
          "base_uri": "https://localhost:8080/"
        },
        "outputId": "87eaba4f-c6c3-4e50-cb79-d316105f8138"
      },
      "execution_count": null,
      "outputs": [
        {
          "output_type": "stream",
          "name": "stdout",
          "text": [
            "\n",
            "\n",
            "\u001b[1m> Entering new AgentExecutor chain...\u001b[0m\n",
            "\u001b[32;1m\u001b[1;3m¡Claro! Aquí tienes uno:\n",
            "\n",
            "¿Por qué los pájaros no usan Facebook? Porque ya tienen Twitter. ¡Espero que te haya sacado una sonrisa! Si quieres escuchar otro chiste o tienes alguna otra pregunta, ¡estaré encantado de ayudarte!\u001b[0m\n",
            "\n",
            "\u001b[1m> Finished chain.\u001b[0m\n"
          ]
        },
        {
          "output_type": "execute_result",
          "data": {
            "text/plain": [
              "{'input': 'Cuentame otro chiste',\n",
              " 'output': '¡Claro! Aquí tienes uno:\\n\\n¿Por qué los pájaros no usan Facebook? Porque ya tienen Twitter. ¡Espero que te haya sacado una sonrisa! Si quieres escuchar otro chiste o tienes alguna otra pregunta, ¡estaré encantado de ayudarte!'}"
            ]
          },
          "metadata": {},
          "execution_count": 47
        }
      ]
    },
    {
      "cell_type": "code",
      "source": [
        "agent_executor.invoke({\"input\":\"Pero no tienes otros chiste\"})"
      ],
      "metadata": {
        "id": "z-SDdAVKvqMc",
        "colab": {
          "base_uri": "https://localhost:8080/"
        },
        "outputId": "5ac6092f-a31a-483c-a051-e9d67b1bb787"
      },
      "execution_count": null,
      "outputs": [
        {
          "output_type": "stream",
          "name": "stdout",
          "text": [
            "\n",
            "\n",
            "\u001b[1m> Entering new AgentExecutor chain...\u001b[0m\n",
            "\u001b[32;1m\u001b[1;3m\n",
            "Invoking: `tavily_search_results_json` with `{'query': 'chistes divertidos'}`\n",
            "responded: ¡Claro que sí! Déjame buscar uno divertido para ti. Un momento, por favor.\n",
            "\n",
            "\u001b[0m\u001b[36;1m\u001b[1;3m[{'title': 'Los chistes cortos más graciosos para reír sin parar con amigos y ...', 'url': 'https://www.clarin.com/internacional/chistes-cortos-graciosos-reir-parar-amigos-familiares_0_lkgB9ybv4I.html?srsltid=AfmBOorj5OSYSgvEIpU6d8at4Bq_CRmDnBqm4mI1Lr4KNu2s1k8ZvmRh', 'content': 'En este contexto, contar chistes es una forma **efectiva y divertida** de compartir momentos inolvidables con amigos y familia. Ya sea un chiste corto para romper el hielo o usando sarcasmo para los adultos o uno inocente para chicos.\\n\\n## Los mejores chistes con sarcasmo\\n\\n## Los mejores chistes cortos para reír al instante\\n\\n## Los mejores chistes malos cortos\\n\\n## Los mejores chistes para niños sobre frutas\\n\\n## Los mejores chistes cortos para niños', 'score': 0.67501575}, {'title': '60 chistes cortos de risa para niños y adultos - Los más graciosos', 'url': 'https://www.mundodeportivo.com/uncomo/ocio/articulo/los-mejores-chistes-cortos-de-risa-50327.html', 'content': 'Chistes cortos para jóvenes y adultos: los más divertidos\\n---------------------------------------------------------\\n\\nSi quieres más **chistes cortos de risa**, seguidamente te proponemos nuevas opciones. En esta selección de chistes buenos y graciosos encontrarás desde lo más **absurdos** hasta algunos más **elaborados** para los que tengan un humor diferente. ¡A disfrutar! [...] Los mejores chistes para niños: la risa de los más pequeños\\n-----------------------------------------------------------\\n\\nLos más pequeños adoran los chistes, pues son historias que pueden aprenderse de memoria fácilmente para hacer reír a sus amigos o a sus familiares en cualquier cena o quedada. Si quieres **chistes para niños que sean divertidos** y fáciles de entender, ¡estás en el lugar adecuado! Estos son algunos chistes buenos y graciosos para los más pequeños de casa: [...] *   Un pez le pregunta a otro pez: ¿qué hace tu mamá? Este le contesta: Nada, ¿y la tuya qué hace? Nada también.\\n*   ¿Cuál es el colmo de Aladdín? Tener mal genio.\\n*   Si se muere una pulga, ¿a dónde va? Al pulgatorio.\\n*   El profesor le dice al estudiante después de haberle corregido la tarea: Tu trabajo me ha conmovido. El estudiante, sorprendido, le pregunta: ¿Y eso por qué profesor? El profesor con cara de burla le dice: Porque me dio mucha pena.', 'score': 0.6615081}, {'title': '100 CHISTES CORTOS para niños ¡Ríete hoy! | Árbol ABC', 'url': 'https://arbolabc.com/chistes-cortos-para-ninos', 'content': 'Por ser textos graciosos, los **chistes para niños son en realidad una herramienta educativa muy “seria” para promover la lectura**. A los niños les encanta un rato divertido mientras aprenden y esta es la experiencia que los chistes para niños proveen. Igualmente, a través de los chistes los niños juegan con el uso de las palabras, descubren que algunas se asemejan fonéticamente a otras o tienen más de un significado lo cual les resulta emocionante y los motiva a encontrar aún más palabras con [...] [* CHISTES CORTOS DE RISA](https://arbolabc.com/chistes-cortos-para-ninos#chistes-de-risa)[* 25 CHISTES DE ANIMALES PARA NIÑOS](https://arbolabc.com/chistes-de-animales-para-ninos)[* CHISTES INFANTILES MUY DIVERTIDOS](https://arbolabc.com/chistes-cortos-para-ninos#chistes-infantiles-divertidos)[* CHISTES CORTOS Y GRACIOSOS PARA NIÑOS](https://arbolabc.com/chistes-cortos-para-ninos#chistes-graciosos)[* 25 CHISTES CORTOS DE PEPITO (CHISTES DE', 'score': 0.5951402}, {'title': '250 chistes cortos buenos y malos pero muy graciosos - Revista Clara', 'url': 'https://www.clara.es/estilo-de-vida/-chistes-cortos-buenos-y-malos-pero-muy-graciosos_32065', 'content': '¿Te gustan los [chistes de Jaimito](https://www.clara.es/estilo-de-vida/chistes-jaimito-para-ninos_33014)? Ya sabes, **esos en los que un niño con no demasiadas luces mete la pata en clase**, **hablando con sus padres, con el famoso Pepito o con otro de sus amigos.** Son muy divertidos, si sabes escoger los adecuados. Como estos que te dejamos a continuación. [...] ¡Es hora de echarnos unas risas! Los chistes son la clave del humor desde que el mundo es mundo. **Pequeñas fórmulas y frases hechas que hacen reír a cualquiera.** Los hay más elaborados, más sencillos y más complicados de entender. Igual que **[chistes malos](https://www.clara.es/estilo-de-vida/-chistes-malos-y-cortos-que-final-dan-risa_31731) y buenos, cortos y graciosos**. [...] *   Me han dado planton. ¿Como a las ballenas?\\n*   ¿Cuál es la fruta más divertida? La naranja ja ja ja ja.\\n*   Soy celíaca. Encantado, yo Antoniaco.\\n*   ¿Por qué el mar no se seca? Porque no tiene toalla.\\n*   ¿Cómo se llama el campeón de buceo japonés? Tokofondo. ¿Y el subcampeón? Kasitoko.\\n*   2 zombis que cuentan chistes... ¿zombienchistosos?\\n*   ¿Qué le dice un 2 a un 0? Veinte conmigo, guapetón.\\n*   ¿Te sabes el chiste del orinal? ¿No? ¡Pues es para mearse!', 'score': 0.5236402}, {'title': '100 chistes cortos buenos y graciosos para partirse de risa - Esquire', 'url': 'https://www.esquire.com/es/actualidad/libros/a42888997/chistes-cortos-buenos-graciosos-mejores/', 'content': 'fácilmente a tus favoritos, aunque te recomendamos encarecidamente que te los leas todos porque son de lo más divertido. Por supuesto te animamos a que los memorices (o te los escribas disimuladamente en la palma de la nano) y los cuentes con pasión en tu próxima comida entre amigos, boda, funeral o botadura de un submarino (tacha lo que no convenga). [...] 1.   \"Pues la postura favorita de mi mujer en la cama es la del pez\". \"¿La del pez? Pues esa no la conozco\". \"Sí hombre. Se da la vuelta y... ¡nada!\".\\n2.   \"Mamá, mamá, ¿cómo se explica que papá sea negro, tú blanca y yo amarillo?\". \"Mira chaval, si supieras la orgía que hubo ese día, lo que me extraña es que no ladres\". [...] 1.   \"Camarero, ¿me aliña la ensalada?\". \"Con el uno el pepino, con el dos el tomate, con el tres la cebolla...\".\\n2.   ¿Cuál es el mejor portero del Mundial? ¡El de Para-guay!\\n3.   \"Cariño, estás obsesionado con el fútbol y me haces falta\". \"¿Qué dices? ¿Cómo que falta? ¡Pero si ni te he tocado!\".', 'score': 0.4974371}]\u001b[0m\u001b[32;1m\u001b[1;3m¡Aquí tienes un chiste corto para sacarte una sonrisa!\n",
            "\n",
            "- Un pez le pregunta a otro pez: ¿qué hace tu mamá? Este le contesta: Nada, ¿y la tuya qué hace? Nada también.\n",
            "\n",
            "Espero que te haya gustado. Si quieres más chistes, ¡házmelo saber!\u001b[0m\n",
            "\n",
            "\u001b[1m> Finished chain.\u001b[0m\n"
          ]
        },
        {
          "output_type": "execute_result",
          "data": {
            "text/plain": [
              "{'input': 'Pero no tienes otros chiste',\n",
              " 'output': '¡Aquí tienes un chiste corto para sacarte una sonrisa!\\n\\n- Un pez le pregunta a otro pez: ¿qué hace tu mamá? Este le contesta: Nada, ¿y la tuya qué hace? Nada también.\\n\\nEspero que te haya gustado. Si quieres más chistes, ¡házmelo saber!'}"
            ]
          },
          "metadata": {},
          "execution_count": 48
        }
      ]
    },
    {
      "cell_type": "code",
      "source": [
        "agent_executor.invoke({\"input\":\"si\"})"
      ],
      "metadata": {
        "id": "KmKdMYS8vuKI",
        "colab": {
          "base_uri": "https://localhost:8080/"
        },
        "outputId": "09c26cd2-ecee-4459-e9ea-e785dcf637eb"
      },
      "execution_count": null,
      "outputs": [
        {
          "output_type": "stream",
          "name": "stdout",
          "text": [
            "\n",
            "\n",
            "\u001b[1m> Entering new AgentExecutor chain...\u001b[0m\n",
            "\u001b[32;1m\u001b[1;3mHello! How can I assist you today?\u001b[0m\n",
            "\n",
            "\u001b[1m> Finished chain.\u001b[0m\n"
          ]
        },
        {
          "output_type": "execute_result",
          "data": {
            "text/plain": [
              "{'input': 'si', 'output': 'Hello! How can I assist you today?'}"
            ]
          },
          "metadata": {},
          "execution_count": 49
        }
      ]
    },
    {
      "cell_type": "code",
      "source": [
        "agent_executor.invoke({\"input\":\"respondeme tres preguntas, busca en internet 1. ¿Qué otros modelos de colores existen para las imagenes?;¿Qué otros cambios se pueden realizar a las imágenes con OpenCV?; 3. ¿Cuál seria el uso del binary threshold en el procesmiento de imagenes?\"})"
      ],
      "metadata": {
        "id": "GT-8itJUvwl6",
        "colab": {
          "base_uri": "https://localhost:8080/"
        },
        "outputId": "85464131-3b15-413f-9eb0-67095ed1b2ef"
      },
      "execution_count": null,
      "outputs": [
        {
          "output_type": "stream",
          "name": "stdout",
          "text": [
            "\n",
            "\n",
            "\u001b[1m> Entering new AgentExecutor chain...\u001b[0m\n",
            "\u001b[32;1m\u001b[1;3m\n",
            "Invoking: `tavily_search_results_json` with `{'query': '¿Qué otros modelos de colores existen para las imágenes?'}`\n",
            "\n",
            "\n",
            "\u001b[0m\u001b[36;1m\u001b[1;3m[{'title': 'Modelos de color en el procesamiento de imágenes digitales', 'url': 'https://www.toolify.ai/es/ai-news-es/modelos-de-color-en-el-procesamiento-de-imgenes-digitales-1155368', 'content': 'Los modelos de color RGB, CMY y HSI se utilizan en diversas aplicaciones de procesamiento de imágenes. El modelo RGB se utiliza en monitores de video y cámaras de video para representar imágenes en color. El modelo CMY se utiliza en impresoras de color para imprimir imágenes en color. El modelo HSI se utiliza en aplicaciones de procesamiento de imágenes para realizar operaciones como segmentación de objetos, detección de bordes y mejora de la calidad de las imágenes.\\n\\n## Conclusiones [...] En resumen, el estudio de los fundamentos del procesamiento de imágenes en color nos permite comprender cómo se representan y se manipulan los colores en diferentes modelos de color. Los modelos de color RGB, CMY y HSI son herramientas poderosas que se utilizan en diversas aplicaciones para lograr resultados visuales impresionantes. Desde monitores de video hasta impresoras de color e incluso aplicaciones de procesamiento de imágenes, estos modelos de color nos brindan una forma de entender y [...] En este artículo, vamos a explorar los fundamentos del procesamiento de imágenes en color. Comenzaremos analizando los colores primarios y secundarios y luego examinaremos las características del color, como el brillo, la dominancia y la saturación. A continuación, analizaremos tres modelos de color importantes: RGB, CMY y HSI, y exploraremos cómo se pueden convertir entre sí. Finalmente, discutiremos algunas aplicaciones comunes de estos modelos de color en el procesamiento de imágenes.', 'score': 0.85097736}, {'title': 'La gestión del color y los modelos de color - ClickPrinting', 'url': 'https://www.clickprinting.es/blog/gestion-del-color-y-modelos-de-color', 'content': 'Vamos a repasar algunos conceptos bÃ¡sicos. La gestiÃ³n del color ayuda a traducir las imÃ¡genes en \\xa0dispositivos que utilizan diferentes modelos de color. Un modelo de color es un mÃ©todo de uso de tres colores primarios para producir una gama mÃ¡s amplia de colores. Ese rango se llama espacio de color.\\n\\n### Los modelos de color\\n\\nExisten dos modelos bÃ¡sicos de color, aditivo y sustractivo. [...] AsÃ\\xad pues se usan luces de color o tintas de color. El modelo RGB puede producir mÃ¡s colores que el CMYK. Pero un diseÃ±ador grÃ¡fico puede hacer que las imÃ¡genes que tiene en su ordenador se vean igual de atractivas cuando se imprimen gracias al uso de los modernos sistemas de gestiÃ³n del color. [...] El modelo mÃ¡s comÃºn de color aditivo es el RGB (Red, Green and Blue o Rojo Verde y Azul en espaÃ±ol). Es para los dispositivos digitales y utiliza tres colores de luces para producir toda la gama de colores. La uniÃ³n de azul, rojo y verde crea el blanco.', 'score': 0.82117355}, {'title': 'Modelos de Color RGB: Red, green, and blue (rojo, verde y azul). Es ...', 'url': 'https://www.facebook.com/centroargentinodecartografia/posts/modelos-de-colorrgb-red-green-and-blue-rojo-verde-y-azules-un-modelo-de-color-qu/806200455053598/', 'content': 'Modelos de Color RGB: Red, green, and blue (rojo, verde y azul). Es un modelo de color que se utiliza para 𝐢𝐦𝐚́𝐠𝐞𝐧𝐞𝐬 𝐲 𝐩𝐚𝐧𝐭𝐚𝐥𝐥𝐚𝐬 𝐝𝐢𝐠𝐢𝐭𝐚𝐥𝐞𝐬,', 'score': 0.8021998}, {'title': 'Colores RGB y CMYK: modos de color para imprimir - Marcaprint', 'url': 'https://www.marcaprint.com/blog/modos-color/', 'content': 'RGB y CMYK son dos **modos de color** que representan el espectro de color visible al ojo humano, la gran diferencia práctica entre ellos es si las imágenes las vas a utilizar para mostrarlas en dispositivos digitales o para imprimirlas con precisión de color óptima.\\xa0 Los diversos programas de edición de imágenes permiten la elección entre estos dos modelos de color distintos, en muchas ocasiones sus usuarios tienen dudas sobre qué modo de color utilizar al diseñar y guardar los archivos, por [...] ![Modo de color HSB](data:image/gif;base64,R0lGODlhAQABAAAAACH5BAEKAAEALAAAAAABAAEAAAICTAEAOw==)\\n\\nEl modelo de color HSB significa: (H) Hue-matiz, (S) Saturation-saturación, y (B) Brightness-brillo, como elementos fundamentales para definir los colores. El matiz indica el color que se encuentra en un espectro de colores estándar. El rojo tiene 0 grados, el amarillo 60 grados, el verde 120 grados, el cian 180 grados, el azul 240 grados y el magenta 300 grados. [...] Estas siglas indican tres colores principales de este modelo: (R) Red-Rojo, (G) Green-Verde y (B) Blue-Azul. El **modelo RGB** usa una mezcla de esos 3 colores primarios y juega con sus intensidades para crear muchas tonalidades. Son colores luz, cada uno de los 3 colores tiene 255 tonos diferentes que se mezclan con los 2 restantes, lo que hace que haya 17 millones de colores diferentes y mezclando los tres en su máxima intensidad el resultado sería BLANCO.', 'score': 0.70263255}, {'title': 'Modelo de colores - Wikipedia, la enciclopedia libre', 'url': 'https://es.wikipedia.org/wiki/Modelo_de_colores', 'content': 'Un **modelo de colores** es un [modelo matemático](/wiki/Modelo_matem%C3%A1tico \"Modelo matemático\") abstracto que permite representar los [colores](/wiki/Colores \"Colores\") en forma numérica, utilizando típicamente tres o cuatro valores o componentes cromáticos (por ejemplo [RGB](/wiki/Modelo_de_color_RGB \"Modelo de color RGB\") y [CMYK](/wiki/CMYK \"CMYK\") son modelos de colores). Es decir, un modelo de colores sirve en una [aplicación](/wiki/Funci%C3%B3n_matem%C3%A1tica \"Función matemática\") [...] En un sentido genérico de las definiciones que se han expuesto, el espacio de colores se puede definir sin el uso de un modelo de colores. Estos espacios, tales como [Pantone](/wiki/Pantone \"Pantone\"), son, en realidad, un conjunto de nombres o cifras que se definen por un conjunto correspondiente a las muestras físicas del color.\\n\\n## Lista de modelos de colores\\n\\nLos modelos de colores más usados son:\\n\\n## Véase también\\n\\n## Enlaces externos', 'score': 0.6783488}]\u001b[0m\u001b[32;1m\u001b[1;3m\n",
            "Invoking: `tavily_search_results_json` with `{'query': '¿Qué otros cambios se pueden realizar a las imágenes con OpenCV?'}`\n",
            "\n",
            "\n",
            "\u001b[0m\u001b[36;1m\u001b[1;3m[{'title': 'Procesamiento de imágenes con OpenCV en Python', 'url': 'https://imaginaformacion.com/tutoriales/opencv-en-python', 'content': 'Las herramientas básicas para el procesamiento de imágenes también permiten **cambiar el tamaño de una imagen**. Esto se puede realizar usando la función `resize()` de OpenCV. Esta función toma como parámetros la **imagen** a reescalar y las **dimensiones** a las que se quiere reescalar. El siguiente código muestra un ejemplo de cómo cambiar el tamaño de una imagen usando OpenCV: [...] Las **operaciones básicas** para el procesamiento de imágenes permiten cargar y mostrar una imagen, cambiar su tamaño y recortar partes de ella. Estas operaciones se pueden realizar utilizando la librería de procesamiento de imágenes OpenCV.\\n\\n### Leer una imagen [...] Las herramientas básicas para el procesamiento de imágenes también permiten **recortar partes de una imagen**. Esto se puede realizar usando la función `crop()` de OpenCV. Esta función toma como parámetros la **imagen** a recortar, el **lugar** donde empieza el recorte y el **tamaño** del recorte. El siguiente código muestra un ejemplo de cómo recortar una imagen usando OpenCV:', 'score': 0.85186684}, {'title': 'Manipulación de imágenes con librería openCV - Listopro Community', 'url': 'https://community.listopro.com/manipulacion-de-imagenes-con-libreria-opencv/', 'content': 'También es posible cambiar la dimensión a través del porcentaje, simplemente pasa 0 para los dos valores dentro de los paréntesis y luego especifica cuánto multiplicar para fx y fy. Por ejemplo, pasar 0,5 será la mitad del tamaño y 2 será el doble:\\n\\n![](https://community.revelo.com/content/images/2023/03/image-19.png)\\n\\nOtro cambio que puedes hacer es rotar la imagen:\\n\\n![](https://community.revelo.com/content/images/2023/03/image-20.png) [...] Como decía al principio, cada píxel de la imagen está compuesto por 3 números, los famosos **RGB** (Rojo, Verde y Azul), pero openCV representa todo lo contrario, por lo que sería primero el azul, el verde y luego el rojo.  \\n  \\nPara crear o modificar una imagen, lo único que se hará es modificar este estado, ya sea aumentando o disminuyendo el número de filas y columnas o variando el valor de intensidad asociado a cada color de los píxeles. [...] Al ejecutar el programa, se abrirá una ventana con la imagen. Ahora puede, por ejemplo, manipular las dimensiones a través del comando **resize**, pasando la imagen y el tamaño en los ejes x e y entre paréntesis (**nota**: los comandos para manipular deben pasar antes que el imshow).\\n\\n![](https://community.revelo.com/content/images/2023/03/image-18.png)', 'score': 0.8201387}, {'title': 'TRANSFORMACIONES GEOMETRICAS EN IMAGENES, CON', 'url': 'https://programacionpython80889555.wordpress.com/2021/04/27/transformaciones-geometricas-sobre-imagenes-con-opencv/', 'content': 'Otra de las operaciones que podemos realizar sobre la imagen es la de rotarla. Para ello, contamos en «**opencv**» con la función «**getRotationMatrix2D()**» que es la que usaremos, en este caso, para crear la matriz de transformación, introduciendo las coordenadas relativas al punto de rotación, los grados de rotación y la escala:\\n\\n![](https://programacionpython80889555.wordpress.com/wp-content/uploads/2021/04/cvi7.png?w=524) [...] ![](https://programacionpython80889555.wordpress.com/wp-content/uploads/2021/04/cvi16.png?w=376)\\n\\nEn este artículo hemos visto algunas de las operaciones básicas que podemos hacer sobre una imagen, con «**opencv**» centrándonos en las propiedades geométricas de la misma. En futuras ocasiones, seguiremos viendo nuevas operaciones realizables sobre la información misma de la imagen.\\n\\nSaludos.\\n\\n### Comparte esto:\\n\\n### *Relacionado* [...] Bienvenidos una semana más a vuestro blog sobre programación en lenguaje Python. Hoy nos disponemos a continuar viendo las posibilidades que en materia de edición de imagen, ofrece la librería «**opencv**» (con la que ya hemos trabajado en repetidas ocasiones) incorporando a lo que ya sabemos de prácticas anteriores, algunas operaciones tales como la rotación o escalado de imágenes. Para este tutorial haremos uso del siguiente archivo de imagen:', 'score': 0.7845341}, {'title': 'OpenCV: biblioteca Python para procesamiento de imágenes', 'url': 'https://certidevs.com/curso-open-cv', 'content': 'Algunas de las operaciones más comunes incluyen la modificación del brillo, el contraste y la aplicación de transformaciones de color. Cuando se', 'score': 0.7785319}, {'title': 'Procesamiento de imágenes con OpenCV y Python - Toolify.ai', 'url': 'https://www.toolify.ai/es/ai-news-es/procesamiento-de-imgenes-con-opencv-y-python-1149839', 'content': '`resize()`\\n`# Cambiar tamaño de la imagen\\nresized_image_cv2 = cv2.resize(image_cv2, (new_width, new_height))\\n# Mostrar imagen redimensionada\\nplt.imshow(resized_image_cv2)\\nplt.axis(\"off\")\\nplt.show()`\\n\\n### 5.3 Aplicación de filtros\\n\\nOpenCV nos ofrece diferentes tipos de filtros que podemos aplicar a las imágenes. Algunos ejemplos son el desenfoque y el afilado. Para aplicar un filtro a una imagen, necesitamos crear un kernel y luego utilizar la función `filter2D()` de OpenCV. [...] `cvtColor()`\\n`# Convertir imagen a escala de grises\\ngray_image_cv2 = cv2.cvtColor(image_cv2, cv2.COLOR_BGR2GRAY)\\n# Mostrar imagen en escala de grises\\nplt.imshow(gray_image_cv2, cmap=\"gray\")\\nplt.axis(\"off\")\\nplt.show()`\\n\\n### 5.2 Cambio de tamaño y escala\\n\\nEs posible que necesitemos redimensionar una imagen para que se ajuste a ciertos requisitos de tamaño. Esto se puede hacer fácilmente utilizando la función `resize()` de OpenCV. [...] Hemos visto cómo leer y visualizar imágenes, ¡pero también podemos manipularlas! A continuación, veremos cómo convertir una imagen a escala de grises, cambiar su tamaño y aplicar filtros.\\n\\n### 5.1 Conversión a escala de grises\\n\\nLa conversión a escala de grises es un proceso en el cual se elimina la información de color de una imagen, quedando solo con la información de intensidad. Para convertir una imagen a escala de grises en Python, podemos utilizar la función `cvtColor()` de OpenCV.', 'score': 0.74004334}]\u001b[0m\u001b[32;1m\u001b[1;3m\n",
            "Invoking: `tavily_search_results_json` with `{'query': '¿Cuál sería el uso del binary threshold en el procesamiento de imágenes?'}`\n",
            "\n",
            "\n",
            "\u001b[0m\u001b[36;1m\u001b[1;3m[{'title': \"APLICACIÓN DE UMBRALES EN IMÁGENES ('THRESHOLDING ...\", 'url': 'https://programacionpython80889555.wordpress.com/2022/12/13/aplicacion-de-umbrales-en-imagenes-thresholding-con-python-y-scikit-image/', 'content': 'La umbralizacion (o ‘**thresholding**‘) es una técnica usada en el procesamiento de imágenes digitales, mediante el cual se convierte una imagen (generalmente en escala de grises) de una matriz de pixeles con valores de intensidad comprendidos entre 0 y 256, a una imagen binaria (es decir, una imagen en la que los valores de intensidad sean únicamente 0 o 1. Por ejemplo, asignando el valor 0 a aquellos pixeles cuyo valor de intensidad quede por debajo del umbral establecido y 1 a aquellos que [...] Vemos como la función aplicada sobre nuestra imagen nos devuelve un valor de 102. Esto significa que para separar del modo más apropiado posible, el fondo de los elementos en primer plano, se aplicará el umbral de modo que aquellos pixeles cuyo valor de intensidad quede por encima de dicho valor (o sea igual) se le dará un valor de 1 (blanco) en la imagen binaria resultante, y aquellos que queden por debajo de dicha cifra, se les aplicará el valor de 0 (negro). Pasemos pues a aplicar nuestro [...] lo igualen o superen). Se trata de una técnica usada con frecuencia en procesos de segmentación de imágenes y de reconocimiento o detección de determinados elementos en las mismas, usándose para ello, un umbral que variará en función a la naturaleza misma de la imagen y del tipo de elemento que queramos aislar o separar de la misma.', 'score': 0.8386933}, {'title': 'Comparativa entre la técnica de umbralización binaria y el método ...', 'url': 'https://www.redalyc.org/journal/5537/553770380006/html/', 'content': 'En la técnica de umbralización binaria el valor de umbral establecido no se modifica y las distinciones son dependientes de dicho valor [[15](#B15)]. Asimismo, se define 50 pixeles como el valor de umbral según el estado del arte en este tipo de procesamiento de imágenes [[24](#B24)]. [...] Se propone una metodología basada en la aplicación y comparación de dos de las técnicas de umbralización básicas en procesamiento de imágenes: umbralización binaria, y umbral adaptativo de Otsu; una vez la imagen de entrada sea convertida a escala de grises y posteriormente se segmente el fondo de la misma y se filtre tanto por desenfoque gaussiano, como por operaciones morfológicas, ponderando factores como el requerimiento de Unidad Central de Procesos (CPU), espacio de memoria utilizado, [...] In image detection processes where there is a variation in brightness between pixels, techniques are required to obtain optimal and adaptable threshold values for these variations. Therefore, a comparison between the binary thresholding technique and the adaptive method of Otsu is made, in videos with dynamic and static background, weighing the response time of the algorithm, memory used, requirement of the central processing unit and hits in the detections, in the languages of Python and M', 'score': 0.7197191}, {'title': '[PDF] BINARIZACIÓN DE IMÁGENES DIGITALES Y SU ALGORITMIA COMO', 'url': 'http://sea-entomologia.org/PDF/Boletin53/443464BSEA53BinarizacionRMagro.pdf', 'content': 'Binarización: es una técnica que consiste en la realización de un barrido en la matriz de la imagen digital, por medio de bucles o recursividad, con el fin de que el proceso produzca la reducción de la escala de grises a dos únicos valores. Negro (= 0) y blanco (= 255), o lo que es lo mismo, un sistema bina-rio de ausencia y presencia de color 0-1. La comparación de cada píxel de la imagen viene determinada por el umbral de sensibilidad (valor T = Threshold). Por ejemplo, los valores que sean [...] cada píxel x de una zona vecina N en la que se asigna un valor del umbral adecuado t(N). Con la variante de binarización por umbral dinámico se obtienen resultados muy homogéneos con poco contraste y cambios sutiles en la luminosidad de la imagen, pero el tiem-po de proceso se amplía al tener que evaluar un umbral por cada valor de píxel. La elección del valor del umbral no sólo influye en la cantidad y calidad de la segmentación en sí misma, sino que también y, debido a los píxeles de los [...] ImajeJ, Iplab, OtsuThres-hold y Pixrl (todos ellos disponibles desde internet, véase tabla I del anexo). Los programas comerciales tienen pocas opciones de binarización, incluso en algunos sólo hay umbra-lización. También escasas opciones en algunos de los gratui-tos: Fidji, Gimp e ImajeJ. Pero para todos ellos hay disponi-bles en internet numerosos complementos (plugin) y macros de binarización. OtsuThreshold sólo sirve para aplicar algo-ritmos Otsu. Por último, el aplicativo MatLab permite la', 'score': 0.6334335}, {'title': '[PDF] Comparativa entre la técnica de umbralización binaria y el método ...', 'url': 'https://dialnet.unirioja.es/descarga/articulo/9514537.pdf', 'content': 'umbralización básicas en procesamiento de imágenes: umbralización binaria, y umbral adaptativo de Otsu; una vez la imagen de entrada sea convertida a escala de grises y posteriormente se segmente el fondo de la misma y se filtre tanto por desenfoque gaussiano, como por operaciones morfológicas, ponderando factores como el requerimiento de Unidad Central de Procesos (CPU), espacio de memoria utilizado, tiempo de respuesta y aciertos en las detecciones [20], como se ilustra en la Figura 1. Figura [...] de personas; comparativa; umbralización binaria; método de Otsu; Python; Matlab; tiempo; memoria; requerimiento de máquina; aciertos. Abstract In image detection processes where there is a variation in brightness between pixels, techniques are required to obtain optimal and adaptable threshold values for these variations. Therefore, a comparison between the binary thresholding technique and the adaptive method of Otsu is made, in videos with dynamic and static background, weighing the response [...] 68 C. V. Niño-Rondón, S. A. Castro-Casadiego, B. Medina-Delgado, D. Guevara-Ibarra, L. L.Camargo-Ariza pixeles como el valor de umbral según el estado del arte en este tipo de procesamiento de imágenes [24]. Para la umbralización adaptativa de Otsu, mediante un análisis de varianzas se encuentra el valor especifico de umbral que se adapta al procesamiento según los niveles de luminosidad y tamaño de objetos presentes en el cuadro principal de la imagen [12], y que, además, minimiza la varianza', 'score': 0.62770075}, {'title': '[PDF] 245401.pdf - Repositorio CICESE', 'url': 'https://cicese.repositorioinstitucional.mx/jspui/bitstream/1007/1348/1/245401.pdf', 'content': 'La binarización es una técnica básica de procesamiento de imágenes, empleada en múltiples aplicaciones tales como Reconocimiento ´Optico de', 'score': 0.62633044}]\u001b[0m\u001b[32;1m\u001b[1;3mAquí tienes la información encontrada para cada una de tus preguntas:\n",
            "\n",
            "1. **¿Qué otros modelos de colores existen para las imágenes?**\n",
            "   - Existen varios modelos de color utilizados en el procesamiento de imágenes, como RGB, CMY y HSI. Estos modelos se utilizan en diversas aplicaciones para representar y manipular colores en imágenes. Puedes obtener más información en este [enlace](https://www.toolify.ai/es/ai-news-es/modelos-de-color-en-el-procesamiento-de-imgenes-digitales-1155368).\n",
            "\n",
            "2. **¿Qué otros cambios se pueden realizar a las imágenes con OpenCV?**\n",
            "   - Con OpenCV, se pueden realizar una variedad de cambios en las imágenes, como cambiar el tamaño, recortar partes, aplicar filtros, convertir a escala de grises, entre otros. Puedes explorar más sobre las operaciones básicas de procesamiento de imágenes con OpenCV en este [enlace](https://imaginaformacion.com/tutoriales/opencv-en-python).\n",
            "\n",
            "3. **¿Cuál sería el uso del binary threshold en el procesamiento de imágenes?**\n",
            "   - La umbralización binaria, también conocida como binary thresholding, es una técnica utilizada en el procesamiento de imágenes para convertir una imagen en escala de grises en una imagen binaria, donde los valores de intensidad son solo 0 o 1. Esta técnica es comúnmente utilizada en procesos de segmentación de imágenes y detección de elementos específicos. Puedes obtener más detalles sobre la aplicación de umbrales en imágenes en este [enlace](https://programacionpython80889555.wordpress.com/2022/12/13/aplicacion-de-umbrales-en-imagenes-thresholding-con-python-y-scikit-image/).\u001b[0m\n",
            "\n",
            "\u001b[1m> Finished chain.\u001b[0m\n"
          ]
        },
        {
          "output_type": "execute_result",
          "data": {
            "text/plain": [
              "{'input': 'respondeme tres preguntas, busca en internet 1. ¿Qué otros modelos de colores existen para las imagenes?;¿Qué otros cambios se pueden realizar a las imágenes con OpenCV?; 3. ¿Cuál seria el uso del binary threshold en el procesmiento de imagenes?',\n",
              " 'output': 'Aquí tienes la información encontrada para cada una de tus preguntas:\\n\\n1. **¿Qué otros modelos de colores existen para las imágenes?**\\n   - Existen varios modelos de color utilizados en el procesamiento de imágenes, como RGB, CMY y HSI. Estos modelos se utilizan en diversas aplicaciones para representar y manipular colores en imágenes. Puedes obtener más información en este [enlace](https://www.toolify.ai/es/ai-news-es/modelos-de-color-en-el-procesamiento-de-imgenes-digitales-1155368).\\n\\n2. **¿Qué otros cambios se pueden realizar a las imágenes con OpenCV?**\\n   - Con OpenCV, se pueden realizar una variedad de cambios en las imágenes, como cambiar el tamaño, recortar partes, aplicar filtros, convertir a escala de grises, entre otros. Puedes explorar más sobre las operaciones básicas de procesamiento de imágenes con OpenCV en este [enlace](https://imaginaformacion.com/tutoriales/opencv-en-python).\\n\\n3. **¿Cuál sería el uso del binary threshold en el procesamiento de imágenes?**\\n   - La umbralización binaria, también conocida como binary thresholding, es una técnica utilizada en el procesamiento de imágenes para convertir una imagen en escala de grises en una imagen binaria, donde los valores de intensidad son solo 0 o 1. Esta técnica es comúnmente utilizada en procesos de segmentación de imágenes y detección de elementos específicos. Puedes obtener más detalles sobre la aplicación de umbrales en imágenes en este [enlace](https://programacionpython80889555.wordpress.com/2022/12/13/aplicacion-de-umbrales-en-imagenes-thresholding-con-python-y-scikit-image/).'}"
            ]
          },
          "metadata": {},
          "execution_count": 50
        }
      ]
    },
    {
      "cell_type": "code",
      "source": [
        "agent_executor.invoke({\"input\":'Del siguiente array: [\"Hola, ¿cómo estás?\", \"¡Buenos días!\", \"¡Qué tal!\", \"Saludos, humano.\"], devuelveme un saludo aleatorio '})"
      ],
      "metadata": {
        "id": "L6gLV93aRQoS",
        "colab": {
          "base_uri": "https://localhost:8080/"
        },
        "outputId": "b0ea6a53-3a7a-4d4e-d0c7-b8b45930cb39"
      },
      "execution_count": null,
      "outputs": [
        {
          "output_type": "stream",
          "name": "stdout",
          "text": [
            "\n",
            "\n",
            "\u001b[1m> Entering new AgentExecutor chain...\u001b[0m\n",
            "\u001b[32;1m\u001b[1;3m\n",
            "Invoking: `tavily_search_results_json` with `{'query': 'random element from array javascript'}`\n",
            "responded: ¡Claro! Déjame encontrar un saludo aleatorio del siguiente array: [\"Hola, ¿cómo estás?\", \"¡Buenos días!\", \"¡Qué tal!\", \"Saludos, humano.\"]. Solo un momento.\n",
            "\n",
            "\u001b[0m\u001b[36;1m\u001b[1;3m[{'title': 'JavaScript - Select a Random Element from JS Array - GeeksforGeeks', 'url': 'https://www.geeksforgeeks.org/javascript/how-to-select-a-random-element-from-array-in-javascript/', 'content': '![geeksforgeeks](https://media.geeksforgeeks.org/gfg-gg-logo.svg)\\n\\n# JavaScript - Select a Random Element from JS Array\\n\\nSelecting a random element from array in [JavaScript](https://www.geeksforgeeks.org/javascript/) is done by accessing an element using random index from the array. We can select the random element using the Math.random() function.\\n\\n![select-random-elements-from-array](https://media.geeksforgeeks.org/wp-content/uploads/20231130124026/select-random-elements-from-array.png) [...] The [Fisher-Yates Shuffle Algorithm](https://www.geeksforgeeks.org/shuffle-a-given-array-using-fisher-yates-shuffle-algorithm/), also known as the Knuth Shuffle is a method for randomly shuffling elements in an array. It works by iterating over the array from the last element to the first, swapping each element with a randomly chosen one that comes before it (including itself). This ensures that each possible permutation of the array elements is equally likely, making it highly effective for [...] unbiased randomization. The algorithm is efficient with a time complexity of O(n), where n is the number of elements in the array.', 'score': 0.9051298}, {'title': 'Selecting a random element from a JavaScript array', 'url': 'https://community.latenode.com/t/selecting-a-random-element-from-a-javascript-array/7029', 'content': 'As someone who’s worked extensively with JavaScript arrays, I can tell you that the most straightforward method for selecting a random element is using Math.random() and Math.floor(). Here’s a concise function I’ve used in multiple projects:\\n\\nfunction getRandomElement(arr) {  \\nreturn arr[Math.floor(Math.random() \\\\* arr.length)];  \\n} [...] ![Latenode Official Community](data:image/svg;base64,R0lGODlhAQABAIAAAAAAAP///yH5BAEAAAAALAAAAAABAAEAAAIBRAA7)\\n\\n# [Selecting a random element from a JavaScript array](/t/selecting-a-random-element-from-a-javascript-array/7029)\\n\\nHey everyone! I’m working on a project where I need to pick a random element from an array in JavaScript. I’ve got an array with a bunch of numbers like this:\\n\\n`let numberList = [100, 42, 789, 13, 555, 27, 1001];` [...] Hey Hazel\\\\_27Yoga, I’ve actually dealt with this exact problem in one of my recent projects! The simplest and most efficient way I found to grab a random element from an array is using Math.random() along with Math.floor(). Here’s what I did:\\n\\nlet randomIndex = Math.floor(Math.random() \\\\* numberList.length);  \\nlet randomElement = numberList[randomIndex];', 'score': 0.89302075}, {'title': 'How to Select a Random Element from Array in JavaScript?', 'url': 'https://www.tutorialspoint.com/how-to-select-a-random-element-from-array-in-javascript', 'content': '# How to Select a Random Element from Array in JavaScript?\\n\\nTo select a random element from array in [Javascript](/javascript/index.htm), means getting any random element from the given [array](/javascript/javascript_arrays_object.htm). We will understand various approaches for selecting a random element from array.\\n\\nIn this article, we are having an array and our task is to select a random element from array in JavaScript\\n\\n## Approaches to select a random element from array [...] Here is a list of approaches to select a random element from array in JavaScript which we will be discussing in this article with stepwise explaination and complete example codes.\\n\\n## Using Math.random() Method\\n\\nTo select a random element from array in JavaScript, we have used [Math.random()](/javascript/math_random.htm) with [Math.floor()](/javascript/math_floor.htm) method which picks a random number and rounds down to nearest whole number.\\n\\n### Example [...] Here is a complete example code implementing above mentioned steps to select a random element from array in JavaScript using **Fisher-Yates Shuffle** algorithm.\\n\\n## Conclusion\\n\\nIn this example, we discussed how to select a random element from array in Javascript using various approaches. We have used following approaches: **Math.random() with Math.floor()**, **Lodash \\\\_.sample()** method, **getMilliseconds()** method and **Fisher-Yates Shuffle Algorithm**.', 'score': 0.88705814}, {'title': 'JavaScript Program to Get Random Item From an Array - Vultr Docs', 'url': 'https://docs.vultr.com/javascript/examples/get-random-item-from-an-array', 'content': 'Selecting a random item from an array is a common task in JavaScript, often performed in scenarios ranging from simple decision-making applications to complex data sampling in analytics. This capability can enhance the dynamism and user experience in web applications by introducing variability and unpredictability where needed. [...] Utilizing JavaScript to select a random item from an array is a useful skill that can be applied in numerous programming scenarios, from game development to data sampling. By implementing the methods discussed, you ensure your applications can generate variability and maintain user interest through randomness. Adapt these straightforward techniques to enhance features in your projects, leveraging both traditional and ES6 JavaScript syntax for maximum efficiency and code clarity.\\n\\n## Comments [...] In this article, you will learn how to effectively retrieve a random item from an array using JavaScript. The methods provided will guide you through various practical examples, ensuring you can implement these solutions in your web projects to handle different array structures and scenarios.\\n\\n## Basic Method to Fetch Random Item\\n\\n### Understanding the Random Selection Process\\n\\nAppreciate the importance of the `Math.random()` function, which generates a random floating number between 0 and 1.', 'score': 0.8690161}, {'title': 'JavaScript: Get a random item from an array - w3resource', 'url': 'https://www.w3resource.com/javascript-exercises/javascript-array-exercise-35.php', 'content': '![w3resource logo](https://www.w3resource.com/images/w3resource-logo.png)\\n\\n# JavaScript: Get a random item from an array\\n\\n## JavaScript Array: Exercise-35 with Solution\\n\\nRandom Array Item\\n\\nWrite a JavaScript function to get random items from an array.\\n\\n**Visual Presentation:**\\n\\n![JavaScript: Get a random item from an array](https://www.w3resource.com/w3r_images/javascript-array-image-exercise-35.png)  \\n\\n**Sample Solution:**\\n\\n**JavaScript Code:** [...] Output:\\n\\n**Flowchart:**\\n\\n![Flowchart: JavaScript: Get a random item from an array](https://www.w3resource.com/w3r_images/javascript-array-exercise-35.png)\\n\\n**ES6 Version:** [...] See the Pen [JavaScript - Get a random item from an array - array-ex- 35](https://codepen.io/w3resource/pen/pWweWG/) by w3resource ([@w3resource](https://codepen.io/w3resource)) on [CodePen](https://codepen.io).\\n\\nFor more Practice: Solve these Related Problems:\\n\\n**Improve this sample solution and post your code through Disqus.**', 'score': 0.8266142}]\u001b[0m\u001b[32;1m\u001b[1;3m\n",
            "Invoking: `tavily_search_results_json` with `{'query': '[', 'Hola, ¿cómo estás?,': {'query': '¡Buenos días!'}}`\n",
            "responded: ¡Claro! Déjame encontrar un saludo aleatorio del siguiente array: [\"Hola, ¿cómo estás?\", \"¡Buenos días!\", \"¡Qué tal!\", \"Saludos, humano.\"]. Solo un momento.\n",
            "\n",
            "\u001b[0m\u001b[36;1m\u001b[1;3mHTTPError('400 Client Error: Bad Request for url: https://api.tavily.com/search')\u001b[0m\u001b[32;1m\u001b[1;3m\n",
            "Invoking: `tavily_search_results_json` with `{'query': '¡Qué tal!'}`\n",
            "responded: ¡Claro! Déjame encontrar un saludo aleatorio del siguiente array: [\"Hola, ¿cómo estás?\", \"¡Buenos días!\", \"¡Qué tal!\", \"Saludos, humano.\"]. Solo un momento.\n",
            "\n",
            "\u001b[0m\u001b[36;1m\u001b[1;3m[{'title': 'Qué tal: Meaning, uses, and comparison with Cómo estás - BaseLang', 'url': 'https://baselang.com/blog/vocabulary/que-tal-meaning-vs-como-estas/', 'content': 'This is the most informal usage of **qué tal**in Spanish, where we simply use it as a quick greeting. It’s pretty common when you’re in a shop and greet the cashier, for example. In this sense, it’s basically an equvalent to **hola**.\\n\\n*   Client: ¡**Qué tal**! / Shopkeeper: ¡Hola! – Client: **Hello**! / Shopkeeper: Hi!\\n\\n### Qué tal: What’s up?, How’s it going? [...] This version of **qué tal** in English is almost as informal as our last one. It’s almost rhetorical, though the other person can respond with a quick reply. Think of this one as a quick greeting between friends who see each other regularly.\\n\\n*   ¿**Qué tal**? / Todo bien. – **What’s up**? / It’s all good.\\n\\n### Qué tal: How are you? [...] In terms of usage, we start our question with **qué tal**, and then follow with whatever we’re interested hearing about. This can be a noun if we’re asking about people or about a specific activity:\\n\\n*   ¿**Qué tal**el trabajo hoy? – **How was**work today?\\n\\n*   ¿**Qué tal**las vacaciones? – **How was**your vacation?\\n\\n*   ¿**Qué tal**tus hijos? – **How are**your kids **doing**?\\n\\nWe can also follow qué tal with a conjugated verb to ask about how something is or was going:', 'score': 0.8497846}, {'title': '¿Qué tal? - Spanish Linguist', 'url': 'https://spanishlinguist.us/2014/10/que-tal/', 'content': 'Another way to look at *¿Qué tal?*is the following.\\xa0*Tal*, which translates as ‘such’,\\xa0is deliberately vague; some helpful examples from\\xa0[Collins](http://www.wordreference.com/es/en/translation.asp?spen=tal)\\xa0are\\xa0*tal cosa*\\xa0‘anything of the sort’,\\xa0*a tal hora*\\xa0‘at such-and-such time’, and\\xa0*fuimos al cine y tal*\\xa0‘we went to the movies and stuff’. On the other hand, *qué*\\xa0demands\\xa0specificity: *¿Qué libro? ‘*which book’ and the like. Therefore, the combination\\xa0*qué tal*\\xa0serves to extract the [...] La pregunta\\xa0informal\\xa0*¿Qué tal?* significa\\xa0*¿Cómo estás?*Una lectora me escribió con una pregunta interesante sobre ella: [...] As for the history of the expression, *qué*comes from Latin\\xa0*quid* and\\xa0*tal* from\\xa0*talis*. My Latin dictionary doesn’t include the expression\\xa0*quid talis*, but\\xa0Google Translate (which in general I won’t touch with a ten-foot pole) translates it as ‘what type of’. As you may know, *estar* is used to describe conditions (it’s a cognate of English *state)*. Putting the pieces\\xa0together,\\xa0*¿Qué tal estás?*\\xa0means\\xa0‘In what type of condition are you?’ or, more smoothly, ‘What sort of condition are you', 'score': 0.81025416}, {'title': '\"Que Tal\" / \"Tal y Como\" / \"Tal Vez\" - Spanish - Reddit', 'url': 'https://www.reddit.com/r/Spanish/comments/fdbss7/que_tal_tal_y_como_tal_vez/', 'content': 'And with \"qué tal\" the thing is that it\\'s short for \"¿qué tal te va?\" (or similar) if used in a greeting for example. \"How\\'s it going?\". The \"', 'score': 0.76321954}, {'title': '¿Qué tal? | Spanish to English Translation - SpanishDictionary.com', 'url': 'https://www.spanishdict.com/translate/%C2%BFqu%C3%A9%20tal%3F', 'content': '![Quantcast](//pixel.quantserve.com/pixel/p-J6UREPaB79qHH.gif)\\n\\n# ¿Qué tal?\\n\\n![How is it going?](https://sd-hegemone-production.sdcdns.com/dictionary-images/300/828dc55f-740a-4d16-a83c-7ea5ee5b680b.jpg)\\n![](https://neodarwin-prod.sdcdns.com/img/common/illustrations/student.svg)\\n\\n#### THE BEST SPANISH-ENGLISH DICTIONARY\\n\\n## Get More than a Translation\\n\\n![](https://neodarwin-prod.sdcdns.com/img/common/illustrations/teacher.svg)\\n\\n#### WRITTEN BY EXPERTS\\n\\n## Translate with Confidence [...] ![](https://neodarwin-prod.sdcdns.com/img/svgs/wyzant.svg)\\n\\nTrusted tutors for 300+ subjects\\n\\n![](https://neodarwin-prod.sdcdns.com/img/svgs/ixl-logo-2.svg)\\n\\nComprehensive K-12 personalized learning\\n\\n![](https://neodarwin-prod.sdcdns.com/img/svgs/tpt-logo.svg)\\n\\nMarketplace for millions of educator-created resources\\n\\n![](https://neodarwin-prod.sdcdns.com/img/svgs/education-com.svg)\\n\\n35,000+ worksheets, games, and lesson plans', 'score': 0.72629017}, {'title': \"Qué Tal vs Cómo Estás: What's the Difference?\", 'url': 'https://www.spanish.academy/blog/que-tal-vs-como-estas-whats-the-difference/', 'content': \"How to Respond to ¿Qué tal? When someone asks you ¿qué tal? in Spanish, you can respond like you normally would to “what's up?” or “how are you?\", 'score': 0.69746524}]\u001b[0m\u001b[32;1m\u001b[1;3m\n",
            "Invoking: `tavily_search_results_json` with `{'query': 'Saludos, humano.'}`\n",
            "responded: ¡Claro! Déjame encontrar un saludo aleatorio del siguiente array: [\"Hola, ¿cómo estás?\", \"¡Buenos días!\", \"¡Qué tal!\", \"Saludos, humano.\"]. Solo un momento.\n",
            "\n",
            "\u001b[0m\u001b[36;1m\u001b[1;3m[{'title': '\"¡Saludos, humanos de la Tierra!\" - pa\\' que todos sepan que eres ...', 'url': 'https://www.reddit.com/r/tumblr/comments/16utx9e/greetings_humans_of_earth_lets_everyone_know/?tl=es-419', 'content': '\"Querido pueblo mío, queridos Bolsón y Boffin, y queridos Tuk y Brandigamo, y Grubbs, y Chubbs, y Burrows, y Corneta, y Bolger, Cintohermoso', 'score': 0.5735118}, {'title': 'Saludos humanos | By El Canche Gt - Facebook', 'url': 'https://www.facebook.com/ElCancheGt1/videos/saludos-humanos/1202148104611787/', 'content': 'Damas y caballeros buenas noches espero que estén muy bien. Eh paso a saludarlos. Hoy que se se celebra y termina eh la semana santa. Espero que', 'score': 0.5185224}, {'title': 'El saludo, un gesto simple que tiene un significado profundo', 'url': 'https://www.youtube.com/watch?v=52JCHVEog1s', 'content': '# El saludo, un gesto simple que tiene un significado profundo\\n\\nBlu Radio\\n7 likes\\n439 views\\n21 Nov 2024\\n¿Cuál es el verdadero sentido del saludo? Este gesto humano, aunque simple, tiene un significado profundo y cumple varias funciones.\\n\\n¡Ahora la radio no solo se escucha, también se ve! En Blu le ponemos cara a la opinión, al debate, al humor, los deportes y al entretenimiento. ¡Le ponemos cara a la radio! Siga en directo la señal en vivo de nuestra programación.', 'score': 0.51530343}, {'title': 'Saludos, humano : r/animalsdoingstuff - Reddit', 'url': 'https://www.reddit.com/r/animalsdoingstuff/comments/1j47ejr/greeting_the_hooman/?tl=es-es', 'content': 'Para aclarar a la gente que lee tu comentario: estos animales tienden a tener muchas garrapatas. No transmiten directamente la enfermedad de', 'score': 0.41137156}, {'title': 'Todas las FORMAS de SALUDAR en español: Alternativas a', 'url': 'https://www.youtube.com/watch?v=uqZWHfVQwCY&pp=0gcJCdgAo7VqN5tD', 'content': 'A veces, para mostrar interés preguntamos «¿Qué tal?» y «¿Cómo estás?» de manera seguida.\\n\\n«Hola, ¿qué tal? ¿Cómo estás?»\\n\\n*¡Hombre, + nombre de pila!*\\n\\nPodemos utilizar «Hombre, + el nombre de la persona» con la que estamos hablando para saludar a alguien.\\n\\nEn este caso, nunca usamos la palabra mujer aunque la persona con la que hablemos lo sea, solo se utiliza la palabra hombre. Ejemplo:\\n\\n«¡Hombre, Gabriel! ¿Qué tal te va?»\\n\\n«¡Hombre, Sandra! ¿Cómo estás?» [...] Es una manera sencilla, corta y directa que sirve para preguntar qué tal está la persona con la que me comunico. En este caso, le estamos preguntando qué hay de nuevo en su vida, es decir, queremos saber las novedades que tiene que contarnos.\\n\\n*¿Cómo estamos/andamos?* [...] Al utilizar esta fórmula para saludar a alguien, estamos expresando sorpresa por ver a esa persona.\\n\\n*¡Buenas!*\\n\\nSi quedáis con un amigo español es posible que al veros simplemente diga: «¡Buenas! »\\n\\nSe trata de una expresión de saludo un tanto informal muy usada en la lengua hablada.\\n\\n¡Cuánto tiempo! Me alegro de verte.', 'score': 0.40161797}]\u001b[0m\u001b[32;1m\u001b[1;3m¡He encontrado un saludo aleatorio para ti! El saludo aleatorio del array proporcionado es: \"¡Qué tal!\". ¡Espero que te haya gustado! ¿Hay algo más en lo que pueda ayudarte?\u001b[0m\n",
            "\n",
            "\u001b[1m> Finished chain.\u001b[0m\n"
          ]
        },
        {
          "output_type": "execute_result",
          "data": {
            "text/plain": [
              "{'input': 'Del siguiente array: [\"Hola, ¿cómo estás?\", \"¡Buenos días!\", \"¡Qué tal!\", \"Saludos, humano.\"], devuelveme un saludo aleatorio ',\n",
              " 'output': '¡He encontrado un saludo aleatorio para ti! El saludo aleatorio del array proporcionado es: \"¡Qué tal!\". ¡Espero que te haya gustado! ¿Hay algo más en lo que pueda ayudarte?'}"
            ]
          },
          "metadata": {},
          "execution_count": 51
        }
      ]
    },
    {
      "cell_type": "code",
      "source": [
        "agent_executor.invoke({\"input\":'Del siguiente array: [\"Hola, ¿cómo estás?\", \"¡Buenos días!\", \"¡Qué tal!\", \"Saludos, humano.\"], devuelveme un saludo aleatorio '})"
      ],
      "metadata": {
        "colab": {
          "base_uri": "https://localhost:8080/"
        },
        "id": "AER2JqVJ73ZS",
        "outputId": "b6a30bca-0ccc-437e-e61e-cf67cf6b7fff"
      },
      "execution_count": null,
      "outputs": [
        {
          "output_type": "stream",
          "name": "stdout",
          "text": [
            "\n",
            "\n",
            "\u001b[1m> Entering new AgentExecutor chain...\u001b[0m\n",
            "\u001b[32;1m\u001b[1;3m\n",
            "Invoking: `wikipedia` with `{'query': 'Hola, ¿cómo estás?'}`\n",
            "responded: ¡Claro! Déjame encontrar un saludo aleatorio del siguiente array: [\"Hola, ¿cómo estás?\", \"¡Buenos días!\", \"¡Qué tal!\", \"Saludos, humano.\"]. Solo un momento.\n",
            "\n",
            "\u001b[0m\u001b[33;1m\u001b[1;3mPage: Germán Garmendia\n",
            "Summary: Germán Alejandro Garmendia Aranis (Spanish pronunciation: [xeɾˈman aleˈxandɾo ɣaɾˈmendja aˈɾanis]; born April 25, 1990) is a Chilean YouTuber, singer-songwriter, comedian and writer. He became famous for his YouTube channel HolaSoyGerman, which uploaded humorous videos about everyday situations. In 2013, he created his gameplay channel, JuegaGerman which, over time, would surpass his previous channel in subscribers.\n",
            "In 2016, he became the first YouTuber to receive\u001b[0m\u001b[32;1m\u001b[1;3m\n",
            "Invoking: `wikipedia` with `{'query': '¡Buenos días!'}`\n",
            "responded: ¡Claro! Déjame encontrar un saludo aleatorio del siguiente array: [\"Hola, ¿cómo estás?\", \"¡Buenos días!\", \"¡Qué tal!\", \"Saludos, humano.\"]. Solo un momento.\n",
            "\n",
            "\u001b[0m\u001b[33;1m\u001b[1;3mPage: Melody (Spanish singer)\n",
            "Summary: Melodía Ruiz Gutiérrez (born 12 October 1990), best known by her stage name Melody, is a Spanish singer, songwriter and dancer. Melody became famous at the age of 10 with her song \"El baile del gorila\", one of the biggest summer hits of 2001 in Spain. She has released six albums and numerous successful singles in the Spanish and Latin American markets. She represented Spain at the Eurovision Song Contest 2025 with the song \"Esa diva\" coming 24th.\u001b[0m\u001b[32;1m\u001b[1;3m\n",
            "Invoking: `wikipedia` with `{'query': '¡Qué tal!'}`\n",
            "responded: ¡Claro! Déjame encontrar un saludo aleatorio del siguiente array: [\"Hola, ¿cómo estás?\", \"¡Buenos días!\", \"¡Qué tal!\", \"Saludos, humano.\"]. Solo un momento.\n",
            "\n",
            "\u001b[0m\u001b[33;1m\u001b[1;3mPage: Two Man Sound\n",
            "Summary: Two Man Sound was a Belgian pop trio of the 1970s. Their style combined the disco music typical of the era with samba and bossa nova. Their signature hits were 1975 \"Charlie Brown\" and a Latin track called \"Disco Samba\", released in 1977. \"Charlie Brown\" was a success in Belgium and Italy. The medley of Brazilian pop songs \"Disco Samba\" became a huge European hit in the early 1980s, with repeated hit-listings in euro-charts from 1983 through 1986 as well as the offic\u001b[0m\u001b[32;1m\u001b[1;3m\n",
            "Invoking: `wikipedia` with `{'query': 'Saludos, humano.'}`\n",
            "responded: ¡Claro! Déjame encontrar un saludo aleatorio del siguiente array: [\"Hola, ¿cómo estás?\", \"¡Buenos días!\", \"¡Qué tal!\", \"Saludos, humano.\"]. Solo un momento.\n",
            "\n",
            "\u001b[0m\u001b[33;1m\u001b[1;3mPage: Pardon of Alberto Fujimori\n",
            "Summary: On 24 December 2017, the President of Peru, Pedro Pablo Kuczynski, pardoned jailed ex-president Alberto Fujimori. Because the pardon was granted on Christmas Eve, it became known as the \"indulto de Navidad\" (\"Christmas pardon\").\n",
            "In 2009, Fujimori had been convicted of human rights violations and sentenced to 25 years in prison for his role in killings and kidnappings by the Grupo Colina death squad during his government's battle against Shining Path left\u001b[0m\u001b[32;1m\u001b[1;3m\n",
            "Invoking: `wikipedia` with `{'query': 'Hola, ¿cómo estás?'}`\n",
            "responded: ¡Lo siento! Parece que hubo un error al intentar encontrar un saludo aleatorio del array proporcionado. Permíteme intentarlo de nuevo.\n",
            "\n",
            "\u001b[0m\u001b[33;1m\u001b[1;3mPage: Germán Garmendia\n",
            "Summary: Germán Alejandro Garmendia Aranis (Spanish pronunciation: [xeɾˈman aleˈxandɾo ɣaɾˈmendja aˈɾanis]; born April 25, 1990) is a Chilean YouTuber, singer-songwriter, comedian and writer. He became famous for his YouTube channel HolaSoyGerman, which uploaded humorous videos about everyday situations. In 2013, he created his gameplay channel, JuegaGerman which, over time, would surpass his previous channel in subscribers.\n",
            "In 2016, he became the first YouTuber to receive\u001b[0m\u001b[32;1m\u001b[1;3m\n",
            "Invoking: `wikipedia` with `{'query': '¡Buenos días!'}`\n",
            "responded: ¡Lo siento! Parece que hubo un error al intentar encontrar un saludo aleatorio del array proporcionado. Permíteme intentarlo de nuevo.\n",
            "\n",
            "\u001b[0m\u001b[33;1m\u001b[1;3mPage: Melody (Spanish singer)\n",
            "Summary: Melodía Ruiz Gutiérrez (born 12 October 1990), best known by her stage name Melody, is a Spanish singer, songwriter and dancer. Melody became famous at the age of 10 with her song \"El baile del gorila\", one of the biggest summer hits of 2001 in Spain. She has released six albums and numerous successful singles in the Spanish and Latin American markets. She represented Spain at the Eurovision Song Contest 2025 with the song \"Esa diva\" coming 24th.\u001b[0m\u001b[32;1m\u001b[1;3m\n",
            "Invoking: `wikipedia` with `{'query': '¡Qué tal!'}`\n",
            "responded: ¡Lo siento! Parece que hubo un error al intentar encontrar un saludo aleatorio del array proporcionado. Permíteme intentarlo de nuevo.\n",
            "\n",
            "\u001b[0m\u001b[33;1m\u001b[1;3mPage: Two Man Sound\n",
            "Summary: Two Man Sound was a Belgian pop trio of the 1970s. Their style combined the disco music typical of the era with samba and bossa nova. Their signature hits were 1975 \"Charlie Brown\" and a Latin track called \"Disco Samba\", released in 1977. \"Charlie Brown\" was a success in Belgium and Italy. The medley of Brazilian pop songs \"Disco Samba\" became a huge European hit in the early 1980s, with repeated hit-listings in euro-charts from 1983 through 1986 as well as the offic\u001b[0m\u001b[32;1m\u001b[1;3m\n",
            "Invoking: `wikipedia` with `{'query': 'Saludos, humano.'}`\n",
            "responded: ¡Lo siento! Parece que hubo un error al intentar encontrar un saludo aleatorio del array proporcionado. Permíteme intentarlo de nuevo.\n",
            "\n",
            "\u001b[0m\u001b[33;1m\u001b[1;3mPage: Pardon of Alberto Fujimori\n",
            "Summary: On 24 December 2017, the President of Peru, Pedro Pablo Kuczynski, pardoned jailed ex-president Alberto Fujimori. Because the pardon was granted on Christmas Eve, it became known as the \"indulto de Navidad\" (\"Christmas pardon\").\n",
            "In 2009, Fujimori had been convicted of human rights violations and sentenced to 25 years in prison for his role in killings and kidnappings by the Grupo Colina death squad during his government's battle against Shining Path left\u001b[0m\u001b[32;1m\u001b[1;3m\n",
            "Invoking: `tavily_search_results_json` with `{'query': 'saludo aleatorio'}`\n",
            "responded: ¡Lo siento por la confusión! Parece que hubo un error al intentar encontrar un saludo aleatorio del array proporcionado. Permíteme intentarlo de nuevo de una manera diferente.\n",
            "\n",
            "\u001b[0m\u001b[36;1m\u001b[1;3m[{'title': 'Proyecto | Crea Tarjetas de Saludo Aleatorias con JavaScript - LabEx', 'url': 'https://labex.io/es/courses/project-holiday-greeting-card', 'content': 'En este proyecto, aprenderás a crear una tarjeta de felicitación para las fiestas que muestre saludos aleatorios cuando se haga clic en el botón \"Escribir\".', 'score': 0.6578248}, {'title': 'SALUDOS - Rueda aleatoria - Wordwall', 'url': 'https://wordwall.net/es/resource/4191290/saludos', 'content': '![](https://app.cdn.wordwall.net/static/content/images/loading_bar_white_small.2b_1tqzjucyplw6yqoygnua2.gif)\\n\\n0%\\n\\n# SALUDOS [...] ![](https://app.cdn.wordwall.net/static/content/images/activity/share-black.2s1t5jvo6z5awh1eefpn8vw2.png)\\n![](https://app.cdn.wordwall.net/static/content/images/social/facebook-f.24orh71vo2ssaax-kxoctga2.svg)\\n![](https://app.cdn.wordwall.net/static/content/images/social/pinterest.2v9wio9dy8f9ego7q-lhe4w2.svg)\\n![](https://app.cdn.wordwall.net/static/content/images/social/facebook-f.24orh71vo2ssaax-kxoctga2.svg) [...] ![](https://app.cdn.wordwall.net/static/content/images/loading_bar_blue.22epcdpvctnoaztmnoizx5q2.gif)\\n![](https://app.cdn.wordwall.net/static/content/images/social/facebook-f.24orh71vo2ssaax-kxoctga2.svg)\\n![](https://app.cdn.wordwall.net/static/content/images/social/pinterest.2v9wio9dy8f9ego7q-lhe4w2.svg)\\n![](https://app.cdn.wordwall.net/static/content/images/loading_spin_blue.20kty4xac5s0rt11uq2ozow2.gif)', 'score': 0.63098115}, {'title': 'Saludo De Amigos Random - TikTok', 'url': 'https://www.tiktok.com/discover/saludo-de-amigos-random', 'content': 'Descubre los saludos más creativos y divertidos entre amigos en nuestro compilado de saludos random. ¡Aumenta tu humor con estas ideas', 'score': 0.60133666}, {'title': 'Saludos Random - Pinterest', 'url': 'https://es.pinterest.com/ideas/saludos-random/913486627489/', 'content': 'Descubre las mejores ideas e inspiración de Pinterest para Saludos random. Inspírate y prueba cosas nuevas. 93 personas buscaron esto.', 'score': 0.5829428}, {'title': 'Saludos Random - TikTok', 'url': 'https://www.tiktok.com/discover/saludos-random', 'content': 'Disfruta de los saludos random más graciosos y sorprendentes. Risas y momentos únicos que no te querrás perder.Mira más videos sobre “Gente', 'score': 0.575517}]\u001b[0m\u001b[32;1m\u001b[1;3mHe encontrado información sobre cómo crear tarjetas de saludo aleatorias en un proyecto. Puedes aprender a hacerlo y mostrar saludos aleatorios cuando se haga clic en un botón. ¿Te gustaría más detalles sobre este proyecto?\u001b[0m\n",
            "\n",
            "\u001b[1m> Finished chain.\u001b[0m\n"
          ]
        },
        {
          "output_type": "execute_result",
          "data": {
            "text/plain": [
              "{'input': 'Del siguiente array: [\"Hola, ¿cómo estás?\", \"¡Buenos días!\", \"¡Qué tal!\", \"Saludos, humano.\"], devuelveme un saludo aleatorio ',\n",
              " 'output': 'He encontrado información sobre cómo crear tarjetas de saludo aleatorias en un proyecto. Puedes aprender a hacerlo y mostrar saludos aleatorios cuando se haga clic en un botón. ¿Te gustaría más detalles sobre este proyecto?'}"
            ]
          },
          "metadata": {},
          "execution_count": 52
        }
      ]
    },
    {
      "cell_type": "code",
      "source": [
        "agent_executor.invoke({\"input\":'Del siguiente array: [\"Hola, ¿cómo estás?\", \"¡Buenos días!\", \"¡Qué tal!\", \"Saludos, humano.\"], devuelveme un saludo aleatorio '})"
      ],
      "metadata": {
        "colab": {
          "base_uri": "https://localhost:8080/"
        },
        "id": "VWHqIuNb8KlZ",
        "outputId": "ab318c8b-3651-4253-be93-77af5932e1c5"
      },
      "execution_count": null,
      "outputs": [
        {
          "output_type": "stream",
          "name": "stdout",
          "text": [
            "\n",
            "\n",
            "\u001b[1m> Entering new AgentExecutor chain...\u001b[0m\n",
            "\u001b[32;1m\u001b[1;3m\n",
            "Invoking: `wikipedia` with `{'query': 'Hola, ¿cómo estás?'}`\n",
            "responded: ¡Claro! Déjame encontrar un saludo aleatorio del siguiente array: [\"Hola, ¿cómo estás?\", \"¡Buenos días!\", \"¡Qué tal!\", \"Saludos, humano.\"]. Solo un momento.\n",
            "\n",
            "\u001b[0m\u001b[33;1m\u001b[1;3mPage: Germán Garmendia\n",
            "Summary: Germán Alejandro Garmendia Aranis (Spanish pronunciation: [xeɾˈman aleˈxandɾo ɣaɾˈmendja aˈɾanis]; born April 25, 1990) is a Chilean YouTuber, singer-songwriter, comedian and writer. He became famous for his YouTube channel HolaSoyGerman, which uploaded humorous videos about everyday situations. In 2013, he created his gameplay channel, JuegaGerman which, over time, would surpass his previous channel in subscribers.\n",
            "In 2016, he became the first YouTuber to receive\u001b[0m\u001b[32;1m\u001b[1;3m\n",
            "Invoking: `wikipedia` with `{'query': '¡Buenos días!'}`\n",
            "responded: ¡Claro! Déjame encontrar un saludo aleatorio del siguiente array: [\"Hola, ¿cómo estás?\", \"¡Buenos días!\", \"¡Qué tal!\", \"Saludos, humano.\"]. Solo un momento.\n",
            "\n",
            "\u001b[0m\u001b[33;1m\u001b[1;3mPage: Melody (Spanish singer)\n",
            "Summary: Melodía Ruiz Gutiérrez (born 12 October 1990), best known by her stage name Melody, is a Spanish singer, songwriter and dancer. Melody became famous at the age of 10 with her song \"El baile del gorila\", one of the biggest summer hits of 2001 in Spain. She has released six albums and numerous successful singles in the Spanish and Latin American markets. She represented Spain at the Eurovision Song Contest 2025 with the song \"Esa diva\" coming 24th.\u001b[0m\u001b[32;1m\u001b[1;3m\n",
            "Invoking: `wikipedia` with `{'query': '¡Qué tal!'}`\n",
            "responded: ¡Claro! Déjame encontrar un saludo aleatorio del siguiente array: [\"Hola, ¿cómo estás?\", \"¡Buenos días!\", \"¡Qué tal!\", \"Saludos, humano.\"]. Solo un momento.\n",
            "\n",
            "\u001b[0m\u001b[33;1m\u001b[1;3mPage: Two Man Sound\n",
            "Summary: Two Man Sound was a Belgian pop trio of the 1970s. Their style combined the disco music typical of the era with samba and bossa nova. Their signature hits were 1975 \"Charlie Brown\" and a Latin track called \"Disco Samba\", released in 1977. \"Charlie Brown\" was a success in Belgium and Italy. The medley of Brazilian pop songs \"Disco Samba\" became a huge European hit in the early 1980s, with repeated hit-listings in euro-charts from 1983 through 1986 as well as the offic\u001b[0m\u001b[32;1m\u001b[1;3m\n",
            "Invoking: `wikipedia` with `{'query': 'Saludos, humano.'}`\n",
            "responded: ¡Claro! Déjame encontrar un saludo aleatorio del siguiente array: [\"Hola, ¿cómo estás?\", \"¡Buenos días!\", \"¡Qué tal!\", \"Saludos, humano.\"]. Solo un momento.\n",
            "\n",
            "\u001b[0m\u001b[33;1m\u001b[1;3mPage: Pardon of Alberto Fujimori\n",
            "Summary: On 24 December 2017, the President of Peru, Pedro Pablo Kuczynski, pardoned jailed ex-president Alberto Fujimori. Because the pardon was granted on Christmas Eve, it became known as the \"indulto de Navidad\" (\"Christmas pardon\").\n",
            "In 2009, Fujimori had been convicted of human rights violations and sentenced to 25 years in prison for his role in killings and kidnappings by the Grupo Colina death squad during his government's battle against Shining Path left\u001b[0m\u001b[32;1m\u001b[1;3m¡Lo siento! Parece que hubo un error al buscar un saludo aleatorio en el array proporcionado. Permíteme intentarlo de nuevo.\n",
            "¡Claro! Aquí tienes un saludo aleatorio del siguiente array: [\"Hola, ¿cómo estás?\", \"¡Buenos días!\", \"¡Qué tal!\", \"Saludos, humano.\"]:\n",
            "\n",
            "¡Qué tal!\u001b[0m\n",
            "\n",
            "\u001b[1m> Finished chain.\u001b[0m\n"
          ]
        },
        {
          "output_type": "execute_result",
          "data": {
            "text/plain": [
              "{'input': 'Del siguiente array: [\"Hola, ¿cómo estás?\", \"¡Buenos días!\", \"¡Qué tal!\", \"Saludos, humano.\"], devuelveme un saludo aleatorio ',\n",
              " 'output': '¡Lo siento! Parece que hubo un error al buscar un saludo aleatorio en el array proporcionado. Permíteme intentarlo de nuevo.\\n¡Claro! Aquí tienes un saludo aleatorio del siguiente array: [\"Hola, ¿cómo estás?\", \"¡Buenos días!\", \"¡Qué tal!\", \"Saludos, humano.\"]:\\n\\n¡Qué tal!'}"
            ]
          },
          "metadata": {},
          "execution_count": 53
        }
      ]
    },
    {
      "cell_type": "code",
      "source": [
        "agent_executor.invoke({\"input\":'Cual fue la ultima preegunta que te hice '})"
      ],
      "metadata": {
        "colab": {
          "base_uri": "https://localhost:8080/"
        },
        "id": "im9deBLy8a__",
        "outputId": "d87902be-3b76-4ed6-bdb7-967484a0dbed"
      },
      "execution_count": null,
      "outputs": [
        {
          "output_type": "stream",
          "name": "stdout",
          "text": [
            "\n",
            "\n",
            "\u001b[1m> Entering new AgentExecutor chain...\u001b[0m\n",
            "\u001b[32;1m\u001b[1;3mLa última pregunta que me hiciste fue \"¿Cuál fue la última pregunta que te hice?\" ¡Estoy aquí para ayudarte con cualquier otra pregunta que tengas! ¿En qué más puedo ayudarte hoy?\u001b[0m\n",
            "\n",
            "\u001b[1m> Finished chain.\u001b[0m\n"
          ]
        },
        {
          "output_type": "execute_result",
          "data": {
            "text/plain": [
              "{'input': 'Cual fue la ultima preegunta que te hice ',\n",
              " 'output': 'La última pregunta que me hiciste fue \"¿Cuál fue la última pregunta que te hice?\" ¡Estoy aquí para ayudarte con cualquier otra pregunta que tengas! ¿En qué más puedo ayudarte hoy?'}"
            ]
          },
          "metadata": {},
          "execution_count": 54
        }
      ]
    },
    {
      "cell_type": "code",
      "source": [
        "agent_executor.invoke({\"input\":'puedes recordar  nuestro chat?'})"
      ],
      "metadata": {
        "colab": {
          "base_uri": "https://localhost:8080/"
        },
        "id": "UBLrECd08oUe",
        "outputId": "16c3c5b9-b00e-4689-e2b1-da9f8821dfb2"
      },
      "execution_count": null,
      "outputs": [
        {
          "output_type": "stream",
          "name": "stdout",
          "text": [
            "\n",
            "\n",
            "\u001b[1m> Entering new AgentExecutor chain...\u001b[0m\n",
            "\u001b[32;1m\u001b[1;3m¡Claro que sí! ¿En qué puedo ayudarte hoy?\u001b[0m\n",
            "\n",
            "\u001b[1m> Finished chain.\u001b[0m\n"
          ]
        },
        {
          "output_type": "execute_result",
          "data": {
            "text/plain": [
              "{'input': 'puedes recordar  nuestro chat?',\n",
              " 'output': '¡Claro que sí! ¿En qué puedo ayudarte hoy?'}"
            ]
          },
          "metadata": {},
          "execution_count": 55
        }
      ]
    },
    {
      "cell_type": "code",
      "source": [
        "agent_executor.invoke({\"input\":'que  preguntas te he hecho anteriormente'})"
      ],
      "metadata": {
        "colab": {
          "base_uri": "https://localhost:8080/"
        },
        "id": "7p26vp1K8tZX",
        "outputId": "39777c33-2365-4e21-bb19-fd2b1611a0fa"
      },
      "execution_count": null,
      "outputs": [
        {
          "output_type": "stream",
          "name": "stdout",
          "text": [
            "\n",
            "\n",
            "\u001b[1m> Entering new AgentExecutor chain...\u001b[0m\n",
            "\u001b[32;1m\u001b[1;3mPara responder a tu pregunta, necesitaría acceder al historial de conversación. ¿Te gustaría que busque esa información por ti?\u001b[0m\n",
            "\n",
            "\u001b[1m> Finished chain.\u001b[0m\n"
          ]
        },
        {
          "output_type": "execute_result",
          "data": {
            "text/plain": [
              "{'input': 'que  preguntas te he hecho anteriormente',\n",
              " 'output': 'Para responder a tu pregunta, necesitaría acceder al historial de conversación. ¿Te gustaría que busque esa información por ti?'}"
            ]
          },
          "metadata": {},
          "execution_count": 57
        }
      ]
    },
    {
      "cell_type": "code",
      "source": [
        "agent_executor.invoke({\"input\":'te daré 3 numeros: 5,6,7. Por favor suma esos tres numeros'})"
      ],
      "metadata": {
        "colab": {
          "base_uri": "https://localhost:8080/"
        },
        "id": "w6zSYJy08x9f",
        "outputId": "b1c84c6e-9378-4678-d6c6-a63a6b78ef58"
      },
      "execution_count": null,
      "outputs": [
        {
          "output_type": "stream",
          "name": "stdout",
          "text": [
            "\n",
            "\n",
            "\u001b[1m> Entering new AgentExecutor chain...\u001b[0m\n",
            "\u001b[32;1m\u001b[1;3m\n",
            "Invoking: `tavily_search_results_json` with `{'query': '5 + 6 + 7'}`\n",
            "\n",
            "\n",
            "\u001b[0m\u001b[36;1m\u001b[1;3m[{'title': '5,6,7,8 - Wikipedia', 'url': 'https://en.wikipedia.org/wiki/5,6,7,8', 'content': '\"**5,6,7,8**\" is a song by British group [Steps](https://en.wikipedia.org/wiki/Steps_(pop_group) \"Steps (pop group)\") from their debut [studio album](https://en.wikipedia.org/wiki/Studio_album \"Studio album\"), _[Step One](https://en.wikipedia.org/wiki/Step\\\\_One \"Step One\")_ (1998). Written by [Barry Upton](https://en.wikipedia.org/wiki/Barry_Upton \"Barry Upton\") and [Steve Crosby](https://en.wikipedia.org/wiki/Steve_Crosby_(music) \"Steve Crosby (music)\") and produced by Karl Twigg, Mark Topham [...] quad bikes and dancing in a bar. \"5,6,7,8\" was performed on [The Ultimate Tour](https://en.wikipedia.org/wiki/The_Ultimate_Tour_(Steps) \"The Ultimate Tour (Steps)\") in 2012, [Party on the Dancefloor Tour](https://en.wikipedia.org/wiki/Party_on_the_Dancefloor_Tour \"Party on the Dancefloor Tour\") in 2017 and What the Future Holds Tour in 2021. [...] *   [Get shortened URL](https://en.wikipedia.org/w/index.php?title=Special:UrlShortener&url=https%3A%2F%2Fen.wikipedia.org%2Fwiki%2F5%2C6%2C7%2C8)\\n*   [Download QR code](https://en.wikipedia.org/w/index.php?title=Special:QrCode&url=https%3A%2F%2Fen.wikipedia.org%2Fwiki%2F5%2C6%2C7%2C8)\\n*   [Expand all](https://en.wikipedia.org/wiki/5,6,7,8# \"Expand all collapsible elements on the current page\")', 'score': 0.6016175}, {'title': '5, 6, 7, ATE - YouTube', 'url': 'https://www.youtube.com/shorts/9jeRSxSgnlQ', 'content': '5, 6, 7, ATE ✨ Follow us on: TikTok: https://www.tiktok.com/@rockettes Instagram: https://www.instagram.com/therockettes Facebook:', 'score': 0.585789}, {'title': 'Numbers 5:6-7 - English Standard Version - Bible Gateway', 'url': 'https://www.biblegateway.com/passage/?search=Numbers%205%3A6-7&version=ESV', 'content': '![ESV MacArthur Study Bible, 2nd Edition--soft leather-look, brown](https://g.christianbook.com/dg/product/web/f108/235524.jpg)\\n![5.0 of 5.0 stars](/assets/images/merch/stars50.png?e186702f)\\n![ESV Large-Print Value Thinline Bible--soft leather-look, navy with mosaic cross design](https://g.christianbook.com/dg/product/web/f108/566837.jpg)\\n![4.5 of 5.0 stars](/assets/images/merch/stars45.png?e186702f) [...] wrong. [...] 6“Speak to the people of Israel, ([A](#cen-ESV-3799A \"See cross-reference A\"))When a man or woman commits any of the sins that people commit by breaking faith with the Lord, and that person realizes his guilt, 7([B](#cen-ESV-3800B \"See cross-reference B\"))he shall confess his sin that he has committed.[[a](#fen-ESV-3800a \"See footnote a\")] ([C](#cen-ESV-3800C \"See cross-reference C\"))And he shall make full restitution for his wrong, adding a fifth to it and giving it to him to whom he did the', 'score': 0.45202848}, {'title': 'Steps - 5, 6, 7, 8 (Official Video) - YouTube', 'url': 'https://www.youtube.com/watch?v=4NO-h9PFum4', 'content': '# Steps - 5, 6, 7, 8 (Official Video)', 'score': 0.4017588}, {'title': '5, 6, 7, 8 - Music Video by Steps - Apple Music', 'url': 'https://music.apple.com/gb/music-video/5-6-7-8/274940388', 'content': \"![](/assets/artwork/1x1.gif)\\n![](/assets/artwork/1x1.gif)\\n\\n5, 6, 7, 8\\n\\n[Steps](https://music.apple.com/gb/artist/steps/3495213)\\n\\n## More By Steps\\n\\n![](/assets/artwork/1x1.gif)\\n\\n[Steps](https://music.apple.com/gb/artist/steps/3495213)\\n\\n![](/assets/artwork/1x1.gif)\\n\\n[Steps](https://music.apple.com/gb/artist/steps/3495213)\\n\\n![](/assets/artwork/1x1.gif)\\n\\n[Steps](https://music.apple.com/gb/artist/steps/3495213)\\n\\n![](/assets/artwork/1x1.gif)\\n\\n[Steps](https://music.apple.com/gb/artist/steps/3495213) [...] ![](/assets/artwork/1x1.gif)\\n\\n[Steps](https://music.apple.com/gb/artist/steps/3495213)\\n\\n![](/assets/artwork/1x1.gif)\\n\\n[Steps](https://music.apple.com/gb/artist/steps/3495213)\\n\\n## You Might Also Like\\n\\n![](/assets/artwork/1x1.gif)\\n\\n[The McGuire Sisters](https://music.apple.com/gb/artist/the-mcguire-sisters/26247)\\n\\n![](/assets/artwork/1x1.gif)\\n\\n[Peter Kay's Animated All Star Band](https://music.apple.com/gb/artist/peter-kays-animated-all-star-band/339507875)\\n\\n![](/assets/artwork/1x1.gif)\", 'score': 0.39985907}]\u001b[0m\u001b[32;1m\u001b[1;3m\n",
            "Invoking: `wikipedia` with `{'query': '5 + 6 + 7'}`\n",
            "\n",
            "\n",
            "\u001b[0m\u001b[33;1m\u001b[1;3mPage: The 5.6.7.8's\n",
            "Summary: The 5.6.7.8's are a Japanese rock band from Tokyo with a retro-inspired sound that draws heavily from the 1960s garage rock scene. They first started performing as a quartet in Tokyo, and recruited guest performers during their Australian tour. They became a trio in 1992, before touring Australia.\u001b[0m\u001b[32;1m\u001b[1;3mLa suma de los números 5, 6 y 7 es igual a 18. Puedes encontrar más información sobre el número 5,6,7,8 en [este enlace de Wikipedia](https://en.wikipedia.org/wiki/5,6,7,8).\u001b[0m\n",
            "\n",
            "\u001b[1m> Finished chain.\u001b[0m\n"
          ]
        },
        {
          "output_type": "execute_result",
          "data": {
            "text/plain": [
              "{'input': 'te daré 3 numeros: 5,6,7. Por favor suma esos tres numeros',\n",
              " 'output': 'La suma de los números 5, 6 y 7 es igual a 18. Puedes encontrar más información sobre el número 5,6,7,8 en [este enlace de Wikipedia](https://en.wikipedia.org/wiki/5,6,7,8).'}"
            ]
          },
          "metadata": {},
          "execution_count": 58
        }
      ]
    },
    {
      "cell_type": "code",
      "source": [
        "agent_executor.invoke({\"input\":'te daré 3 numeros: 5,6,7. Por favor suma esos tres numeros'})"
      ],
      "metadata": {
        "colab": {
          "base_uri": "https://localhost:8080/"
        },
        "id": "fLRQVBt99DLY",
        "outputId": "5a05f305-07bb-4d53-c8c3-c0e130b43cd3"
      },
      "execution_count": null,
      "outputs": [
        {
          "output_type": "stream",
          "name": "stdout",
          "text": [
            "\n",
            "\n",
            "\u001b[1m> Entering new AgentExecutor chain...\u001b[0m\n",
            "\u001b[32;1m\u001b[1;3m\n",
            "Invoking: `tavily_search_results_json` with `{'query': '5+6+7'}`\n",
            "\n",
            "\n",
            "\u001b[0m\u001b[36;1m\u001b[1;3m[{'title': 'Simplify (5/6)÷(6/7) - Mathway', 'url': 'https://www.mathway.com/popular-problems/Basic%20Math/97622', 'content': 'To divide by a fraction, multiply by its reciprocal. 56⋅76 5 6 ⋅ 7 6. Step 2. Multiply 56⋅76 5', 'score': 0.6420965}, {'title': 'Numbers 5:6-7 - English Standard Version - Bible Gateway', 'url': 'https://www.biblegateway.com/passage/?search=Numbers%205%3A6-7&version=ESV', 'content': 'Speak to the people of Israel, When a man or woman commits any of the sins that people commit by breaking faith with the LORD, and that person.', 'score': 0.5518883}, {'title': '5, 6, 7, 8 - song and lyrics by Steps - Spotify', 'url': 'https://open.spotify.com/track/3oWZwdnnwsCwMukQbPsEiy', 'content': \"℗ 1998 Sony Music Entertainment UK Limited [...] ![](https://i.scdn.co/image/ab6761610000f1789628a29f2f8940dc77117e9c)\\n![](https://i.scdn.co/image/ab6761610000f178634461910bffee33cdaca95b)\\n![](https://i.scdn.co/image/ab6761610000f178af22f1ffb0c210b85d7f45ba)\\n![](https://i.scdn.co/image/ab67616d00001e0272fad961bc6d45687ff9a4d1)\\n![](https://i.scdn.co/image/ab6761610000f1783462a3f5b8e865e8cc30d957)\\n![](https://i.scdn.co/image/ab6761610000f1788c8bddfbf81e06d80b8b4c6a)\\n![Step One](https://i.scdn.co/image/ab67616d00001e02560191017f3d1ac3db1a0037) [...] ![Bring It All Back](https://i.scdn.co/image/ab67616d00004851904234ebed6cf856b54f9861)\\n![Reach](https://i.scdn.co/image/ab67616d00004851705cd66d6cc175506bd826ee)\\n![C'est La Vie](https://i.scdn.co/image/ab67616d00004851d304bce5fa67ae430a9ac558)\\n![Fast Food Song](https://i.scdn.co/image/ab67616d000048510c01af670b19a661cfcd9283)\\n![Doctor Jones](https://i.scdn.co/image/ab67616d00004851f5768db89dd8ac30fd0e414f)\\n\\n## Popular Tracks by Steps\", 'score': 0.54942364}, {'title': '5,6,7,8 - Wikipedia', 'url': 'https://en.wikipedia.org/wiki/5,6,7,8', 'content': '*   [Get shortened URL](https://en.wikipedia.org/w/index.php?title=Special:UrlShortener&url=https%3A%2F%2Fen.wikipedia.org%2Fwiki%2F5%2C6%2C7%2C8)\\n*   [Download QR code](https://en.wikipedia.org/w/index.php?title=Special:QrCode&url=https%3A%2F%2Fen.wikipedia.org%2Fwiki%2F5%2C6%2C7%2C8)\\n*   [Expand all](https://en.wikipedia.org/wiki/5,6,7,8# \"Expand all collapsible elements on the current page\") [...] 31.   **[^](https://en.wikipedia.org/wiki/5,6,7,8#cite_ref-sc_Dutch100_Steps_31-0 \"Jump up\")**\"[Steps – 5, 6, 7, 8\"](https://dutchcharts.nl/showitem.asp?interpret=Steps&titel=5,+6,+7,+8&cat=s) (in Dutch). [Single Top 100](https://en.wikipedia.org/wiki/Dutch_Single_Top_100 \"Dutch Single Top 100\"). Retrieved 21 November 2019. [...] 28.   **[^](https://en.wikipedia.org/wiki/5,6,7,8#cite_ref-sc_Flanders_Steps_28-0 \"Jump up\")**\"[Steps – 5, 6, 7, 8\"](https://www.ultratop.be/nl/showitem.asp?interpret=Steps&titel=5,+6,+7,+8&cat=s) (in Dutch). [Ultratop 50](https://en.wikipedia.org/wiki/Ultratop \"Ultratop\"). Retrieved 21 November 2019.', 'score': 0.5457947}, {'title': '5, 6, 7, ATE - YouTube', 'url': 'https://www.youtube.com/shorts/9jeRSxSgnlQ', 'content': '5, 6, 7, ATE ✨ Follow us on: TikTok: https://www.tiktok.com/@rockettes Instagram: https://www.instagram.com/therockettes Facebook:', 'score': 0.53079647}]\u001b[0m\u001b[32;1m\u001b[1;3m\n",
            "Invoking: `wikipedia` with `{'query': '5+6+7'}`\n",
            "\n",
            "\n",
            "\u001b[0m\u001b[33;1m\u001b[1;3mPage: The 5.6.7.8's\n",
            "Summary: The 5.6.7.8's are a Japanese rock band from Tokyo with a retro-inspired sound that draws heavily from the 1960s garage rock scene. They first started performing as a quartet in Tokyo, and recruited guest performers during their Australian tour. They became a trio in 1992, before touring Australia.\u001b[0m\u001b[32;1m\u001b[1;3mLa suma de los números 5, 6 y 7 es igual a 18. Puedes verificar más información sobre los números 5, 6, 7 y 8 en [este enlace de Wikipedia](https://en.wikipedia.org/wiki/5,6,7,8).\u001b[0m\n",
            "\n",
            "\u001b[1m> Finished chain.\u001b[0m\n"
          ]
        },
        {
          "output_type": "execute_result",
          "data": {
            "text/plain": [
              "{'input': 'te daré 3 numeros: 5,6,7. Por favor suma esos tres numeros',\n",
              " 'output': 'La suma de los números 5, 6 y 7 es igual a 18. Puedes verificar más información sobre los números 5, 6, 7 y 8 en [este enlace de Wikipedia](https://en.wikipedia.org/wiki/5,6,7,8).'}"
            ]
          },
          "metadata": {},
          "execution_count": 59
        }
      ]
    },
    {
      "cell_type": "code",
      "source": [
        "agent_executor.invoke({\"input\":'Tienes acceso al directorio de la computadora donde se esta ejecutando este programa?'})"
      ],
      "metadata": {
        "colab": {
          "base_uri": "https://localhost:8080/"
        },
        "id": "w1imyBCl9HxH",
        "outputId": "8d266824-b1d6-42fe-9ca7-49f7dd591346"
      },
      "execution_count": null,
      "outputs": [
        {
          "output_type": "stream",
          "name": "stdout",
          "text": [
            "\n",
            "\n",
            "\u001b[1m> Entering new AgentExecutor chain...\u001b[0m\n",
            "\u001b[32;1m\u001b[1;3mLo siento, pero no tengo acceso al directorio de la computadora donde se está ejecutando este programa. Mi función principal es proporcionar información y asistencia en línea. ¿En qué puedo ayudarte hoy?\u001b[0m\n",
            "\n",
            "\u001b[1m> Finished chain.\u001b[0m\n"
          ]
        },
        {
          "output_type": "execute_result",
          "data": {
            "text/plain": [
              "{'input': 'Tienes acceso al directorio de la computadora donde se esta ejecutando este programa?',\n",
              " 'output': 'Lo siento, pero no tengo acceso al directorio de la computadora donde se está ejecutando este programa. Mi función principal es proporcionar información y asistencia en línea. ¿En qué puedo ayudarte hoy?'}"
            ]
          },
          "metadata": {},
          "execution_count": 60
        }
      ]
    },
    {
      "cell_type": "code",
      "source": [
        "!pip install langchain-googledrive\n"
      ],
      "metadata": {
        "colab": {
          "base_uri": "https://localhost:8080/"
        },
        "id": "1i3mO-dcoNmz",
        "outputId": "bbce17b6-c6a0-4f4c-f0fc-dfaf1ad5ee92",
        "collapsed": true
      },
      "execution_count": 3,
      "outputs": [
        {
          "output_type": "stream",
          "name": "stdout",
          "text": [
            "Collecting langchain-googledrive\n",
            "  Downloading langchain_googledrive-0.3.35-py3-none-any.whl.metadata (2.5 kB)\n",
            "Requirement already satisfied: google-api-python-client<3.0,>=2.97 in /usr/local/lib/python3.11/dist-packages (from langchain-googledrive) (2.173.0)\n",
            "Requirement already satisfied: google-auth-httplib2>=0.1 in /usr/local/lib/python3.11/dist-packages (from langchain-googledrive) (0.2.0)\n",
            "Requirement already satisfied: google-auth-oauthlib>=1.0 in /usr/local/lib/python3.11/dist-packages (from langchain-googledrive) (1.2.2)\n",
            "Collecting langchain_community>=0.3.0 (from langchain-googledrive)\n",
            "  Downloading langchain_community-0.3.26-py3-none-any.whl.metadata (2.9 kB)\n",
            "Requirement already satisfied: langchain_core>=0.3.0 in /usr/local/lib/python3.11/dist-packages (from langchain-googledrive) (0.3.66)\n",
            "Requirement already satisfied: httplib2<1.0.0,>=0.19.0 in /usr/local/lib/python3.11/dist-packages (from google-api-python-client<3.0,>=2.97->langchain-googledrive) (0.22.0)\n",
            "Requirement already satisfied: google-auth!=2.24.0,!=2.25.0,<3.0.0,>=1.32.0 in /usr/local/lib/python3.11/dist-packages (from google-api-python-client<3.0,>=2.97->langchain-googledrive) (2.38.0)\n",
            "Requirement already satisfied: google-api-core!=2.0.*,!=2.1.*,!=2.2.*,!=2.3.0,<3.0.0,>=1.31.5 in /usr/local/lib/python3.11/dist-packages (from google-api-python-client<3.0,>=2.97->langchain-googledrive) (2.25.1)\n",
            "Requirement already satisfied: uritemplate<5,>=3.0.1 in /usr/local/lib/python3.11/dist-packages (from google-api-python-client<3.0,>=2.97->langchain-googledrive) (4.2.0)\n",
            "Requirement already satisfied: requests-oauthlib>=0.7.0 in /usr/local/lib/python3.11/dist-packages (from google-auth-oauthlib>=1.0->langchain-googledrive) (2.0.0)\n",
            "Requirement already satisfied: langchain<1.0.0,>=0.3.26 in /usr/local/lib/python3.11/dist-packages (from langchain_community>=0.3.0->langchain-googledrive) (0.3.26)\n",
            "Requirement already satisfied: SQLAlchemy<3,>=1.4 in /usr/local/lib/python3.11/dist-packages (from langchain_community>=0.3.0->langchain-googledrive) (2.0.41)\n",
            "Requirement already satisfied: requests<3,>=2 in /usr/local/lib/python3.11/dist-packages (from langchain_community>=0.3.0->langchain-googledrive) (2.32.3)\n",
            "Requirement already satisfied: PyYAML>=5.3 in /usr/local/lib/python3.11/dist-packages (from langchain_community>=0.3.0->langchain-googledrive) (6.0.2)\n",
            "Requirement already satisfied: aiohttp<4.0.0,>=3.8.3 in /usr/local/lib/python3.11/dist-packages (from langchain_community>=0.3.0->langchain-googledrive) (3.11.15)\n",
            "Requirement already satisfied: tenacity!=8.4.0,<10,>=8.1.0 in /usr/local/lib/python3.11/dist-packages (from langchain_community>=0.3.0->langchain-googledrive) (8.5.0)\n",
            "Collecting dataclasses-json<0.7,>=0.5.7 (from langchain_community>=0.3.0->langchain-googledrive)\n",
            "  Downloading dataclasses_json-0.6.7-py3-none-any.whl.metadata (25 kB)\n",
            "Collecting pydantic-settings<3.0.0,>=2.4.0 (from langchain_community>=0.3.0->langchain-googledrive)\n",
            "  Downloading pydantic_settings-2.10.1-py3-none-any.whl.metadata (3.4 kB)\n",
            "Requirement already satisfied: langsmith>=0.1.125 in /usr/local/lib/python3.11/dist-packages (from langchain_community>=0.3.0->langchain-googledrive) (0.4.1)\n",
            "Collecting httpx-sse<1.0.0,>=0.4.0 (from langchain_community>=0.3.0->langchain-googledrive)\n",
            "  Downloading httpx_sse-0.4.1-py3-none-any.whl.metadata (9.4 kB)\n",
            "Requirement already satisfied: numpy>=1.26.2 in /usr/local/lib/python3.11/dist-packages (from langchain_community>=0.3.0->langchain-googledrive) (2.0.2)\n",
            "Requirement already satisfied: jsonpatch<2.0,>=1.33 in /usr/local/lib/python3.11/dist-packages (from langchain_core>=0.3.0->langchain-googledrive) (1.33)\n",
            "Requirement already satisfied: packaging<25,>=23.2 in /usr/local/lib/python3.11/dist-packages (from langchain_core>=0.3.0->langchain-googledrive) (24.2)\n",
            "Requirement already satisfied: typing-extensions>=4.7 in /usr/local/lib/python3.11/dist-packages (from langchain_core>=0.3.0->langchain-googledrive) (4.14.0)\n",
            "Requirement already satisfied: pydantic>=2.7.4 in /usr/local/lib/python3.11/dist-packages (from langchain_core>=0.3.0->langchain-googledrive) (2.11.7)\n",
            "Requirement already satisfied: aiohappyeyeballs>=2.3.0 in /usr/local/lib/python3.11/dist-packages (from aiohttp<4.0.0,>=3.8.3->langchain_community>=0.3.0->langchain-googledrive) (2.6.1)\n",
            "Requirement already satisfied: aiosignal>=1.1.2 in /usr/local/lib/python3.11/dist-packages (from aiohttp<4.0.0,>=3.8.3->langchain_community>=0.3.0->langchain-googledrive) (1.3.2)\n",
            "Requirement already satisfied: attrs>=17.3.0 in /usr/local/lib/python3.11/dist-packages (from aiohttp<4.0.0,>=3.8.3->langchain_community>=0.3.0->langchain-googledrive) (25.3.0)\n",
            "Requirement already satisfied: frozenlist>=1.1.1 in /usr/local/lib/python3.11/dist-packages (from aiohttp<4.0.0,>=3.8.3->langchain_community>=0.3.0->langchain-googledrive) (1.7.0)\n",
            "Requirement already satisfied: multidict<7.0,>=4.5 in /usr/local/lib/python3.11/dist-packages (from aiohttp<4.0.0,>=3.8.3->langchain_community>=0.3.0->langchain-googledrive) (6.5.0)\n",
            "Requirement already satisfied: propcache>=0.2.0 in /usr/local/lib/python3.11/dist-packages (from aiohttp<4.0.0,>=3.8.3->langchain_community>=0.3.0->langchain-googledrive) (0.3.2)\n",
            "Requirement already satisfied: yarl<2.0,>=1.17.0 in /usr/local/lib/python3.11/dist-packages (from aiohttp<4.0.0,>=3.8.3->langchain_community>=0.3.0->langchain-googledrive) (1.20.1)\n",
            "Collecting marshmallow<4.0.0,>=3.18.0 (from dataclasses-json<0.7,>=0.5.7->langchain_community>=0.3.0->langchain-googledrive)\n",
            "  Downloading marshmallow-3.26.1-py3-none-any.whl.metadata (7.3 kB)\n",
            "Collecting typing-inspect<1,>=0.4.0 (from dataclasses-json<0.7,>=0.5.7->langchain_community>=0.3.0->langchain-googledrive)\n",
            "  Downloading typing_inspect-0.9.0-py3-none-any.whl.metadata (1.5 kB)\n",
            "Requirement already satisfied: googleapis-common-protos<2.0.0,>=1.56.2 in /usr/local/lib/python3.11/dist-packages (from google-api-core!=2.0.*,!=2.1.*,!=2.2.*,!=2.3.0,<3.0.0,>=1.31.5->google-api-python-client<3.0,>=2.97->langchain-googledrive) (1.70.0)\n",
            "Requirement already satisfied: protobuf!=3.20.0,!=3.20.1,!=4.21.0,!=4.21.1,!=4.21.2,!=4.21.3,!=4.21.4,!=4.21.5,<7.0.0,>=3.19.5 in /usr/local/lib/python3.11/dist-packages (from google-api-core!=2.0.*,!=2.1.*,!=2.2.*,!=2.3.0,<3.0.0,>=1.31.5->google-api-python-client<3.0,>=2.97->langchain-googledrive) (5.29.5)\n",
            "Requirement already satisfied: proto-plus<2.0.0,>=1.22.3 in /usr/local/lib/python3.11/dist-packages (from google-api-core!=2.0.*,!=2.1.*,!=2.2.*,!=2.3.0,<3.0.0,>=1.31.5->google-api-python-client<3.0,>=2.97->langchain-googledrive) (1.26.1)\n",
            "Requirement already satisfied: cachetools<6.0,>=2.0.0 in /usr/local/lib/python3.11/dist-packages (from google-auth!=2.24.0,!=2.25.0,<3.0.0,>=1.32.0->google-api-python-client<3.0,>=2.97->langchain-googledrive) (5.5.2)\n",
            "Requirement already satisfied: pyasn1-modules>=0.2.1 in /usr/local/lib/python3.11/dist-packages (from google-auth!=2.24.0,!=2.25.0,<3.0.0,>=1.32.0->google-api-python-client<3.0,>=2.97->langchain-googledrive) (0.4.2)\n",
            "Requirement already satisfied: rsa<5,>=3.1.4 in /usr/local/lib/python3.11/dist-packages (from google-auth!=2.24.0,!=2.25.0,<3.0.0,>=1.32.0->google-api-python-client<3.0,>=2.97->langchain-googledrive) (4.9.1)\n",
            "Requirement already satisfied: pyparsing!=3.0.0,!=3.0.1,!=3.0.2,!=3.0.3,<4,>=2.4.2 in /usr/local/lib/python3.11/dist-packages (from httplib2<1.0.0,>=0.19.0->google-api-python-client<3.0,>=2.97->langchain-googledrive) (3.2.3)\n",
            "Requirement already satisfied: jsonpointer>=1.9 in /usr/local/lib/python3.11/dist-packages (from jsonpatch<2.0,>=1.33->langchain_core>=0.3.0->langchain-googledrive) (3.0.0)\n",
            "Requirement already satisfied: langchain-text-splitters<1.0.0,>=0.3.8 in /usr/local/lib/python3.11/dist-packages (from langchain<1.0.0,>=0.3.26->langchain_community>=0.3.0->langchain-googledrive) (0.3.8)\n",
            "Requirement already satisfied: httpx<1,>=0.23.0 in /usr/local/lib/python3.11/dist-packages (from langsmith>=0.1.125->langchain_community>=0.3.0->langchain-googledrive) (0.28.1)\n",
            "Requirement already satisfied: orjson<4.0.0,>=3.9.14 in /usr/local/lib/python3.11/dist-packages (from langsmith>=0.1.125->langchain_community>=0.3.0->langchain-googledrive) (3.10.18)\n",
            "Requirement already satisfied: requests-toolbelt<2.0.0,>=1.0.0 in /usr/local/lib/python3.11/dist-packages (from langsmith>=0.1.125->langchain_community>=0.3.0->langchain-googledrive) (1.0.0)\n",
            "Requirement already satisfied: zstandard<0.24.0,>=0.23.0 in /usr/local/lib/python3.11/dist-packages (from langsmith>=0.1.125->langchain_community>=0.3.0->langchain-googledrive) (0.23.0)\n",
            "Requirement already satisfied: annotated-types>=0.6.0 in /usr/local/lib/python3.11/dist-packages (from pydantic>=2.7.4->langchain_core>=0.3.0->langchain-googledrive) (0.7.0)\n",
            "Requirement already satisfied: pydantic-core==2.33.2 in /usr/local/lib/python3.11/dist-packages (from pydantic>=2.7.4->langchain_core>=0.3.0->langchain-googledrive) (2.33.2)\n",
            "Requirement already satisfied: typing-inspection>=0.4.0 in /usr/local/lib/python3.11/dist-packages (from pydantic>=2.7.4->langchain_core>=0.3.0->langchain-googledrive) (0.4.1)\n",
            "Collecting python-dotenv>=0.21.0 (from pydantic-settings<3.0.0,>=2.4.0->langchain_community>=0.3.0->langchain-googledrive)\n",
            "  Downloading python_dotenv-1.1.1-py3-none-any.whl.metadata (24 kB)\n",
            "Requirement already satisfied: charset-normalizer<4,>=2 in /usr/local/lib/python3.11/dist-packages (from requests<3,>=2->langchain_community>=0.3.0->langchain-googledrive) (3.4.2)\n",
            "Requirement already satisfied: idna<4,>=2.5 in /usr/local/lib/python3.11/dist-packages (from requests<3,>=2->langchain_community>=0.3.0->langchain-googledrive) (3.10)\n",
            "Requirement already satisfied: urllib3<3,>=1.21.1 in /usr/local/lib/python3.11/dist-packages (from requests<3,>=2->langchain_community>=0.3.0->langchain-googledrive) (2.4.0)\n",
            "Requirement already satisfied: certifi>=2017.4.17 in /usr/local/lib/python3.11/dist-packages (from requests<3,>=2->langchain_community>=0.3.0->langchain-googledrive) (2025.6.15)\n",
            "Requirement already satisfied: oauthlib>=3.0.0 in /usr/local/lib/python3.11/dist-packages (from requests-oauthlib>=0.7.0->google-auth-oauthlib>=1.0->langchain-googledrive) (3.3.1)\n",
            "Requirement already satisfied: greenlet>=1 in /usr/local/lib/python3.11/dist-packages (from SQLAlchemy<3,>=1.4->langchain_community>=0.3.0->langchain-googledrive) (3.2.3)\n",
            "Requirement already satisfied: anyio in /usr/local/lib/python3.11/dist-packages (from httpx<1,>=0.23.0->langsmith>=0.1.125->langchain_community>=0.3.0->langchain-googledrive) (4.9.0)\n",
            "Requirement already satisfied: httpcore==1.* in /usr/local/lib/python3.11/dist-packages (from httpx<1,>=0.23.0->langsmith>=0.1.125->langchain_community>=0.3.0->langchain-googledrive) (1.0.9)\n",
            "Requirement already satisfied: h11>=0.16 in /usr/local/lib/python3.11/dist-packages (from httpcore==1.*->httpx<1,>=0.23.0->langsmith>=0.1.125->langchain_community>=0.3.0->langchain-googledrive) (0.16.0)\n",
            "Requirement already satisfied: pyasn1<0.7.0,>=0.6.1 in /usr/local/lib/python3.11/dist-packages (from pyasn1-modules>=0.2.1->google-auth!=2.24.0,!=2.25.0,<3.0.0,>=1.32.0->google-api-python-client<3.0,>=2.97->langchain-googledrive) (0.6.1)\n",
            "Collecting mypy-extensions>=0.3.0 (from typing-inspect<1,>=0.4.0->dataclasses-json<0.7,>=0.5.7->langchain_community>=0.3.0->langchain-googledrive)\n",
            "  Downloading mypy_extensions-1.1.0-py3-none-any.whl.metadata (1.1 kB)\n",
            "Requirement already satisfied: sniffio>=1.1 in /usr/local/lib/python3.11/dist-packages (from anyio->httpx<1,>=0.23.0->langsmith>=0.1.125->langchain_community>=0.3.0->langchain-googledrive) (1.3.1)\n",
            "Downloading langchain_googledrive-0.3.35-py3-none-any.whl (30 kB)\n",
            "Downloading langchain_community-0.3.26-py3-none-any.whl (2.5 MB)\n",
            "\u001b[2K   \u001b[90m━━━━━━━━━━━━━━━━━━━━━━━━━━━━━━━━━━━━━━━━\u001b[0m \u001b[32m2.5/2.5 MB\u001b[0m \u001b[31m49.0 MB/s\u001b[0m eta \u001b[36m0:00:00\u001b[0m\n",
            "\u001b[?25hDownloading dataclasses_json-0.6.7-py3-none-any.whl (28 kB)\n",
            "Downloading httpx_sse-0.4.1-py3-none-any.whl (8.1 kB)\n",
            "Downloading pydantic_settings-2.10.1-py3-none-any.whl (45 kB)\n",
            "\u001b[2K   \u001b[90m━━━━━━━━━━━━━━━━━━━━━━━━━━━━━━━━━━━━━━━━\u001b[0m \u001b[32m45.2/45.2 kB\u001b[0m \u001b[31m4.0 MB/s\u001b[0m eta \u001b[36m0:00:00\u001b[0m\n",
            "\u001b[?25hDownloading marshmallow-3.26.1-py3-none-any.whl (50 kB)\n",
            "\u001b[2K   \u001b[90m━━━━━━━━━━━━━━━━━━━━━━━━━━━━━━━━━━━━━━━━\u001b[0m \u001b[32m50.9/50.9 kB\u001b[0m \u001b[31m4.6 MB/s\u001b[0m eta \u001b[36m0:00:00\u001b[0m\n",
            "\u001b[?25hDownloading python_dotenv-1.1.1-py3-none-any.whl (20 kB)\n",
            "Downloading typing_inspect-0.9.0-py3-none-any.whl (8.8 kB)\n",
            "Downloading mypy_extensions-1.1.0-py3-none-any.whl (5.0 kB)\n",
            "Installing collected packages: python-dotenv, mypy-extensions, marshmallow, httpx-sse, typing-inspect, pydantic-settings, dataclasses-json, langchain_community, langchain-googledrive\n",
            "Successfully installed dataclasses-json-0.6.7 httpx-sse-0.4.1 langchain-googledrive-0.3.35 langchain_community-0.3.26 marshmallow-3.26.1 mypy-extensions-1.1.0 pydantic-settings-2.10.1 python-dotenv-1.1.1 typing-inspect-0.9.0\n"
          ]
        }
      ]
    },
    {
      "cell_type": "code",
      "source": [
        "import os\n",
        "from langchain_googledrive.tools.google_drive.tool import GoogleDriveSearchTool\n",
        "from langchain_googledrive.utilities.google_drive import GoogleDriveAPIWrapper"
      ],
      "metadata": {
        "id": "jwAH4fkF9qI4"
      },
      "execution_count": 4,
      "outputs": []
    },
    {
      "cell_type": "code",
      "source": [
        "os.environ[\"GOOGLE_ACCOUNT_FILE\"] = \"/content/miproyectodrive-464014-c08c3b8e7b82.json\"\n",
        "\n",
        "api_wrapper = GoogleDriveAPIWrapper()\n"
      ],
      "metadata": {
        "id": "IRnKoyyLoGA_"
      },
      "execution_count": 15,
      "outputs": []
    },
    {
      "cell_type": "code",
      "source": [
        "folder_id =\"17PjzYJLogP-6UHMKNfQsrXX7-j4u12Pz\""
      ],
      "metadata": {
        "id": "z3yH1J99nMQl"
      },
      "execution_count": 16,
      "outputs": []
    },
    {
      "cell_type": "code",
      "source": [
        "api_wrapper = GoogleDriveAPIWrapper(\n",
        "    folder_id=folder_id,\n",
        "    num_results=5,  # ajusta cuántos resultados quieres\n",
        "    template=\"gdrive-query-in-folder\",  # busca también en el contenido, no solo nombre\n",
        ")"
      ],
      "metadata": {
        "id": "lk9eGwqUnTXu"
      },
      "execution_count": 17,
      "outputs": []
    },
    {
      "cell_type": "code",
      "source": [
        "search_tool = GoogleDriveSearchTool(api_wrapper=api_wrapper)\n"
      ],
      "metadata": {
        "id": "3GkhfAMsnfLM"
      },
      "execution_count": 18,
      "outputs": []
    },
    {
      "cell_type": "code",
      "source": [
        "resultados = search_tool.run(\"\")\n",
        "\n",
        "print(\"Archivos accesibles en la carpeta:\")\n",
        "print(resultados)"
      ],
      "metadata": {
        "id": "lpRkGR-VpHkE",
        "colab": {
          "base_uri": "https://localhost:8080/"
        },
        "outputId": "2727940a-a1e3-4202-b3be-3933c49af97f"
      },
      "execution_count": 24,
      "outputs": [
        {
          "output_type": "stream",
          "name": "stdout",
          "text": [
            "Archivos accesibles en la carpeta:\n",
            "No document found\n"
          ]
        }
      ]
    },
    {
      "cell_type": "code",
      "source": [],
      "metadata": {
        "id": "_StrI681pkcR"
      },
      "execution_count": null,
      "outputs": []
    }
  ]
}