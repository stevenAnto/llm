{
  "nbformat": 4,
  "nbformat_minor": 0,
  "metadata": {
    "colab": {
      "provenance": [],
      "mount_file_id": "1EzdEE2ib_3o8QFgZZa5jbsiUlByjzuCu",
      "authorship_tag": "ABX9TyOaqGCyQnjFInvW4v4crTO3",
      "include_colab_link": true
    },
    "kernelspec": {
      "name": "python3",
      "display_name": "Python 3"
    },
    "language_info": {
      "name": "python"
    }
  },
  "cells": [
    {
      "cell_type": "markdown",
      "metadata": {
        "id": "view-in-github",
        "colab_type": "text"
      },
      "source": [
        "<a href=\"https://colab.research.google.com/github/stevenAnto/llm/blob/main/LangChaing.ipynb\" target=\"_parent\"><img src=\"https://colab.research.google.com/assets/colab-badge.svg\" alt=\"Open In Colab\"/></a>"
      ]
    },
    {
      "cell_type": "code",
      "source": [
        "import os\n",
        "from getpass import getpass\n",
        "os.environ[\"OPENAI_API_KEY\"] = getpass(\"Ingresa tu clave de OpenAI: \")\n"
      ],
      "metadata": {
        "colab": {
          "base_uri": "https://localhost:8080/"
        },
        "id": "SYoZ4SZ0u6sn",
        "outputId": "4e27cce4-841a-46bd-8007-17ed28c5321e"
      },
      "execution_count": null,
      "outputs": [
        {
          "name": "stdout",
          "output_type": "stream",
          "text": [
            "Ingresa tu clave de OpenAI: ··········\n"
          ]
        }
      ]
    },
    {
      "cell_type": "code",
      "source": [
        "!pip install langchain langchain-openai"
      ],
      "metadata": {
        "colab": {
          "base_uri": "https://localhost:8080/"
        },
        "id": "aQ_6xLqVvy6v",
        "outputId": "b846f457-65fd-43ed-89bc-05748b9f47e8"
      },
      "execution_count": null,
      "outputs": [
        {
          "output_type": "stream",
          "name": "stdout",
          "text": [
            "Requirement already satisfied: langchain in /usr/local/lib/python3.11/dist-packages (0.3.25)\n",
            "Collecting langchain-openai\n",
            "  Downloading langchain_openai-0.3.25-py3-none-any.whl.metadata (2.3 kB)\n",
            "Requirement already satisfied: langchain-core<1.0.0,>=0.3.58 in /usr/local/lib/python3.11/dist-packages (from langchain) (0.3.65)\n",
            "Requirement already satisfied: langchain-text-splitters<1.0.0,>=0.3.8 in /usr/local/lib/python3.11/dist-packages (from langchain) (0.3.8)\n",
            "Requirement already satisfied: langsmith<0.4,>=0.1.17 in /usr/local/lib/python3.11/dist-packages (from langchain) (0.3.45)\n",
            "Requirement already satisfied: pydantic<3.0.0,>=2.7.4 in /usr/local/lib/python3.11/dist-packages (from langchain) (2.11.7)\n",
            "Requirement already satisfied: SQLAlchemy<3,>=1.4 in /usr/local/lib/python3.11/dist-packages (from langchain) (2.0.41)\n",
            "Requirement already satisfied: requests<3,>=2 in /usr/local/lib/python3.11/dist-packages (from langchain) (2.32.3)\n",
            "Requirement already satisfied: PyYAML>=5.3 in /usr/local/lib/python3.11/dist-packages (from langchain) (6.0.2)\n",
            "Collecting langchain-core<1.0.0,>=0.3.58 (from langchain)\n",
            "  Downloading langchain_core-0.3.66-py3-none-any.whl.metadata (5.8 kB)\n",
            "Requirement already satisfied: openai<2.0.0,>=1.86.0 in /usr/local/lib/python3.11/dist-packages (from langchain-openai) (1.86.0)\n",
            "Requirement already satisfied: tiktoken<1,>=0.7 in /usr/local/lib/python3.11/dist-packages (from langchain-openai) (0.9.0)\n",
            "Requirement already satisfied: tenacity!=8.4.0,<10.0.0,>=8.1.0 in /usr/local/lib/python3.11/dist-packages (from langchain-core<1.0.0,>=0.3.58->langchain) (9.1.2)\n",
            "Requirement already satisfied: jsonpatch<2.0,>=1.33 in /usr/local/lib/python3.11/dist-packages (from langchain-core<1.0.0,>=0.3.58->langchain) (1.33)\n",
            "Requirement already satisfied: packaging<25,>=23.2 in /usr/local/lib/python3.11/dist-packages (from langchain-core<1.0.0,>=0.3.58->langchain) (24.2)\n",
            "Requirement already satisfied: typing-extensions>=4.7 in /usr/local/lib/python3.11/dist-packages (from langchain-core<1.0.0,>=0.3.58->langchain) (4.14.0)\n",
            "Requirement already satisfied: httpx<1,>=0.23.0 in /usr/local/lib/python3.11/dist-packages (from langsmith<0.4,>=0.1.17->langchain) (0.28.1)\n",
            "Requirement already satisfied: orjson<4.0.0,>=3.9.14 in /usr/local/lib/python3.11/dist-packages (from langsmith<0.4,>=0.1.17->langchain) (3.10.18)\n",
            "Requirement already satisfied: requests-toolbelt<2.0.0,>=1.0.0 in /usr/local/lib/python3.11/dist-packages (from langsmith<0.4,>=0.1.17->langchain) (1.0.0)\n",
            "Requirement already satisfied: zstandard<0.24.0,>=0.23.0 in /usr/local/lib/python3.11/dist-packages (from langsmith<0.4,>=0.1.17->langchain) (0.23.0)\n",
            "Requirement already satisfied: anyio<5,>=3.5.0 in /usr/local/lib/python3.11/dist-packages (from openai<2.0.0,>=1.86.0->langchain-openai) (4.9.0)\n",
            "Requirement already satisfied: distro<2,>=1.7.0 in /usr/local/lib/python3.11/dist-packages (from openai<2.0.0,>=1.86.0->langchain-openai) (1.9.0)\n",
            "Requirement already satisfied: jiter<1,>=0.4.0 in /usr/local/lib/python3.11/dist-packages (from openai<2.0.0,>=1.86.0->langchain-openai) (0.10.0)\n",
            "Requirement already satisfied: sniffio in /usr/local/lib/python3.11/dist-packages (from openai<2.0.0,>=1.86.0->langchain-openai) (1.3.1)\n",
            "Requirement already satisfied: tqdm>4 in /usr/local/lib/python3.11/dist-packages (from openai<2.0.0,>=1.86.0->langchain-openai) (4.67.1)\n",
            "Requirement already satisfied: annotated-types>=0.6.0 in /usr/local/lib/python3.11/dist-packages (from pydantic<3.0.0,>=2.7.4->langchain) (0.7.0)\n",
            "Requirement already satisfied: pydantic-core==2.33.2 in /usr/local/lib/python3.11/dist-packages (from pydantic<3.0.0,>=2.7.4->langchain) (2.33.2)\n",
            "Requirement already satisfied: typing-inspection>=0.4.0 in /usr/local/lib/python3.11/dist-packages (from pydantic<3.0.0,>=2.7.4->langchain) (0.4.1)\n",
            "Requirement already satisfied: charset-normalizer<4,>=2 in /usr/local/lib/python3.11/dist-packages (from requests<3,>=2->langchain) (3.4.2)\n",
            "Requirement already satisfied: idna<4,>=2.5 in /usr/local/lib/python3.11/dist-packages (from requests<3,>=2->langchain) (3.10)\n",
            "Requirement already satisfied: urllib3<3,>=1.21.1 in /usr/local/lib/python3.11/dist-packages (from requests<3,>=2->langchain) (2.4.0)\n",
            "Requirement already satisfied: certifi>=2017.4.17 in /usr/local/lib/python3.11/dist-packages (from requests<3,>=2->langchain) (2025.6.15)\n",
            "Requirement already satisfied: greenlet>=1 in /usr/local/lib/python3.11/dist-packages (from SQLAlchemy<3,>=1.4->langchain) (3.2.3)\n",
            "Requirement already satisfied: regex>=2022.1.18 in /usr/local/lib/python3.11/dist-packages (from tiktoken<1,>=0.7->langchain-openai) (2024.11.6)\n",
            "Requirement already satisfied: httpcore==1.* in /usr/local/lib/python3.11/dist-packages (from httpx<1,>=0.23.0->langsmith<0.4,>=0.1.17->langchain) (1.0.9)\n",
            "Requirement already satisfied: h11>=0.16 in /usr/local/lib/python3.11/dist-packages (from httpcore==1.*->httpx<1,>=0.23.0->langsmith<0.4,>=0.1.17->langchain) (0.16.0)\n",
            "Requirement already satisfied: jsonpointer>=1.9 in /usr/local/lib/python3.11/dist-packages (from jsonpatch<2.0,>=1.33->langchain-core<1.0.0,>=0.3.58->langchain) (3.0.0)\n",
            "Downloading langchain_openai-0.3.25-py3-none-any.whl (69 kB)\n",
            "\u001b[2K   \u001b[90m━━━━━━━━━━━━━━━━━━━━━━━━━━━━━━━━━━━━━━━━\u001b[0m \u001b[32m69.2/69.2 kB\u001b[0m \u001b[31m1.8 MB/s\u001b[0m eta \u001b[36m0:00:00\u001b[0m\n",
            "\u001b[?25hDownloading langchain_core-0.3.66-py3-none-any.whl (438 kB)\n",
            "\u001b[2K   \u001b[90m━━━━━━━━━━━━━━━━━━━━━━━━━━━━━━━━━━━━━━━━\u001b[0m \u001b[32m438.9/438.9 kB\u001b[0m \u001b[31m10.1 MB/s\u001b[0m eta \u001b[36m0:00:00\u001b[0m\n",
            "\u001b[?25hInstalling collected packages: langchain-core, langchain-openai\n",
            "  Attempting uninstall: langchain-core\n",
            "    Found existing installation: langchain-core 0.3.65\n",
            "    Uninstalling langchain-core-0.3.65:\n",
            "      Successfully uninstalled langchain-core-0.3.65\n",
            "Successfully installed langchain-core-0.3.66 langchain-openai-0.3.25\n"
          ]
        }
      ]
    },
    {
      "cell_type": "code",
      "source": [
        "from langchain_openai import ChatOpenAI"
      ],
      "metadata": {
        "id": "l0Y65gPNvHOt"
      },
      "execution_count": null,
      "outputs": []
    },
    {
      "cell_type": "code",
      "source": [
        "llm = ChatOpenAI(openai_api_key=os.environ[\"OPENAI_API_KEY\"])"
      ],
      "metadata": {
        "id": "q1fpG-cDvnp3"
      },
      "execution_count": null,
      "outputs": []
    },
    {
      "cell_type": "code",
      "source": [
        "llm.invoke(\"la profesion de IA tiene un futuro prometedor?\")"
      ],
      "metadata": {
        "colab": {
          "base_uri": "https://localhost:8080/"
        },
        "id": "_wTRJkS4wA-s",
        "outputId": "ccf35187-e46d-466a-92ea-40f65ac11a47"
      },
      "execution_count": null,
      "outputs": [
        {
          "output_type": "execute_result",
          "data": {
            "text/plain": [
              "AIMessage(content='Sí, la profesión de Inteligencia Artificial (IA) tiene un futuro muy prometedor. Con los avances tecnológicos cada vez más rápidos, la demanda de profesionales en IA seguirá creciendo en sectores como la salud, la banca, la industria, la logística, entre otros. Además, la IA tiene el potencial de revolucionar muchas industrias y mejorar la eficiencia y la productividad en diferentes ámbitos. Por lo tanto, aquellos que se formen y se especialicen en IA tienen grandes oportunidades laborales y de desarrollo profesional en el futuro.', additional_kwargs={'refusal': None}, response_metadata={'token_usage': {'completion_tokens': 133, 'prompt_tokens': 19, 'total_tokens': 152, 'completion_tokens_details': {'accepted_prediction_tokens': 0, 'audio_tokens': 0, 'reasoning_tokens': 0, 'rejected_prediction_tokens': 0}, 'prompt_tokens_details': {'audio_tokens': 0, 'cached_tokens': 0}}, 'model_name': 'gpt-3.5-turbo-0125', 'system_fingerprint': None, 'id': 'chatcmpl-Blvm2fgSmKaaMQQb9W1ut2B7iZNHn', 'service_tier': 'default', 'finish_reason': 'stop', 'logprobs': None}, id='run--bd66b140-4a58-457e-a15b-cbcbd714bd79-0', usage_metadata={'input_tokens': 19, 'output_tokens': 133, 'total_tokens': 152, 'input_token_details': {'audio': 0, 'cache_read': 0}, 'output_token_details': {'audio': 0, 'reasoning': 0}})"
            ]
          },
          "metadata": {},
          "execution_count": 4
        }
      ]
    },
    {
      "cell_type": "code",
      "source": [
        "from  langchain_core.prompts import ChatPromptTemplate"
      ],
      "metadata": {
        "id": "dxAoBz0Ww-Nz"
      },
      "execution_count": null,
      "outputs": []
    },
    {
      "cell_type": "code",
      "source": [
        "prompt = ChatPromptTemplate.from_messages([\n",
        "    (\"system\",\"Eres un asistente de IA, puedes responder a preguntas sobre IA\"),\n",
        "    (\"user\",\"{input}\")\n",
        "])"
      ],
      "metadata": {
        "id": "mKv4ZF-3y4W4"
      },
      "execution_count": null,
      "outputs": []
    },
    {
      "cell_type": "code",
      "source": [
        "chain  = prompt | llm\n",
        "chain.invoke({\"input\":\"la profesion de IA tiene un futuro prometedor?\"})"
      ],
      "metadata": {
        "colab": {
          "base_uri": "https://localhost:8080/"
        },
        "id": "S3nkkLPaz48w",
        "outputId": "65af5b94-b64d-4b23-82ef-26d41f76d519"
      },
      "execution_count": null,
      "outputs": [
        {
          "output_type": "execute_result",
          "data": {
            "text/plain": [
              "AIMessage(content='Sí, la profesión de Inteligencia Artificial (IA) tiene un futuro muy prometedor. Con los avances tecnológicos en el campo de la IA, se espera que haya una creciente demanda de profesionales especializados en esta área. Las empresas de todo el mundo están adoptando la IA para mejorar sus operaciones, tomar decisiones más informadas y ofrecer productos y servicios más personalizados. Por lo tanto, si estás interesado en la IA, es un buen momento para considerar una carrera en este campo en constante evolución.', additional_kwargs={'refusal': None}, response_metadata={'token_usage': {'completion_tokens': 119, 'prompt_tokens': 39, 'total_tokens': 158, 'completion_tokens_details': {'accepted_prediction_tokens': 0, 'audio_tokens': 0, 'reasoning_tokens': 0, 'rejected_prediction_tokens': 0}, 'prompt_tokens_details': {'audio_tokens': 0, 'cached_tokens': 0}}, 'model_name': 'gpt-3.5-turbo-0125', 'system_fingerprint': None, 'id': 'chatcmpl-Blvm6Sd5cV3cD5p7uRmZtsAYaZx9l', 'service_tier': 'default', 'finish_reason': 'stop', 'logprobs': None}, id='run--f0709bb6-32c2-4f49-9b47-876c227f6ffc-0', usage_metadata={'input_tokens': 39, 'output_tokens': 119, 'total_tokens': 158, 'input_token_details': {'audio': 0, 'cache_read': 0}, 'output_token_details': {'audio': 0, 'reasoning': 0}})"
            ]
          },
          "metadata": {},
          "execution_count": 7
        }
      ]
    },
    {
      "cell_type": "markdown",
      "source": [
        "#Memory"
      ],
      "metadata": {
        "id": "lJJxwVON2LRg"
      }
    },
    {
      "cell_type": "code",
      "source": [
        "from langchain_core.prompts import ChatPromptTemplate, MessagesPlaceholder\n",
        "from langchain_openai.chat_models import ChatOpenAI\n"
      ],
      "metadata": {
        "id": "HLGY_xCHz77H"
      },
      "execution_count": null,
      "outputs": []
    },
    {
      "cell_type": "code",
      "source": [
        "model = ChatOpenAI()\n",
        "prompt = ChatPromptTemplate.from_messages([\n",
        "    (\"system\",\n",
        "     \"Eres un asistente de {ability}, puedes responder a preguntas sobre {ability}\",\n",
        "     ),\n",
        "    MessagesPlaceholder(variable_name=\"history\"),#ingresa el historico de la conversacion\n",
        "    (\"human\",\"{input}\")\n",
        "])"
      ],
      "metadata": {
        "id": "tV8dWwZ62XJO"
      },
      "execution_count": null,
      "outputs": []
    },
    {
      "cell_type": "code",
      "source": [
        "runnable = prompt | model"
      ],
      "metadata": {
        "id": "yy0ThXGk2ZR7"
      },
      "execution_count": null,
      "outputs": []
    },
    {
      "cell_type": "code",
      "source": [
        "!pip install langchain-community\n"
      ],
      "metadata": {
        "collapsed": true,
        "colab": {
          "base_uri": "https://localhost:8080/",
          "height": 1000
        },
        "id": "4kjEV3q_3GZQ",
        "outputId": "cc152675-8f5a-4188-cb36-c9db56dafc86"
      },
      "execution_count": null,
      "outputs": [
        {
          "output_type": "stream",
          "name": "stdout",
          "text": [
            "Collecting langchain-community\n",
            "  Downloading langchain_community-0.3.26-py3-none-any.whl.metadata (2.9 kB)\n",
            "Requirement already satisfied: langchain-core<1.0.0,>=0.3.66 in /usr/local/lib/python3.11/dist-packages (from langchain-community) (0.3.66)\n",
            "Collecting langchain<1.0.0,>=0.3.26 (from langchain-community)\n",
            "  Downloading langchain-0.3.26-py3-none-any.whl.metadata (7.8 kB)\n",
            "Requirement already satisfied: SQLAlchemy<3,>=1.4 in /usr/local/lib/python3.11/dist-packages (from langchain-community) (2.0.41)\n",
            "Requirement already satisfied: requests<3,>=2 in /usr/local/lib/python3.11/dist-packages (from langchain-community) (2.32.3)\n",
            "Requirement already satisfied: PyYAML>=5.3 in /usr/local/lib/python3.11/dist-packages (from langchain-community) (6.0.2)\n",
            "Requirement already satisfied: aiohttp<4.0.0,>=3.8.3 in /usr/local/lib/python3.11/dist-packages (from langchain-community) (3.11.15)\n",
            "Requirement already satisfied: tenacity!=8.4.0,<10,>=8.1.0 in /usr/local/lib/python3.11/dist-packages (from langchain-community) (9.1.2)\n",
            "Collecting dataclasses-json<0.7,>=0.5.7 (from langchain-community)\n",
            "  Downloading dataclasses_json-0.6.7-py3-none-any.whl.metadata (25 kB)\n",
            "Collecting pydantic-settings<3.0.0,>=2.4.0 (from langchain-community)\n",
            "  Downloading pydantic_settings-2.10.0-py3-none-any.whl.metadata (3.4 kB)\n",
            "Requirement already satisfied: langsmith>=0.1.125 in /usr/local/lib/python3.11/dist-packages (from langchain-community) (0.3.45)\n",
            "Collecting httpx-sse<1.0.0,>=0.4.0 (from langchain-community)\n",
            "  Downloading httpx_sse-0.4.0-py3-none-any.whl.metadata (9.0 kB)\n",
            "Requirement already satisfied: numpy>=1.26.2 in /usr/local/lib/python3.11/dist-packages (from langchain-community) (2.0.2)\n",
            "Requirement already satisfied: aiohappyeyeballs>=2.3.0 in /usr/local/lib/python3.11/dist-packages (from aiohttp<4.0.0,>=3.8.3->langchain-community) (2.6.1)\n",
            "Requirement already satisfied: aiosignal>=1.1.2 in /usr/local/lib/python3.11/dist-packages (from aiohttp<4.0.0,>=3.8.3->langchain-community) (1.3.2)\n",
            "Requirement already satisfied: attrs>=17.3.0 in /usr/local/lib/python3.11/dist-packages (from aiohttp<4.0.0,>=3.8.3->langchain-community) (25.3.0)\n",
            "Requirement already satisfied: frozenlist>=1.1.1 in /usr/local/lib/python3.11/dist-packages (from aiohttp<4.0.0,>=3.8.3->langchain-community) (1.7.0)\n",
            "Requirement already satisfied: multidict<7.0,>=4.5 in /usr/local/lib/python3.11/dist-packages (from aiohttp<4.0.0,>=3.8.3->langchain-community) (6.4.4)\n",
            "Requirement already satisfied: propcache>=0.2.0 in /usr/local/lib/python3.11/dist-packages (from aiohttp<4.0.0,>=3.8.3->langchain-community) (0.3.2)\n",
            "Requirement already satisfied: yarl<2.0,>=1.17.0 in /usr/local/lib/python3.11/dist-packages (from aiohttp<4.0.0,>=3.8.3->langchain-community) (1.20.1)\n",
            "Collecting marshmallow<4.0.0,>=3.18.0 (from dataclasses-json<0.7,>=0.5.7->langchain-community)\n",
            "  Downloading marshmallow-3.26.1-py3-none-any.whl.metadata (7.3 kB)\n",
            "Collecting typing-inspect<1,>=0.4.0 (from dataclasses-json<0.7,>=0.5.7->langchain-community)\n",
            "  Downloading typing_inspect-0.9.0-py3-none-any.whl.metadata (1.5 kB)\n",
            "Requirement already satisfied: langchain-text-splitters<1.0.0,>=0.3.8 in /usr/local/lib/python3.11/dist-packages (from langchain<1.0.0,>=0.3.26->langchain-community) (0.3.8)\n",
            "Requirement already satisfied: pydantic<3.0.0,>=2.7.4 in /usr/local/lib/python3.11/dist-packages (from langchain<1.0.0,>=0.3.26->langchain-community) (2.11.7)\n",
            "Requirement already satisfied: jsonpatch<2.0,>=1.33 in /usr/local/lib/python3.11/dist-packages (from langchain-core<1.0.0,>=0.3.66->langchain-community) (1.33)\n",
            "Requirement already satisfied: packaging<25,>=23.2 in /usr/local/lib/python3.11/dist-packages (from langchain-core<1.0.0,>=0.3.66->langchain-community) (24.2)\n",
            "Requirement already satisfied: typing-extensions>=4.7 in /usr/local/lib/python3.11/dist-packages (from langchain-core<1.0.0,>=0.3.66->langchain-community) (4.14.0)\n",
            "Requirement already satisfied: httpx<1,>=0.23.0 in /usr/local/lib/python3.11/dist-packages (from langsmith>=0.1.125->langchain-community) (0.28.1)\n",
            "Requirement already satisfied: orjson<4.0.0,>=3.9.14 in /usr/local/lib/python3.11/dist-packages (from langsmith>=0.1.125->langchain-community) (3.10.18)\n",
            "Requirement already satisfied: requests-toolbelt<2.0.0,>=1.0.0 in /usr/local/lib/python3.11/dist-packages (from langsmith>=0.1.125->langchain-community) (1.0.0)\n",
            "Requirement already satisfied: zstandard<0.24.0,>=0.23.0 in /usr/local/lib/python3.11/dist-packages (from langsmith>=0.1.125->langchain-community) (0.23.0)\n",
            "Collecting python-dotenv>=0.21.0 (from pydantic-settings<3.0.0,>=2.4.0->langchain-community)\n",
            "  Downloading python_dotenv-1.1.1-py3-none-any.whl.metadata (24 kB)\n",
            "Requirement already satisfied: typing-inspection>=0.4.0 in /usr/local/lib/python3.11/dist-packages (from pydantic-settings<3.0.0,>=2.4.0->langchain-community) (0.4.1)\n",
            "Requirement already satisfied: charset-normalizer<4,>=2 in /usr/local/lib/python3.11/dist-packages (from requests<3,>=2->langchain-community) (3.4.2)\n",
            "Requirement already satisfied: idna<4,>=2.5 in /usr/local/lib/python3.11/dist-packages (from requests<3,>=2->langchain-community) (3.10)\n",
            "Requirement already satisfied: urllib3<3,>=1.21.1 in /usr/local/lib/python3.11/dist-packages (from requests<3,>=2->langchain-community) (2.4.0)\n",
            "Requirement already satisfied: certifi>=2017.4.17 in /usr/local/lib/python3.11/dist-packages (from requests<3,>=2->langchain-community) (2025.6.15)\n",
            "Requirement already satisfied: greenlet>=1 in /usr/local/lib/python3.11/dist-packages (from SQLAlchemy<3,>=1.4->langchain-community) (3.2.3)\n",
            "Requirement already satisfied: anyio in /usr/local/lib/python3.11/dist-packages (from httpx<1,>=0.23.0->langsmith>=0.1.125->langchain-community) (4.9.0)\n",
            "Requirement already satisfied: httpcore==1.* in /usr/local/lib/python3.11/dist-packages (from httpx<1,>=0.23.0->langsmith>=0.1.125->langchain-community) (1.0.9)\n",
            "Requirement already satisfied: h11>=0.16 in /usr/local/lib/python3.11/dist-packages (from httpcore==1.*->httpx<1,>=0.23.0->langsmith>=0.1.125->langchain-community) (0.16.0)\n",
            "Requirement already satisfied: jsonpointer>=1.9 in /usr/local/lib/python3.11/dist-packages (from jsonpatch<2.0,>=1.33->langchain-core<1.0.0,>=0.3.66->langchain-community) (3.0.0)\n",
            "Requirement already satisfied: annotated-types>=0.6.0 in /usr/local/lib/python3.11/dist-packages (from pydantic<3.0.0,>=2.7.4->langchain<1.0.0,>=0.3.26->langchain-community) (0.7.0)\n",
            "Requirement already satisfied: pydantic-core==2.33.2 in /usr/local/lib/python3.11/dist-packages (from pydantic<3.0.0,>=2.7.4->langchain<1.0.0,>=0.3.26->langchain-community) (2.33.2)\n",
            "Collecting mypy-extensions>=0.3.0 (from typing-inspect<1,>=0.4.0->dataclasses-json<0.7,>=0.5.7->langchain-community)\n",
            "  Downloading mypy_extensions-1.1.0-py3-none-any.whl.metadata (1.1 kB)\n",
            "Requirement already satisfied: sniffio>=1.1 in /usr/local/lib/python3.11/dist-packages (from anyio->httpx<1,>=0.23.0->langsmith>=0.1.125->langchain-community) (1.3.1)\n",
            "Downloading langchain_community-0.3.26-py3-none-any.whl (2.5 MB)\n",
            "\u001b[2K   \u001b[90m━━━━━━━━━━━━━━━━━━━━━━━━━━━━━━━━━━━━━━━━\u001b[0m \u001b[32m2.5/2.5 MB\u001b[0m \u001b[31m31.9 MB/s\u001b[0m eta \u001b[36m0:00:00\u001b[0m\n",
            "\u001b[?25hDownloading dataclasses_json-0.6.7-py3-none-any.whl (28 kB)\n",
            "Downloading httpx_sse-0.4.0-py3-none-any.whl (7.8 kB)\n",
            "Downloading langchain-0.3.26-py3-none-any.whl (1.0 MB)\n",
            "\u001b[2K   \u001b[90m━━━━━━━━━━━━━━━━━━━━━━━━━━━━━━━━━━━━━━━━\u001b[0m \u001b[32m1.0/1.0 MB\u001b[0m \u001b[31m44.5 MB/s\u001b[0m eta \u001b[36m0:00:00\u001b[0m\n",
            "\u001b[?25hDownloading pydantic_settings-2.10.0-py3-none-any.whl (45 kB)\n",
            "\u001b[2K   \u001b[90m━━━━━━━━━━━━━━━━━━━━━━━━━━━━━━━━━━━━━━━━\u001b[0m \u001b[32m45.2/45.2 kB\u001b[0m \u001b[31m3.2 MB/s\u001b[0m eta \u001b[36m0:00:00\u001b[0m\n",
            "\u001b[?25hDownloading marshmallow-3.26.1-py3-none-any.whl (50 kB)\n",
            "\u001b[2K   \u001b[90m━━━━━━━━━━━━━━━━━━━━━━━━━━━━━━━━━━━━━━━━\u001b[0m \u001b[32m50.9/50.9 kB\u001b[0m \u001b[31m3.7 MB/s\u001b[0m eta \u001b[36m0:00:00\u001b[0m\n",
            "\u001b[?25hDownloading python_dotenv-1.1.1-py3-none-any.whl (20 kB)\n",
            "Downloading typing_inspect-0.9.0-py3-none-any.whl (8.8 kB)\n",
            "Downloading mypy_extensions-1.1.0-py3-none-any.whl (5.0 kB)\n",
            "Installing collected packages: python-dotenv, mypy-extensions, marshmallow, httpx-sse, typing-inspect, pydantic-settings, dataclasses-json, langchain, langchain-community\n",
            "  Attempting uninstall: langchain\n",
            "    Found existing installation: langchain 0.3.25\n",
            "    Uninstalling langchain-0.3.25:\n",
            "      Successfully uninstalled langchain-0.3.25\n",
            "Successfully installed dataclasses-json-0.6.7 httpx-sse-0.4.0 langchain-0.3.26 langchain-community-0.3.26 marshmallow-3.26.1 mypy-extensions-1.1.0 pydantic-settings-2.10.0 python-dotenv-1.1.1 typing-inspect-0.9.0\n"
          ]
        },
        {
          "output_type": "display_data",
          "data": {
            "application/vnd.colab-display-data+json": {
              "pip_warning": {
                "packages": [
                  "langchain"
                ]
              },
              "id": "91621bfbe5b34a978f797808a284f592"
            }
          },
          "metadata": {}
        }
      ]
    },
    {
      "cell_type": "code",
      "source": [
        "from langchain_community.chat_message_histories import ChatMessageHistory\n",
        "from langchain_core.chat_history import BaseChatMessageHistory\n",
        "from langchain_core.runnables.history import RunnableWithMessageHistory\n"
      ],
      "metadata": {
        "id": "L0PZ4wIY2rBM"
      },
      "execution_count": null,
      "outputs": []
    },
    {
      "cell_type": "code",
      "source": [
        "store = {}"
      ],
      "metadata": {
        "id": "QF21b3s_28Gk"
      },
      "execution_count": null,
      "outputs": []
    },
    {
      "cell_type": "code",
      "source": [
        "#Para saber si hay contexto anterior\n",
        "def get_session_history(session_id: str)->BaseChatMessageHistory:\n",
        "  if session_id not in store:\n",
        "    store[session_id] = ChatMessageHistory()\n",
        "  return store[session_id]"
      ],
      "metadata": {
        "id": "YMM7T4xZ3p4l"
      },
      "execution_count": null,
      "outputs": []
    },
    {
      "cell_type": "code",
      "source": [
        "with_message_history = RunnableWithMessageHistory(\n",
        "    runnable,\n",
        "    get_session_history,\n",
        "    input_message_key=\"input\",\n",
        "    history_messages_key=\"history\",\n",
        ")"
      ],
      "metadata": {
        "id": "bh4insZ2pOwJ"
      },
      "execution_count": null,
      "outputs": []
    },
    {
      "cell_type": "code",
      "source": [
        "with_message_history.invoke(\n",
        "    {\"ability\":\"ciencia de datos\",\"input\":\"que es una funcion de perdida\"},\n",
        "    config={\"configurable\":{\"session_id\":\"abc123\"}},\n",
        "    )"
      ],
      "metadata": {
        "colab": {
          "base_uri": "https://localhost:8080/"
        },
        "id": "8ndnsuuZpjpS",
        "outputId": "dbdcad09-e7e2-424c-bcbc-938d661073ce"
      },
      "execution_count": null,
      "outputs": [
        {
          "output_type": "execute_result",
          "data": {
            "text/plain": [
              "AIMessage(content='Una función de pérdida, también conocida como función de costo, es una medida que se utiliza para evaluar qué tan bien está funcionando un modelo de machine learning en la predicción de valores de salida con respecto a los valores reales. Esta función calcula la diferencia entre la predicción del modelo y el valor real, generando un número que representa el error de la predicción.\\n\\nEl objetivo es minimizar esta función de pérdida durante el entrenamiento del modelo para que pueda realizar predicciones más precisas. Algunos ejemplos de funciones de pérdida comunes incluyen el error cuadrático medio (MSE), la entropía cruzada (para problemas de clasificación) y la función de bisagra (para problemas de clasificación de tipo SVM).', additional_kwargs={'refusal': None}, response_metadata={'token_usage': {'completion_tokens': 167, 'prompt_tokens': 40, 'total_tokens': 207, 'completion_tokens_details': {'accepted_prediction_tokens': 0, 'audio_tokens': 0, 'reasoning_tokens': 0, 'rejected_prediction_tokens': 0}, 'prompt_tokens_details': {'audio_tokens': 0, 'cached_tokens': 0}}, 'model_name': 'gpt-3.5-turbo-0125', 'system_fingerprint': None, 'id': 'chatcmpl-Blw7lz0WJltfZdRVfPPEOopsBmxEa', 'service_tier': 'default', 'finish_reason': 'stop', 'logprobs': None}, id='run--c1587e99-4a5b-4d96-8402-a4cd5e4bdc1f-0', usage_metadata={'input_tokens': 40, 'output_tokens': 167, 'total_tokens': 207, 'input_token_details': {'audio': 0, 'cache_read': 0}, 'output_token_details': {'audio': 0, 'reasoning': 0}})"
            ]
          },
          "metadata": {},
          "execution_count": 33
        }
      ]
    },
    {
      "cell_type": "code",
      "source": [
        "with_message_history.invoke(\n",
        "    {\"ability\":\"ciencia de datos\",\"input\":\"como?, no te entendi\"},\n",
        "    config={\"configurable\":{\"session_id\":\"abc123\"}},\n",
        "    )"
      ],
      "metadata": {
        "colab": {
          "base_uri": "https://localhost:8080/"
        },
        "id": "cgpOKJFaqJ5U",
        "outputId": "7291c6df-3303-4bc0-a9e7-a3d115183065"
      },
      "execution_count": null,
      "outputs": [
        {
          "output_type": "execute_result",
          "data": {
            "text/plain": [
              "AIMessage(content='Claro, déjame explicarlo de una manera más sencilla. Una función de pérdida es una medida que nos dice qué tan bien está aprendiendo nuestro modelo de machine learning. Imagina que tienes un modelo que intenta predecir el precio de una casa. La función de pérdida calculará la diferencia entre el precio real de la casa y la predicción hecha por el modelo.\\n\\nEl objetivo es que esta diferencia sea lo más pequeña posible, ya que eso significa que nuestro modelo está haciendo predicciones más precisas. Durante el entrenamiento del modelo, ajustamos sus parámetros para minimizar esta función de pérdida, de modo que el modelo pueda aprender de los datos y hacer mejores predicciones. Hay diferentes tipos de funciones de pérdida, cada una adecuada para distintos tipos de problemas de machine learning.', additional_kwargs={'refusal': None}, response_metadata={'token_usage': {'completion_tokens': 180, 'prompt_tokens': 221, 'total_tokens': 401, 'completion_tokens_details': {'accepted_prediction_tokens': 0, 'audio_tokens': 0, 'reasoning_tokens': 0, 'rejected_prediction_tokens': 0}, 'prompt_tokens_details': {'audio_tokens': 0, 'cached_tokens': 0}}, 'model_name': 'gpt-3.5-turbo-0125', 'system_fingerprint': None, 'id': 'chatcmpl-BlwAffwoc8BGHBizBj7i3Yz0M27rs', 'service_tier': 'default', 'finish_reason': 'stop', 'logprobs': None}, id='run--144246cd-5aa6-4e0c-97c2-27d95f70b604-0', usage_metadata={'input_tokens': 221, 'output_tokens': 180, 'total_tokens': 401, 'input_token_details': {'audio': 0, 'cache_read': 0}, 'output_token_details': {'audio': 0, 'reasoning': 0}})"
            ]
          },
          "metadata": {},
          "execution_count": 34
        }
      ]
    },
    {
      "cell_type": "markdown",
      "source": [
        "#Tools\n"
      ],
      "metadata": {
        "id": "kLjFgjv3uUlu"
      }
    },
    {
      "cell_type": "code",
      "source": [
        "!pip install wikipedia\n"
      ],
      "metadata": {
        "colab": {
          "base_uri": "https://localhost:8080/"
        },
        "collapsed": true,
        "id": "coT1_X2XvPru",
        "outputId": "a74e1821-4d3a-4f9a-d155-4803f3732335"
      },
      "execution_count": null,
      "outputs": [
        {
          "output_type": "stream",
          "name": "stdout",
          "text": [
            "Collecting wikipedia\n",
            "  Downloading wikipedia-1.4.0.tar.gz (27 kB)\n",
            "  Preparing metadata (setup.py) ... \u001b[?25l\u001b[?25hdone\n",
            "Requirement already satisfied: beautifulsoup4 in /usr/local/lib/python3.11/dist-packages (from wikipedia) (4.13.4)\n",
            "Requirement already satisfied: requests<3.0.0,>=2.0.0 in /usr/local/lib/python3.11/dist-packages (from wikipedia) (2.32.3)\n",
            "Requirement already satisfied: charset-normalizer<4,>=2 in /usr/local/lib/python3.11/dist-packages (from requests<3.0.0,>=2.0.0->wikipedia) (3.4.2)\n",
            "Requirement already satisfied: idna<4,>=2.5 in /usr/local/lib/python3.11/dist-packages (from requests<3.0.0,>=2.0.0->wikipedia) (3.10)\n",
            "Requirement already satisfied: urllib3<3,>=1.21.1 in /usr/local/lib/python3.11/dist-packages (from requests<3.0.0,>=2.0.0->wikipedia) (2.4.0)\n",
            "Requirement already satisfied: certifi>=2017.4.17 in /usr/local/lib/python3.11/dist-packages (from requests<3.0.0,>=2.0.0->wikipedia) (2025.6.15)\n",
            "Requirement already satisfied: soupsieve>1.2 in /usr/local/lib/python3.11/dist-packages (from beautifulsoup4->wikipedia) (2.7)\n",
            "Requirement already satisfied: typing-extensions>=4.0.0 in /usr/local/lib/python3.11/dist-packages (from beautifulsoup4->wikipedia) (4.14.0)\n",
            "Building wheels for collected packages: wikipedia\n",
            "  Building wheel for wikipedia (setup.py) ... \u001b[?25l\u001b[?25hdone\n",
            "  Created wheel for wikipedia: filename=wikipedia-1.4.0-py3-none-any.whl size=11678 sha256=93f09ae4e806ade9d4386568521238c0cd5818734ced7ea783f47ae4a792d34f\n",
            "  Stored in directory: /root/.cache/pip/wheels/8f/ab/cb/45ccc40522d3a1c41e1d2ad53b8f33a62f394011ec38cd71c6\n",
            "Successfully built wikipedia\n",
            "Installing collected packages: wikipedia\n",
            "Successfully installed wikipedia-1.4.0\n"
          ]
        }
      ]
    },
    {
      "cell_type": "code",
      "source": [
        "from langchain_community.tools import WikipediaQueryRun\n",
        "from langchain_community.utilities import WikipediaAPIWrapper"
      ],
      "metadata": {
        "id": "N6s4lAGetZ34"
      },
      "execution_count": null,
      "outputs": []
    },
    {
      "cell_type": "code",
      "source": [
        "api_wrapper = WikipediaAPIWrapper(top_k_results=1,doc_content_chars_max=500)\n",
        "tool = WikipediaQueryRun(api_wrapper=api_wrapper)"
      ],
      "metadata": {
        "id": "UPx13c74uqxA"
      },
      "execution_count": null,
      "outputs": []
    },
    {
      "cell_type": "code",
      "source": [
        "tool.name"
      ],
      "metadata": {
        "colab": {
          "base_uri": "https://localhost:8080/",
          "height": 35
        },
        "id": "C5C8sP8JvcNH",
        "outputId": "dd788ea4-550b-4786-a841-6331d7212e69"
      },
      "execution_count": null,
      "outputs": [
        {
          "output_type": "execute_result",
          "data": {
            "text/plain": [
              "'wikipedia'"
            ],
            "application/vnd.google.colaboratory.intrinsic+json": {
              "type": "string"
            }
          },
          "metadata": {},
          "execution_count": 40
        }
      ]
    },
    {
      "cell_type": "code",
      "source": [
        "tool.description"
      ],
      "metadata": {
        "colab": {
          "base_uri": "https://localhost:8080/",
          "height": 35
        },
        "id": "EdcYxCWIvdh3",
        "outputId": "b795e624-ca4c-4414-84b0-b2b080d1a03c"
      },
      "execution_count": null,
      "outputs": [
        {
          "output_type": "execute_result",
          "data": {
            "text/plain": [
              "'A wrapper around Wikipedia. Useful for when you need to answer general questions about people, places, companies, facts, historical events, or other subjects. Input should be a search query.'"
            ],
            "application/vnd.google.colaboratory.intrinsic+json": {
              "type": "string"
            }
          },
          "metadata": {},
          "execution_count": 41
        }
      ]
    },
    {
      "cell_type": "code",
      "source": [
        "tool.args"
      ],
      "metadata": {
        "colab": {
          "base_uri": "https://localhost:8080/"
        },
        "id": "u-hWsnQKvdEb",
        "outputId": "f932e217-d0b0-4bf7-c515-a44293a2e79d"
      },
      "execution_count": null,
      "outputs": [
        {
          "output_type": "execute_result",
          "data": {
            "text/plain": [
              "{'query': {'description': 'query to look up on wikipedia',\n",
              "  'title': 'Query',\n",
              "  'type': 'string'}}"
            ]
          },
          "metadata": {},
          "execution_count": 42
        }
      ]
    },
    {
      "cell_type": "code",
      "source": [
        "tool.run({\"query\":\"Alan Turing\"})"
      ],
      "metadata": {
        "colab": {
          "base_uri": "https://localhost:8080/",
          "height": 70
        },
        "id": "Vu75FrqsxI7f",
        "outputId": "d949fb8a-fd92-4625-c0ca-cb728d8fddfe"
      },
      "execution_count": null,
      "outputs": [
        {
          "output_type": "execute_result",
          "data": {
            "text/plain": [
              "'Page: Alan Turing\\nSummary: Alan Mathison Turing (; 23 June 1912 – 7 June 1954) was an English mathematician, computer scientist, logician, cryptanalyst, philosopher and theoretical biologist. He was highly influential in the development of theoretical computer science, providing a formalisation of the concepts of algorithm and computation with the Turing machine, which can be considered a model of a general-purpose computer. Turing is widely considered to be the father of theoretical computer sc'"
            ],
            "application/vnd.google.colaboratory.intrinsic+json": {
              "type": "string"
            }
          },
          "metadata": {},
          "execution_count": 51
        }
      ]
    },
    {
      "cell_type": "code",
      "source": [
        "tool.run({\"query\":\"quien es Alan Turing\"})"
      ],
      "metadata": {
        "colab": {
          "base_uri": "https://localhost:8080/",
          "height": 35
        },
        "id": "8ilTcwEmvg3L",
        "outputId": "6bd902f0-48b1-45de-c236-50ea110083d5"
      },
      "execution_count": null,
      "outputs": [
        {
          "output_type": "execute_result",
          "data": {
            "text/plain": [
              "'Page: Arturo Puig\\nSummary: Arturo José Alberto Puig (born 17 November 1944) is an Argentine actor. He has worked in the 1990s success Grande, pá!!!'"
            ],
            "application/vnd.google.colaboratory.intrinsic+json": {
              "type": "string"
            }
          },
          "metadata": {},
          "execution_count": 50
        }
      ]
    },
    {
      "cell_type": "markdown",
      "source": [
        "#Agents\n"
      ],
      "metadata": {
        "id": "3PROml40xU3H"
      }
    },
    {
      "cell_type": "code",
      "source": [
        "!pip install -U langchain-tavily\n"
      ],
      "metadata": {
        "colab": {
          "base_uri": "https://localhost:8080/"
        },
        "collapsed": true,
        "id": "L8BiRN-SyuMG",
        "outputId": "620a305c-3d45-49f1-b939-48e56348c856"
      },
      "execution_count": null,
      "outputs": [
        {
          "output_type": "stream",
          "name": "stdout",
          "text": [
            "Collecting langchain-tavily\n",
            "  Downloading langchain_tavily-0.2.4-py3-none-any.whl.metadata (21 kB)\n",
            "Requirement already satisfied: aiohttp<4.0.0,>=3.11.14 in /usr/local/lib/python3.11/dist-packages (from langchain-tavily) (3.11.15)\n",
            "Requirement already satisfied: langchain<0.4.0,>=0.3.20 in /usr/local/lib/python3.11/dist-packages (from langchain-tavily) (0.3.26)\n",
            "Requirement already satisfied: langchain-core<0.4.0,>=0.3.15 in /usr/local/lib/python3.11/dist-packages (from langchain-tavily) (0.3.66)\n",
            "Collecting mypy<2.0.0,>=1.15.0 (from langchain-tavily)\n",
            "  Downloading mypy-1.16.1-cp311-cp311-manylinux_2_17_x86_64.manylinux2014_x86_64.manylinux_2_28_x86_64.whl.metadata (2.1 kB)\n",
            "Requirement already satisfied: requests<3.0.0,>=2.32.3 in /usr/local/lib/python3.11/dist-packages (from langchain-tavily) (2.32.3)\n",
            "Requirement already satisfied: aiohappyeyeballs>=2.3.0 in /usr/local/lib/python3.11/dist-packages (from aiohttp<4.0.0,>=3.11.14->langchain-tavily) (2.6.1)\n",
            "Requirement already satisfied: aiosignal>=1.1.2 in /usr/local/lib/python3.11/dist-packages (from aiohttp<4.0.0,>=3.11.14->langchain-tavily) (1.3.2)\n",
            "Requirement already satisfied: attrs>=17.3.0 in /usr/local/lib/python3.11/dist-packages (from aiohttp<4.0.0,>=3.11.14->langchain-tavily) (25.3.0)\n",
            "Requirement already satisfied: frozenlist>=1.1.1 in /usr/local/lib/python3.11/dist-packages (from aiohttp<4.0.0,>=3.11.14->langchain-tavily) (1.7.0)\n",
            "Requirement already satisfied: multidict<7.0,>=4.5 in /usr/local/lib/python3.11/dist-packages (from aiohttp<4.0.0,>=3.11.14->langchain-tavily) (6.4.4)\n",
            "Requirement already satisfied: propcache>=0.2.0 in /usr/local/lib/python3.11/dist-packages (from aiohttp<4.0.0,>=3.11.14->langchain-tavily) (0.3.2)\n",
            "Requirement already satisfied: yarl<2.0,>=1.17.0 in /usr/local/lib/python3.11/dist-packages (from aiohttp<4.0.0,>=3.11.14->langchain-tavily) (1.20.1)\n",
            "Requirement already satisfied: langchain-text-splitters<1.0.0,>=0.3.8 in /usr/local/lib/python3.11/dist-packages (from langchain<0.4.0,>=0.3.20->langchain-tavily) (0.3.8)\n",
            "Requirement already satisfied: langsmith>=0.1.17 in /usr/local/lib/python3.11/dist-packages (from langchain<0.4.0,>=0.3.20->langchain-tavily) (0.3.45)\n",
            "Requirement already satisfied: pydantic<3.0.0,>=2.7.4 in /usr/local/lib/python3.11/dist-packages (from langchain<0.4.0,>=0.3.20->langchain-tavily) (2.11.7)\n",
            "Requirement already satisfied: SQLAlchemy<3,>=1.4 in /usr/local/lib/python3.11/dist-packages (from langchain<0.4.0,>=0.3.20->langchain-tavily) (2.0.41)\n",
            "Requirement already satisfied: PyYAML>=5.3 in /usr/local/lib/python3.11/dist-packages (from langchain<0.4.0,>=0.3.20->langchain-tavily) (6.0.2)\n",
            "Requirement already satisfied: tenacity!=8.4.0,<10.0.0,>=8.1.0 in /usr/local/lib/python3.11/dist-packages (from langchain-core<0.4.0,>=0.3.15->langchain-tavily) (9.1.2)\n",
            "Requirement already satisfied: jsonpatch<2.0,>=1.33 in /usr/local/lib/python3.11/dist-packages (from langchain-core<0.4.0,>=0.3.15->langchain-tavily) (1.33)\n",
            "Requirement already satisfied: packaging<25,>=23.2 in /usr/local/lib/python3.11/dist-packages (from langchain-core<0.4.0,>=0.3.15->langchain-tavily) (24.2)\n",
            "Requirement already satisfied: typing-extensions>=4.7 in /usr/local/lib/python3.11/dist-packages (from langchain-core<0.4.0,>=0.3.15->langchain-tavily) (4.14.0)\n",
            "Requirement already satisfied: mypy_extensions>=1.0.0 in /usr/local/lib/python3.11/dist-packages (from mypy<2.0.0,>=1.15.0->langchain-tavily) (1.1.0)\n",
            "Collecting pathspec>=0.9.0 (from mypy<2.0.0,>=1.15.0->langchain-tavily)\n",
            "  Downloading pathspec-0.12.1-py3-none-any.whl.metadata (21 kB)\n",
            "Requirement already satisfied: charset-normalizer<4,>=2 in /usr/local/lib/python3.11/dist-packages (from requests<3.0.0,>=2.32.3->langchain-tavily) (3.4.2)\n",
            "Requirement already satisfied: idna<4,>=2.5 in /usr/local/lib/python3.11/dist-packages (from requests<3.0.0,>=2.32.3->langchain-tavily) (3.10)\n",
            "Requirement already satisfied: urllib3<3,>=1.21.1 in /usr/local/lib/python3.11/dist-packages (from requests<3.0.0,>=2.32.3->langchain-tavily) (2.4.0)\n",
            "Requirement already satisfied: certifi>=2017.4.17 in /usr/local/lib/python3.11/dist-packages (from requests<3.0.0,>=2.32.3->langchain-tavily) (2025.6.15)\n",
            "Requirement already satisfied: jsonpointer>=1.9 in /usr/local/lib/python3.11/dist-packages (from jsonpatch<2.0,>=1.33->langchain-core<0.4.0,>=0.3.15->langchain-tavily) (3.0.0)\n",
            "Requirement already satisfied: httpx<1,>=0.23.0 in /usr/local/lib/python3.11/dist-packages (from langsmith>=0.1.17->langchain<0.4.0,>=0.3.20->langchain-tavily) (0.28.1)\n",
            "Requirement already satisfied: orjson<4.0.0,>=3.9.14 in /usr/local/lib/python3.11/dist-packages (from langsmith>=0.1.17->langchain<0.4.0,>=0.3.20->langchain-tavily) (3.10.18)\n",
            "Requirement already satisfied: requests-toolbelt<2.0.0,>=1.0.0 in /usr/local/lib/python3.11/dist-packages (from langsmith>=0.1.17->langchain<0.4.0,>=0.3.20->langchain-tavily) (1.0.0)\n",
            "Requirement already satisfied: zstandard<0.24.0,>=0.23.0 in /usr/local/lib/python3.11/dist-packages (from langsmith>=0.1.17->langchain<0.4.0,>=0.3.20->langchain-tavily) (0.23.0)\n",
            "Requirement already satisfied: annotated-types>=0.6.0 in /usr/local/lib/python3.11/dist-packages (from pydantic<3.0.0,>=2.7.4->langchain<0.4.0,>=0.3.20->langchain-tavily) (0.7.0)\n",
            "Requirement already satisfied: pydantic-core==2.33.2 in /usr/local/lib/python3.11/dist-packages (from pydantic<3.0.0,>=2.7.4->langchain<0.4.0,>=0.3.20->langchain-tavily) (2.33.2)\n",
            "Requirement already satisfied: typing-inspection>=0.4.0 in /usr/local/lib/python3.11/dist-packages (from pydantic<3.0.0,>=2.7.4->langchain<0.4.0,>=0.3.20->langchain-tavily) (0.4.1)\n",
            "Requirement already satisfied: greenlet>=1 in /usr/local/lib/python3.11/dist-packages (from SQLAlchemy<3,>=1.4->langchain<0.4.0,>=0.3.20->langchain-tavily) (3.2.3)\n",
            "Requirement already satisfied: anyio in /usr/local/lib/python3.11/dist-packages (from httpx<1,>=0.23.0->langsmith>=0.1.17->langchain<0.4.0,>=0.3.20->langchain-tavily) (4.9.0)\n",
            "Requirement already satisfied: httpcore==1.* in /usr/local/lib/python3.11/dist-packages (from httpx<1,>=0.23.0->langsmith>=0.1.17->langchain<0.4.0,>=0.3.20->langchain-tavily) (1.0.9)\n",
            "Requirement already satisfied: h11>=0.16 in /usr/local/lib/python3.11/dist-packages (from httpcore==1.*->httpx<1,>=0.23.0->langsmith>=0.1.17->langchain<0.4.0,>=0.3.20->langchain-tavily) (0.16.0)\n",
            "Requirement already satisfied: sniffio>=1.1 in /usr/local/lib/python3.11/dist-packages (from anyio->httpx<1,>=0.23.0->langsmith>=0.1.17->langchain<0.4.0,>=0.3.20->langchain-tavily) (1.3.1)\n",
            "Downloading langchain_tavily-0.2.4-py3-none-any.whl (24 kB)\n",
            "Downloading mypy-1.16.1-cp311-cp311-manylinux_2_17_x86_64.manylinux2014_x86_64.manylinux_2_28_x86_64.whl (12.5 MB)\n",
            "\u001b[2K   \u001b[90m━━━━━━━━━━━━━━━━━━━━━━━━━━━━━━━━━━━━━━━━\u001b[0m \u001b[32m12.5/12.5 MB\u001b[0m \u001b[31m101.5 MB/s\u001b[0m eta \u001b[36m0:00:00\u001b[0m\n",
            "\u001b[?25hDownloading pathspec-0.12.1-py3-none-any.whl (31 kB)\n",
            "Installing collected packages: pathspec, mypy, langchain-tavily\n",
            "Successfully installed langchain-tavily-0.2.4 mypy-1.16.1 pathspec-0.12.1\n"
          ]
        }
      ]
    },
    {
      "cell_type": "code",
      "source": [
        "from langchain_community.tools.tavily_search import TavilySearchResults"
      ],
      "metadata": {
        "id": "vrtBx_6cxXqV"
      },
      "execution_count": null,
      "outputs": []
    },
    {
      "cell_type": "code",
      "source": [
        "api_key = getpass(\" Ingresa tu Tavily API Key: \")\n",
        "search = TavilySearchResults(tavily_api_key=api_key)"
      ],
      "metadata": {
        "colab": {
          "base_uri": "https://localhost:8080/"
        },
        "id": "YcruBQ20x1JE",
        "outputId": "da93589b-59b2-44ca-b3dc-a99664fe41cf"
      },
      "execution_count": null,
      "outputs": [
        {
          "name": "stdout",
          "output_type": "stream",
          "text": [
            " Ingresa tu Tavily API Key: ··········\n"
          ]
        }
      ]
    },
    {
      "cell_type": "code",
      "source": [
        "search.invoke(\"Que temperatura hay en Londres\")"
      ],
      "metadata": {
        "colab": {
          "base_uri": "https://localhost:8080/"
        },
        "collapsed": true,
        "id": "42g-062xx9xi",
        "outputId": "e0a85c27-df51-4b65-c41f-eddc1c008825"
      },
      "execution_count": null,
      "outputs": [
        {
          "output_type": "execute_result",
          "data": {
            "text/plain": [
              "[{'title': 'El Clima en Londres 2025 | Londres 14 días | Tiempo3.com',\n",
              "  'url': 'https://www.tiempo3.com/europe/united-kingdom/london',\n",
              "  'content': 'No importa si eres ciudadano de Londres o turista, siempre es una buena idea estar al tanto del tiempo que va a hacer.\\n\\n[La temperatura actual en Londres](https://www.tiempo3.com/europe/united-kingdom/london?page=current-weather) es de °. La temperatura máxima en Londres para hoy será de ° y la mínima se encontrará en torno a los °.',\n",
              "  'score': 0.84767824},\n",
              " {'title': 'Clima en Londres: la temperatura estación por estación - Assist Card',\n",
              "  'url': 'https://www.assistcard.com/pe/clima-londres',\n",
              "  'content': 'El verano londinense es templado, con temperaturas mínimas entre 13 y 16 ºC y máximas de 20 a 23 ºC. Los días soleados son frecuentes y las calles se llenan de',\n",
              "  'score': 0.84215075},\n",
              " {'title': 'El clima y el tiempo promedio en todo el año en Londres Reino Unido',\n",
              "  'url': 'https://es.weatherspark.com/y/45062/Clima-promedio-en-Londres-Reino-Unido-durante-todo-el-a%C3%B1o',\n",
              "  'content': 'Durante el transcurso del año, la temperatura generalmente varía de 4 °C a 23 °C y rara vez baja a menos de -1 °C o sube a más de 29 °C.',\n",
              "  'score': 0.8245895},\n",
              " {'title': 'El tiempo en Londres - Clima y temperatura en Londres',\n",
              "  'url': 'https://www.londres.es/el-tiempo',\n",
              "  'content': 'Aunque en lo referente a Londres no se puede hablar realmente de días calurosos, los meses más cálidos del año son **julio y agosto, durante los cuales se alcanzan 17 grados de temperatura media**.\\n\\n![Imagen de Tower Bridge en un día nublado](data:image/gif;base64,R0lGODlhAQABAAAAACH5BAEKAAEALAAAAAABAAEAAAICTAEAOw==)\\n\\n## También te puede interesar\\n\\n## Idioma\\n\\nSi no sabéis nada de inglés, la siguiente lista de palabras y expresiones útiles os resultará de ayuda en un\\xa0viaje a Londres.\\n\\n## Moneda [...] Aunque las lluvias sean frecuentes, siempre queda el consuelo de que no suele llover de forma abundante, sino que lo más normal es que se presente una llovizna suave pero constante.\\n\\n## Frío en Londres\\n\\nLondres presenta un clima templado por lo que **no es común que se presenten temperaturas extremas**. Los meses más fríos están comprendidos entre diciembre y marzo, cuando las temperaturas medias están entre 0 y 8 grados.\\n\\n## Meses más calurosos [...] El tiempo en Londres **varía constantemente durante el día** y, aunque no suele haber temperaturas extremas, en una misma jornada es habitual ver nubes, lluvia, frío e incluso sol.\\n\\nLas **lluvias** **en Londres** son **frecuentes** durante todo el año, por lo que siempre es importante llevar un paraguas o chubasquero.',\n",
              "  'score': 0.7476348},\n",
              " {'title': 'El tiempo en Londres hoy - Meteored',\n",
              "  'url': 'https://www.tiempo.com/reino-unido/londres/hoy',\n",
              "  'content': 'Por la tarde, tendremos parcialmente nuboso y con temperaturas en torno a los 24°C. Durante la noche, habrá nubes y claros con temperaturas cercanas a los 21°C.',\n",
              "  'score': 0.74229145}]"
            ]
          },
          "metadata": {},
          "execution_count": 63
        }
      ]
    },
    {
      "cell_type": "code",
      "source": [
        "tools = [search, tool]"
      ],
      "metadata": {
        "id": "c1HHFkWSzXBH"
      },
      "execution_count": null,
      "outputs": []
    },
    {
      "cell_type": "code",
      "source": [
        "llm = ChatOpenAI(model=\"gpt-3.5-turbo-0125\",temperature=0)"
      ],
      "metadata": {
        "id": "MIcmTzkp14Ia"
      },
      "execution_count": null,
      "outputs": []
    },
    {
      "cell_type": "code",
      "source": [
        "from langchain import hub"
      ],
      "metadata": {
        "id": "oy9Tj1Qt1_5m"
      },
      "execution_count": null,
      "outputs": []
    },
    {
      "cell_type": "code",
      "source": [
        "#prompt de la comunidad\n",
        "prompt = hub.pull(\"hwchase17/openai-functions-agent\")\n",
        "prompt.messages"
      ],
      "metadata": {
        "colab": {
          "base_uri": "https://localhost:8080/"
        },
        "id": "Lrs7ttUW1-q2",
        "outputId": "57b24b63-194c-41c2-ab95-14d702de4d9d"
      },
      "execution_count": null,
      "outputs": [
        {
          "output_type": "stream",
          "name": "stderr",
          "text": [
            "/usr/local/lib/python3.11/dist-packages/langsmith/client.py:272: LangSmithMissingAPIKeyWarning: API key must be provided when using hosted LangSmith API\n",
            "  warnings.warn(\n"
          ]
        },
        {
          "output_type": "execute_result",
          "data": {
            "text/plain": [
              "[SystemMessagePromptTemplate(prompt=PromptTemplate(input_variables=[], input_types={}, partial_variables={}, template='You are a helpful assistant'), additional_kwargs={}),\n",
              " MessagesPlaceholder(variable_name='chat_history', optional=True),\n",
              " HumanMessagePromptTemplate(prompt=PromptTemplate(input_variables=['input'], input_types={}, partial_variables={}, template='{input}'), additional_kwargs={}),\n",
              " MessagesPlaceholder(variable_name='agent_scratchpad')]"
            ]
          },
          "metadata": {},
          "execution_count": 67
        }
      ]
    },
    {
      "cell_type": "code",
      "source": [
        "from langchain.agents import create_tool_calling_agent"
      ],
      "metadata": {
        "id": "wSM1Bdep2Ptc"
      },
      "execution_count": null,
      "outputs": []
    },
    {
      "cell_type": "code",
      "source": [
        "#Creacion de agentes\n",
        "agent = create_tool_calling_agent(llm,tools,prompt=prompt)"
      ],
      "metadata": {
        "id": "3MlOf4jL2VK8"
      },
      "execution_count": null,
      "outputs": []
    },
    {
      "cell_type": "code",
      "source": [
        "from langchain.agents import AgentExecutor"
      ],
      "metadata": {
        "id": "9oB8IaJs2otf"
      },
      "execution_count": null,
      "outputs": []
    },
    {
      "cell_type": "code",
      "source": [
        "agent_executor = AgentExecutor(agent=agent,tools=tools,verbose=True)"
      ],
      "metadata": {
        "id": "aHwZzZl72tMB"
      },
      "execution_count": null,
      "outputs": []
    },
    {
      "cell_type": "code",
      "source": [
        "agent_executor.invoke({\"input\":\"hola\"})"
      ],
      "metadata": {
        "colab": {
          "base_uri": "https://localhost:8080/"
        },
        "id": "gpsIhcey20eE",
        "outputId": "695967a6-f72b-4530-e532-ee2480668a95"
      },
      "execution_count": null,
      "outputs": [
        {
          "output_type": "stream",
          "name": "stdout",
          "text": [
            "\n",
            "\n",
            "\u001b[1m> Entering new AgentExecutor chain...\u001b[0m\n",
            "\u001b[32;1m\u001b[1;3m¡Hola! ¿En qué puedo ayudarte hoy?\u001b[0m\n",
            "\n",
            "\u001b[1m> Finished chain.\u001b[0m\n"
          ]
        },
        {
          "output_type": "execute_result",
          "data": {
            "text/plain": [
              "{'input': 'hola', 'output': '¡Hola! ¿En qué puedo ayudarte hoy?'}"
            ]
          },
          "metadata": {},
          "execution_count": 72
        }
      ]
    },
    {
      "cell_type": "code",
      "source": [
        "agent_executor.invoke({\"input\":\"cual es el mejor  superheroe de Marvel y por que?\"})"
      ],
      "metadata": {
        "colab": {
          "base_uri": "https://localhost:8080/"
        },
        "id": "hYX0tPAj2398",
        "outputId": "55dc8ee8-e2b3-4067-da91-c92d9d0cf3bf"
      },
      "execution_count": null,
      "outputs": [
        {
          "output_type": "stream",
          "name": "stdout",
          "text": [
            "\n",
            "\n",
            "\u001b[1m> Entering new AgentExecutor chain...\u001b[0m\n",
            "\u001b[32;1m\u001b[1;3m\n",
            "Invoking: `wikipedia` with `{'query': 'List of Marvel Comics characters'}`\n",
            "\n",
            "\n",
            "\u001b[0m\u001b[33;1m\u001b[1;3mPage: Lists of Marvel Comics characters\n",
            "Summary: This is a list of Marvel multiverse fictional characters which were created for and are owned by Marvel Comics. Licensed or creator-owned characters (G.I. Joe, Godzilla, Groo the Wanderer, Men in Black, Conan the Barbarian,  Mighty Morphin Power Rangers, RoboCop, Star Trek, Rocko's Modern Life, The Ren and Stimpy Show, etc.) are not included.\n",
            "Marvel-Electronic Arts video game characters are also included with references. Characters from the Marvel\u001b[0m\u001b[32;1m\u001b[1;3mLa pregunta sobre quién es el mejor superhéroe de Marvel es subjetiva y puede variar según las preferencias de cada persona. Marvel Comics tiene una amplia gama de personajes icónicos y populares, como Spider-Man, Iron Man, Captain America, Thor, Hulk, Black Widow, entre muchos otros. Cada uno de estos superhéroes tiene sus propias historias, habilidades y seguidores que los consideran los mejores por diferentes razones.\n",
            "\n",
            "Si deseas más información sobre los superhéroes de Marvel para poder elegir cuál consideras el mejor, puedo buscar una lista detallada de personajes de Marvel Comics. ¿Te gustaría que busque más información al respecto?\u001b[0m\n",
            "\n",
            "\u001b[1m> Finished chain.\u001b[0m\n"
          ]
        },
        {
          "output_type": "execute_result",
          "data": {
            "text/plain": [
              "{'input': 'cual es el mejor  superheroe de Marvel y por que?',\n",
              " 'output': 'La pregunta sobre quién es el mejor superhéroe de Marvel es subjetiva y puede variar según las preferencias de cada persona. Marvel Comics tiene una amplia gama de personajes icónicos y populares, como Spider-Man, Iron Man, Captain America, Thor, Hulk, Black Widow, entre muchos otros. Cada uno de estos superhéroes tiene sus propias historias, habilidades y seguidores que los consideran los mejores por diferentes razones.\\n\\nSi deseas más información sobre los superhéroes de Marvel para poder elegir cuál consideras el mejor, puedo buscar una lista detallada de personajes de Marvel Comics. ¿Te gustaría que busque más información al respecto?'}"
            ]
          },
          "metadata": {},
          "execution_count": 74
        }
      ]
    },
    {
      "cell_type": "code",
      "source": [
        "agent_executor.invoke({\"input\":\"Que temperatura hace en Nueva York?\"})"
      ],
      "metadata": {
        "colab": {
          "base_uri": "https://localhost:8080/"
        },
        "id": "K9Al27-N3e3N",
        "outputId": "cafd8819-e1e0-4230-9b4e-24f4d1e9361a"
      },
      "execution_count": null,
      "outputs": [
        {
          "output_type": "stream",
          "name": "stdout",
          "text": [
            "\n",
            "\n",
            "\u001b[1m> Entering new AgentExecutor chain...\u001b[0m\n",
            "\u001b[32;1m\u001b[1;3m\n",
            "Invoking: `tavily_search_results_json` with `{'query': 'temperatura en Nueva York'}`\n",
            "\n",
            "\n",
            "\u001b[0m\u001b[36;1m\u001b[1;3m[{'title': 'Tiempo para hoy en Nueva York (Local): Hora por hora - Tiempo3', 'url': 'https://www.tiempo3.com/north-america/usa/new-york/new-york-city?page=today', 'content': 'Teniendo en cuenta el viento, la humedad, y otras condiciones climáticas, la sensación térmica será de 30°C.\\n\\nLa probabilidad de lluvias será del 0% y la velocidad del viento será de 8 Km/h.\\n\\n![Soleado]( \"Soleado\")\\n\\nPara el mediodía de hoy se espera una temperatura de 38°C, y una sensación térmica de 46°C en Nueva York.\\n\\nLa humedad del ambiente será de 45% y el viento soplará con una velocidad de 13 Km/h.\\n\\n![Soleado]( \"Soleado\")\\n\\nPor la tarde, la temperatura en Nueva York será de 40°C. [...] La probabilidad de lluvias será del 0% y el viento tendrá una velocidad de 14 Km/h.\\n\\n![Despejado]( \"Despejado\")\\n\\nHoy por la noche, en Nueva York, se espera una temperatura de 33°C y un viento que sople con una velocidad de 9 Km/h.\\n\\n## Ropa recomendada para Nueva York\\n\\n![Gafas de sol]( \"Gafas de sol\")\\n![Camiseta]( \"Camiseta\")\\n![tiempo3.com]( \"tiempo3.com\")\\n![Tiempo3 en Google Play]( \"Tiempo3 en Google Play\")\\n![Tiempo3 en App Store]( \"Tiempo3 en App Store\") [...] ## Mapa meteorológico de hoy\\n\\n## El clima para hoy en Nueva York - preguntas frecuentes\\n\\n## Amanecer y atardecer en Nueva York\\n\\n¿A qué hora es el amanecer y el atardecer en Nueva York? El sol sale a las 05:25 y se pone a las 20:33. Esto significa que el día tiene 15 horas de sol en Nueva York.\\n\\n![Amanecer]( \"Amanecer\")\\n![Atardecer]( \"Atardecer\")\\n\\n## El clima de hoy - Nueva York\\n\\n![Soleado]( \"Soleado\")\\n\\nDurante la mañana de hoy se espera una temperatura de 27°C en Nueva York.', 'score': 0.8016413}, {'title': 'Tiempo actual en Nueva York, NY - AccuWeather', 'url': 'https://www.accuweather.com/es/us/new-york/10021/current-weather/349727', 'content': 'El tiempo ahora ; Techo de nubes. 40000 ft ; Historial de temperaturas. 24/6 ; Previsión. 98°. 81° ; Media. 82°. 67° ; Año pasado. 80°. 72°.', 'score': 0.7476348}, {'title': 'El tiempo 7 días Nueva York | Tiempo3.com', 'url': 'https://www.tiempo3.com/north-america/usa/new-york/new-york-city?page=7', 'content': '| Fecha | Temperatura | Clima |  | Viento |  |\\n| --- | --- | --- | --- | --- | --- |\\n| [Martes, 24 junio](https://www.tiempo3.com/north-america/usa/new-york/new-york-city?page=today) | 40 °  / 26 ° | Soleado | Soleado | 12 Km/h |  |\\n| [Miércoles, 25 junio](https://www.tiempo3.com/north-america/usa/new-york/new-york-city?page=tomorrow) | 34 °  / 25 ° | Soleado | Soleado | 12 Km/h |  | [...] | [Sábado, 28 junio](https://www.tiempo3.com/north-america/usa/new-york/new-york-city?page=day#date=2025-06-28) | 29 °  / 18 ° | Lluvia moderada a intervalos | Lluvia moderada a intervalos | 5 Km/h |  |\\n| [Domingo, 29 junio](https://www.tiempo3.com/north-america/usa/new-york/new-york-city?page=day#date=2025-06-29) | 31 °  / 20 ° | Lluvia moderada a intervalos | Lluvia moderada a intervalos | 4 Km/h |  | [...] | [Jueves, 26 junio](https://www.tiempo3.com/north-america/usa/new-york/new-york-city?page=day#date=2025-06-26) | 25 °  / 17 ° | Nublado | Nublado | 14 Km/h |  |\\n| [Viernes, 27 junio](https://www.tiempo3.com/north-america/usa/new-york/new-york-city?page=day#date=2025-06-27) | 21 °  / 13 ° | Cielo cubierto | Cielo cubierto | 13 Km/h |  |', 'score': 0.7060491}, {'title': 'El clima en Nueva York, el tiempo por mes, temperatura promedio ...', 'url': 'https://es.weatherspark.com/y/23912/Clima-promedio-en-Nueva-York-Estados-Unidos-durante-todo-el-a%C3%B1o', 'content': 'La temporada templada dura 3,5 meses, del 2 de junio al 16 de septiembre, y la temperatura máxima promedio diaria es más de 24 °C. El mes más cálido del año en', 'score': 0.66203266}, {'title': 'Pronóstico del tiempo para 10 días para Manhattan, NY | weather.com', 'url': 'https://weather.com/es-US/tiempo/10dias/l/Manhattan+NY?canonicalCityId=60b5c1800361f33890fcedaa749a5e3a', 'content': '# Tiempo en Manhattan, NY\\n\\n# **Pronóstico para 10 días**-Manhattan, NY\\n\\n## Advertencia de calor extremo\\n\\n## Hoy\\n\\n## mar 24 | Día\\n\\nCielo mayormente despejado. Cerca de las temperaturas máximas registradas. Máxima de 100 F. Vientos del NO de 5 a 10 milla/h.\\n\\n## mar 24 | Noche\\n\\nCielo mayormente despejado. Mínima de 82 F. Vientos del NO y variable.\\n\\n## mié 25\\n\\n## mié 25 | Día\\n\\nCielo mayormente despejado. Cerca de las temperaturas máximas registradas. Máxima de 95 F. Vientos del NO y variable. [...] Nuboso. Mínima de 66 F. Vientos del E y variable.\\n\\n## sáb 28\\n\\n## sáb 28 | Día\\n\\nCielo prácticamente cubierto. Es posible que se produzca una tormenta o chubasco dispersos. Máxima de 81 F. Vientos del SSE y variable.\\n\\n## sáb 28 | Noche\\n\\nTormentas dispersas. Mínima de 72 F. Vientos del SSE y variable. 40% probab. de lluvia.\\n\\n## dom 29\\n\\n## dom 29 | Día\\n\\nCielo parcialmente cubierto. Máxima de 80 F. Vientos del NE y variable.\\n\\n## dom 29 | Noche [...] ## mar 01 | Noche\\n\\nTormentas a primera hora. Mínima de 72 F. Vientos del ONO y variable. 50% probab. de lluvia.\\n\\n## mié 02\\n\\n## mié 02 | Día\\n\\nCielo parcialmente cubierto. Máxima de 85 F. Vientos del NO y variable.\\n\\n## mié 02 | Noche\\n\\nCielo parcialmente cubierto. Mínima de 70 F. Vientos del NNO y variable.\\n\\n## jue 03\\n\\n## jue 03 | Día\\n\\nCielo parcialmente cubierto. Máxima de 83 F. Vientos del NNO y variable.\\n\\n## jue 03 | Noche', 'score': 0.5809471}]\u001b[0m\u001b[32;1m\u001b[1;3mLa temperatura actual en Nueva York es de 98°F (aproximadamente 37°C). Puedes obtener más detalles sobre el clima actual en [AccuWeather](https://www.accuweather.com/es/us/new-york/10021/current-weather/349727).\u001b[0m\n",
            "\n",
            "\u001b[1m> Finished chain.\u001b[0m\n"
          ]
        },
        {
          "output_type": "execute_result",
          "data": {
            "text/plain": [
              "{'input': 'Que temperatura hace en Nueva York?',\n",
              " 'output': 'La temperatura actual en Nueva York es de 98°F (aproximadamente 37°C). Puedes obtener más detalles sobre el clima actual en [AccuWeather](https://www.accuweather.com/es/us/new-york/10021/current-weather/349727).'}"
            ]
          },
          "metadata": {},
          "execution_count": 75
        }
      ]
    },
    {
      "cell_type": "markdown",
      "source": [
        "#Ejemplos de Interacciones"
      ],
      "metadata": {
        "id": "5RXMR-dF6fpq"
      }
    },
    {
      "cell_type": "markdown",
      "source": [],
      "metadata": {
        "id": "_6AFrFQb6eu4"
      }
    },
    {
      "cell_type": "code",
      "source": [
        "agent_executor.invoke({\"input\":\"Busca quien fue Alan Turing\"})"
      ],
      "metadata": {
        "id": "pjBE28493uSp",
        "colab": {
          "base_uri": "https://localhost:8080/"
        },
        "outputId": "d0dc1a4a-b98b-413c-fb8a-199327921aee"
      },
      "execution_count": 76,
      "outputs": [
        {
          "output_type": "stream",
          "name": "stdout",
          "text": [
            "\n",
            "\n",
            "\u001b[1m> Entering new AgentExecutor chain...\u001b[0m\n",
            "\u001b[32;1m\u001b[1;3m\n",
            "Invoking: `wikipedia` with `{'query': 'Alan Turing'}`\n",
            "\n",
            "\n",
            "\u001b[0m\u001b[33;1m\u001b[1;3mPage: Alan Turing\n",
            "Summary: Alan Mathison Turing (; 23 June 1912 – 7 June 1954) was an English mathematician, computer scientist, logician, cryptanalyst, philosopher and theoretical biologist. He was highly influential in the development of theoretical computer science, providing a formalisation of the concepts of algorithm and computation with the Turing machine, which can be considered a model of a general-purpose computer. Turing is widely considered to be the father of theoretical computer sc\u001b[0m\u001b[32;1m\u001b[1;3mAlan Turing fue un matemático, científico de la computación, lógico, criptoanalista, filósofo y biólogo teórico inglés. Fue altamente influyente en el desarrollo de la ciencia informática teórica, proporcionando una formalización de los conceptos de algoritmo y computación con la máquina de Turing, que puede considerarse un modelo de computadora de propósito general. Turing es ampliamente considerado como el padre de la informática teórica.\u001b[0m\n",
            "\n",
            "\u001b[1m> Finished chain.\u001b[0m\n"
          ]
        },
        {
          "output_type": "execute_result",
          "data": {
            "text/plain": [
              "{'input': 'Busca quien fue Alan Turing',\n",
              " 'output': 'Alan Turing fue un matemático, científico de la computación, lógico, criptoanalista, filósofo y biólogo teórico inglés. Fue altamente influyente en el desarrollo de la ciencia informática teórica, proporcionando una formalización de los conceptos de algoritmo y computación con la máquina de Turing, que puede considerarse un modelo de computadora de propósito general. Turing es ampliamente considerado como el padre de la informática teórica.'}"
            ]
          },
          "metadata": {},
          "execution_count": 76
        }
      ]
    },
    {
      "cell_type": "code",
      "source": [
        "agent_executor.invoke({\"input\":\"Dime un chiste.\"})"
      ],
      "metadata": {
        "colab": {
          "base_uri": "https://localhost:8080/"
        },
        "id": "exXtOnOb6IFQ",
        "outputId": "9ed7b805-3354-43ca-debb-baac951c489d"
      },
      "execution_count": 77,
      "outputs": [
        {
          "output_type": "stream",
          "name": "stdout",
          "text": [
            "\n",
            "\n",
            "\u001b[1m> Entering new AgentExecutor chain...\u001b[0m\n",
            "\u001b[32;1m\u001b[1;3m¡Claro! Aquí tienes uno:\n",
            "\n",
            "¿Por qué los pájaros no usan Facebook? Porque ya tienen Twitter. ¡Espero que te haya sacado una sonrisa! Si quieres escuchar más chistes, ¡estaré encantado de compartirlos contigo!\u001b[0m\n",
            "\n",
            "\u001b[1m> Finished chain.\u001b[0m\n"
          ]
        },
        {
          "output_type": "execute_result",
          "data": {
            "text/plain": [
              "{'input': 'Dime un chiste.',\n",
              " 'output': '¡Claro! Aquí tienes uno:\\n\\n¿Por qué los pájaros no usan Facebook? Porque ya tienen Twitter. ¡Espero que te haya sacado una sonrisa! Si quieres escuchar más chistes, ¡estaré encantado de compartirlos contigo!'}"
            ]
          },
          "metadata": {},
          "execution_count": 77
        }
      ]
    },
    {
      "cell_type": "code",
      "source": [
        "agent_executor.invoke({\"input\":\"¿Qué está pasando en el mundo de la inteligencia artificial?\"})"
      ],
      "metadata": {
        "colab": {
          "base_uri": "https://localhost:8080/"
        },
        "id": "QS12aZb36kZ5",
        "outputId": "dabd77a3-0bd0-4fd4-9571-6a7f47d62de9"
      },
      "execution_count": 78,
      "outputs": [
        {
          "output_type": "stream",
          "name": "stdout",
          "text": [
            "\n",
            "\n",
            "\u001b[1m> Entering new AgentExecutor chain...\u001b[0m\n",
            "\u001b[32;1m\u001b[1;3m\n",
            "Invoking: `tavily_search_results_json` with `{'query': 'últimas noticias sobre inteligencia artificial'}`\n",
            "\n",
            "\n",
            "\u001b[0m\u001b[36;1m\u001b[1;3m[{'title': 'Todas las noticias sobre inteligencia artificial | Euronews', 'url': 'https://es.euronews.com/tag/inteligencia-artificial', 'content': '### [La IA contamina: sus emisiones han aumentado un 150% en 3 años](/next/2025/06/14/las-emisiones-de-las-grandes-empresas-tecnologicas-aumentaron-un-150-en-3-anos-debido-al-a)\\n\\n![©](https://static.euronews.com/articles/stories/09/32/54/54/320x180_cmsv2_bc886a50-29cc-5dd5-8dc1-64211c658d7f-9325454.jpg \"©\")\\n\\n### [Científicos lituanos transforman la ingeniería enzimática con IA](/salud/2025/06/13/jovenes-cientificos-lituanos-crean-herramientas-de-ia-para-reinventar-la-ingenieria-enzima) [...] La inteligencia artificial está transformando industrias, desde el procesamiento del lenguaje natural con ChatGPT de OpenAI y Gemini de Google hasta la generación de imágenes con Midjourney y DALL·E. Los sistemas autónomos como el Autopilot de Tesla y la robótica impulsada por Boston Dynamics están avanzando la automatización, mientras que AlphaFold de DeepMind está revolucionando la investigación médica. Mantente informado sobre los avances, debates éticos y el impulso global por la regulación [...] ### [Reddit demanda a Anthropic por usar comentarios para su chatbot](/next/2025/06/09/reddit-demanda-a-anthropic-por-el-uso-ilegal-de-datos-en-entrenamiento-de-ia)\\n\\n![El presidente Donald Trump, conversa junto con Elon Musk y el secretario de Comercio, Howard Lutnick](https://static.euronews.com/articles/stories/09/32/02/72/320x180_cmsv2_7f13c10f-f400-59cc-8eeb-83988290eeb3-9320272.jpg \"El presidente Donald Trump, conversa junto con Elon Musk y el secretario de Comercio, Howard Lutnick\")', 'score': 0.7892503}, {'title': 'Inteligencia artificial en EL PAÍS', 'url': 'https://elpais.com/noticias/inteligencia-artificial/', 'content': '## [Cristina Monge: “La sociedad española ha pasado de la indignación a la decepción”](https://elpais.com/espana/catalunya/2025-05-15/cristina-monge-la-sociedad-espanola-ha-pasado-de-la-indignacion-a-la-decepcion.html)\\n\\nLa politóloga y profesora de la Complutense de Madrid defiende que hay que acelerar la transición ecológica y afrontar la digital\\n\\n### [Últimas noticias](https://elpais.com/ultimas-noticias/) [...] ## [Google avanza hacia la “IA universal” para dotar a Gemini de capacidad de comprensión de contexto, planificación y ejecución](https://elpais.com/tecnologia/2025-05-20/google-avanza-hacia-la-ia-universal-para-dotar-a-gemini-de-capacidad-de-comprension-de-contexto-planificacion-y-ejecucion.html)\\n\\nLa multinacional presenta los últimos desarrollos, que estarán disponibles primero para los usuarios de las suscripciones más avanzadas y caras. Microsoft se suma a la carrera por los agentes [...] ## [La nueva carrera de la IA: nuevos modelos revolucionan la predicción del tiempo](https://elpais.com/tecnologia/2025-05-21/la-nueva-carrera-de-la-ia-nuevos-modelos-revolucionan-la-prediccion-del-tiempo.html)\\n\\nDos nuevas soluciones de inteligencia artificial se suman a los desarrollos para anticipar los comportamientos atmosféricos y terrestres de forma más precisa', 'score': 0.7216064}, {'title': 'Últimas noticias, videos y fotos de Inteligencia Artificial - Univision', 'url': 'https://www.univision.com/temas/inteligencia-artificial', 'content': \"![univision logo](/_next/static/images/logo-univision-color.49f6b4c4450cea582fa78cbc00dee7d8.1750089602473.svg)\\n\\n# Inteligencia Artificial: Últimas noticias, videos y fotos de Inteligencia Artificial | Univision\\n\\n## Lo Más Reciente [...] ### NO hay una edición pro-Palestina de helados Ben & Jerry’s: son imágenes creadas con IA\\n\\n### La influencer mexicana Valeria Márquez NO aparece en una grabación confesando que está “viva”: la voz de ese video fue generada con IA\\n\\n### El video de una mujer que intenta abordar un avión con un canguro de “mascota emocional” NO es real: es IA\\n\\n### La inteligencia artificial amenaza con eliminar estos empleos en pocos años, según estudio [...] ### Esa supuesta fotografía del papa Francisco abrazando a Madonna NO es real: fue generada con IA\\n\\n### Nodal reacciona a supuesto beso con amigo de Ángela Aguilar: el ‘influencer’ tampoco se calla\\n\\n### Gracias a los aranceles de Trump, Canadá vive un 'boom' de consumo de productos nacionales\\n\\n### Ángela Aguilar aclara canción supuestamente dedicada a Cazzu: ¿le respondió?\", 'score': 0.7166357}, {'title': 'Inteligencia Artificial: Últimas noticias, fotos y videos - WIRED', 'url': 'https://es.wired.com/tag/inteligencia-artificial', 'content': '![En la era de la inteligencia artificial, el conocimiento es rey](https://media.es.wired.com/photos/6838e8c1b25701c5f2168006/3:2/w_1280%2Cc_limit/Cover-infoesreyc.jpg)\\n\\n### En la era de la inteligencia artificial, el conocimiento es rey\\n\\n![La IA de OpenAI se resiste a ser desconectada y puede sabotear sus controles de\\xa0apagado](https://media.es.wired.com/photos/6835fa090ca8751c9e12d991/3:2/w_1280%2Cc_limit/OpenAI%2520sabotaje%2520apagado%25202183035146.jpg) [...] ![New York Times, CNN y otros medios denuncian que el ‘Modo IA’ de Google roba su contenido](https://media.es.wired.com/photos/682f5aa209a0c9a3ac4f4d02/3:2/w_1280%2Cc_limit/Modo%2520IA%2520Google%25202206888102.jpg)\\n\\n### *New York Times*, *CNN* y otros medios denuncian que el ‘Modo IA’ de Google roba su contenido [...] ### La IA de OpenAI se resiste a ser desconectada y puede sabotear sus controles de\\xa0apagado\\n\\n![La revolución silenciosa: 54% de las PyMEs en la América ya usa inteligencia artificial](https://media.es.wired.com/photos/6834ad8fdb401c5b29f12273/3:2/w_1280%2Cc_limit/1522425438)\\n\\n### La revolución silenciosa: 54% de las PyMEs en la América ya usa inteligencia artificial', 'score': 0.7152057}, {'title': 'Inteligencia artificial: noticias, análisis, videos y más - CNN en Español', 'url': 'https://cnnespanol.cnn.com/ciencia/inteligencia-artificial', 'content': 'El papa León XIV pide un \"marco ético\" para la IA en un mensaje a ejecutivos tecnológicos reunidos en el Vaticano. Jun 20, 2025 · Un empleado de', 'score': 0.7128128}]\u001b[0m\u001b[32;1m\u001b[1;3mAquí tienes algunas noticias recientes sobre inteligencia artificial:\n",
            "\n",
            "1. [Euronews](https://es.euronews.com/tag/inteligencia-artificial):\n",
            "   - La inteligencia artificial está transformando industrias con avances en procesamiento del lenguaje natural, generación de imágenes, sistemas autónomos y robótica.\n",
            "   - Reddit demanda a Anthropic por el uso ilegal de datos en el entrenamiento de IA.\n",
            "\n",
            "2. [El País](https://elpais.com/noticias/inteligencia-artificial/):\n",
            "   - Google avanza hacia la \"IA universal\" para dotar a Gemini de capacidad de comprensión de contexto, planificación y ejecución.\n",
            "   - Nuevos modelos revolucionan la predicción del tiempo con inteligencia artificial.\n",
            "\n",
            "3. [Univision](https://www.univision.com/temas/inteligencia-artificial):\n",
            "   - Noticias sobre la generación de imágenes falsas con IA y su impacto en la sociedad.\n",
            "   - La inteligencia artificial amenaza con eliminar ciertos empleos en pocos años, según un estudio.\n",
            "\n",
            "4. [WIRED](https://es.wired.com/tag/inteligencia-artificial):\n",
            "   - La IA de OpenAI se resiste a ser desconectada y puede sabotear sus controles de apagado.\n",
            "   - Medios como New York Times y CNN denuncian que el 'Modo IA' de Google roba su contenido.\n",
            "\n",
            "5. [CNN en Español](https://cnnespanol.cnn.com/ciencia/inteligencia-artificial):\n",
            "   - El papa León XIV pide un \"marco ético\" para la IA en un mensaje a ejecutivos tecnológicos reunidos en el Vaticano.\n",
            "\n",
            "Puedes acceder a los enlaces para obtener más detalles sobre cada noticia.\u001b[0m\n",
            "\n",
            "\u001b[1m> Finished chain.\u001b[0m\n"
          ]
        },
        {
          "output_type": "execute_result",
          "data": {
            "text/plain": [
              "{'input': '¿Qué está pasando en el mundo de la inteligencia artificial?',\n",
              " 'output': 'Aquí tienes algunas noticias recientes sobre inteligencia artificial:\\n\\n1. [Euronews](https://es.euronews.com/tag/inteligencia-artificial):\\n   - La inteligencia artificial está transformando industrias con avances en procesamiento del lenguaje natural, generación de imágenes, sistemas autónomos y robótica.\\n   - Reddit demanda a Anthropic por el uso ilegal de datos en el entrenamiento de IA.\\n\\n2. [El País](https://elpais.com/noticias/inteligencia-artificial/):\\n   - Google avanza hacia la \"IA universal\" para dotar a Gemini de capacidad de comprensión de contexto, planificación y ejecución.\\n   - Nuevos modelos revolucionan la predicción del tiempo con inteligencia artificial.\\n\\n3. [Univision](https://www.univision.com/temas/inteligencia-artificial):\\n   - Noticias sobre la generación de imágenes falsas con IA y su impacto en la sociedad.\\n   - La inteligencia artificial amenaza con eliminar ciertos empleos en pocos años, según un estudio.\\n\\n4. [WIRED](https://es.wired.com/tag/inteligencia-artificial):\\n   - La IA de OpenAI se resiste a ser desconectada y puede sabotear sus controles de apagado.\\n   - Medios como New York Times y CNN denuncian que el \\'Modo IA\\' de Google roba su contenido.\\n\\n5. [CNN en Español](https://cnnespanol.cnn.com/ciencia/inteligencia-artificial):\\n   - El papa León XIV pide un \"marco ético\" para la IA en un mensaje a ejecutivos tecnológicos reunidos en el Vaticano.\\n\\nPuedes acceder a los enlaces para obtener más detalles sobre cada noticia.'}"
            ]
          },
          "metadata": {},
          "execution_count": 78
        }
      ]
    },
    {
      "cell_type": "code",
      "source": [
        "agent_executor.invoke({\"input\":\"Que esta pasando entre EEUU e Iran?\"})"
      ],
      "metadata": {
        "colab": {
          "base_uri": "https://localhost:8080/"
        },
        "id": "qAlLg54b6xes",
        "outputId": "bf671389-2342-4e6e-9221-bd35554c51c5"
      },
      "execution_count": 79,
      "outputs": [
        {
          "output_type": "stream",
          "name": "stdout",
          "text": [
            "\n",
            "\n",
            "\u001b[1m> Entering new AgentExecutor chain...\u001b[0m\n",
            "\u001b[32;1m\u001b[1;3m\n",
            "Invoking: `tavily_search_results_json` with `{'query': 'EEUU e Iran conflict'}`\n",
            "\n",
            "\n",
            "\u001b[0m\u001b[36;1m\u001b[1;3m[{'title': 'Confrontation With Iran | Global Conflict Tracker', 'url': 'https://www.cfr.org/global-conflict-tracker/conflict/confrontation-between-united-states-and-iran', 'content': 'of direct military conflict between Washington and Tehran, culminating in the United States\\' direct strikes on Iran\\'s nuclear program on June 21, 2025. [...] Background\\n\\nMore than forty years after the[1979 Iranian Revolution](https://www.brookings.edu/blog/order-from-chaos/2019/01/24/the-iranian-revolution-a-timeline-of-events/ \"https://www.brookings.edu/blog/order-from-chaos/2019/01/24/the-iranian-revolution-a-timeline-of-events/\"), relations between the United States and Iran remain tense. Iran continues to advance its nuclear program and its support for proxy forces throughout the Middle East, despite U.S. efforts to curtail both. [...] The outbreak of war between Israel, a close U.S. ally, and the Iran-backed militant group Hamas in October 2023 renewed fears of direct conflict between the United States and Iran. Iran-backed proxy forces ramped up strikes in protest of Israel’s military incursion into Gaza, including over[two hundred attacks](https://www.washingtoninstitute.org/policy-analysis/tracking-anti-us-and-anti-israel-strikes-iraq-and-syria-during-gaza-crisis)on U.S. and Israeli targets in Iraq and Syria. In response,', 'score': 0.7498395}, {'title': 'Nations react to US strikes on Iran with many calling for diplomacy', 'url': 'https://apnews.com/article/us-attack-iran-israel-reaction-united-nations-c10cc46ec236816d958ced2497a11464', 'content': 'TOP STORIES \\n    *   [EEUU se involucra en la guerra de Israel con Irán con ataque a tres instalaciones nucleares iraníes](https://apnews.com/article/israel-iran-guerra-ataque-nuclear-conversaciones-ginebra-c43909274814fe4eb0ca6aa1cd74a7ed)\\n    *   [Apuesta de Trump en Irán es arriesgada tras prometer mantener a EEUU fuera de \"guerras estúpidas\"](https://apnews.com/article/iran-israel-trump-guerra-573597b84a882e39dc5a300a1c3ee0d8) [...] TOP STORIES \\n        *   [EEUU se involucra en la guerra de Israel con Irán con ataque a tres instalaciones nucleares iraníes](https://apnews.com/article/israel-iran-guerra-ataque-nuclear-conversaciones-ginebra-c43909274814fe4eb0ca6aa1cd74a7ed)\\n        *   [Apuesta de Trump en Irán es arriesgada tras prometer mantener a EEUU fuera de \"guerras estúpidas\"](https://apnews.com/article/iran-israel-trump-guerra-573597b84a882e39dc5a300a1c3ee0d8) [...] TOP STORIES \\n    *   [EEUU se involucra en la guerra de Israel con Irán con ataque a tres instalaciones nucleares iraníes](https://apnews.com/article/israel-iran-guerra-ataque-nuclear-conversaciones-ginebra-c43909274814fe4eb0ca6aa1cd74a7ed)\\n    *   [Apuesta de Trump en Irán es arriesgada tras prometer mantener a EEUU fuera de \"guerras estúpidas\"](https://apnews.com/article/iran-israel-trump-guerra-573597b84a882e39dc5a300a1c3ee0d8)', 'score': 0.6388584}, {'title': \"America's War With Iran: What Comes After U.S. Strikes\", 'url': 'https://www.foreignaffairs.com/middle-east/americas-war-iran', 'content': 'Another danger is that with a more desperate and radicalized Iranian regime, its conflict with Israel could go on in perpetuity. As evident in Gaza, in Ukraine, and during the first Iran-Iraq war, it’s much easier to start a war than to end one. For months or even years, Iran could regularly send small missile salvos into Israel and Israel could continue with airstrikes on Iran. The United States would largely stay out of such a conflict, apart from providing Israel with defensive support. But [...] The United States has attacked Iran. Just days after suggesting he might delay any American military action for weeks, U.S. President Donald Trump announced on June 21 that U.S. aircraft had struck three Iranian nuclear sites, including the deeply buried facility at Fordow. Iranian officials confirmed that the strikes had taken place. Although Trump insisted that the sites had been “obliterated,” it remains unclear what damage the attacks have done. [...] > Iran will seek some manner of retribution.\\n\\nAccidents and miscalculations could make things much worse. Iran could attempt to pursue a more limited missile response but end up stumbling into “catastrophic success” when one missile breaches American defenses and causes much more damage than the Iranians were expecting, in the process drawing the United States deeper into the conflict.', 'score': 0.5479727}]\u001b[0m\u001b[32;1m\u001b[1;3mThere have been recent tensions and conflicts between the United States and Iran. The situation remains tense due to various factors such as Iran's advancement in its nuclear program and its support for proxy forces in the Middle East. The outbreak of war between Israel and the Iran-backed militant group Hamas in 2023 also heightened fears of direct conflict between the United States and Iran.\n",
            "\n",
            "The United States conducted direct strikes on Iran's nuclear program on June 21, 2025, escalating the situation further. There are concerns about potential retaliation from Iran and the risk of accidents or miscalculations leading to a worsening of the conflict.\n",
            "\n",
            "For more detailed information, you can refer to the following sources:\n",
            "1. [Confrontation With Iran | Global Conflict Tracker](https://www.cfr.org/global-conflict-tracker/conflict/confrontation-between-united-states-and-iran)\n",
            "2. [Nations react to US strikes on Iran with many calling for diplomacy](https://apnews.com/article/us-attack-iran-israel-reaction-united-nations-c10cc46ec236816d958ced2497a11464)\n",
            "3. [America's War With Iran: What Comes After U.S. Strikes](https://www.foreignaffairs.com/middle-east/americas-war-iran)\u001b[0m\n",
            "\n",
            "\u001b[1m> Finished chain.\u001b[0m\n"
          ]
        },
        {
          "output_type": "execute_result",
          "data": {
            "text/plain": [
              "{'input': 'Que esta pasando entre EEUU e Iran?',\n",
              " 'output': \"There have been recent tensions and conflicts between the United States and Iran. The situation remains tense due to various factors such as Iran's advancement in its nuclear program and its support for proxy forces in the Middle East. The outbreak of war between Israel and the Iran-backed militant group Hamas in 2023 also heightened fears of direct conflict between the United States and Iran.\\n\\nThe United States conducted direct strikes on Iran's nuclear program on June 21, 2025, escalating the situation further. There are concerns about potential retaliation from Iran and the risk of accidents or miscalculations leading to a worsening of the conflict.\\n\\nFor more detailed information, you can refer to the following sources:\\n1. [Confrontation With Iran | Global Conflict Tracker](https://www.cfr.org/global-conflict-tracker/conflict/confrontation-between-united-states-and-iran)\\n2. [Nations react to US strikes on Iran with many calling for diplomacy](https://apnews.com/article/us-attack-iran-israel-reaction-united-nations-c10cc46ec236816d958ced2497a11464)\\n3. [America's War With Iran: What Comes After U.S. Strikes](https://www.foreignaffairs.com/middle-east/americas-war-iran)\"}"
            ]
          },
          "metadata": {},
          "execution_count": 79
        }
      ]
    },
    {
      "cell_type": "code",
      "source": [],
      "metadata": {
        "id": "aaK6bnP266tS"
      },
      "execution_count": null,
      "outputs": []
    }
  ]
}